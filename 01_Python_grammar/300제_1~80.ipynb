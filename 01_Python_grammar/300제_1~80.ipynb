{
 "cells": [
  {
   "cell_type": "markdown",
   "id": "39463694-ce35-467f-81a5-c99751c9779e",
   "metadata": {},
   "source": [
    "# 파이썬 300제"
   ]
  },
  {
   "cell_type": "markdown",
   "id": "48968886-2512-4a17-b9f0-fc2e75cfc8b4",
   "metadata": {},
   "source": [
    "## 1~10"
   ]
  },
  {
   "cell_type": "code",
   "execution_count": null,
   "id": "7217b420-1861-4e7a-8112-1b9fb786cdec",
   "metadata": {},
   "outputs": [],
   "source": [
    "# 1. 화면에 Hello World 문자열을 출력하세요."
   ]
  },
  {
   "cell_type": "code",
   "execution_count": 3,
   "id": "8af34e00-6ba3-42ba-a67a-470f742a671f",
   "metadata": {},
   "outputs": [
    {
     "name": "stdout",
     "output_type": "stream",
     "text": [
      "Hello World\n"
     ]
    }
   ],
   "source": [
    "print(\"Hello World\")"
   ]
  },
  {
   "cell_type": "code",
   "execution_count": null,
   "id": "c946f86d-baab-4947-a01b-43625fe6b155",
   "metadata": {},
   "outputs": [],
   "source": [
    "# 2. 화면에 Mary's cosmetics을 출력하세요. (중간에 '가 있음에 주의하세요)"
   ]
  },
  {
   "cell_type": "code",
   "execution_count": 4,
   "id": "7f0300dc-08a0-42bd-ae87-f069c07ede99",
   "metadata": {},
   "outputs": [
    {
     "name": "stdout",
     "output_type": "stream",
     "text": [
      "Mary's cosmetics\n"
     ]
    }
   ],
   "source": [
    "print(\"Mary's cosmetics\")"
   ]
  },
  {
   "cell_type": "code",
   "execution_count": null,
   "id": "8de58745-c8e0-4336-a313-642896a0b659",
   "metadata": {},
   "outputs": [],
   "source": [
    "# 3. 화면에 아래 문장을 출력하세요. (중간에 \"가 있음에 주의하세요.)\n",
    "신씨가 소리질렀다. \"도둑이야\"."
   ]
  },
  {
   "cell_type": "code",
   "execution_count": 5,
   "id": "eb511db5-4c2a-4397-a10e-61d119ba28dd",
   "metadata": {},
   "outputs": [
    {
     "name": "stdout",
     "output_type": "stream",
     "text": [
      "신시가 소리질렀다. \"도둑이야\".\n"
     ]
    }
   ],
   "source": [
    "print('신시가 소리질렀다. \"도둑이야\".')"
   ]
  },
  {
   "cell_type": "code",
   "execution_count": null,
   "id": "6e18f1c3-f20f-41cf-9056-181ac6aee928",
   "metadata": {},
   "outputs": [],
   "source": [
    "# 4. 화면에 C:\\Windows를 출력하세요."
   ]
  },
  {
   "cell_type": "code",
   "execution_count": 7,
   "id": "4b350815-7fe5-4bed-a9b8-d82be0f42b3b",
   "metadata": {},
   "outputs": [
    {
     "name": "stdout",
     "output_type": "stream",
     "text": [
      "C:\\Windows\n"
     ]
    }
   ],
   "source": [
    "print(\"C:\\Windows\")"
   ]
  },
  {
   "cell_type": "code",
   "execution_count": null,
   "id": "6b61a3a3-23b7-448e-9c30-3ebf48dee620",
   "metadata": {},
   "outputs": [],
   "source": [
    "# 5. 다음 코드를 실행해보고 \\t와 \\n의 역할을 설명해보세요."
   ]
  },
  {
   "cell_type": "code",
   "execution_count": 8,
   "id": "65fd99fa-a6f2-4c32-94a3-554865603eec",
   "metadata": {},
   "outputs": [
    {
     "name": "stdout",
     "output_type": "stream",
     "text": [
      "안녕하세요.\n",
      "만나서\t\t반갑습니다.\n"
     ]
    }
   ],
   "source": [
    "print(\"안녕하세요.\\n만나서\\t\\t반갑습니다.\")"
   ]
  },
  {
   "cell_type": "code",
   "execution_count": null,
   "id": "9703d080-ad3c-49dd-9b87-14dc661596d5",
   "metadata": {},
   "outputs": [],
   "source": [
    "\\t : tab\n",
    "\\n : 줄 바꿈"
   ]
  },
  {
   "cell_type": "code",
   "execution_count": null,
   "id": "8addc0ea-7199-4182-a15a-0868311c4e04",
   "metadata": {},
   "outputs": [],
   "source": [
    "# 6. print 함수에 두 개의 단어를 입력한 예제입니다. 아래 코드의 출력 결과를 예상해봅시다."
   ]
  },
  {
   "cell_type": "code",
   "execution_count": 9,
   "id": "07f9a53f-8c07-43ab-a263-18d64106fae7",
   "metadata": {},
   "outputs": [
    {
     "name": "stdout",
     "output_type": "stream",
     "text": [
      "오늘은 일요일\n"
     ]
    }
   ],
   "source": [
    "print (\"오늘은\", \"일요일\")"
   ]
  },
  {
   "cell_type": "code",
   "execution_count": null,
   "id": "a9b58cc4-8d99-468e-8c84-3d5790395128",
   "metadata": {},
   "outputs": [],
   "source": [
    "오늘은 일요일"
   ]
  },
  {
   "cell_type": "code",
   "execution_count": null,
   "id": "0eef04b9-7a89-44ba-b7d4-f605f4e3a9d1",
   "metadata": {},
   "outputs": [],
   "source": [
    "# 7. print() 함수를 사용하여 다음과 같이 출력"
   ]
  },
  {
   "cell_type": "code",
   "execution_count": null,
   "id": "dc109e8c-4953-416b-a8d2-34a1b120430e",
   "metadata": {},
   "outputs": [],
   "source": [
    "naver;kakao;sk;samsung"
   ]
  },
  {
   "cell_type": "code",
   "execution_count": 12,
   "id": "7e2c640d-a660-412c-92a3-101108e34f24",
   "metadata": {},
   "outputs": [
    {
     "name": "stdout",
     "output_type": "stream",
     "text": [
      "naver;kakao;sk;samsumg\n"
     ]
    }
   ],
   "source": [
    "print(\"naver\", \"kakao\", \"sk\", \"samsumg\", sep = \";\")"
   ]
  },
  {
   "cell_type": "code",
   "execution_count": 13,
   "id": "ed6dc82a-56c3-4696-abdc-ba32588c1833",
   "metadata": {},
   "outputs": [
    {
     "name": "stdout",
     "output_type": "stream",
     "text": [
      "naver; kakao; sk; samsumg\n"
     ]
    }
   ],
   "source": [
    "print(\"naver;\", \"kakao;\", \"sk;\", \"samsumg\")"
   ]
  },
  {
   "cell_type": "code",
   "execution_count": null,
   "id": "d715fc47-1d8a-4e71-815b-df4a0bcddfc1",
   "metadata": {},
   "outputs": [],
   "source": [
    "# 8. print() 함수를 사용하여 다음과 같이 출력"
   ]
  },
  {
   "cell_type": "code",
   "execution_count": null,
   "id": "ddc37396-c277-409e-acce-de0d550241e4",
   "metadata": {},
   "outputs": [],
   "source": [
    "naver/kakao/sk/samsung"
   ]
  },
  {
   "cell_type": "code",
   "execution_count": 14,
   "id": "05a950ba-b220-4f24-83ad-3cfb7b71c6b9",
   "metadata": {},
   "outputs": [
    {
     "name": "stdout",
     "output_type": "stream",
     "text": [
      "naver/kakao/sk/samsumg\n"
     ]
    }
   ],
   "source": [
    "print(\"naver\", \"kakao\", \"sk\", \"samsumg\", sep = \"/\")"
   ]
  },
  {
   "cell_type": "code",
   "execution_count": null,
   "id": "e0b560d6-74c4-4aa8-a1b3-d81080f67d66",
   "metadata": {},
   "outputs": [],
   "source": [
    "# 9. 다음 코드를 수정하여 줄바꿈이 없이 출력하세요. (힌트: end='') \n",
    "print 함수는 두 번 사용합니다. \n",
    "세미콜론 (;)은 한줄에 여러 개의 명령을 작성하기 위해 사용"
   ]
  },
  {
   "cell_type": "code",
   "execution_count": 15,
   "id": "6492cfe4-b71e-4082-a5b7-464529b75655",
   "metadata": {},
   "outputs": [
    {
     "name": "stdout",
     "output_type": "stream",
     "text": [
      "first\n",
      "second\n"
     ]
    }
   ],
   "source": [
    "print(\"first\");print(\"second\")"
   ]
  },
  {
   "cell_type": "code",
   "execution_count": 19,
   "id": "5baa5571-5926-4d86-a5ea-46fc5cdb415c",
   "metadata": {},
   "outputs": [
    {
     "name": "stdout",
     "output_type": "stream",
     "text": [
      "firstsecond\n"
     ]
    }
   ],
   "source": [
    "print(\"first\",end =''); print(\"second\")"
   ]
  },
  {
   "cell_type": "code",
   "execution_count": null,
   "id": "03dc7dc5-fd28-4b89-9ff5-db16641c4e04",
   "metadata": {},
   "outputs": [],
   "source": [
    "10. 5/3의 결과를 화면에 출력"
   ]
  },
  {
   "cell_type": "code",
   "execution_count": 22,
   "id": "a945ac16-3e4f-4d8c-ba63-976dc56a11b3",
   "metadata": {},
   "outputs": [
    {
     "name": "stdout",
     "output_type": "stream",
     "text": [
      "1.6666666666666667\n"
     ]
    }
   ],
   "source": [
    "print(5/3)"
   ]
  },
  {
   "cell_type": "markdown",
   "id": "78de6a17-fe2f-42b5-a1cc-c1ca44ccae5f",
   "metadata": {},
   "source": [
    "## 파이썬 변수 11~20"
   ]
  },
  {
   "cell_type": "code",
   "execution_count": null,
   "id": "f18e5ae7-81c5-4f01-ac05-3c6b9eea9580",
   "metadata": {},
   "outputs": [],
   "source": [
    "11. 삼성전자라는 변수로 50,000원을 바인딩해보세요. \n",
    "삼성전자 주식 10주를 보유하고 있을 때 총 평가금액을 출력하세요."
   ]
  },
  {
   "cell_type": "code",
   "execution_count": 27,
   "id": "f2c14d42-96dd-45eb-9ff2-cda55242a48c",
   "metadata": {},
   "outputs": [
    {
     "name": "stdout",
     "output_type": "stream",
     "text": [
      "500000\n"
     ]
    }
   ],
   "source": [
    "삼성전자 = 50000\n",
    "총평가금액 = 10 * 삼성전자\n",
    "print(총평가금액)\n"
   ]
  },
  {
   "cell_type": "code",
   "execution_count": null,
   "id": "187aefb7-83e5-41df-be26-5a520bb96150",
   "metadata": {},
   "outputs": [],
   "source": [
    "12. 다음 표는 삼성전자의 일부 투자정보입니다. \n",
    "변수를 사용해서 시가총액, 현재가, PER 등을 바인딩해보세요.\n",
    "\n",
    "항목\t    값\n",
    "시가총액\t298조\n",
    "현재가\t    50,000원\n",
    "PER\t        15.79"
   ]
  },
  {
   "cell_type": "code",
   "execution_count": 28,
   "id": "9206b3f3-24d5-4f0a-8542-f0615039a9dc",
   "metadata": {},
   "outputs": [
    {
     "name": "stdout",
     "output_type": "stream",
     "text": [
      "298 <class 'int'>\n",
      "50000 <class 'int'>\n",
      "15.79 <class 'float'>\n"
     ]
    }
   ],
   "source": [
    "시가총액 = 298\n",
    "현재가 = 50000\n",
    "PER = 15.79\n",
    "print(시가총액, type(시가총액))\n",
    "print(현재가, type(현재가))\n",
    "print(PER, type(PER))"
   ]
  },
  {
   "cell_type": "code",
   "execution_count": null,
   "id": "1e7b88ca-7dae-4d7e-90f9-4b1e872b40d1",
   "metadata": {},
   "outputs": [],
   "source": [
    "# 13. 변수 s와 t에는 각각 문자열이 바인딩\n",
    "# >> s = \"hello\"\n",
    "# >> t = \"python\"\n",
    "# 두 변수를 이용하여 아래와 같이 출력"
   ]
  },
  {
   "cell_type": "code",
   "execution_count": 33,
   "id": "822e7643-f907-49da-93ec-1bd052acf969",
   "metadata": {},
   "outputs": [
    {
     "name": "stdout",
     "output_type": "stream",
     "text": [
      "hello! python\n"
     ]
    }
   ],
   "source": [
    "s = \"hello\"\n",
    "t = \"python\"\n",
    "print(s+\"!\", t)"
   ]
  },
  {
   "cell_type": "code",
   "execution_count": null,
   "id": "cf878c3b-e8fd-4785-8df8-3712e052558e",
   "metadata": {},
   "outputs": [],
   "source": [
    "# 14. 아래 코드의 실행 결과를 예상\n",
    "# 2 + 2 * 3 "
   ]
  },
  {
   "cell_type": "code",
   "execution_count": null,
   "id": "5c3a174d-80cb-4986-805f-bcf16e1d8a8b",
   "metadata": {},
   "outputs": [],
   "source": [
    "8"
   ]
  },
  {
   "cell_type": "code",
   "execution_count": 34,
   "id": "ebc2b76b-a830-4445-b887-8ce8a74db10b",
   "metadata": {},
   "outputs": [
    {
     "data": {
      "text/plain": [
       "8"
      ]
     },
     "execution_count": 34,
     "metadata": {},
     "output_type": "execute_result"
    }
   ],
   "source": [
    "2 + 2 * 3"
   ]
  },
  {
   "cell_type": "code",
   "execution_count": null,
   "id": "74fe85d4-91f2-42ba-994b-342ae9308900",
   "metadata": {},
   "outputs": [],
   "source": [
    "# 15. 변수 a에는 128 숫자가 바인딩돼 있어 type 함수가 int (정수)형임을 알려줌\n",
    "# >> a = 128\n",
    "# >> print (type(a))\n",
    "# <class 'int'>\n",
    "\n",
    "# 아래 변수에 바인딩된 값의 타입을 판별\n",
    "# >> a = \"132\""
   ]
  },
  {
   "cell_type": "code",
   "execution_count": 35,
   "id": "3809b04a-d547-4cec-b389-1b85eca26d66",
   "metadata": {},
   "outputs": [
    {
     "name": "stdout",
     "output_type": "stream",
     "text": [
      "132 <class 'str'>\n"
     ]
    }
   ],
   "source": [
    "a = \"132\"\n",
    "print(a, type(a))"
   ]
  },
  {
   "cell_type": "code",
   "execution_count": 36,
   "id": "a0617bcc-5bce-404e-9171-97c76f7674ce",
   "metadata": {},
   "outputs": [
    {
     "name": "stdout",
     "output_type": "stream",
     "text": [
      "<class 'str'>\n"
     ]
    }
   ],
   "source": [
    "a = \"132\"\n",
    "print(type(a))"
   ]
  },
  {
   "cell_type": "code",
   "execution_count": null,
   "id": "f4350829-cfc3-4f67-a3e8-dbfa88716bdd",
   "metadata": {},
   "outputs": [],
   "source": [
    "# 16. 문자열 '720'를 정수형으로 변환"
   ]
  },
  {
   "cell_type": "code",
   "execution_count": 43,
   "id": "ee0c0571-cecf-4d65-a684-d0e1ce68fb6c",
   "metadata": {},
   "outputs": [
    {
     "name": "stdout",
     "output_type": "stream",
     "text": [
      "720 <class 'int'>\n"
     ]
    }
   ],
   "source": [
    "num_str = \"720\"\n",
    "num_int = int(num_str)\n",
    "print(num_int, type(num_int))"
   ]
  },
  {
   "cell_type": "code",
   "execution_count": null,
   "id": "7ede5cb2-513c-42fe-8d61-e36bf1617140",
   "metadata": {},
   "outputs": [],
   "source": [
    "# 17. 정수 100을 문자열 '100'으로 변환\n",
    "# num = 100"
   ]
  },
  {
   "cell_type": "code",
   "execution_count": 6,
   "id": "c5e97f4a-46f6-4d20-afd6-22f34dc5de38",
   "metadata": {},
   "outputs": [
    {
     "name": "stdout",
     "output_type": "stream",
     "text": [
      "100 <class 'str'>\n"
     ]
    }
   ],
   "source": [
    "num_int = 100\n",
    "result = str(num_int)\n",
    "print(result, type(result))"
   ]
  },
  {
   "cell_type": "code",
   "execution_count": null,
   "id": "1605a95c-cbc1-43fc-8dcf-c4489a913549",
   "metadata": {},
   "outputs": [],
   "source": [
    "18. 문자열 \"15.79\"를 실수(float) 타입으로 변환"
   ]
  },
  {
   "cell_type": "code",
   "execution_count": 64,
   "id": "3c555510-48a4-4f1f-b8be-3a189526aaf0",
   "metadata": {},
   "outputs": [
    {
     "name": "stdout",
     "output_type": "stream",
     "text": [
      "15.79 <class 'float'>\n"
     ]
    }
   ],
   "source": [
    "num_str = \"15.79\"\n",
    "result = float(num_str)\n",
    "print(date, type(result))"
   ]
  },
  {
   "cell_type": "code",
   "execution_count": null,
   "id": "e932835a-df8a-4892-964d-e72887300df6",
   "metadata": {},
   "outputs": [],
   "source": [
    "# 19. year라는 변수가 문자열 타입의 연도를 바인딩\n",
    "# 이를 정수로 변환한 후 최근 3년의 연도를 화면에 출력\n",
    "# year = \"2020\""
   ]
  },
  {
   "cell_type": "code",
   "execution_count": 67,
   "id": "0bba66ea-2be2-4b4e-b3c9-f60fe2754070",
   "metadata": {},
   "outputs": [
    {
     "name": "stdout",
     "output_type": "stream",
     "text": [
      "2019\n",
      "2018\n",
      "2017\n"
     ]
    }
   ],
   "source": [
    "year = \"2020\"\n",
    "print(int(year)-1)\n",
    "print(int(year)-2)\n",
    "print(int(year)-3)"
   ]
  },
  {
   "cell_type": "code",
   "execution_count": null,
   "id": "431f89df-bdc0-4bd2-8541-98851c9cbbc9",
   "metadata": {},
   "outputs": [],
   "source": [
    "# 20. 에이컨이 월 48,584원에 무이자 36개월의 조건으로 홈쇼핑에서 판매\n",
    "# 총 금액은 계산한 후 이를 화면에 출력"
   ]
  },
  {
   "cell_type": "code",
   "execution_count": 68,
   "id": "f7b9c657-14fa-4d4f-b1a2-1c5ef9e58ecc",
   "metadata": {},
   "outputs": [
    {
     "name": "stdout",
     "output_type": "stream",
     "text": [
      "1749024\n"
     ]
    }
   ],
   "source": [
    "con = 48584\n",
    "총금액 = con * 36\n",
    "print(총금액)"
   ]
  },
  {
   "cell_type": "markdown",
   "id": "2b0eee21-0772-498d-9d31-04499981f685",
   "metadata": {},
   "source": [
    "## 파이썬 문자열 21~30"
   ]
  },
  {
   "cell_type": "code",
   "execution_count": null,
   "id": "7361ca5d-127a-4284-93d5-d20162b6cfa9",
   "metadata": {},
   "outputs": [],
   "source": [
    "# 21. letters가 바인딩하는 문자열에서 첫번째와 세번째 문자를 출력\n",
    "# letters = 'python'"
   ]
  },
  {
   "cell_type": "code",
   "execution_count": 74,
   "id": "5ffd9f09-2ddd-4009-9128-ae8f53c5f7a5",
   "metadata": {},
   "outputs": [
    {
     "name": "stdout",
     "output_type": "stream",
     "text": [
      "p t\n"
     ]
    }
   ],
   "source": [
    "let = 'python'\n",
    "print(let[0],let[2])"
   ]
  },
  {
   "cell_type": "code",
   "execution_count": null,
   "id": "1dcf2e44-e7ea-4a6c-84d2-38cfa6ddb3b6",
   "metadata": {},
   "outputs": [],
   "source": [
    "# 22. 자동차 번호가 다음과 같을 때 뒤에 4자리만 출력\n",
    "# license_plate = \"24가 2210\""
   ]
  },
  {
   "cell_type": "code",
   "execution_count": 77,
   "id": "37abbeec-0f2c-4863-b852-c28c5ebc774c",
   "metadata": {},
   "outputs": [
    {
     "name": "stdout",
     "output_type": "stream",
     "text": [
      "2210\n"
     ]
    }
   ],
   "source": [
    "lp = \"24가 2210\"\n",
    "print(lp[-4:])"
   ]
  },
  {
   "cell_type": "code",
   "execution_count": null,
   "id": "ee10347c-8aec-4f91-aab4-6e6814617905",
   "metadata": {},
   "outputs": [],
   "source": [
    "# 23. 아래의 문자열에서 '홀' 만 출력\n",
    "# string = \"홀짝홀짝홀짝\""
   ]
  },
  {
   "cell_type": "code",
   "execution_count": 81,
   "id": "043c0879-3000-4556-873e-349647884b78",
   "metadata": {},
   "outputs": [
    {
     "name": "stdout",
     "output_type": "stream",
     "text": [
      "홀홀홀\n"
     ]
    }
   ],
   "source": [
    "string = \"홀짝홀짝홀짝\"\n",
    "print(string[::2])"
   ]
  },
  {
   "cell_type": "code",
   "execution_count": null,
   "id": "bb37e7f8-a540-45e2-974b-06428d785de1",
   "metadata": {},
   "outputs": [],
   "source": [
    "# 24. 문자열을 거꾸로 뒤집어 출력\n",
    "# string = \"PYTHON\""
   ]
  },
  {
   "cell_type": "code",
   "execution_count": 82,
   "id": "6bc2b8a4-6152-4512-8f77-5f784bdbc3ea",
   "metadata": {},
   "outputs": [
    {
     "name": "stdout",
     "output_type": "stream",
     "text": [
      "PYTHON\n"
     ]
    }
   ],
   "source": [
    "string = \"PYTHON\"\n",
    "print(string[::1])"
   ]
  },
  {
   "cell_type": "code",
   "execution_count": 83,
   "id": "c5aec477-11ea-4703-84fb-55f670164613",
   "metadata": {},
   "outputs": [
    {
     "name": "stdout",
     "output_type": "stream",
     "text": [
      "NOHTYP\n"
     ]
    }
   ],
   "source": [
    "string = \"PYTHON\"\n",
    "print(string[::-1])"
   ]
  },
  {
   "cell_type": "code",
   "execution_count": null,
   "id": "7e5b3505-b388-4f4a-8c8e-2920ed070a43",
   "metadata": {},
   "outputs": [],
   "source": [
    "# 25. 전화번호에서 하이푼 ('-')을 제거하고 출력\n",
    "# phone_number = \"010-1111-2222\""
   ]
  },
  {
   "cell_type": "code",
   "execution_count": 87,
   "id": "39247ba8-f7bc-4e50-93d4-72127a8082cb",
   "metadata": {},
   "outputs": [
    {
     "name": "stdout",
     "output_type": "stream",
     "text": [
      "010 1111 2222\n"
     ]
    }
   ],
   "source": [
    "phone_number = \"010-1111-2222\"\n",
    "PN = phone_number.replace('-',' ')\n",
    "print(PN)"
   ]
  },
  {
   "cell_type": "code",
   "execution_count": null,
   "id": "d75c6d45-2fab-47b4-a6db-f722d49e42a2",
   "metadata": {},
   "outputs": [],
   "source": [
    "# 26. 25번 문제의 전화번호를 아래와 같이 모두 붙여 출력"
   ]
  },
  {
   "cell_type": "code",
   "execution_count": 5,
   "id": "91890cdc-3d46-4e75-aa3e-2dadad0b1073",
   "metadata": {},
   "outputs": [
    {
     "ename": "SyntaxError",
     "evalue": "leading zeros in decimal integer literals are not permitted; use an 0o prefix for octal integers (869893350.py, line 1)",
     "output_type": "error",
     "traceback": [
      "\u001b[1;36m  Cell \u001b[1;32mIn[5], line 1\u001b[1;36m\u001b[0m\n\u001b[1;33m    PN = 010 1111 2222\u001b[0m\n\u001b[1;37m         ^\u001b[0m\n\u001b[1;31mSyntaxError\u001b[0m\u001b[1;31m:\u001b[0m leading zeros in decimal integer literals are not permitted; use an 0o prefix for octal integers\n"
     ]
    }
   ],
   "source": [
    "PN = 010 1111 2222\n",
    "PN2 = PN.replace(' ','')\n",
    "print(PN2)\n",
    "# 공백에서 공백 없는걸로 대체는 안되는건가..?"
   ]
  },
  {
   "cell_type": "code",
   "execution_count": 90,
   "id": "c0996f96-f81b-44fc-a8ad-434d89148e48",
   "metadata": {},
   "outputs": [
    {
     "name": "stdout",
     "output_type": "stream",
     "text": [
      "01011112222\n"
     ]
    }
   ],
   "source": [
    "phone_number = \"010-1111-2222\"\n",
    "PN3 = phone_number.replace('-','')\n",
    "print(PN3)"
   ]
  },
  {
   "cell_type": "code",
   "execution_count": null,
   "id": "6546f12a-45a3-4d93-96ea-21f99b5d688f",
   "metadata": {},
   "outputs": [],
   "source": [
    "# 27.url 에 저장된 웹 페이지 주소에서 도메인을 출력\n",
    "# url = \"http://sharebook.kr\""
   ]
  },
  {
   "cell_type": "code",
   "execution_count": 100,
   "id": "c54b8ea2-1d61-4e9f-95a3-d8896f03a299",
   "metadata": {},
   "outputs": [
    {
     "name": "stdout",
     "output_type": "stream",
     "text": [
      "kr\n"
     ]
    }
   ],
   "source": [
    "url = \"http://sharebook.kr\"\n",
    "print(url[-2:])"
   ]
  },
  {
   "cell_type": "code",
   "execution_count": 101,
   "id": "96abe025-673b-4967-aa93-e40b55866364",
   "metadata": {},
   "outputs": [
    {
     "name": "stdout",
     "output_type": "stream",
     "text": [
      "kr\n"
     ]
    }
   ],
   "source": [
    "url = \"http://sharebook.kr\"\n",
    "url_split = url.split('.')\n",
    "print(url_split[-1])"
   ]
  },
  {
   "cell_type": "code",
   "execution_count": null,
   "id": "bcbc567f-67a5-41f7-8c5e-fa5e67097ec7",
   "metadata": {},
   "outputs": [],
   "source": [
    "# 28. 아래 코드의 실행 결과를 예상\n",
    "# >> lang = 'python'\n",
    "# >> lang[0] = 'P'\n",
    "# >> print(lang)"
   ]
  },
  {
   "cell_type": "code",
   "execution_count": 4,
   "id": "a226388c-a4d5-4830-b651-c100cb7758cf",
   "metadata": {},
   "outputs": [
    {
     "ename": "TypeError",
     "evalue": "'str' object does not support item assignment",
     "output_type": "error",
     "traceback": [
      "\u001b[1;31m---------------------------------------------------------------------------\u001b[0m",
      "\u001b[1;31mTypeError\u001b[0m                                 Traceback (most recent call last)",
      "Cell \u001b[1;32mIn[4], line 2\u001b[0m\n\u001b[0;32m      1\u001b[0m lang \u001b[38;5;241m=\u001b[39m \u001b[38;5;124m'\u001b[39m\u001b[38;5;124mpython\u001b[39m\u001b[38;5;124m'\u001b[39m\n\u001b[1;32m----> 2\u001b[0m lang[\u001b[38;5;241m0\u001b[39m] \u001b[38;5;241m=\u001b[39m \u001b[38;5;124m'\u001b[39m\u001b[38;5;124mP\u001b[39m\u001b[38;5;124m'\u001b[39m\n\u001b[0;32m      3\u001b[0m \u001b[38;5;28mprint\u001b[39m(lang)\n",
      "\u001b[1;31mTypeError\u001b[0m: 'str' object does not support item assignment"
     ]
    }
   ],
   "source": [
    "lang = 'python'\n",
    "lang[0] = 'P'\n",
    "print(lang)\n",
    "# 문자열 수정 불가"
   ]
  },
  {
   "cell_type": "code",
   "execution_count": null,
   "id": "0f213899-5093-4c80-b224-d1c0e5a8f32a",
   "metadata": {},
   "outputs": [],
   "source": [
    "# 29. 아래 문자열에서 소문자 'a'를 대문자 'A'로 변경\n",
    "# string = 'abcdfe2a354a32a'"
   ]
  },
  {
   "cell_type": "code",
   "execution_count": 104,
   "id": "129d1d25-cde3-4b5b-af1f-28791ce39a7f",
   "metadata": {},
   "outputs": [
    {
     "name": "stdout",
     "output_type": "stream",
     "text": [
      "Abcdfe2A354A32A\n"
     ]
    }
   ],
   "source": [
    "string = 'abcdfe2a354a32a'\n",
    "string = string.replace('a','A')\n",
    "print(string)"
   ]
  },
  {
   "cell_type": "code",
   "execution_count": null,
   "id": "5d1d45ad-6151-471b-86d1-c8df8a7a5b67",
   "metadata": {},
   "outputs": [],
   "source": [
    "# 30. 아래 코드의 실행 결과를 예상\n",
    "# >> string = 'abcd'\n",
    "# >> string.replace('b', 'B')\n",
    "# >> print(string)"
   ]
  },
  {
   "cell_type": "code",
   "execution_count": null,
   "id": "25eed6cf-43bf-4da7-b2b8-4c33d8232932",
   "metadata": {},
   "outputs": [],
   "source": [
    "abcd\n",
    "# 문자열 변경 불가"
   ]
  },
  {
   "cell_type": "code",
   "execution_count": 105,
   "id": "23f4da96-1c3f-40ba-9fbc-44ca7d747340",
   "metadata": {},
   "outputs": [
    {
     "name": "stdout",
     "output_type": "stream",
     "text": [
      "abcd\n"
     ]
    }
   ],
   "source": [
    "string = 'abcd'\n",
    "string.replace('b', 'B')\n",
    "print(string)"
   ]
  },
  {
   "cell_type": "markdown",
   "id": "e32c4d4d-a3b6-4448-885c-853339eef141",
   "metadata": {},
   "source": [
    "## 파이썬 문자열 31~40"
   ]
  },
  {
   "cell_type": "code",
   "execution_count": null,
   "id": "734d6aba-61f9-4311-a238-2d13b9de9a00",
   "metadata": {},
   "outputs": [],
   "source": [
    "# 31. 아래 코드의 실행 결과를 예상\n",
    "# >> a = \"3\"\n",
    "# >> b = \"4\"\n",
    "# >> print(a + b)"
   ]
  },
  {
   "cell_type": "code",
   "execution_count": null,
   "id": "c3e163ee-4341-4b27-a400-fb5a8ebc6dce",
   "metadata": {},
   "outputs": [],
   "source": [
    "34"
   ]
  },
  {
   "cell_type": "code",
   "execution_count": 106,
   "id": "137282d9-e89b-4dec-a77e-dc51967ca5c0",
   "metadata": {},
   "outputs": [
    {
     "name": "stdout",
     "output_type": "stream",
     "text": [
      "34\n"
     ]
    }
   ],
   "source": [
    "a = \"3\"\n",
    "b = \"4\"\n",
    "print(a + b)"
   ]
  },
  {
   "cell_type": "code",
   "execution_count": null,
   "id": "cfd4997f-5eee-4137-80b7-d724ab1908d8",
   "metadata": {},
   "outputs": [],
   "source": [
    "# 32. 아래 코드의 실행 결과를 예상\n",
    "# print(\"Hi\" * 3)"
   ]
  },
  {
   "cell_type": "code",
   "execution_count": null,
   "id": "8a68995e-3476-47f1-8409-21f7b30b9e6f",
   "metadata": {},
   "outputs": [],
   "source": [
    "HiHiHi"
   ]
  },
  {
   "cell_type": "code",
   "execution_count": 107,
   "id": "5892a268-373f-42f1-bebf-2259d986e80d",
   "metadata": {},
   "outputs": [
    {
     "name": "stdout",
     "output_type": "stream",
     "text": [
      "HiHiHi\n"
     ]
    }
   ],
   "source": [
    "print(\"Hi\" * 3)"
   ]
  },
  {
   "cell_type": "code",
   "execution_count": null,
   "id": "fdb91cfa-9869-4c9b-8af2-f847dd7649d4",
   "metadata": {},
   "outputs": [],
   "source": [
    "# 화면에 '-'를 80개 출력"
   ]
  },
  {
   "cell_type": "code",
   "execution_count": 109,
   "id": "7f1a4c35-5419-4d24-8084-8c00cb8f9946",
   "metadata": {},
   "outputs": [
    {
     "name": "stdout",
     "output_type": "stream",
     "text": [
      "--------------------------------------------------------------------------------\n"
     ]
    }
   ],
   "source": [
    "print('-'*80)"
   ]
  },
  {
   "cell_type": "code",
   "execution_count": null,
   "id": "53661234-df37-4ff2-9498-dc8e04ad1fee",
   "metadata": {},
   "outputs": [],
   "source": [
    "# 34. 변수에 다음과 같은 문자열이 바인딩\n",
    "# >>> t1 = 'python'\n",
    "# >>> t2 = 'java'\n",
    "# 변수에 문자열 더하기와 문자열 곱하기를 사용해서 아래와 같이 출력\n",
    "# python java python java python java python java"
   ]
  },
  {
   "cell_type": "code",
   "execution_count": 115,
   "id": "9b2747de-0989-4dba-a091-574582f793d2",
   "metadata": {},
   "outputs": [
    {
     "name": "stdout",
     "output_type": "stream",
     "text": [
      "python java python java python java python java \n"
     ]
    }
   ],
   "source": [
    "t1 = 'python'\n",
    "t2 = 'java'\n",
    "print((t1 + ' ' + t2 + ' ') * 4)"
   ]
  },
  {
   "cell_type": "code",
   "execution_count": 116,
   "id": "9e65ff7d-2d7e-4aa3-9650-163cefe75a29",
   "metadata": {},
   "outputs": [
    {
     "name": "stdout",
     "output_type": "stream",
     "text": [
      "python java python java python java python java \n"
     ]
    }
   ],
   "source": [
    "t1 = \"python\"\n",
    "t2 = \"java\"\n",
    "t3 = t1 + ' ' + t2 + ' '\n",
    "print(t3 * 4)"
   ]
  },
  {
   "cell_type": "code",
   "execution_count": null,
   "id": "f3068ab8-67ad-4ec4-9f9a-3e7e45964159",
   "metadata": {},
   "outputs": [],
   "source": [
    "# 35. 문자열과 정수가 바인딩되어 있을 때 % formatting을 사용해서 다음과 같이 출력\n",
    "# name1 = \"김민수\" \n",
    "# age1 = 10\n",
    "# name2 = \"이철희\"\n",
    "# age2 = 13\n",
    "# 이름: 김민수 나이: 10\n",
    "# 이름: 이철희 나이: 13"
   ]
  },
  {
   "cell_type": "code",
   "execution_count": 125,
   "id": "d4d25e79-61db-43aa-af2b-ac28d1a2e069",
   "metadata": {},
   "outputs": [
    {
     "name": "stdout",
     "output_type": "stream",
     "text": [
      "이름: 김민수 나이: 10\n",
      "이름: 이철희 나이: 13\n"
     ]
    }
   ],
   "source": [
    "name1 = \"김민수\" \n",
    "age1 = 10\n",
    "name2 = \"이철희\"\n",
    "age2 = 13\n",
    "print(\"이름: %s 나이: %d\" % (name1,age1))\n",
    "print(\"이름: %s 나이: %d\" % (name2,age2))\n",
    "# %"
   ]
  },
  {
   "cell_type": "code",
   "execution_count": null,
   "id": "9ef8c4d4-5e4e-4843-891d-37dc0d95c566",
   "metadata": {},
   "outputs": [],
   "source": [
    "# 36. format( ) 메서드를 사용해서 035번 문제를 다시 풀기"
   ]
  },
  {
   "cell_type": "code",
   "execution_count": 132,
   "id": "510e3326-ad0e-4c12-9aa2-86cea7664471",
   "metadata": {},
   "outputs": [
    {
     "name": "stdout",
     "output_type": "stream",
     "text": [
      "이름: 김민수 나이: 10 \n",
      "이름: 이철희 나이: 13 \n"
     ]
    }
   ],
   "source": [
    "name1 = \"김민수\" \n",
    "age1 = 10\n",
    "name2 = \"이철희\"\n",
    "age2 = 13\n",
    "print(\"이름: {} 나이: {} \".format(name1, age1))\n",
    "print(\"이름: {} 나이: {} \".format(name2, age2))"
   ]
  },
  {
   "cell_type": "code",
   "execution_count": null,
   "id": "50357976-5626-4d43-956b-8ae319f16efa",
   "metadata": {},
   "outputs": [],
   "source": [
    "# 37. 파이썬 3.6부터 지원하는 f-string을 사용해서 035번 문제를 다시 풀어"
   ]
  },
  {
   "cell_type": "code",
   "execution_count": 135,
   "id": "f1296580-484e-43e0-96d2-03026d9ddf48",
   "metadata": {},
   "outputs": [
    {
     "name": "stdout",
     "output_type": "stream",
     "text": [
      "이름: 김민수 나이 10\n",
      "이름: 이철희 나이 13\n"
     ]
    }
   ],
   "source": [
    "name1 = \"김민수\" \n",
    "age1 = 10\n",
    "name2 = \"이철희\"\n",
    "age2 = 13\n",
    "print(f'이름: {name1} 나이 {age1}')\n",
    "print(f'이름: {name2} 나이 {age2}')"
   ]
  },
  {
   "cell_type": "code",
   "execution_count": null,
   "id": "5c4dd355-d956-4041-b10a-dd504113366e",
   "metadata": {},
   "outputs": [],
   "source": [
    "# 38. 삼성전자의 상장주식수가 다음과 같습니다. 컴마를 제거한 후 이를 정수 타입으로 변환\n",
    "# 상장주식수 = \"5,969,782,550\""
   ]
  },
  {
   "cell_type": "code",
   "execution_count": 143,
   "id": "7bc7343d-6778-4513-8515-1f5ff459b2fb",
   "metadata": {},
   "outputs": [
    {
     "name": "stdout",
     "output_type": "stream",
     "text": [
      "5969782550 <class 'int'>\n"
     ]
    }
   ],
   "source": [
    "상장주식수 = \"5,969,782,550\"\n",
    "제거 = 상장주식수.replace(\",\",\"\")\n",
    "int변환 = int(제거)\n",
    "print(int변환, type(int변환))\n",
    "# ,제거 라고 하면 안돼서 제거라고 변경 \n",
    "# 인덱스,type(인덱스)"
   ]
  },
  {
   "cell_type": "code",
   "execution_count": 144,
   "id": "e0f597ab-4759-4bb8-be78-cee04a305e83",
   "metadata": {},
   "outputs": [
    {
     "name": "stdout",
     "output_type": "stream",
     "text": [
      "5969782550 <class 'int'>\n"
     ]
    }
   ],
   "source": [
    "상장주식수 = \"5,969,782,550\"\n",
    "컴마제거 = 상장주식수.replace(\",\", \"\")\n",
    "타입변환 = int(컴마제거)\n",
    "print(타입변환, type(타입변환))"
   ]
  },
  {
   "cell_type": "code",
   "execution_count": null,
   "id": "925186ba-f015-405b-87b8-55b1737c9e6b",
   "metadata": {},
   "outputs": [],
   "source": [
    "# 39. 다음과 같은 문자열에서 '2020/03'만 출력\n",
    "# 분기 = \"2020/03(E) (IFRS연결)\""
   ]
  },
  {
   "cell_type": "code",
   "execution_count": 163,
   "id": "2c665cab-8bff-44ff-baed-aa8bbd827ebb",
   "metadata": {},
   "outputs": [
    {
     "name": "stdout",
     "output_type": "stream",
     "text": [
      "2020/03\n"
     ]
    }
   ],
   "source": [
    "분기 = \"2020/03(E) (IFRS연결)\"\n",
    "print(분기[:7])"
   ]
  },
  {
   "cell_type": "code",
   "execution_count": null,
   "id": "2143ef99-c399-481e-981d-bea2202fabcf",
   "metadata": {},
   "outputs": [],
   "source": [
    "# 40. 문자열의 좌우의 공백이 있을 때 이를 제거\n",
    "# data = \"   삼성전자    \""
   ]
  },
  {
   "cell_type": "code",
   "execution_count": 165,
   "id": "0f3e94c5-b240-4aa0-a84e-74a5367a2a62",
   "metadata": {},
   "outputs": [
    {
     "name": "stdout",
     "output_type": "stream",
     "text": [
      "삼성전자\n"
     ]
    }
   ],
   "source": [
    "data = \"   삼성전자    \"\n",
    "print(data.strip())"
   ]
  },
  {
   "cell_type": "code",
   "execution_count": 166,
   "id": "3e4f28b8-0640-4170-8707-4e624e3c208a",
   "metadata": {},
   "outputs": [
    {
     "name": "stdout",
     "output_type": "stream",
     "text": [
      "삼성전자\n"
     ]
    }
   ],
   "source": [
    "data = \"   삼성전자    \"\n",
    "data1 = data.strip()\n",
    "print(data1)"
   ]
  },
  {
   "cell_type": "markdown",
   "id": "850fe235-797c-48ca-9b6a-13e83a574e5a",
   "metadata": {},
   "source": [
    "## 파이썬 문자열 41~50"
   ]
  },
  {
   "cell_type": "code",
   "execution_count": null,
   "id": "dcd62397-5c8c-4b4c-9188-79ae511277cf",
   "metadata": {},
   "outputs": [],
   "source": [
    "# 41. 대문자 BTC_KRW로 변경\n",
    "# ticker = \"btc_krw\""
   ]
  },
  {
   "cell_type": "code",
   "execution_count": 169,
   "id": "da283cff-ee4d-4450-b64e-0cf2b599443b",
   "metadata": {},
   "outputs": [
    {
     "name": "stdout",
     "output_type": "stream",
     "text": [
      "BTC_KRW\n"
     ]
    }
   ],
   "source": [
    "ticker = \"btc_krw\"\n",
    "print(ticker.upper())"
   ]
  },
  {
   "cell_type": "code",
   "execution_count": 170,
   "id": "796ed58a-2eec-4dee-9655-751e35bd0045",
   "metadata": {},
   "outputs": [
    {
     "name": "stdout",
     "output_type": "stream",
     "text": [
      "BTC_KRW\n"
     ]
    }
   ],
   "source": [
    "ticker = \"btc_krw\"\n",
    "ticker1 = ticker.upper()\n",
    "print(ticker1)"
   ]
  },
  {
   "cell_type": "code",
   "execution_count": null,
   "id": "705388cb-946c-4acb-afed-ad427aa73117",
   "metadata": {},
   "outputs": [],
   "source": [
    "# 42. 소문자 btc_krw로 변경\n",
    "# ticker = \"BTC_KRW\""
   ]
  },
  {
   "cell_type": "code",
   "execution_count": 172,
   "id": "7df68c77-f528-4d3f-b89e-4c877938e28f",
   "metadata": {},
   "outputs": [
    {
     "name": "stdout",
     "output_type": "stream",
     "text": [
      "btc_krw\n"
     ]
    }
   ],
   "source": [
    "ticker = \"BTC_KRW\"\n",
    "ticker2 = ticker.lower()\n",
    "print(ticker2)"
   ]
  },
  {
   "cell_type": "code",
   "execution_count": null,
   "id": "50cc4bfe-78db-4f34-8f54-f09fe4cd9e6c",
   "metadata": {},
   "outputs": [],
   "source": [
    "# 43. 'hello'가 있을 때 이를 'Hello'로 변경"
   ]
  },
  {
   "cell_type": "code",
   "execution_count": 177,
   "id": "b898c004-7aa3-4219-83e3-2a2b263e629c",
   "metadata": {},
   "outputs": [
    {
     "name": "stdout",
     "output_type": "stream",
     "text": [
      "Hello\n"
     ]
    }
   ],
   "source": [
    "a = \"hello\"\n",
    "a = a.capitalize()\n",
    "print(a)"
   ]
  },
  {
   "cell_type": "code",
   "execution_count": null,
   "id": "93990669-70c6-446b-ba9d-44e52e341cb5",
   "metadata": {},
   "outputs": [],
   "source": [
    "# 44.  문자열로 저장되어 있을 때 endswith 메서드를 사용해서 \n",
    "# 파일 이름이 'xlsx'로 끝나는지 확인\n",
    "# file_name = \"보고서.xlsx\""
   ]
  },
  {
   "cell_type": "code",
   "execution_count": 180,
   "id": "de3de62b-3d57-4035-96d2-5dae5f3c42e0",
   "metadata": {},
   "outputs": [
    {
     "data": {
      "text/plain": [
       "True"
      ]
     },
     "execution_count": 180,
     "metadata": {},
     "output_type": "execute_result"
    }
   ],
   "source": [
    "file_name = \"보고서.xlsx\"\n",
    "file_name.endswith(\"xlsx\")"
   ]
  },
  {
   "cell_type": "code",
   "execution_count": null,
   "id": "c2d27980-625a-40f1-aa50-f9e31024b27f",
   "metadata": {},
   "outputs": [],
   "source": [
    "# 45.  문자열로 저장되어 있을 때 endswith 메서드를 사용해서 \n",
    "# 파일 이름이 'xlsx' 또는 'xls'로 끝나는지 확인"
   ]
  },
  {
   "cell_type": "code",
   "execution_count": 186,
   "id": "65da13d1-3ef8-4802-8120-c22ffa6f30c3",
   "metadata": {},
   "outputs": [
    {
     "data": {
      "text/plain": [
       "True"
      ]
     },
     "execution_count": 186,
     "metadata": {},
     "output_type": "execute_result"
    }
   ],
   "source": [
    "file_name = \"보고서.xlsx\"\n",
    "file_name.endswith(\"xlsx\" or \"xls\")"
   ]
  },
  {
   "cell_type": "code",
   "execution_count": 187,
   "id": "b9abe61d-a17a-45f9-8e3e-6d579cee8669",
   "metadata": {},
   "outputs": [
    {
     "data": {
      "text/plain": [
       "True"
      ]
     },
     "execution_count": 187,
     "metadata": {},
     "output_type": "execute_result"
    }
   ],
   "source": [
    "file_name = \"보고서.xlsx\"\n",
    "file_name.endswith((\"xlsx\", \"xls\"))"
   ]
  },
  {
   "cell_type": "code",
   "execution_count": null,
   "id": "c01bc8fd-81bb-405a-8d3c-0d9c2f82774c",
   "metadata": {},
   "outputs": [],
   "source": [
    "# 46. 문자열로 저장되어 있을 때 startswith 메서드를 사용해서 \n",
    "# 파일 이름이 '2020'로 시작하는지 확인\n",
    "# file_name = \"2020_보고서.xlsx\""
   ]
  },
  {
   "cell_type": "code",
   "execution_count": 188,
   "id": "3a6f50d5-c610-4cf6-9d86-673fdb0f3520",
   "metadata": {},
   "outputs": [
    {
     "data": {
      "text/plain": [
       "True"
      ]
     },
     "execution_count": 188,
     "metadata": {},
     "output_type": "execute_result"
    }
   ],
   "source": [
    "file_name = \"2020_보고서.xlsx\"\n",
    "file_name.startswith(\"2020\")"
   ]
  },
  {
   "cell_type": "code",
   "execution_count": null,
   "id": "37549c5f-957f-4ac2-9407-07ec53a88ec0",
   "metadata": {},
   "outputs": [],
   "source": [
    "# 47. 공백을 기준으로 문자열을 나눠\n",
    "# a = \"hello world\""
   ]
  },
  {
   "cell_type": "code",
   "execution_count": 191,
   "id": "39f6f5a9-9602-485d-a1db-d4a48230aae4",
   "metadata": {},
   "outputs": [
    {
     "data": {
      "text/plain": [
       "['hello', 'world']"
      ]
     },
     "execution_count": 191,
     "metadata": {},
     "output_type": "execute_result"
    }
   ],
   "source": [
    "a = \"hello world\"\n",
    "a.split(\" \")"
   ]
  },
  {
   "cell_type": "code",
   "execution_count": null,
   "id": "14d593d7-049e-4d94-ac0b-251915744a75",
   "metadata": {},
   "outputs": [],
   "source": [
    "# 48. btc와 krw로 나눠\n",
    "# ticker = \"btc_krw\""
   ]
  },
  {
   "cell_type": "code",
   "execution_count": 193,
   "id": "de1ea26a-13c3-4611-ad6e-035b9079a8c4",
   "metadata": {},
   "outputs": [
    {
     "data": {
      "text/plain": [
       "['btc', 'krw']"
      ]
     },
     "execution_count": 193,
     "metadata": {},
     "output_type": "execute_result"
    }
   ],
   "source": [
    "ticker = \"btc_krw\"\n",
    "ticker.split(\"_\")"
   ]
  },
  {
   "cell_type": "code",
   "execution_count": 194,
   "id": "ef1d41a4-9245-4be6-bfe5-e3b1cf87007c",
   "metadata": {},
   "outputs": [
    {
     "data": {
      "text/plain": [
       "['2020', '05', '01']"
      ]
     },
     "execution_count": 194,
     "metadata": {},
     "output_type": "execute_result"
    }
   ],
   "source": [
    "# 49. 날짜를 표현하는 문자열이 있을 때 연도, 월, 일로 나눠\n",
    "date = \"2020-05-01\"\n",
    "date.split(\"-\")"
   ]
  },
  {
   "cell_type": "code",
   "execution_count": null,
   "id": "fa140131-fb10-4fcc-b440-7bd6565c119e",
   "metadata": {},
   "outputs": [],
   "source": [
    "# 50. 문자열의 오른쪽에 공백이 있을 때 이를 제거\n",
    "# data = \"039490     \""
   ]
  },
  {
   "cell_type": "code",
   "execution_count": 195,
   "id": "e4ee5ad2-e252-448e-b9a8-0114f0a01442",
   "metadata": {},
   "outputs": [
    {
     "data": {
      "text/plain": [
       "'039490'"
      ]
     },
     "execution_count": 195,
     "metadata": {},
     "output_type": "execute_result"
    }
   ],
   "source": [
    "data = \"039490     \"\n",
    "data.rstrip()"
   ]
  },
  {
   "cell_type": "markdown",
   "id": "c1f82ea0-db3e-4084-9068-e9f1dd36b8a7",
   "metadata": {},
   "source": [
    "## 파이썬 리스트 51~60"
   ]
  },
  {
   "cell_type": "code",
   "execution_count": null,
   "id": "d5b7971b-703c-4b7a-86c6-e2da22528c5a",
   "metadata": {},
   "outputs": [],
   "source": [
    "# 51. 영화 제목을 movie_rank 이름의 리스트에 저장\n",
    "# 순위\t 영화\n",
    "# 1\t   닥터 스트레인지\n",
    "# 2\t   스플릿\n",
    "# 3\t   럭키"
   ]
  },
  {
   "cell_type": "code",
   "execution_count": 205,
   "id": "faf5c4de-9f17-4e49-85c9-92e937429516",
   "metadata": {},
   "outputs": [
    {
     "name": "stdout",
     "output_type": "stream",
     "text": [
      "['닥터 스트레인지', '스플릿', '럭키']\n"
     ]
    }
   ],
   "source": [
    "movie_rank = [\"닥터 스트레인지\", \"스플릿\", \"럭키\"]\n",
    "print(movie_rank)"
   ]
  },
  {
   "cell_type": "code",
   "execution_count": null,
   "id": "8fbfd58c-8007-4876-8e67-2779a20300ab",
   "metadata": {},
   "outputs": [],
   "source": [
    "# 52. movie_rank 리스트에 \"배트맨\"을 추가"
   ]
  },
  {
   "cell_type": "code",
   "execution_count": 206,
   "id": "ef0938ec-5b7f-4a10-9b60-826cc62d31a5",
   "metadata": {},
   "outputs": [
    {
     "name": "stdout",
     "output_type": "stream",
     "text": [
      "['닥터 스트레인지', '스플릿', '럭키', '배트맨']\n"
     ]
    }
   ],
   "source": [
    "movie_rank = [\"닥터 스트레인지\", \"스플릿\", \"럭키\"]\n",
    "movie_rank.append(\"배트맨\")\n",
    "print(movie_rank)"
   ]
  },
  {
   "cell_type": "code",
   "execution_count": null,
   "id": "bfb1768f-e0df-4078-aae2-baf5096b7369",
   "metadata": {},
   "outputs": [],
   "source": [
    "# 53.  movie_rank 리스트에는 아래와 같이 네 개의 영화 제목이 바인딩\n",
    "# \"슈퍼맨\"을 \"닥터 스트레인지\"와 \"스플릿\" 사이에 추가"
   ]
  },
  {
   "cell_type": "code",
   "execution_count": 210,
   "id": "bfc15dc5-6abd-48cb-baa1-2982514b7318",
   "metadata": {},
   "outputs": [
    {
     "name": "stdout",
     "output_type": "stream",
     "text": [
      "['닥터 스트레인지', '슈퍼맨', '스플릿', '럭키', '배트맨']\n"
     ]
    }
   ],
   "source": [
    "movie_rank = [\"닥터 스트레인지\", \"스플릿\", \"럭키\", \"배트맨\"]\n",
    "movie_rank.insert(1,\"슈퍼맨\")\n",
    "print(movie_rank)\n",
    "#appand와  insert 차이 구분 "
   ]
  },
  {
   "cell_type": "code",
   "execution_count": null,
   "id": "b0f8f949-8f01-4765-bc0b-bf6b45b5054d",
   "metadata": {},
   "outputs": [],
   "source": [
    "# 54. movie_rank 리스트에서 '럭키'를 삭제"
   ]
  },
  {
   "cell_type": "code",
   "execution_count": 215,
   "id": "b5413bb5-b15b-42b7-a9a9-a340642d7343",
   "metadata": {},
   "outputs": [
    {
     "name": "stdout",
     "output_type": "stream",
     "text": [
      "['닥터 스트레인지', '슈퍼맨', '스플릿', '배트맨']\n"
     ]
    }
   ],
   "source": [
    "movie_rank = [\"닥터 스트레인지\", \"슈퍼맨\", \"스플릿\", \"럭키\", \"배트맨\"]\n",
    "del movie_rank[3]\n",
    "print(movie_rank)"
   ]
  },
  {
   "cell_type": "code",
   "execution_count": null,
   "id": "4e9295ec-d583-4c10-bd8a-5f94b697b81e",
   "metadata": {},
   "outputs": [],
   "source": [
    "# 55.movie_rank 리스트에서 '스플릿' 과 '배트맨'을 를 삭제"
   ]
  },
  {
   "cell_type": "code",
   "execution_count": 217,
   "id": "16f56a3d-8cb1-4791-a20f-fc75414397d6",
   "metadata": {},
   "outputs": [
    {
     "name": "stdout",
     "output_type": "stream",
     "text": [
      "['닥터 스트레인지', '슈퍼맨']\n"
     ]
    }
   ],
   "source": [
    "movie_rank = ['닥터 스트레인지', '슈퍼맨', '스플릿', '배트맨']\n",
    "del movie_rank[2]\n",
    "del movie_rank[2]\n",
    "print(movie_rank)"
   ]
  },
  {
   "cell_type": "code",
   "execution_count": null,
   "id": "71a57da4-9512-40c4-b063-e3c48f34f21d",
   "metadata": {},
   "outputs": [],
   "source": [
    "# 56. lang1과 lang2의 원소를 모두 갖고 있는 langs 리스트를 만들어라\n",
    "# >> lang1 = [\"C\", \"C++\", \"JAVA\"]\n",
    "# >> lang2 = [\"Python\", \"Go\", \"C#\"]"
   ]
  },
  {
   "cell_type": "code",
   "execution_count": 219,
   "id": "9730532e-be26-4440-9260-4d68908d810d",
   "metadata": {},
   "outputs": [
    {
     "name": "stdout",
     "output_type": "stream",
     "text": [
      "['C', 'C++', 'JAVA', 'Python', 'Go', 'C#']\n"
     ]
    }
   ],
   "source": [
    "lang1 = [\"C\", \"C++\", \"JAVA\"]\n",
    "lang2 = [\"Python\", \"Go\", \"C#\"]\n",
    "langs = lang1 + lang2\n",
    "print(langs)"
   ]
  },
  {
   "cell_type": "code",
   "execution_count": null,
   "id": "03adc963-dae0-4d12-9ba7-839bf000f579",
   "metadata": {},
   "outputs": [],
   "source": [
    "# 57. 최댓값과 최솟값을 출력하라. (힌트: min(), max() 함수 사용)\n",
    "# nums = [1, 2, 3, 4, 5, 6, 7]"
   ]
  },
  {
   "cell_type": "code",
   "execution_count": 244,
   "id": "002bf2d3-985a-42a0-b934-1e2ada843782",
   "metadata": {},
   "outputs": [
    {
     "name": "stdout",
     "output_type": "stream",
     "text": [
      "max:  7\n",
      "min:  1\n"
     ]
    }
   ],
   "source": [
    "nums = [1, 2, 3, 4, 5, 6, 7]\n",
    "\n",
    "print(\"max: \", max(nums))\n",
    "print(\"min: \", min(nums))\n",
    "\n",
    "# python 'int' object is not callable 오류인 경우 \n",
    "# -> 예약어 sum(),max(),min()등 사용 시 발생\n",
    "# del max\n",
    "# del min \n",
    "# 해주고 난 후 다시 print 출력"
   ]
  },
  {
   "cell_type": "code",
   "execution_count": 245,
   "id": "90657b5c-6689-40f0-ba44-9137d1477768",
   "metadata": {},
   "outputs": [],
   "source": [
    "# 58. 리스트의 합을 출력\n",
    "# nums = [1, 2, 3, 4, 5]"
   ]
  },
  {
   "cell_type": "code",
   "execution_count": 246,
   "id": "8ba7edaa-4ded-4da1-8940-6e8e7e6eebad",
   "metadata": {},
   "outputs": [
    {
     "name": "stdout",
     "output_type": "stream",
     "text": [
      "15\n"
     ]
    }
   ],
   "source": [
    "nums = [1, 2, 3, 4, 5]\n",
    "print(sum(nums))"
   ]
  },
  {
   "cell_type": "code",
   "execution_count": null,
   "id": "999b9dfb-f314-4d9d-9c54-0c1349ba14c2",
   "metadata": {},
   "outputs": [],
   "source": [
    "# 59. 저장된 데이터의 개수를 화면에 구해\n",
    "# cook = [\"피자\", \"김밥\", \"만두\", \"양념치킨\", \"족발\", \"피자\", \"김치만두\", \n",
    "#       \"쫄면\", \"소시지\", \"라면\", \"팥빙수\", \"김치전\"]"
   ]
  },
  {
   "cell_type": "code",
   "execution_count": 249,
   "id": "da7570fd-9ce5-4ac3-9001-1ee456420c82",
   "metadata": {},
   "outputs": [
    {
     "name": "stdout",
     "output_type": "stream",
     "text": [
      "12\n"
     ]
    }
   ],
   "source": [
    "cook = [\"피자\", \"김밥\", \"만두\", \"양념치킨\", \"족발\", \"피자\", \"김치만두\", \"쫄면\", \"소시지\", \"라면\", \"팥빙수\", \"김치전\"]\n",
    "print(len(cook))"
   ]
  },
  {
   "cell_type": "code",
   "execution_count": 250,
   "id": "9a6dbb83-dc72-4086-87e9-9230aaacdaaa",
   "metadata": {},
   "outputs": [],
   "source": [
    "# 60. 리스트의 평균을 출력 \n",
    "# nums = [1, 2, 3, 4, 5]"
   ]
  },
  {
   "cell_type": "code",
   "execution_count": 253,
   "id": "d15dbee9-e2b7-42e5-824c-c2244ca645ff",
   "metadata": {},
   "outputs": [
    {
     "name": "stdout",
     "output_type": "stream",
     "text": [
      "3.0\n"
     ]
    }
   ],
   "source": [
    "nums = [1, 2, 3, 4, 5]\n",
    "avg = sum(nums) / len(nums)\n",
    "print(avg)"
   ]
  },
  {
   "cell_type": "markdown",
   "id": "ae868c20-82ee-412a-96c0-78584e761f51",
   "metadata": {},
   "source": [
    "## 파이썬 리스트 61~70"
   ]
  },
  {
   "cell_type": "code",
   "execution_count": null,
   "id": "f6d413fe-9463-4923-ba30-a9f24346fde1",
   "metadata": {},
   "outputs": [],
   "source": [
    "# 61. price 변수에는 날짜와 종가 정보가 저장\n",
    "# 날짜 정보를 제외하고 가격 정보만을 출력하라. (힌트 : 슬라이싱)"
   ]
  },
  {
   "cell_type": "code",
   "execution_count": 254,
   "id": "984882f8-6bcc-410f-9c7b-2ab3af21d6df",
   "metadata": {},
   "outputs": [
    {
     "name": "stdout",
     "output_type": "stream",
     "text": [
      "[100, 130, 140, 150, 160, 170]\n"
     ]
    }
   ],
   "source": [
    "price = ['20180728', 100, 130, 140, 150, 160, 170]\n",
    "print(price[1:])"
   ]
  },
  {
   "cell_type": "code",
   "execution_count": null,
   "id": "ec786b9c-02cb-4b52-bdd7-b7ec0d800a17",
   "metadata": {},
   "outputs": [],
   "source": [
    "# 62.슬라이싱을 사용해서 홀수만 출력하라.\n",
    "# nums = [1, 2, 3, 4, 5, 6, 7, 8, 9, 10]"
   ]
  },
  {
   "cell_type": "code",
   "execution_count": 259,
   "id": "0b1e2cad-2cd0-4da3-bb31-71f5bc04fc6f",
   "metadata": {},
   "outputs": [
    {
     "name": "stdout",
     "output_type": "stream",
     "text": [
      "[1, 3, 5, 7, 9]\n"
     ]
    }
   ],
   "source": [
    "nums = [1, 2, 3, 4, 5, 6, 7, 8, 9, 10]\n",
    "print(nums[::2])"
   ]
  },
  {
   "cell_type": "code",
   "execution_count": null,
   "id": "eaf56365-82bf-4915-a9b8-6529b28eaab3",
   "metadata": {},
   "outputs": [],
   "source": [
    "# 63.슬라이싱을 사용해서 짝수만 출력하라.\n",
    "# nums = [1, 2, 3, 4, 5, 6, 7, 8, 9, 10]"
   ]
  },
  {
   "cell_type": "code",
   "execution_count": 260,
   "id": "c54d37ad-0165-4bc7-95a6-d6cbdf582174",
   "metadata": {},
   "outputs": [
    {
     "name": "stdout",
     "output_type": "stream",
     "text": [
      "[2, 4, 6, 8, 10]\n"
     ]
    }
   ],
   "source": [
    "nums = [1, 2, 3, 4, 5, 6, 7, 8, 9, 10]\n",
    "print(nums[1::2])"
   ]
  },
  {
   "cell_type": "code",
   "execution_count": null,
   "id": "3bc7b3e9-c323-4829-9387-976d64bfc88a",
   "metadata": {},
   "outputs": [],
   "source": [
    "# 64. 슬라이싱을 사용해서 리스트의 숫자를 역 방향으로 출력\n",
    "# nums = [1, 2, 3, 4, 5]"
   ]
  },
  {
   "cell_type": "code",
   "execution_count": 262,
   "id": "3c8b04f0-a2e5-4656-ad89-ef3b41833519",
   "metadata": {},
   "outputs": [
    {
     "name": "stdout",
     "output_type": "stream",
     "text": [
      "[5, 4, 3, 2, 1]\n"
     ]
    }
   ],
   "source": [
    "nums = [1, 2, 3, 4, 5]\n",
    "print(nums[::-1])"
   ]
  },
  {
   "cell_type": "code",
   "execution_count": null,
   "id": "c0046c25-4d8d-4e5a-8b9f-25b761e232e6",
   "metadata": {},
   "outputs": [],
   "source": [
    "# 65. interest 리스트에는 아래의 데이터가 바인딩\n",
    "# interest = ['삼성전자', 'LG전자', 'Naver']\n",
    "# interest 리스트를 사용하여 아래와 같이 화면에 출력\n",
    "# 출력 예시:\n",
    "# 삼성전자 Naver"
   ]
  },
  {
   "cell_type": "code",
   "execution_count": 263,
   "id": "5d33033d-9fd4-48a9-9ef0-bc3c2986b526",
   "metadata": {},
   "outputs": [
    {
     "name": "stdout",
     "output_type": "stream",
     "text": [
      "삼성전자 Naver\n"
     ]
    }
   ],
   "source": [
    "interest = ['삼성전자', 'LG전자', 'Naver']\n",
    "print(interest[0],interest[2])"
   ]
  },
  {
   "cell_type": "code",
   "execution_count": null,
   "id": "2d63a952-46e3-4ce9-a3b2-6ad9f5c84517",
   "metadata": {},
   "outputs": [],
   "source": [
    "# 66. interest = ['삼성전자', 'LG전자', 'Naver', 'SK하이닉스', '미래에셋대우']\n",
    "# interest 리스트를 사용하여 아래와 같이 화면에 출력\n",
    "# 출력 예시:\n",
    "# 삼성전자 LG전자 Naver SK하이닉스 미래에셋대우"
   ]
  },
  {
   "cell_type": "code",
   "execution_count": 276,
   "id": "b9c4307d-52f7-4d75-a092-4489b0fdc48e",
   "metadata": {},
   "outputs": [
    {
     "name": "stdout",
     "output_type": "stream",
     "text": [
      "삼성전자 LG전자 Naver SK하이닉스 미래에셋대우\n"
     ]
    }
   ],
   "source": [
    "interest = ['삼성전자', 'LG전자', 'Naver', 'SK하이닉스', '미래에셋대우']\n",
    "print(\" \".join(interest))"
   ]
  },
  {
   "cell_type": "code",
   "execution_count": null,
   "id": "77d60f85-d436-4145-be2b-09fc22785456",
   "metadata": {},
   "outputs": [],
   "source": [
    "# 67.interest = ['삼성전자', 'LG전자', 'Naver', 'SK하이닉스', '미래에셋대우']\n",
    "# interest 리스트를 사용하여 아래와 같이 화면에 출력\n",
    "#출력 예시:\n",
    "#삼성전자/LG전자/Naver/SK하이닉스/미래에셋대우"
   ]
  },
  {
   "cell_type": "code",
   "execution_count": 277,
   "id": "e599f144-5d13-4e16-af39-5d05e9aa269b",
   "metadata": {},
   "outputs": [
    {
     "name": "stdout",
     "output_type": "stream",
     "text": [
      "삼성전자/LG전자/Naver/SK하이닉스/미래에셋대우\n"
     ]
    }
   ],
   "source": [
    "interest = ['삼성전자', 'LG전자', 'Naver', 'SK하이닉스', '미래에셋대우']\n",
    "print(\"/\".join(interest))"
   ]
  },
  {
   "cell_type": "code",
   "execution_count": null,
   "id": "0216ece9-bd9b-4612-abca-96e6e22845d2",
   "metadata": {},
   "outputs": [],
   "source": [
    "#68.interest = ['삼성전자', 'LG전자', 'Naver', 'SK하이닉스', '미래에셋대우']\n",
    "#join() 메서드를 사용해서 interest 리스트를 아래와 같이 화면에 출력\n",
    "#출력 예시:\n",
    "#삼성전자\n",
    "#LG전자\n",
    "#Naver\n",
    "#SK하이닉스\n",
    "#미래에셋대우"
   ]
  },
  {
   "cell_type": "code",
   "execution_count": 279,
   "id": "7b8e19c6-336e-4c56-a72b-c32bba7ff7a5",
   "metadata": {},
   "outputs": [
    {
     "name": "stdout",
     "output_type": "stream",
     "text": [
      "삼성전자\n",
      "LG전자\n",
      "Naver\n",
      "SK하이닉스\n",
      "미래에셋대우\n"
     ]
    }
   ],
   "source": [
    "interest = ['삼성전자', 'LG전자', 'Naver', 'SK하이닉스', '미래에셋대우']\n",
    "print(\"\\n\".join(interest))"
   ]
  },
  {
   "cell_type": "code",
   "execution_count": null,
   "id": "8759c041-5192-422d-a554-b2d45e1ad6f1",
   "metadata": {},
   "outputs": [],
   "source": [
    "# 69. 회사 이름이 슬래시 ('/')로 구분되어 하나의 문자열로 저장\n",
    "# string = \"삼성전자/LG전자/Naver\"\n",
    "# 이를 interest 이름의 리스트로 분리 저장"
   ]
  },
  {
   "cell_type": "code",
   "execution_count": 280,
   "id": "6329236c-7a20-4cd4-bfea-a177e888ea75",
   "metadata": {},
   "outputs": [
    {
     "name": "stdout",
     "output_type": "stream",
     "text": [
      "['삼성전자', 'LG전자', 'Naver']\n"
     ]
    }
   ],
   "source": [
    "string = \"삼성전자/LG전자/Naver\"\n",
    "interest = string.split(\"/\")\n",
    "print(interest)"
   ]
  },
  {
   "cell_type": "code",
   "execution_count": null,
   "id": "9be53db5-35a2-42e8-a2e1-1a0f98590257",
   "metadata": {},
   "outputs": [],
   "source": [
    "#70. 스트에 있는 값을 오름차순으로 정렬\n",
    "#data = [2, 4, 3, 1, 5, 10, 9]"
   ]
  },
  {
   "cell_type": "code",
   "execution_count": 282,
   "id": "bf96e863-fe42-42c2-9219-908baa91e827",
   "metadata": {},
   "outputs": [
    {
     "name": "stdout",
     "output_type": "stream",
     "text": [
      "[1, 2, 3, 4, 5, 9, 10]\n"
     ]
    }
   ],
   "source": [
    "data = [2, 4, 3, 1, 5, 10, 9]\n",
    "data.sort()\n",
    "print(data)"
   ]
  },
  {
   "cell_type": "markdown",
   "id": "1abc4c96-500a-43d4-9bd5-85f07e2171eb",
   "metadata": {},
   "source": [
    "## 파이썬 튜플 71~80"
   ]
  },
  {
   "cell_type": "code",
   "execution_count": null,
   "id": "432a49a0-66de-4154-9fab-d7515095b48f",
   "metadata": {},
   "outputs": [],
   "source": [
    "# 71. my_variable 이름의 비어있는 튜플을 만들라\n"
   ]
  },
  {
   "cell_type": "code",
   "execution_count": 285,
   "id": "5f26131b-cb01-44fa-9f0b-7c4d0cc3f1b8",
   "metadata": {},
   "outputs": [
    {
     "name": "stdout",
     "output_type": "stream",
     "text": [
      "<class 'tuple'>\n"
     ]
    }
   ],
   "source": [
    "my_variable = ()\n",
    "print(type(my_variable))"
   ]
  },
  {
   "cell_type": "code",
   "execution_count": null,
   "id": "b63eff39-a531-44a6-bb00-cdb4a65b66d9",
   "metadata": {},
   "outputs": [],
   "source": [
    "# 2016년 11월 영화 예매 순위 기준 top3\n",
    "# 영화 제목을 movie_rank 이름의 튜플에 저장\n",
    "#   순위\t 영화\n",
    "#1\t닥터 스트레인지\n",
    "#2\t스플릿\n",
    "#3\t럭키"
   ]
  },
  {
   "cell_type": "code",
   "execution_count": 288,
   "id": "158250da-5219-4df6-b3c2-a9f62f967c29",
   "metadata": {},
   "outputs": [],
   "source": [
    "movie_rank = (\"닥터 스트레인지\",\"스플릿\",\"럭키\")"
   ]
  },
  {
   "cell_type": "code",
   "execution_count": null,
   "id": "1cd36159-fbf9-4895-a4c7-058f9579bffd",
   "metadata": {},
   "outputs": [],
   "source": [
    "# 73. 숫자 1 이 저장된 튜플을 생성"
   ]
  },
  {
   "cell_type": "code",
   "execution_count": 291,
   "id": "e1eedacd-dd3d-4f48-9b6e-af22d26137c6",
   "metadata": {},
   "outputs": [],
   "source": [
    "t1 = (1,)"
   ]
  },
  {
   "cell_type": "code",
   "execution_count": null,
   "id": "7328afa4-8f7f-4f67-a890-a9e69aeaa725",
   "metadata": {},
   "outputs": [],
   "source": [
    "# 74. 오류가 발생하는 원인을 설명\n",
    "#t = (1, 2, 3)\n",
    "#t[0] = 'a'"
   ]
  },
  {
   "cell_type": "code",
   "execution_count": 3,
   "id": "649e5160-cb12-4176-971e-f5a101d057d0",
   "metadata": {},
   "outputs": [
    {
     "ename": "TypeError",
     "evalue": "'tuple' object does not support item assignment",
     "output_type": "error",
     "traceback": [
      "\u001b[1;31m---------------------------------------------------------------------------\u001b[0m",
      "\u001b[1;31mTypeError\u001b[0m                                 Traceback (most recent call last)",
      "Cell \u001b[1;32mIn[3], line 2\u001b[0m\n\u001b[0;32m      1\u001b[0m t \u001b[38;5;241m=\u001b[39m (\u001b[38;5;241m1\u001b[39m, \u001b[38;5;241m2\u001b[39m, \u001b[38;5;241m3\u001b[39m)\n\u001b[1;32m----> 2\u001b[0m t[\u001b[38;5;241m0\u001b[39m] \u001b[38;5;241m=\u001b[39m \u001b[38;5;124m'\u001b[39m\u001b[38;5;124ma\u001b[39m\u001b[38;5;124m'\u001b[39m\n",
      "\u001b[1;31mTypeError\u001b[0m: 'tuple' object does not support item assignment"
     ]
    }
   ],
   "source": [
    "t = (1, 2, 3)\n",
    "t[0] = 'a'\n",
    "# 튜플의 원솟값은 변경 불가"
   ]
  },
  {
   "cell_type": "code",
   "execution_count": null,
   "id": "0d96c605-f88e-4449-8751-6d1815c47e64",
   "metadata": {},
   "outputs": [],
   "source": [
    "#75. t에는 1, 2, 3, 4 데이터가 바인딩\n",
    "#  t가 바인딩하는 데이터 타입은 무엇인가?\n",
    "#  t = 1, 2, 3, 4"
   ]
  },
  {
   "cell_type": "code",
   "execution_count": 293,
   "id": "9c246ba2-010b-42aa-84bc-d55aeea099a9",
   "metadata": {},
   "outputs": [],
   "source": [
    "t = (1,2,3,4)\n",
    "# -> 튜블은 괄호, 괄호 없이도 가능"
   ]
  },
  {
   "cell_type": "code",
   "execution_count": 298,
   "id": "f9fb307f-1961-4cc4-b9c2-3e31acaabc06",
   "metadata": {},
   "outputs": [],
   "source": [
    "# 76. t에는 아래와 같은 값이 저장되어 있다. \n",
    "# 변수 t가 ('A', 'b', 'c') 튜플을 가리키도록 수정\n",
    "# t = ('a', 'b', 'c')"
   ]
  },
  {
   "cell_type": "markdown",
   "id": "45803e40-af9b-407a-8714-8a9649509a32",
   "metadata": {},
   "source": [
    "t = ('a', 'b', 'c')"
   ]
  },
  {
   "cell_type": "code",
   "execution_count": 2,
   "id": "739285c9-8f7c-496c-b51e-e34fd55561ed",
   "metadata": {},
   "outputs": [
    {
     "name": "stdout",
     "output_type": "stream",
     "text": [
      "A\n"
     ]
    }
   ],
   "source": [
    "t_a = ('A', 'B', 'C')\n",
    "print(t_a[0])\n",
    "# 왜 에러...? "
   ]
  },
  {
   "cell_type": "code",
   "execution_count": null,
   "id": "b5b7c6f7-df6e-46f5-bf54-ec4ce0412f5b",
   "metadata": {},
   "outputs": [],
   "source": [
    "# 77. 튜플을 리스트로 변환\n",
    "# interest = ('삼성전자', 'LG전자', 'SK Hynix')"
   ]
  },
  {
   "cell_type": "code",
   "execution_count": 313,
   "id": "db732e14-7024-4f6b-ab3e-fa8f15a065f1",
   "metadata": {},
   "outputs": [],
   "source": [
    "interest = ('삼성전자', 'LG전자', 'SK Hynix')\n",
    "tl = list(interest)"
   ]
  },
  {
   "cell_type": "code",
   "execution_count": null,
   "id": "9a803803-c434-4640-ae01-f3c10611b357",
   "metadata": {},
   "outputs": [],
   "source": [
    "# 78. 리스트를 튜플로 변경\n",
    "# interest = ['삼성전자', 'LG전자', 'SK Hynix']"
   ]
  },
  {
   "cell_type": "code",
   "execution_count": 314,
   "id": "c9fcbc9c-63de-4829-a48c-69e177073307",
   "metadata": {},
   "outputs": [],
   "source": [
    "interest = ['삼성전자', 'LG전자', 'SK Hynix']\n",
    "lt = tuple(interest)"
   ]
  },
  {
   "cell_type": "code",
   "execution_count": null,
   "id": "1ef1a2ff-280d-4282-acdc-a441ff2a8646",
   "metadata": {},
   "outputs": [],
   "source": [
    "# 79. 다음 코드의 실행 결과를 예상\n",
    "# temp = ('apple', 'banana', 'cake')\n",
    "# a, b, c = temp\n",
    "# print(a, b, c)"
   ]
  },
  {
   "cell_type": "code",
   "execution_count": null,
   "id": "b193d532-37fd-4aad-9b7e-e476bfc8fe26",
   "metadata": {},
   "outputs": [],
   "source": [
    "temp = ('apple', 'banana', 'cake')\n",
    "a, b, c = temp\n",
    "print(a, b, c)"
   ]
  },
  {
   "cell_type": "code",
   "execution_count": null,
   "id": "73a8b79f-3b23-41f7-8130-44e54358d323",
   "metadata": {},
   "outputs": [],
   "source": [
    "apple banana cake"
   ]
  },
  {
   "cell_type": "code",
   "execution_count": null,
   "id": "6c2dbfca-0d24-4ea5-8a45-98d05f36d2f4",
   "metadata": {},
   "outputs": [],
   "source": [
    "# 80. 1 부터 99까지의 정수 중 짝수만 저장된 튜플을 생성\n",
    "(2, 4, 6, 8 ... 98)"
   ]
  },
  {
   "cell_type": "code",
   "execution_count": 1,
   "id": "7bee975e-7a54-4722-807a-a83c611d5e0e",
   "metadata": {},
   "outputs": [
    {
     "name": "stdout",
     "output_type": "stream",
     "text": [
      "(2, 4, 6, 8, 10, 12, 14, 16, 18, 20, 22, 24, 26, 28, 30, 32, 34, 36, 38, 40, 42, 44, 46, 48, 50, 52, 54, 56, 58, 60, 62, 64, 66, 68, 70, 72, 74, 76, 78, 80, 82, 84, 86, 88, 90, 92, 94, 96, 98)\n"
     ]
    }
   ],
   "source": [
    "tu2 = tuple(range(2,99,2))\n",
    "print(tu2)"
   ]
  },
  {
   "cell_type": "code",
   "execution_count": null,
   "id": "446d0aeb-dc49-47e0-b80e-b7d76d01d571",
   "metadata": {},
   "outputs": [],
   "source": []
  }
 ],
 "metadata": {
  "kernelspec": {
   "display_name": "Python 3 (ipykernel)",
   "language": "python",
   "name": "python3"
  },
  "language_info": {
   "codemirror_mode": {
    "name": "ipython",
    "version": 3
   },
   "file_extension": ".py",
   "mimetype": "text/x-python",
   "name": "python",
   "nbconvert_exporter": "python",
   "pygments_lexer": "ipython3",
   "version": "3.11.7"
  }
 },
 "nbformat": 4,
 "nbformat_minor": 5
}
