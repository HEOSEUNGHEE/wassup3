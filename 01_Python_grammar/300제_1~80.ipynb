{
 "cells": [
  {
   "cell_type": "markdown",
   "id": "dc1c371f-d7e7-4c1e-9e60-0e25724a148b",
   "metadata": {},
   "source": [
    "# 파이썬 300제"
   ]
  },
  {
   "cell_type": "markdown",
   "id": "7434ad65-fb32-4317-8b3e-3226c581efd6",
   "metadata": {},
   "source": [
    "## 1~10"
   ]
  },
  {
   "cell_type": "code",
   "execution_count": null,
   "id": "85a4003c-5e9c-49d3-8f58-74b552b93b08",
   "metadata": {},
   "outputs": [],
   "source": [
    "# 1. 화면에 Hello World 문자열을 출력하세요."
   ]
  },
  {
   "cell_type": "code",
   "execution_count": 3,
   "id": "99c7e666-8ecc-40cd-bdc8-8d45e50d3c52",
   "metadata": {},
   "outputs": [
    {
     "name": "stdout",
     "output_type": "stream",
     "text": [
      "Hello World\n"
     ]
    }
   ],
   "source": [
    "print(\"Hello World\")"
   ]
  },
  {
   "cell_type": "code",
   "execution_count": null,
   "id": "69245eb1-8fe1-404a-b7f3-e194da38e644",
   "metadata": {},
   "outputs": [],
   "source": [
    "# 2. 화면에 Mary's cosmetics을 출력하세요. (중간에 '가 있음에 주의하세요)"
   ]
  },
  {
   "cell_type": "code",
   "execution_count": 4,
   "id": "7e13389d-04fb-42c0-a353-7653bb6b5de7",
   "metadata": {},
   "outputs": [
    {
     "name": "stdout",
     "output_type": "stream",
     "text": [
      "Mary's cosmetics\n"
     ]
    }
   ],
   "source": [
    "print(\"Mary's cosmetics\")"
   ]
  },
  {
   "cell_type": "code",
   "execution_count": null,
   "id": "edbebb5f-152e-43c2-a008-edfb14c58cf5",
   "metadata": {},
   "outputs": [],
   "source": [
    "# 3. 화면에 아래 문장을 출력하세요. (중간에 \"가 있음에 주의하세요.)\n",
    "신씨가 소리질렀다. \"도둑이야\"."
   ]
  },
  {
   "cell_type": "code",
   "execution_count": 5,
   "id": "445c6727-1921-410a-80e5-656335ec9565",
   "metadata": {},
   "outputs": [
    {
     "name": "stdout",
     "output_type": "stream",
     "text": [
      "신시가 소리질렀다. \"도둑이야\".\n"
     ]
    }
   ],
   "source": [
    "print('신시가 소리질렀다. \"도둑이야\".')"
   ]
  },
  {
   "cell_type": "code",
   "execution_count": null,
   "id": "dcc93841-bf9d-48c8-a4ec-c466ae53b6ca",
   "metadata": {},
   "outputs": [],
   "source": [
    "# 4. 화면에 C:\\Windows를 출력하세요."
   ]
  },
  {
   "cell_type": "code",
   "execution_count": 7,
   "id": "edd09dda-093e-477a-8929-262322493308",
   "metadata": {},
   "outputs": [
    {
     "name": "stdout",
     "output_type": "stream",
     "text": [
      "C:\\Windows\n"
     ]
    }
   ],
   "source": [
    "print(\"C:\\Windows\")"
   ]
  },
  {
   "cell_type": "code",
   "execution_count": null,
   "id": "7e5a1d94-1f81-45f7-b830-e7823c89edd5",
   "metadata": {},
   "outputs": [],
   "source": [
    "# 5. 다음 코드를 실행해보고 \\t와 \\n의 역할을 설명해보세요."
   ]
  },
  {
   "cell_type": "code",
   "execution_count": 8,
   "id": "c3978047-9d6d-4c56-ac14-78efd770403f",
   "metadata": {},
   "outputs": [
    {
     "name": "stdout",
     "output_type": "stream",
     "text": [
      "안녕하세요.\n",
      "만나서\t\t반갑습니다.\n"
     ]
    }
   ],
   "source": [
    "print(\"안녕하세요.\\n만나서\\t\\t반갑습니다.\")"
   ]
  },
  {
   "cell_type": "code",
   "execution_count": null,
   "id": "4a6ca23d-e797-43f1-83bc-5c8625193b04",
   "metadata": {},
   "outputs": [],
   "source": [
    "\\t : tab\n",
    "\\n : 줄 바꿈"
   ]
  },
  {
   "cell_type": "code",
   "execution_count": null,
   "id": "ae895276-6852-452d-b3d6-b7c6fd7de4ba",
   "metadata": {},
   "outputs": [],
   "source": [
    "# 6. print 함수에 두 개의 단어를 입력한 예제입니다. 아래 코드의 출력 결과를 예상해봅시다."
   ]
  },
  {
   "cell_type": "code",
   "execution_count": 9,
   "id": "16c6d0a2-3b88-45a2-a8e8-9a5c5ba889d1",
   "metadata": {},
   "outputs": [
    {
     "name": "stdout",
     "output_type": "stream",
     "text": [
      "오늘은 일요일\n"
     ]
    }
   ],
   "source": [
    "print (\"오늘은\", \"일요일\")"
   ]
  },
  {
   "cell_type": "code",
   "execution_count": null,
   "id": "57670dbf-5ea3-49a9-aa01-26683b42e953",
   "metadata": {},
   "outputs": [],
   "source": [
    "오늘은 일요일"
   ]
  },
  {
   "cell_type": "code",
   "execution_count": null,
   "id": "b547484b-a7f4-4a5b-9cfd-d67e990d5255",
   "metadata": {},
   "outputs": [],
   "source": [
    "# 7. print() 함수를 사용하여 다음과 같이 출력"
   ]
  },
  {
   "cell_type": "code",
   "execution_count": null,
   "id": "b1eb1915-26c6-4101-9d64-b0c47fc6d9c0",
   "metadata": {},
   "outputs": [],
   "source": [
    "naver;kakao;sk;samsung"
   ]
  },
  {
   "cell_type": "code",
   "execution_count": 12,
   "id": "039dda80-10b2-4862-a653-11f284c0ff46",
   "metadata": {},
   "outputs": [
    {
     "name": "stdout",
     "output_type": "stream",
     "text": [
      "naver;kakao;sk;samsumg\n"
     ]
    }
   ],
   "source": [
    "print(\"naver\", \"kakao\", \"sk\", \"samsumg\", sep = \";\")"
   ]
  },
  {
   "cell_type": "code",
   "execution_count": 13,
   "id": "05c02e34-0fa9-463c-bdd7-f4aeee93d1a9",
   "metadata": {},
   "outputs": [
    {
     "name": "stdout",
     "output_type": "stream",
     "text": [
      "naver; kakao; sk; samsumg\n"
     ]
    }
   ],
   "source": [
    "print(\"naver;\", \"kakao;\", \"sk;\", \"samsumg\")"
   ]
  },
  {
   "cell_type": "code",
   "execution_count": null,
   "id": "30a83204-c85e-4b0e-9833-553087868ffe",
   "metadata": {},
   "outputs": [],
   "source": [
    "# 8. print() 함수를 사용하여 다음과 같이 출력"
   ]
  },
  {
   "cell_type": "code",
   "execution_count": null,
   "id": "c6bd9744-8f6d-4d1b-836e-9c87c05c2bac",
   "metadata": {},
   "outputs": [],
   "source": [
    "naver/kakao/sk/samsung"
   ]
  },
  {
   "cell_type": "code",
   "execution_count": 14,
   "id": "fa7374ab-95dd-4f95-9148-8aa519a233f9",
   "metadata": {},
   "outputs": [
    {
     "name": "stdout",
     "output_type": "stream",
     "text": [
      "naver/kakao/sk/samsumg\n"
     ]
    }
   ],
   "source": [
    "print(\"naver\", \"kakao\", \"sk\", \"samsumg\", sep = \"/\")"
   ]
  },
  {
   "cell_type": "code",
   "execution_count": null,
   "id": "c772e232-e7e3-4d33-b972-f570c5049490",
   "metadata": {},
   "outputs": [],
   "source": [
    "# 9. 다음 코드를 수정하여 줄바꿈이 없이 출력하세요. (힌트: end='') \n",
    "print 함수는 두 번 사용합니다. \n",
    "세미콜론 (;)은 한줄에 여러 개의 명령을 작성하기 위해 사용"
   ]
  },
  {
   "cell_type": "code",
   "execution_count": 15,
   "id": "46dadf2c-9847-4910-a321-8726f7fd6db4",
   "metadata": {},
   "outputs": [
    {
     "name": "stdout",
     "output_type": "stream",
     "text": [
      "first\n",
      "second\n"
     ]
    }
   ],
   "source": [
    "print(\"first\");print(\"second\")"
   ]
  },
  {
   "cell_type": "code",
   "execution_count": 19,
   "id": "5edf8610-3fef-4dca-aa45-d867f7d94cb9",
   "metadata": {},
   "outputs": [
    {
     "name": "stdout",
     "output_type": "stream",
     "text": [
      "firstsecond\n"
     ]
    }
   ],
   "source": [
    "print(\"first\",end =''); print(\"second\")"
   ]
  },
  {
   "cell_type": "code",
   "execution_count": null,
   "id": "e60da514-4f9d-4e81-9eb6-c08d27113721",
   "metadata": {},
   "outputs": [],
   "source": [
    "10. 5/3의 결과를 화면에 출력"
   ]
  },
  {
   "cell_type": "code",
   "execution_count": 22,
   "id": "493701a7-5a4a-4d5d-8566-23a4e2941795",
   "metadata": {},
   "outputs": [
    {
     "name": "stdout",
     "output_type": "stream",
     "text": [
      "1.6666666666666667\n"
     ]
    }
   ],
   "source": [
    "print(5/3)"
   ]
  },
  {
   "cell_type": "markdown",
   "id": "a3450615-dae0-40e7-9e79-9139580a02f0",
   "metadata": {},
   "source": [
    "## 파이썬 변수 11~20"
   ]
  },
  {
   "cell_type": "code",
   "execution_count": null,
   "id": "bf1e3ec5-82ab-49f5-85ba-2077bf155159",
   "metadata": {},
   "outputs": [],
   "source": [
    "11. 삼성전자라는 변수로 50,000원을 바인딩해보세요. \n",
    "삼성전자 주식 10주를 보유하고 있을 때 총 평가금액을 출력하세요."
   ]
  },
  {
   "cell_type": "code",
   "execution_count": 27,
   "id": "b40b583c-f9db-45cb-96c8-859f2e002420",
   "metadata": {},
   "outputs": [
    {
     "name": "stdout",
     "output_type": "stream",
     "text": [
      "500000\n"
     ]
    }
   ],
   "source": [
    "삼성전자 = 50000\n",
    "총평가금액 = 10 * 삼성전자\n",
    "print(총평가금액)\n"
   ]
  },
  {
   "cell_type": "code",
   "execution_count": null,
   "id": "9cde44e0-f571-48ef-9608-7a9638a0a951",
   "metadata": {},
   "outputs": [],
   "source": [
    "12. 다음 표는 삼성전자의 일부 투자정보입니다. \n",
    "변수를 사용해서 시가총액, 현재가, PER 등을 바인딩해보세요.\n",
    "\n",
    "항목\t    값\n",
    "시가총액\t298조\n",
    "현재가\t    50,000원\n",
    "PER\t        15.79"
   ]
  },
  {
   "cell_type": "code",
   "execution_count": 28,
   "id": "801f1f4e-c2f8-4021-aca0-1c36f4efb4f9",
   "metadata": {},
   "outputs": [
    {
     "name": "stdout",
     "output_type": "stream",
     "text": [
      "298 <class 'int'>\n",
      "50000 <class 'int'>\n",
      "15.79 <class 'float'>\n"
     ]
    }
   ],
   "source": [
    "시가총액 = 298\n",
    "현재가 = 50000\n",
    "PER = 15.79\n",
    "print(시가총액, type(시가총액))\n",
    "print(현재가, type(현재가))\n",
    "print(PER, type(PER))"
   ]
  },
  {
   "cell_type": "code",
   "execution_count": null,
   "id": "aa64301a-1f28-4f61-b6d6-77bcc2fc87b6",
   "metadata": {},
   "outputs": [],
   "source": [
    "# 13. 변수 s와 t에는 각각 문자열이 바인딩\n",
    "# >> s = \"hello\"\n",
    "# >> t = \"python\"\n",
    "# 두 변수를 이용하여 아래와 같이 출력"
   ]
  },
  {
   "cell_type": "code",
   "execution_count": 33,
   "id": "424db1d2-48b5-4c63-8759-8f9cc8b6b33a",
   "metadata": {},
   "outputs": [
    {
     "name": "stdout",
     "output_type": "stream",
     "text": [
      "hello! python\n"
     ]
    }
   ],
   "source": [
    "s = \"hello\"\n",
    "t = \"python\"\n",
    "print(s+\"!\", t)"
   ]
  },
  {
   "cell_type": "code",
   "execution_count": null,
   "id": "6ba44551-05f8-4d55-96f4-61965cca2fa5",
   "metadata": {},
   "outputs": [],
   "source": [
    "# 14. 아래 코드의 실행 결과를 예상\n",
    "# 2 + 2 * 3 "
   ]
  },
  {
   "cell_type": "code",
   "execution_count": null,
   "id": "3b5d1d5c-0a2f-4164-8d31-8a3298133de8",
   "metadata": {},
   "outputs": [],
   "source": [
    "8"
   ]
  },
  {
   "cell_type": "code",
   "execution_count": 34,
   "id": "fa331935-8408-4e0d-ac98-0086e1ab1cf8",
   "metadata": {},
   "outputs": [
    {
     "data": {
      "text/plain": [
       "8"
      ]
     },
     "execution_count": 34,
     "metadata": {},
     "output_type": "execute_result"
    }
   ],
   "source": [
    "2 + 2 * 3"
   ]
  },
  {
   "cell_type": "code",
   "execution_count": null,
   "id": "5f5d6031-1adc-4789-934e-c81a54e6e2eb",
   "metadata": {},
   "outputs": [],
   "source": [
    "# 15. 변수 a에는 128 숫자가 바인딩돼 있어 type 함수가 int (정수)형임을 알려줌\n",
    "# >> a = 128\n",
    "# >> print (type(a))\n",
    "# <class 'int'>\n",
    "\n",
    "# 아래 변수에 바인딩된 값의 타입을 판별\n",
    "# >> a = \"132\""
   ]
  },
  {
   "cell_type": "code",
   "execution_count": 35,
   "id": "5fbf3a08-5ee4-4f94-8dc6-222798e95f98",
   "metadata": {},
   "outputs": [
    {
     "name": "stdout",
     "output_type": "stream",
     "text": [
      "132 <class 'str'>\n"
     ]
    }
   ],
   "source": [
    "a = \"132\"\n",
    "print(a, type(a))"
   ]
  },
  {
   "cell_type": "code",
   "execution_count": 36,
   "id": "d6d379a2-123f-4626-82a3-e22b7875b3e1",
   "metadata": {},
   "outputs": [
    {
     "name": "stdout",
     "output_type": "stream",
     "text": [
      "<class 'str'>\n"
     ]
    }
   ],
   "source": [
    "a = \"132\"\n",
    "print(type(a))"
   ]
  },
  {
   "cell_type": "code",
   "execution_count": null,
   "id": "d3306d7d-78fb-45a1-b7dc-60c7c431beb5",
   "metadata": {},
   "outputs": [],
   "source": [
    "# 16. 문자열 '720'를 정수형으로 변환"
   ]
  },
  {
   "cell_type": "code",
   "execution_count": 43,
   "id": "94f4207d-f8bf-4f63-9ef1-37d72c62f265",
   "metadata": {},
   "outputs": [
    {
     "name": "stdout",
     "output_type": "stream",
     "text": [
      "720 <class 'int'>\n"
     ]
    }
   ],
   "source": [
    "num_str = \"720\"\n",
    "num_int = int(num_str)\n",
    "print(num_int, type(num_int))"
   ]
  },
  {
   "cell_type": "code",
   "execution_count": null,
   "id": "fa97449e-6d77-4f32-9fc2-bf2578d6e249",
   "metadata": {},
   "outputs": [],
   "source": [
    "# 17. 정수 100을 문자열 '100'으로 변환\n",
    "# num = 100"
   ]
  },
  {
   "cell_type": "code",
   "execution_count": 4,
   "id": "002ed63c-d981-4a2b-a809-5aaaac51c926",
   "metadata": {},
   "outputs": [
    {
     "name": "stdout",
     "output_type": "stream",
     "text": [
      "100 <class 'str'>\n"
     ]
    }
   ],
   "source": [
    "num_int = 100\n",
    "result = str(num_int)\n",
    "print(result, type(result))"
   ]
  },
  {
   "cell_type": "code",
   "execution_count": null,
   "id": "9fde3342-5e34-4cf1-9a75-cfe6bea26233",
   "metadata": {},
   "outputs": [],
   "source": [
    "18. 문자열 \"15.79\"를 실수(float) 타입으로 변환"
   ]
  },
  {
   "cell_type": "code",
   "execution_count": 64,
   "id": "aa950c34-f0fd-41bd-8a3f-066a39b38187",
   "metadata": {},
   "outputs": [
    {
     "name": "stdout",
     "output_type": "stream",
     "text": [
      "15.79 <class 'float'>\n"
     ]
    }
   ],
   "source": [
    "num_str = \"15.79\"\n",
    "result = float(num_str)\n",
    "print(date, type(result))"
   ]
  },
  {
   "cell_type": "code",
   "execution_count": null,
   "id": "c49ca57a-6d2b-4000-ac44-78e8b8dd48fa",
   "metadata": {},
   "outputs": [],
   "source": [
    "# 19. year라는 변수가 문자열 타입의 연도를 바인딩\n",
    "# 이를 정수로 변환한 후 최근 3년의 연도를 화면에 출력\n",
    "# year = \"2020\""
   ]
  },
  {
   "cell_type": "code",
   "execution_count": 67,
   "id": "db263720-4b76-4134-be52-d4fae1303ea0",
   "metadata": {},
   "outputs": [
    {
     "name": "stdout",
     "output_type": "stream",
     "text": [
      "2019\n",
      "2018\n",
      "2017\n"
     ]
    }
   ],
   "source": [
    "year = \"2020\"\n",
    "print(int(year)-1)\n",
    "print(int(year)-2)\n",
    "print(int(year)-3)"
   ]
  },
  {
   "cell_type": "code",
   "execution_count": null,
   "id": "1d15d334-fb13-4d94-a941-4c9c69e84f78",
   "metadata": {},
   "outputs": [],
   "source": [
    "# 20. 에이컨이 월 48,584원에 무이자 36개월의 조건으로 홈쇼핑에서 판매\n",
    "# 총 금액은 계산한 후 이를 화면에 출력"
   ]
  },
  {
   "cell_type": "code",
   "execution_count": 68,
   "id": "81075543-c79d-4f21-80cd-bc8862356e63",
   "metadata": {},
   "outputs": [
    {
     "name": "stdout",
     "output_type": "stream",
     "text": [
      "1749024\n"
     ]
    }
   ],
   "source": [
    "con = 48584\n",
    "총금액 = con * 36\n",
    "print(총금액)"
   ]
  },
  {
   "cell_type": "markdown",
   "id": "ce986061-f0ec-417e-b639-85b195e30a25",
   "metadata": {},
   "source": [
    "## 파이썬 문자열 21~30"
   ]
  },
  {
   "cell_type": "code",
   "execution_count": null,
   "id": "9d9a84a4-5b8b-4572-8017-bbea8117bfb3",
   "metadata": {},
   "outputs": [],
   "source": [
    "# 21. letters가 바인딩하는 문자열에서 첫번째와 세번째 문자를 출력\n",
    "# letters = 'python'"
   ]
  },
  {
   "cell_type": "code",
   "execution_count": 74,
   "id": "023a4469-d608-465a-b63b-195b5dd1fff5",
   "metadata": {},
   "outputs": [
    {
     "name": "stdout",
     "output_type": "stream",
     "text": [
      "p t\n"
     ]
    }
   ],
   "source": [
    "let = 'python'\n",
    "print(let[0],let[2])"
   ]
  },
  {
   "cell_type": "code",
   "execution_count": null,
   "id": "bbc6c353-1b39-4df5-971c-2b8ff4ae93b9",
   "metadata": {},
   "outputs": [],
   "source": [
    "# 22. 자동차 번호가 다음과 같을 때 뒤에 4자리만 출력\n",
    "# license_plate = \"24가 2210\""
   ]
  },
  {
   "cell_type": "code",
   "execution_count": 77,
   "id": "eb276e06-b500-49cc-a414-7c005800eade",
   "metadata": {},
   "outputs": [
    {
     "name": "stdout",
     "output_type": "stream",
     "text": [
      "2210\n"
     ]
    }
   ],
   "source": [
    "lp = \"24가 2210\"\n",
    "print(lp[-4:])"
   ]
  },
  {
   "cell_type": "code",
   "execution_count": null,
   "id": "9b6b8a8f-1d8b-4bcd-adcb-b0ba40208e99",
   "metadata": {},
   "outputs": [],
   "source": [
    "# 23. 아래의 문자열에서 '홀' 만 출력\n",
    "# string = \"홀짝홀짝홀짝\""
   ]
  },
  {
   "cell_type": "code",
   "execution_count": 81,
   "id": "db223b4b-2771-4a86-8b19-6fbd3746b263",
   "metadata": {},
   "outputs": [
    {
     "name": "stdout",
     "output_type": "stream",
     "text": [
      "홀홀홀\n"
     ]
    }
   ],
   "source": [
    "string = \"홀짝홀짝홀짝\"\n",
    "print(string[::2])"
   ]
  },
  {
   "cell_type": "code",
   "execution_count": null,
   "id": "0727929e-53a1-47fc-9bfa-25af9313b950",
   "metadata": {},
   "outputs": [],
   "source": [
    "# 24. 문자열을 거꾸로 뒤집어 출력\n",
    "# string = \"PYTHON\""
   ]
  },
  {
   "cell_type": "code",
   "execution_count": 82,
   "id": "c8517a05-56b9-4966-bc1a-7e5c29be8fdf",
   "metadata": {},
   "outputs": [
    {
     "name": "stdout",
     "output_type": "stream",
     "text": [
      "PYTHON\n"
     ]
    }
   ],
   "source": [
    "string = \"PYTHON\"\n",
    "print(string[::1])"
   ]
  },
  {
   "cell_type": "code",
   "execution_count": 83,
   "id": "7973f488-7b9e-453d-a439-556b5fccf924",
   "metadata": {},
   "outputs": [
    {
     "name": "stdout",
     "output_type": "stream",
     "text": [
      "NOHTYP\n"
     ]
    }
   ],
   "source": [
    "string = \"PYTHON\"\n",
    "print(string[::-1])"
   ]
  },
  {
   "cell_type": "code",
   "execution_count": null,
   "id": "56b12a60-e0f5-4929-9d05-dc8aea2e014d",
   "metadata": {},
   "outputs": [],
   "source": [
    "# 25. 전화번호에서 하이푼 ('-')을 제거하고 출력\n",
    "# phone_number = \"010-1111-2222\""
   ]
  },
  {
   "cell_type": "code",
   "execution_count": 87,
   "id": "596e30af-d9b3-4ccc-80b8-48b2a427846e",
   "metadata": {},
   "outputs": [
    {
     "name": "stdout",
     "output_type": "stream",
     "text": [
      "010 1111 2222\n"
     ]
    }
   ],
   "source": [
    "phone_number = \"010-1111-2222\"\n",
    "PN = phone_number.replace('-',' ')\n",
    "print(PN)"
   ]
  },
  {
   "cell_type": "code",
   "execution_count": null,
   "id": "b4d4306f-08e9-4382-a4a4-258125021563",
   "metadata": {},
   "outputs": [],
   "source": [
    "# 26. 25번 문제의 전화번호를 아래와 같이 모두 붙여 출력"
   ]
  },
  {
   "cell_type": "code",
   "execution_count": 89,
   "id": "1acf3cdd-6027-45dc-82ff-29563e1b5da9",
   "metadata": {},
   "outputs": [
    {
     "ename": "SyntaxError",
     "evalue": "leading zeros in decimal integer literals are not permitted; use an 0o prefix for octal integers (1266974127.py, line 1)",
     "output_type": "error",
     "traceback": [
      "\u001b[1;36m  Cell \u001b[1;32mIn[89], line 1\u001b[1;36m\u001b[0m\n\u001b[1;33m    PN = 010 1111 2222\u001b[0m\n\u001b[1;37m         ^\u001b[0m\n\u001b[1;31mSyntaxError\u001b[0m\u001b[1;31m:\u001b[0m leading zeros in decimal integer literals are not permitted; use an 0o prefix for octal integers\n"
     ]
    }
   ],
   "source": [
    "PN = 010 1111 2222\n",
    "PN2 = PN.replace(' ','')\n",
    "print(PN2)\n",
    "# 공백에서 공백 없는걸로 대체는 안되는건가..?"
   ]
  },
  {
   "cell_type": "code",
   "execution_count": 90,
   "id": "e13a64a6-c9b2-45e2-aad8-0b55cfd421de",
   "metadata": {},
   "outputs": [
    {
     "name": "stdout",
     "output_type": "stream",
     "text": [
      "01011112222\n"
     ]
    }
   ],
   "source": [
    "phone_number = \"010-1111-2222\"\n",
    "PN3 = phone_number.replace('-','')\n",
    "print(PN3)"
   ]
  },
  {
   "cell_type": "code",
   "execution_count": null,
   "id": "6801bf2b-41c9-4477-a003-206543a9b300",
   "metadata": {},
   "outputs": [],
   "source": [
    "# 27.url 에 저장된 웹 페이지 주소에서 도메인을 출력\n",
    "# url = \"http://sharebook.kr\""
   ]
  },
  {
   "cell_type": "code",
   "execution_count": 100,
   "id": "daed1974-2f74-4f8a-8335-bbb061d90439",
   "metadata": {},
   "outputs": [
    {
     "name": "stdout",
     "output_type": "stream",
     "text": [
      "kr\n"
     ]
    }
   ],
   "source": [
    "url = \"http://sharebook.kr\"\n",
    "print(url[-2:])"
   ]
  },
  {
   "cell_type": "code",
   "execution_count": 101,
   "id": "76e994c8-2e43-493c-8ea6-691916f4e810",
   "metadata": {},
   "outputs": [
    {
     "name": "stdout",
     "output_type": "stream",
     "text": [
      "kr\n"
     ]
    }
   ],
   "source": [
    "url = \"http://sharebook.kr\"\n",
    "url_split = url.split('.')\n",
    "print(url_split[-1])"
   ]
  },
  {
   "cell_type": "code",
   "execution_count": null,
   "id": "935ceb46-ec5f-4c30-b971-f8bcf6a6fd48",
   "metadata": {},
   "outputs": [],
   "source": [
    "# 28. 아래 코드의 실행 결과를 예상\n",
    "# >> lang = 'python'\n",
    "# >> lang[0] = 'P'\n",
    "# >> print(lang)"
   ]
  },
  {
   "cell_type": "code",
   "execution_count": 102,
   "id": "3879f94b-ac47-409c-8b38-dd01d6651270",
   "metadata": {},
   "outputs": [
    {
     "ename": "TypeError",
     "evalue": "'str' object does not support item assignment",
     "output_type": "error",
     "traceback": [
      "\u001b[1;31m---------------------------------------------------------------------------\u001b[0m",
      "\u001b[1;31mTypeError\u001b[0m                                 Traceback (most recent call last)",
      "Cell \u001b[1;32mIn[102], line 2\u001b[0m\n\u001b[0;32m      1\u001b[0m lang \u001b[38;5;241m=\u001b[39m \u001b[38;5;124m'\u001b[39m\u001b[38;5;124mpython\u001b[39m\u001b[38;5;124m'\u001b[39m\n\u001b[1;32m----> 2\u001b[0m lang[\u001b[38;5;241m0\u001b[39m] \u001b[38;5;241m=\u001b[39m \u001b[38;5;124m'\u001b[39m\u001b[38;5;124mP\u001b[39m\u001b[38;5;124m'\u001b[39m\n\u001b[0;32m      3\u001b[0m \u001b[38;5;28mprint\u001b[39m(lang)\n",
      "\u001b[1;31mTypeError\u001b[0m: 'str' object does not support item assignment"
     ]
    }
   ],
   "source": [
    "lang = 'python'\n",
    "lang[0] = 'P'\n",
    "print(lang)\n",
    "# 문자열 수정 불가"
   ]
  },
  {
   "cell_type": "code",
   "execution_count": null,
   "id": "fef60e27-85af-4a89-97e3-77be68e37050",
   "metadata": {},
   "outputs": [],
   "source": [
    "# 29. 아래 문자열에서 소문자 'a'를 대문자 'A'로 변경\n",
    "# string = 'abcdfe2a354a32a'"
   ]
  },
  {
   "cell_type": "code",
   "execution_count": 104,
   "id": "175e9956-c897-41ea-b7a1-6d0a4d9952f5",
   "metadata": {},
   "outputs": [
    {
     "name": "stdout",
     "output_type": "stream",
     "text": [
      "Abcdfe2A354A32A\n"
     ]
    }
   ],
   "source": [
    "string = 'abcdfe2a354a32a'\n",
    "string = string.replace('a','A')\n",
    "print(string)"
   ]
  },
  {
   "cell_type": "code",
   "execution_count": null,
   "id": "4acbce4e-f72e-4ee7-976c-4029561f23fb",
   "metadata": {},
   "outputs": [],
   "source": [
    "# 30. 아래 코드의 실행 결과를 예상\n",
    "# >> string = 'abcd'\n",
    "# >> string.replace('b', 'B')\n",
    "# >> print(string)"
   ]
  },
  {
   "cell_type": "code",
   "execution_count": null,
   "id": "f894b006-dd1b-4e43-b4f5-4dd668344b1d",
   "metadata": {},
   "outputs": [],
   "source": [
    "abcd\n",
    "# 문자열 변경 불가"
   ]
  },
  {
   "cell_type": "code",
   "execution_count": 105,
   "id": "5a65f59d-226a-43ba-87e9-b37752b92c8c",
   "metadata": {},
   "outputs": [
    {
     "name": "stdout",
     "output_type": "stream",
     "text": [
      "abcd\n"
     ]
    }
   ],
   "source": [
    "string = 'abcd'\n",
    "string.replace('b', 'B')\n",
    "print(string)"
   ]
  },
  {
   "cell_type": "markdown",
   "id": "ee646079-8005-402f-a52e-6cb5e17c3ca2",
   "metadata": {},
   "source": [
    "## 파이썬 문자열 31~40"
   ]
  },
  {
   "cell_type": "code",
   "execution_count": null,
   "id": "b7b87208-9067-46c3-b0a2-5c3a3efd8368",
   "metadata": {},
   "outputs": [],
   "source": [
    "# 31. 아래 코드의 실행 결과를 예상\n",
    "# >> a = \"3\"\n",
    "# >> b = \"4\"\n",
    "# >> print(a + b)"
   ]
  },
  {
   "cell_type": "code",
   "execution_count": null,
   "id": "3c27357d-ec6b-415d-bcf3-b8f95a5c52b3",
   "metadata": {},
   "outputs": [],
   "source": [
    "34"
   ]
  },
  {
   "cell_type": "code",
   "execution_count": 106,
   "id": "a6d21d9c-7dc0-494a-bafb-1870ec2e7c5f",
   "metadata": {},
   "outputs": [
    {
     "name": "stdout",
     "output_type": "stream",
     "text": [
      "34\n"
     ]
    }
   ],
   "source": [
    "a = \"3\"\n",
    "b = \"4\"\n",
    "print(a + b)"
   ]
  },
  {
   "cell_type": "code",
   "execution_count": null,
   "id": "502d9fa0-e0e9-47e9-b33f-9a3a31553b29",
   "metadata": {},
   "outputs": [],
   "source": [
    "# 32. 아래 코드의 실행 결과를 예상\n",
    "# print(\"Hi\" * 3)"
   ]
  },
  {
   "cell_type": "code",
   "execution_count": null,
   "id": "e2e6ce81-6527-4b7d-b301-013a921d279e",
   "metadata": {},
   "outputs": [],
   "source": [
    "HiHiHi"
   ]
  },
  {
   "cell_type": "code",
   "execution_count": 107,
   "id": "4bfb86fe-1cbe-4395-87c1-cfcf541b75f8",
   "metadata": {},
   "outputs": [
    {
     "name": "stdout",
     "output_type": "stream",
     "text": [
      "HiHiHi\n"
     ]
    }
   ],
   "source": [
    "print(\"Hi\" * 3)"
   ]
  },
  {
   "cell_type": "code",
   "execution_count": null,
   "id": "9b562d57-c40c-4a0f-b97a-936018e7f057",
   "metadata": {},
   "outputs": [],
   "source": [
    "# 화면에 '-'를 80개 출력"
   ]
  },
  {
   "cell_type": "code",
   "execution_count": 109,
   "id": "7ecdfa36-f408-4383-8588-74b12ac032ef",
   "metadata": {},
   "outputs": [
    {
     "name": "stdout",
     "output_type": "stream",
     "text": [
      "--------------------------------------------------------------------------------\n"
     ]
    }
   ],
   "source": [
    "print('-'*80)"
   ]
  },
  {
   "cell_type": "code",
   "execution_count": null,
   "id": "51f644c1-d777-42b0-b5b5-926a6c663a85",
   "metadata": {},
   "outputs": [],
   "source": [
    "# 34. 변수에 다음과 같은 문자열이 바인딩\n",
    "# >>> t1 = 'python'\n",
    "# >>> t2 = 'java'\n",
    "# 변수에 문자열 더하기와 문자열 곱하기를 사용해서 아래와 같이 출력\n",
    "# python java python java python java python java"
   ]
  },
  {
   "cell_type": "code",
   "execution_count": 115,
   "id": "fd2b9598-2756-4f71-9249-ecf577cdb709",
   "metadata": {},
   "outputs": [
    {
     "name": "stdout",
     "output_type": "stream",
     "text": [
      "python java python java python java python java \n"
     ]
    }
   ],
   "source": [
    "t1 = 'python'\n",
    "t2 = 'java'\n",
    "print((t1 + ' ' + t2 + ' ') * 4)"
   ]
  },
  {
   "cell_type": "code",
   "execution_count": 116,
   "id": "c8324273-01c3-4c5c-af51-b8fc84c7dff8",
   "metadata": {},
   "outputs": [
    {
     "name": "stdout",
     "output_type": "stream",
     "text": [
      "python java python java python java python java \n"
     ]
    }
   ],
   "source": [
    "t1 = \"python\"\n",
    "t2 = \"java\"\n",
    "t3 = t1 + ' ' + t2 + ' '\n",
    "print(t3 * 4)"
   ]
  },
  {
   "cell_type": "code",
   "execution_count": null,
   "id": "37ab3280-4bb5-47d3-af40-af0796461030",
   "metadata": {},
   "outputs": [],
   "source": [
    "# 35. 문자열과 정수가 바인딩되어 있을 때 % formatting을 사용해서 다음과 같이 출력\n",
    "# name1 = \"김민수\" \n",
    "# age1 = 10\n",
    "# name2 = \"이철희\"\n",
    "# age2 = 13\n",
    "# 이름: 김민수 나이: 10\n",
    "# 이름: 이철희 나이: 13"
   ]
  },
  {
   "cell_type": "code",
   "execution_count": 125,
   "id": "5cf3fe2f-0cd3-4c55-8c9d-5fbb53f61e67",
   "metadata": {},
   "outputs": [
    {
     "name": "stdout",
     "output_type": "stream",
     "text": [
      "이름: 김민수 나이: 10\n",
      "이름: 이철희 나이: 13\n"
     ]
    }
   ],
   "source": [
    "name1 = \"김민수\" \n",
    "age1 = 10\n",
    "name2 = \"이철희\"\n",
    "age2 = 13\n",
    "print(\"이름: %s 나이: %d\" % (name1,age1))\n",
    "print(\"이름: %s 나이: %d\" % (name2,age2))\n",
    "# %"
   ]
  },
  {
   "cell_type": "code",
   "execution_count": null,
   "id": "c1ed0405-82cd-4d19-bb9b-5a0bfe5f9f52",
   "metadata": {},
   "outputs": [],
   "source": [
    "# 36. format( ) 메서드를 사용해서 035번 문제를 다시 풀기"
   ]
  },
  {
   "cell_type": "code",
   "execution_count": 132,
   "id": "73774647-3c5f-47dd-bad1-9554840e1241",
   "metadata": {},
   "outputs": [
    {
     "name": "stdout",
     "output_type": "stream",
     "text": [
      "이름: 김민수 나이: 10 \n",
      "이름: 이철희 나이: 13 \n"
     ]
    }
   ],
   "source": [
    "name1 = \"김민수\" \n",
    "age1 = 10\n",
    "name2 = \"이철희\"\n",
    "age2 = 13\n",
    "print(\"이름: {} 나이: {} \".format(name1, age1))\n",
    "print(\"이름: {} 나이: {} \".format(name2, age2))"
   ]
  },
  {
   "cell_type": "code",
   "execution_count": null,
   "id": "72e960b9-0dcb-43aa-b7f3-31dcd4bbfd81",
   "metadata": {},
   "outputs": [],
   "source": [
    "# 37. 파이썬 3.6부터 지원하는 f-string을 사용해서 035번 문제를 다시 풀어"
   ]
  },
  {
   "cell_type": "code",
   "execution_count": 135,
   "id": "96666e79-301f-4890-a98e-8e0daa375fef",
   "metadata": {},
   "outputs": [
    {
     "name": "stdout",
     "output_type": "stream",
     "text": [
      "이름: 김민수 나이 10\n",
      "이름: 이철희 나이 13\n"
     ]
    }
   ],
   "source": [
    "name1 = \"김민수\" \n",
    "age1 = 10\n",
    "name2 = \"이철희\"\n",
    "age2 = 13\n",
    "print(f'이름: {name1} 나이 {age1}')\n",
    "print(f'이름: {name2} 나이 {age2}')"
   ]
  },
  {
   "cell_type": "code",
   "execution_count": null,
   "id": "12767367-86ff-43a3-8c3b-67e13461daa8",
   "metadata": {},
   "outputs": [],
   "source": [
    "# 38. 삼성전자의 상장주식수가 다음과 같습니다. 컴마를 제거한 후 이를 정수 타입으로 변환\n",
    "# 상장주식수 = \"5,969,782,550\""
   ]
  },
  {
   "cell_type": "code",
   "execution_count": 143,
   "id": "42d75c43-25a9-4f5c-aadb-bc2e08feb9d4",
   "metadata": {},
   "outputs": [
    {
     "name": "stdout",
     "output_type": "stream",
     "text": [
      "5969782550 <class 'int'>\n"
     ]
    }
   ],
   "source": [
    "상장주식수 = \"5,969,782,550\"\n",
    "제거 = 상장주식수.replace(\",\",\"\")\n",
    "int변환 = int(제거)\n",
    "print(int변환, type(int변환))\n",
    "# ,제거 라고 하면 안돼서 제거라고 변경 \n",
    "# 인덱스,type(인덱스)"
   ]
  },
  {
   "cell_type": "code",
   "execution_count": 144,
   "id": "b9c0b224-34b6-44ac-8cf4-3b0a6ab0912b",
   "metadata": {},
   "outputs": [
    {
     "name": "stdout",
     "output_type": "stream",
     "text": [
      "5969782550 <class 'int'>\n"
     ]
    }
   ],
   "source": [
    "상장주식수 = \"5,969,782,550\"\n",
    "컴마제거 = 상장주식수.replace(\",\", \"\")\n",
    "타입변환 = int(컴마제거)\n",
    "print(타입변환, type(타입변환))"
   ]
  },
  {
   "cell_type": "code",
   "execution_count": null,
   "id": "31fd3ff6-7c12-4ea8-b7ca-81db39fff1e0",
   "metadata": {},
   "outputs": [],
   "source": [
    "# 39. 다음과 같은 문자열에서 '2020/03'만 출력\n",
    "# 분기 = \"2020/03(E) (IFRS연결)\""
   ]
  },
  {
   "cell_type": "code",
   "execution_count": 163,
   "id": "cf550b25-ceca-48a5-b7f9-321dc7e0e962",
   "metadata": {},
   "outputs": [
    {
     "name": "stdout",
     "output_type": "stream",
     "text": [
      "2020/03\n"
     ]
    }
   ],
   "source": [
    "분기 = \"2020/03(E) (IFRS연결)\"\n",
    "print(분기[:7])"
   ]
  },
  {
   "cell_type": "code",
   "execution_count": null,
   "id": "cabfe795-e607-4bf1-85e3-0d768045b8fd",
   "metadata": {},
   "outputs": [],
   "source": [
    "# 40. 문자열의 좌우의 공백이 있을 때 이를 제거\n",
    "# data = \"   삼성전자    \""
   ]
  },
  {
   "cell_type": "code",
   "execution_count": 165,
   "id": "6a10ef90-3001-4169-9ca9-5e6bc6e214da",
   "metadata": {},
   "outputs": [
    {
     "name": "stdout",
     "output_type": "stream",
     "text": [
      "삼성전자\n"
     ]
    }
   ],
   "source": [
    "data = \"   삼성전자    \"\n",
    "print(data.strip())"
   ]
  },
  {
   "cell_type": "code",
   "execution_count": 166,
   "id": "d0df7fc9-efea-4428-966e-2421a7560edd",
   "metadata": {},
   "outputs": [
    {
     "name": "stdout",
     "output_type": "stream",
     "text": [
      "삼성전자\n"
     ]
    }
   ],
   "source": [
    "data = \"   삼성전자    \"\n",
    "data1 = data.strip()\n",
    "print(data1)"
   ]
  },
  {
   "cell_type": "markdown",
   "id": "72368f1c-ec97-488a-8fb7-0f3496087339",
   "metadata": {},
   "source": [
    "## 파이썬 문자열 41~50"
   ]
  },
  {
   "cell_type": "code",
   "execution_count": null,
   "id": "3fcfaa8f-94e2-4dd9-9432-1b6eaa81daa9",
   "metadata": {},
   "outputs": [],
   "source": [
    "# 41. 대문자 BTC_KRW로 변경\n",
    "# ticker = \"btc_krw\""
   ]
  },
  {
   "cell_type": "code",
   "execution_count": 169,
   "id": "f852afb1-8fe4-459a-92d0-cca56a0d24e2",
   "metadata": {},
   "outputs": [
    {
     "name": "stdout",
     "output_type": "stream",
     "text": [
      "BTC_KRW\n"
     ]
    }
   ],
   "source": [
    "ticker = \"btc_krw\"\n",
    "print(ticker.upper())"
   ]
  },
  {
   "cell_type": "code",
   "execution_count": 170,
   "id": "029da123-456f-4bd9-9ecd-7e01fd8f4229",
   "metadata": {},
   "outputs": [
    {
     "name": "stdout",
     "output_type": "stream",
     "text": [
      "BTC_KRW\n"
     ]
    }
   ],
   "source": [
    "ticker = \"btc_krw\"\n",
    "ticker1 = ticker.upper()\n",
    "print(ticker1)"
   ]
  },
  {
   "cell_type": "code",
   "execution_count": null,
   "id": "9975d4dd-4a58-4a09-99cb-96f065db04f2",
   "metadata": {},
   "outputs": [],
   "source": [
    "# 42. 소문자 btc_krw로 변경\n",
    "# ticker = \"BTC_KRW\""
   ]
  },
  {
   "cell_type": "code",
   "execution_count": 172,
   "id": "93b87b96-b47c-4bdb-89c7-db26c326796c",
   "metadata": {},
   "outputs": [
    {
     "name": "stdout",
     "output_type": "stream",
     "text": [
      "btc_krw\n"
     ]
    }
   ],
   "source": [
    "ticker = \"BTC_KRW\"\n",
    "ticker2 = ticker.lower()\n",
    "print(ticker2)"
   ]
  },
  {
   "cell_type": "code",
   "execution_count": null,
   "id": "77f4e696-7bf5-4118-b4b6-f7f673c608aa",
   "metadata": {},
   "outputs": [],
   "source": [
    "# 43. 'hello'가 있을 때 이를 'Hello'로 변경"
   ]
  },
  {
   "cell_type": "code",
   "execution_count": 177,
   "id": "84148799-bece-4be9-8355-fb998c8df067",
   "metadata": {},
   "outputs": [
    {
     "name": "stdout",
     "output_type": "stream",
     "text": [
      "Hello\n"
     ]
    }
   ],
   "source": [
    "a = \"hello\"\n",
    "a = a.capitalize()\n",
    "print(a)"
   ]
  },
  {
   "cell_type": "code",
   "execution_count": null,
   "id": "21581c22-70e2-4dbc-8884-50401ef6079b",
   "metadata": {},
   "outputs": [],
   "source": [
    "# 44.  문자열로 저장되어 있을 때 endswith 메서드를 사용해서 \n",
    "# 파일 이름이 'xlsx'로 끝나는지 확인\n",
    "# file_name = \"보고서.xlsx\""
   ]
  },
  {
   "cell_type": "code",
   "execution_count": 180,
   "id": "af4336ec-1852-448a-a357-444d5b9cb75b",
   "metadata": {},
   "outputs": [
    {
     "data": {
      "text/plain": [
       "True"
      ]
     },
     "execution_count": 180,
     "metadata": {},
     "output_type": "execute_result"
    }
   ],
   "source": [
    "file_name = \"보고서.xlsx\"\n",
    "file_name.endswith(\"xlsx\")"
   ]
  },
  {
   "cell_type": "code",
   "execution_count": null,
   "id": "27750623-ae98-4c09-b876-dc8f5595cd67",
   "metadata": {},
   "outputs": [],
   "source": [
    "# 45.  문자열로 저장되어 있을 때 endswith 메서드를 사용해서 \n",
    "# 파일 이름이 'xlsx' 또는 'xls'로 끝나는지 확인"
   ]
  },
  {
   "cell_type": "code",
   "execution_count": 186,
   "id": "b1f50b66-fa1d-4f70-b217-0ed49642d852",
   "metadata": {},
   "outputs": [
    {
     "data": {
      "text/plain": [
       "True"
      ]
     },
     "execution_count": 186,
     "metadata": {},
     "output_type": "execute_result"
    }
   ],
   "source": [
    "file_name = \"보고서.xlsx\"\n",
    "file_name.endswith(\"xlsx\" or \"xls\")"
   ]
  },
  {
   "cell_type": "code",
   "execution_count": 187,
   "id": "065dc74a-40cb-42e4-97fd-63d3c63f2528",
   "metadata": {},
   "outputs": [
    {
     "data": {
      "text/plain": [
       "True"
      ]
     },
     "execution_count": 187,
     "metadata": {},
     "output_type": "execute_result"
    }
   ],
   "source": [
    "file_name = \"보고서.xlsx\"\n",
    "file_name.endswith((\"xlsx\", \"xls\"))"
   ]
  },
  {
   "cell_type": "code",
   "execution_count": null,
   "id": "b46e2e24-3ab9-4f47-aa7f-99f53c0160b4",
   "metadata": {},
   "outputs": [],
   "source": [
    "# 46. 문자열로 저장되어 있을 때 startswith 메서드를 사용해서 \n",
    "# 파일 이름이 '2020'로 시작하는지 확인\n",
    "# file_name = \"2020_보고서.xlsx\""
   ]
  },
  {
   "cell_type": "code",
   "execution_count": 188,
   "id": "a854950b-801a-4a92-a8d0-1a1b5f4cd1c6",
   "metadata": {},
   "outputs": [
    {
     "data": {
      "text/plain": [
       "True"
      ]
     },
     "execution_count": 188,
     "metadata": {},
     "output_type": "execute_result"
    }
   ],
   "source": [
    "file_name = \"2020_보고서.xlsx\"\n",
    "file_name.startswith(\"2020\")"
   ]
  },
  {
   "cell_type": "code",
   "execution_count": null,
   "id": "97fb4e11-abb1-45a3-b823-f2539914db06",
   "metadata": {},
   "outputs": [],
   "source": [
    "# 47. 공백을 기준으로 문자열을 나눠\n",
    "# a = \"hello world\""
   ]
  },
  {
   "cell_type": "code",
   "execution_count": 191,
   "id": "fced607e-19f6-45fa-9582-9db8c8c9b977",
   "metadata": {},
   "outputs": [
    {
     "data": {
      "text/plain": [
       "['hello', 'world']"
      ]
     },
     "execution_count": 191,
     "metadata": {},
     "output_type": "execute_result"
    }
   ],
   "source": [
    "a = \"hello world\"\n",
    "a.split(\" \")"
   ]
  },
  {
   "cell_type": "code",
   "execution_count": null,
   "id": "3202d5bb-9b5a-49fa-81ef-e4c9af029599",
   "metadata": {},
   "outputs": [],
   "source": [
    "# 48. btc와 krw로 나눠\n",
    "# ticker = \"btc_krw\""
   ]
  },
  {
   "cell_type": "code",
   "execution_count": 193,
   "id": "2ba33c34-4474-40e2-ac5a-2f56a76299f6",
   "metadata": {},
   "outputs": [
    {
     "data": {
      "text/plain": [
       "['btc', 'krw']"
      ]
     },
     "execution_count": 193,
     "metadata": {},
     "output_type": "execute_result"
    }
   ],
   "source": [
    "ticker = \"btc_krw\"\n",
    "ticker.split(\"_\")"
   ]
  },
  {
   "cell_type": "code",
   "execution_count": 194,
   "id": "92dc35a7-554c-461c-995b-6fd493c9515e",
   "metadata": {},
   "outputs": [
    {
     "data": {
      "text/plain": [
       "['2020', '05', '01']"
      ]
     },
     "execution_count": 194,
     "metadata": {},
     "output_type": "execute_result"
    }
   ],
   "source": [
    "# 49. 날짜를 표현하는 문자열이 있을 때 연도, 월, 일로 나눠\n",
    "date = \"2020-05-01\"\n",
    "date.split(\"-\")"
   ]
  },
  {
   "cell_type": "code",
   "execution_count": null,
   "id": "fdc379e1-45fd-4115-b1b4-8721ba4f097e",
   "metadata": {},
   "outputs": [],
   "source": [
    "# 50. 문자열의 오른쪽에 공백이 있을 때 이를 제거\n",
    "# data = \"039490     \""
   ]
  },
  {
   "cell_type": "code",
   "execution_count": 195,
   "id": "a17b2111-46cd-4902-b8d5-0e8108e9a546",
   "metadata": {},
   "outputs": [
    {
     "data": {
      "text/plain": [
       "'039490'"
      ]
     },
     "execution_count": 195,
     "metadata": {},
     "output_type": "execute_result"
    }
   ],
   "source": [
    "data = \"039490     \"\n",
    "data.rstrip()"
   ]
  },
  {
   "cell_type": "markdown",
   "id": "8805bb13-5822-4355-b4ce-3790385d349b",
   "metadata": {},
   "source": [
    "## 파이썬 리스트 51~60"
   ]
  },
  {
   "cell_type": "code",
   "execution_count": null,
   "id": "c030fdf5-318b-406c-a4ab-adc922cdea20",
   "metadata": {},
   "outputs": [],
   "source": [
    "# 51. 영화 제목을 movie_rank 이름의 리스트에 저장\n",
    "# 순위\t 영화\n",
    "# 1\t   닥터 스트레인지\n",
    "# 2\t   스플릿\n",
    "# 3\t   럭키"
   ]
  },
  {
   "cell_type": "code",
   "execution_count": 205,
   "id": "8e6437cb-9029-4398-9f98-0a603ea208a0",
   "metadata": {},
   "outputs": [
    {
     "name": "stdout",
     "output_type": "stream",
     "text": [
      "['닥터 스트레인지', '스플릿', '럭키']\n"
     ]
    }
   ],
   "source": [
    "movie_rank = [\"닥터 스트레인지\", \"스플릿\", \"럭키\"]\n",
    "print(movie_rank)"
   ]
  },
  {
   "cell_type": "code",
   "execution_count": null,
   "id": "81263f1d-cb30-488f-a24f-4dbaa6edbf5f",
   "metadata": {},
   "outputs": [],
   "source": [
    "# 52. movie_rank 리스트에 \"배트맨\"을 추가"
   ]
  },
  {
   "cell_type": "code",
   "execution_count": 206,
   "id": "1338a81c-b5e4-4d97-883c-1171525c5786",
   "metadata": {},
   "outputs": [
    {
     "name": "stdout",
     "output_type": "stream",
     "text": [
      "['닥터 스트레인지', '스플릿', '럭키', '배트맨']\n"
     ]
    }
   ],
   "source": [
    "movie_rank = [\"닥터 스트레인지\", \"스플릿\", \"럭키\"]\n",
    "movie_rank.append(\"배트맨\")\n",
    "print(movie_rank)"
   ]
  },
  {
   "cell_type": "code",
   "execution_count": null,
   "id": "f2a31cfc-6005-4055-9e01-f7e4ae91f6ae",
   "metadata": {},
   "outputs": [],
   "source": [
    "# 53.  movie_rank 리스트에는 아래와 같이 네 개의 영화 제목이 바인딩\n",
    "# \"슈퍼맨\"을 \"닥터 스트레인지\"와 \"스플릿\" 사이에 추가"
   ]
  },
  {
   "cell_type": "code",
   "execution_count": 210,
   "id": "75a6711f-43a8-4124-b709-d763e2f9758d",
   "metadata": {},
   "outputs": [
    {
     "name": "stdout",
     "output_type": "stream",
     "text": [
      "['닥터 스트레인지', '슈퍼맨', '스플릿', '럭키', '배트맨']\n"
     ]
    }
   ],
   "source": [
    "movie_rank = [\"닥터 스트레인지\", \"스플릿\", \"럭키\", \"배트맨\"]\n",
    "movie_rank.insert(1,\"슈퍼맨\")\n",
    "print(movie_rank)\n",
    "#appand와  insert 차이 구분 "
   ]
  },
  {
   "cell_type": "code",
   "execution_count": null,
   "id": "e45bc310-d533-4eec-a611-19aeecd48cf1",
   "metadata": {},
   "outputs": [],
   "source": [
    "# 54. movie_rank 리스트에서 '럭키'를 삭제"
   ]
  },
  {
   "cell_type": "code",
   "execution_count": 215,
   "id": "193f2823-db7d-4d54-929c-80f41c32334e",
   "metadata": {},
   "outputs": [
    {
     "name": "stdout",
     "output_type": "stream",
     "text": [
      "['닥터 스트레인지', '슈퍼맨', '스플릿', '배트맨']\n"
     ]
    }
   ],
   "source": [
    "movie_rank = [\"닥터 스트레인지\", \"슈퍼맨\", \"스플릿\", \"럭키\", \"배트맨\"]\n",
    "del movie_rank[3]\n",
    "print(movie_rank)"
   ]
  },
  {
   "cell_type": "code",
   "execution_count": null,
   "id": "a2e908bc-bbb0-4fa0-bd80-c0701c957783",
   "metadata": {},
   "outputs": [],
   "source": [
    "# 55.movie_rank 리스트에서 '스플릿' 과 '배트맨'을 를 삭제"
   ]
  },
  {
   "cell_type": "code",
   "execution_count": 217,
   "id": "b4bd85ed-13c6-413b-b94a-feeb75abce7e",
   "metadata": {},
   "outputs": [
    {
     "name": "stdout",
     "output_type": "stream",
     "text": [
      "['닥터 스트레인지', '슈퍼맨']\n"
     ]
    }
   ],
   "source": [
    "movie_rank = ['닥터 스트레인지', '슈퍼맨', '스플릿', '배트맨']\n",
    "del movie_rank[2]\n",
    "del movie_rank[2]\n",
    "print(movie_rank)"
   ]
  },
  {
   "cell_type": "code",
   "execution_count": null,
   "id": "96ad75e0-39d4-4ad1-8301-98565837a632",
   "metadata": {},
   "outputs": [],
   "source": [
    "# 56. lang1과 lang2의 원소를 모두 갖고 있는 langs 리스트를 만들어라\n",
    "# >> lang1 = [\"C\", \"C++\", \"JAVA\"]\n",
    "# >> lang2 = [\"Python\", \"Go\", \"C#\"]"
   ]
  },
  {
   "cell_type": "code",
   "execution_count": 219,
   "id": "be18b74e-4fcb-4fdc-92b7-0c2f92578cc3",
   "metadata": {},
   "outputs": [
    {
     "name": "stdout",
     "output_type": "stream",
     "text": [
      "['C', 'C++', 'JAVA', 'Python', 'Go', 'C#']\n"
     ]
    }
   ],
   "source": [
    "lang1 = [\"C\", \"C++\", \"JAVA\"]\n",
    "lang2 = [\"Python\", \"Go\", \"C#\"]\n",
    "langs = lang1 + lang2\n",
    "print(langs)"
   ]
  },
  {
   "cell_type": "code",
   "execution_count": null,
   "id": "b650342b-18bf-4197-a24a-67c5ae48700a",
   "metadata": {},
   "outputs": [],
   "source": [
    "# 57. 최댓값과 최솟값을 출력하라. (힌트: min(), max() 함수 사용)\n",
    "# nums = [1, 2, 3, 4, 5, 6, 7]"
   ]
  },
  {
   "cell_type": "code",
   "execution_count": 244,
   "id": "7adccead-b00d-471f-82d4-ed305ef28a25",
   "metadata": {},
   "outputs": [
    {
     "name": "stdout",
     "output_type": "stream",
     "text": [
      "max:  7\n",
      "min:  1\n"
     ]
    }
   ],
   "source": [
    "nums = [1, 2, 3, 4, 5, 6, 7]\n",
    "\n",
    "print(\"max: \", max(nums))\n",
    "print(\"min: \", min(nums))\n",
    "\n",
    "# python 'int' object is not callable 오류인 경우 \n",
    "# -> 예약어 sum(),max(),min()등 사용 시 발생\n",
    "# del max\n",
    "# del min \n",
    "# 해주고 난 후 다시 print 출력"
   ]
  },
  {
   "cell_type": "code",
   "execution_count": 245,
   "id": "5cf76630-a9e7-4b59-ae01-10f0412a1e28",
   "metadata": {},
   "outputs": [],
   "source": [
    "# 58. 리스트의 합을 출력\n",
    "# nums = [1, 2, 3, 4, 5]"
   ]
  },
  {
   "cell_type": "code",
   "execution_count": 246,
   "id": "d2ac9949-10a9-4c15-8521-2c1eda3514e6",
   "metadata": {},
   "outputs": [
    {
     "name": "stdout",
     "output_type": "stream",
     "text": [
      "15\n"
     ]
    }
   ],
   "source": [
    "nums = [1, 2, 3, 4, 5]\n",
    "print(sum(nums))"
   ]
  },
  {
   "cell_type": "code",
   "execution_count": null,
   "id": "fb60567d-9397-4595-9ab0-38f44924af45",
   "metadata": {},
   "outputs": [],
   "source": [
    "# 59. 저장된 데이터의 개수를 화면에 구해\n",
    "# cook = [\"피자\", \"김밥\", \"만두\", \"양념치킨\", \"족발\", \"피자\", \"김치만두\", \n",
    "#       \"쫄면\", \"소시지\", \"라면\", \"팥빙수\", \"김치전\"]"
   ]
  },
  {
   "cell_type": "code",
   "execution_count": 249,
   "id": "61219c44-a07d-4b98-a648-80ae5ff322f8",
   "metadata": {},
   "outputs": [
    {
     "name": "stdout",
     "output_type": "stream",
     "text": [
      "12\n"
     ]
    }
   ],
   "source": [
    "cook = [\"피자\", \"김밥\", \"만두\", \"양념치킨\", \"족발\", \"피자\", \"김치만두\", \"쫄면\", \"소시지\", \"라면\", \"팥빙수\", \"김치전\"]\n",
    "print(len(cook))"
   ]
  },
  {
   "cell_type": "code",
   "execution_count": 250,
   "id": "672d0503-9e8f-4a52-b0ea-ad8119147eb0",
   "metadata": {},
   "outputs": [],
   "source": [
    "# 60. 리스트의 평균을 출력 \n",
    "# nums = [1, 2, 3, 4, 5]"
   ]
  },
  {
   "cell_type": "code",
   "execution_count": 253,
   "id": "bf5c5bc1-f016-460d-ab52-52958273aa93",
   "metadata": {},
   "outputs": [
    {
     "name": "stdout",
     "output_type": "stream",
     "text": [
      "3.0\n"
     ]
    }
   ],
   "source": [
    "nums = [1, 2, 3, 4, 5]\n",
    "avg = sum(nums) / len(nums)\n",
    "print(avg)"
   ]
  },
  {
   "cell_type": "markdown",
   "id": "03a7a10e-ed98-4746-9634-ed1c6d40acc8",
   "metadata": {},
   "source": [
    "## 파이썬 리스트 61~70"
   ]
  },
  {
   "cell_type": "code",
   "execution_count": null,
   "id": "46945871-231b-4caf-9e75-2131d932fdf7",
   "metadata": {},
   "outputs": [],
   "source": [
    "# 61. price 변수에는 날짜와 종가 정보가 저장\n",
    "# 날짜 정보를 제외하고 가격 정보만을 출력하라. (힌트 : 슬라이싱)"
   ]
  },
  {
   "cell_type": "code",
   "execution_count": 254,
   "id": "f5a12d25-00be-4a9e-8fb4-8134290bbacb",
   "metadata": {},
   "outputs": [
    {
     "name": "stdout",
     "output_type": "stream",
     "text": [
      "[100, 130, 140, 150, 160, 170]\n"
     ]
    }
   ],
   "source": [
    "price = ['20180728', 100, 130, 140, 150, 160, 170]\n",
    "print(price[1:])"
   ]
  },
  {
   "cell_type": "code",
   "execution_count": null,
   "id": "e71410d4-eabb-4698-8da6-352ee7c1022f",
   "metadata": {},
   "outputs": [],
   "source": [
    "# 62.슬라이싱을 사용해서 홀수만 출력하라.\n",
    "# nums = [1, 2, 3, 4, 5, 6, 7, 8, 9, 10]"
   ]
  },
  {
   "cell_type": "code",
   "execution_count": 259,
   "id": "9942612a-9288-4646-a5d0-071a0fb69355",
   "metadata": {},
   "outputs": [
    {
     "name": "stdout",
     "output_type": "stream",
     "text": [
      "[1, 3, 5, 7, 9]\n"
     ]
    }
   ],
   "source": [
    "nums = [1, 2, 3, 4, 5, 6, 7, 8, 9, 10]\n",
    "print(nums[::2])"
   ]
  },
  {
   "cell_type": "code",
   "execution_count": null,
   "id": "e6f759ca-92a2-485a-8514-983fa4b9cf71",
   "metadata": {},
   "outputs": [],
   "source": [
    "# 63.슬라이싱을 사용해서 짝수만 출력하라.\n",
    "# nums = [1, 2, 3, 4, 5, 6, 7, 8, 9, 10]"
   ]
  },
  {
   "cell_type": "code",
   "execution_count": 260,
   "id": "0bf17073-8313-43c3-b9c4-e1d7b8057601",
   "metadata": {},
   "outputs": [
    {
     "name": "stdout",
     "output_type": "stream",
     "text": [
      "[2, 4, 6, 8, 10]\n"
     ]
    }
   ],
   "source": [
    "nums = [1, 2, 3, 4, 5, 6, 7, 8, 9, 10]\n",
    "print(nums[1::2])"
   ]
  },
  {
   "cell_type": "code",
   "execution_count": null,
   "id": "9f7253cf-982d-4da0-8cbf-401d97a53e19",
   "metadata": {},
   "outputs": [],
   "source": [
    "# 64. 슬라이싱을 사용해서 리스트의 숫자를 역 방향으로 출력\n",
    "# nums = [1, 2, 3, 4, 5]"
   ]
  },
  {
   "cell_type": "code",
   "execution_count": 262,
   "id": "c9ce8ea3-c0cf-45c4-86a3-8bd2e2964aa7",
   "metadata": {},
   "outputs": [
    {
     "name": "stdout",
     "output_type": "stream",
     "text": [
      "[5, 4, 3, 2, 1]\n"
     ]
    }
   ],
   "source": [
    "nums = [1, 2, 3, 4, 5]\n",
    "print(nums[::-1])"
   ]
  },
  {
   "cell_type": "code",
   "execution_count": null,
   "id": "202cd944-6393-445f-b893-b9f3a7e2549b",
   "metadata": {},
   "outputs": [],
   "source": [
    "# 65. interest 리스트에는 아래의 데이터가 바인딩\n",
    "# interest = ['삼성전자', 'LG전자', 'Naver']\n",
    "# interest 리스트를 사용하여 아래와 같이 화면에 출력\n",
    "# 출력 예시:\n",
    "# 삼성전자 Naver"
   ]
  },
  {
   "cell_type": "code",
   "execution_count": 263,
   "id": "78259f9f-2c08-4e43-a1b1-1a65707acc5b",
   "metadata": {},
   "outputs": [
    {
     "name": "stdout",
     "output_type": "stream",
     "text": [
      "삼성전자 Naver\n"
     ]
    }
   ],
   "source": [
    "interest = ['삼성전자', 'LG전자', 'Naver']\n",
    "print(interest[0],interest[2])"
   ]
  },
  {
   "cell_type": "code",
   "execution_count": null,
   "id": "99501c09-6043-4554-b8cc-454ec5b0ab46",
   "metadata": {},
   "outputs": [],
   "source": [
    "# 66. interest = ['삼성전자', 'LG전자', 'Naver', 'SK하이닉스', '미래에셋대우']\n",
    "# interest 리스트를 사용하여 아래와 같이 화면에 출력\n",
    "# 출력 예시:\n",
    "# 삼성전자 LG전자 Naver SK하이닉스 미래에셋대우"
   ]
  },
  {
   "cell_type": "code",
   "execution_count": 276,
   "id": "b626ec0a-27f5-4eb1-8565-f5746b7aba76",
   "metadata": {},
   "outputs": [
    {
     "name": "stdout",
     "output_type": "stream",
     "text": [
      "삼성전자 LG전자 Naver SK하이닉스 미래에셋대우\n"
     ]
    }
   ],
   "source": [
    "interest = ['삼성전자', 'LG전자', 'Naver', 'SK하이닉스', '미래에셋대우']\n",
    "print(\" \".join(interest))"
   ]
  },
  {
   "cell_type": "code",
   "execution_count": null,
   "id": "f3e78cf4-1d5d-4e0b-b7e9-4a72ead56969",
   "metadata": {},
   "outputs": [],
   "source": [
    "# 67.interest = ['삼성전자', 'LG전자', 'Naver', 'SK하이닉스', '미래에셋대우']\n",
    "# interest 리스트를 사용하여 아래와 같이 화면에 출력\n",
    "#출력 예시:\n",
    "#삼성전자/LG전자/Naver/SK하이닉스/미래에셋대우"
   ]
  },
  {
   "cell_type": "code",
   "execution_count": 277,
   "id": "7af995b6-6119-45d0-9a76-8eda26df80d3",
   "metadata": {},
   "outputs": [
    {
     "name": "stdout",
     "output_type": "stream",
     "text": [
      "삼성전자/LG전자/Naver/SK하이닉스/미래에셋대우\n"
     ]
    }
   ],
   "source": [
    "interest = ['삼성전자', 'LG전자', 'Naver', 'SK하이닉스', '미래에셋대우']\n",
    "print(\"/\".join(interest))"
   ]
  },
  {
   "cell_type": "code",
   "execution_count": null,
   "id": "a3c5b600-ef7c-419e-83e4-6e2e462881e4",
   "metadata": {},
   "outputs": [],
   "source": [
    "#68.interest = ['삼성전자', 'LG전자', 'Naver', 'SK하이닉스', '미래에셋대우']\n",
    "#join() 메서드를 사용해서 interest 리스트를 아래와 같이 화면에 출력\n",
    "#출력 예시:\n",
    "#삼성전자\n",
    "#LG전자\n",
    "#Naver\n",
    "#SK하이닉스\n",
    "#미래에셋대우"
   ]
  },
  {
   "cell_type": "code",
   "execution_count": 279,
   "id": "1ef577b3-c3bf-4feb-8dcd-520db9ae098b",
   "metadata": {},
   "outputs": [
    {
     "name": "stdout",
     "output_type": "stream",
     "text": [
      "삼성전자\n",
      "LG전자\n",
      "Naver\n",
      "SK하이닉스\n",
      "미래에셋대우\n"
     ]
    }
   ],
   "source": [
    "interest = ['삼성전자', 'LG전자', 'Naver', 'SK하이닉스', '미래에셋대우']\n",
    "print(\"\\n\".join(interest))"
   ]
  },
  {
   "cell_type": "code",
   "execution_count": null,
   "id": "a6ff1fa1-f040-4dde-81f2-9c8af86c9910",
   "metadata": {},
   "outputs": [],
   "source": [
    "# 69. 회사 이름이 슬래시 ('/')로 구분되어 하나의 문자열로 저장\n",
    "# string = \"삼성전자/LG전자/Naver\"\n",
    "# 이를 interest 이름의 리스트로 분리 저장"
   ]
  },
  {
   "cell_type": "code",
   "execution_count": 280,
   "id": "bb7b8423-f636-44ba-9997-9a8a277b3021",
   "metadata": {},
   "outputs": [
    {
     "name": "stdout",
     "output_type": "stream",
     "text": [
      "['삼성전자', 'LG전자', 'Naver']\n"
     ]
    }
   ],
   "source": [
    "string = \"삼성전자/LG전자/Naver\"\n",
    "interest = string.split(\"/\")\n",
    "print(interest)"
   ]
  },
  {
   "cell_type": "code",
   "execution_count": null,
   "id": "bbd25fe5-af8d-4f8a-8c85-ca01afe657e0",
   "metadata": {},
   "outputs": [],
   "source": [
    "#70. 스트에 있는 값을 오름차순으로 정렬\n",
    "#data = [2, 4, 3, 1, 5, 10, 9]"
   ]
  },
  {
   "cell_type": "code",
   "execution_count": 282,
   "id": "4d965b24-2d89-4e0c-9667-3142d347d834",
   "metadata": {},
   "outputs": [
    {
     "name": "stdout",
     "output_type": "stream",
     "text": [
      "[1, 2, 3, 4, 5, 9, 10]\n"
     ]
    }
   ],
   "source": [
    "data = [2, 4, 3, 1, 5, 10, 9]\n",
    "data.sort()\n",
    "print(data)"
   ]
  },
  {
   "cell_type": "markdown",
   "id": "524ecc19-1cac-45ac-a4ef-f160ccecfe89",
   "metadata": {},
   "source": [
    "## 파이썬 튜플 71~80"
   ]
  },
  {
   "cell_type": "code",
   "execution_count": null,
   "id": "5b060121-57f6-442e-b441-c8f96d714507",
   "metadata": {},
   "outputs": [],
   "source": [
    "# 71. my_variable 이름의 비어있는 튜플을 만들라\n"
   ]
  },
  {
   "cell_type": "code",
   "execution_count": 285,
   "id": "aad76e8e-f034-4b30-bc56-88eacabdafd1",
   "metadata": {},
   "outputs": [
    {
     "name": "stdout",
     "output_type": "stream",
     "text": [
      "<class 'tuple'>\n"
     ]
    }
   ],
   "source": [
    "my_variable = ()\n",
    "print(type(my_variable))"
   ]
  },
  {
   "cell_type": "code",
   "execution_count": null,
   "id": "c3660576-bf65-4ff0-a324-ea1d6e14f4f9",
   "metadata": {},
   "outputs": [],
   "source": [
    "# 2016년 11월 영화 예매 순위 기준 top3\n",
    "# 영화 제목을 movie_rank 이름의 튜플에 저장\n",
    "#   순위\t 영화\n",
    "#1\t닥터 스트레인지\n",
    "#2\t스플릿\n",
    "#3\t럭키"
   ]
  },
  {
   "cell_type": "code",
   "execution_count": 288,
   "id": "9f6522fd-deb1-4201-9207-9a099227e878",
   "metadata": {},
   "outputs": [],
   "source": [
    "movie_rank = (\"닥터 스트레인지\",\"스플릿\",\"럭키\")"
   ]
  },
  {
   "cell_type": "code",
   "execution_count": null,
   "id": "f6285c3c-1065-48e6-baa9-2c9a0d1da57d",
   "metadata": {},
   "outputs": [],
   "source": [
    "# 73. 숫자 1 이 저장된 튜플을 생성"
   ]
  },
  {
   "cell_type": "code",
   "execution_count": 291,
   "id": "4c4ab947-9964-4157-896a-9cf405636b8a",
   "metadata": {},
   "outputs": [],
   "source": [
    "t1 = (1,)"
   ]
  },
  {
   "cell_type": "code",
   "execution_count": null,
   "id": "757356a4-ea06-4f37-aead-b6804ed6f5bb",
   "metadata": {},
   "outputs": [],
   "source": [
    "# 74. 오류가 발생하는 원인을 설명\n",
    "#t = (1, 2, 3)\n",
    "#t[0] = 'a'"
   ]
  },
  {
   "cell_type": "code",
   "execution_count": 3,
   "id": "14dfc57c-7dda-4932-8242-81c58a4a4c46",
   "metadata": {},
   "outputs": [
    {
     "ename": "TypeError",
     "evalue": "'tuple' object does not support item assignment",
     "output_type": "error",
     "traceback": [
      "\u001b[1;31m---------------------------------------------------------------------------\u001b[0m",
      "\u001b[1;31mTypeError\u001b[0m                                 Traceback (most recent call last)",
      "Cell \u001b[1;32mIn[3], line 2\u001b[0m\n\u001b[0;32m      1\u001b[0m t \u001b[38;5;241m=\u001b[39m (\u001b[38;5;241m1\u001b[39m, \u001b[38;5;241m2\u001b[39m, \u001b[38;5;241m3\u001b[39m)\n\u001b[1;32m----> 2\u001b[0m t[\u001b[38;5;241m0\u001b[39m] \u001b[38;5;241m=\u001b[39m \u001b[38;5;124m'\u001b[39m\u001b[38;5;124ma\u001b[39m\u001b[38;5;124m'\u001b[39m\n",
      "\u001b[1;31mTypeError\u001b[0m: 'tuple' object does not support item assignment"
     ]
    }
   ],
   "source": [
    "t = (1, 2, 3)\n",
    "t[0] = 'a'\n",
    "# 튜플의 원솟값은 변경 불가"
   ]
  },
  {
   "cell_type": "code",
   "execution_count": null,
   "id": "8c3d22ec-9e0d-4a46-8b2a-70729581bca6",
   "metadata": {},
   "outputs": [],
   "source": [
    "#75. t에는 1, 2, 3, 4 데이터가 바인딩\n",
    "#  t가 바인딩하는 데이터 타입은 무엇인가?\n",
    "#  t = 1, 2, 3, 4"
   ]
  },
  {
   "cell_type": "code",
   "execution_count": 293,
   "id": "f427e1ff-12ab-42b7-aee4-0ea7cfe7a0e8",
   "metadata": {},
   "outputs": [],
   "source": [
    "t = (1,2,3,4)\n",
    "# -> 튜블은 괄호, 괄호 없이도 가능"
   ]
  },
  {
   "cell_type": "code",
   "execution_count": 298,
   "id": "9f2bfe7c-fec0-4b05-8061-a246a5db526c",
   "metadata": {},
   "outputs": [],
   "source": [
    "# 76. t에는 아래와 같은 값이 저장되어 있다. \n",
    "# 변수 t가 ('A', 'b', 'c') 튜플을 가리키도록 수정\n",
    "# t = ('a', 'b', 'c')"
   ]
  },
  {
   "cell_type": "markdown",
   "id": "457a0063-2453-4561-9810-841626427a2d",
   "metadata": {},
   "source": [
    "t = ('a', 'b', 'c')"
   ]
  },
  {
   "cell_type": "code",
   "execution_count": 2,
   "id": "76cc7ccc-04fb-4f96-9322-0d9c22d00f30",
   "metadata": {},
   "outputs": [
    {
     "name": "stdout",
     "output_type": "stream",
     "text": [
      "A\n"
     ]
    }
   ],
   "source": [
    "t_a = ('A', 'B', 'C')\n",
    "print(t_a[0])\n",
    "# 왜 에러...? "
   ]
  },
  {
   "cell_type": "code",
   "execution_count": null,
   "id": "61b7cf36-ad65-4ca5-b3be-039b61606475",
   "metadata": {},
   "outputs": [],
   "source": [
    "# 77. 튜플을 리스트로 변환\n",
    "# interest = ('삼성전자', 'LG전자', 'SK Hynix')"
   ]
  },
  {
   "cell_type": "code",
   "execution_count": 313,
   "id": "8333a932-b19e-402e-9512-c94b663ab1e3",
   "metadata": {},
   "outputs": [],
   "source": [
    "interest = ('삼성전자', 'LG전자', 'SK Hynix')\n",
    "tl = list(interest)"
   ]
  },
  {
   "cell_type": "code",
   "execution_count": null,
   "id": "d12cec59-585e-4802-bd2f-2238b387ba27",
   "metadata": {},
   "outputs": [],
   "source": [
    "# 78. 리스트를 튜플로 변경\n",
    "# interest = ['삼성전자', 'LG전자', 'SK Hynix']"
   ]
  },
  {
   "cell_type": "code",
   "execution_count": 314,
   "id": "94e0a0fb-bf2e-42e1-8ab8-a1e5ea61bf0d",
   "metadata": {},
   "outputs": [],
   "source": [
    "interest = ['삼성전자', 'LG전자', 'SK Hynix']\n",
    "lt = tuple(interest)"
   ]
  },
  {
   "cell_type": "code",
   "execution_count": null,
   "id": "73947f0c-de02-4f97-904b-8ba54d21eb88",
   "metadata": {},
   "outputs": [],
   "source": [
    "# 79. 다음 코드의 실행 결과를 예상\n",
    "# temp = ('apple', 'banana', 'cake')\n",
    "# a, b, c = temp\n",
    "# print(a, b, c)"
   ]
  },
  {
   "cell_type": "code",
   "execution_count": null,
   "id": "cd333fe3-eec0-417e-8233-1d51bd87548f",
   "metadata": {},
   "outputs": [],
   "source": [
    "temp = ('apple', 'banana', 'cake')\n",
    "a, b, c = temp\n",
    "print(a, b, c)"
   ]
  },
  {
   "cell_type": "code",
   "execution_count": null,
   "id": "0bbb251c-37e6-4ef6-8261-d527273135f4",
   "metadata": {},
   "outputs": [],
   "source": [
    "apple banana cake"
   ]
  },
  {
   "cell_type": "code",
   "execution_count": null,
   "id": "10bc0248-55fa-40b2-b498-5799431a79b7",
   "metadata": {},
   "outputs": [],
   "source": [
    "# 80. 1 부터 99까지의 정수 중 짝수만 저장된 튜플을 생성\n",
    "(2, 4, 6, 8 ... 98)"
   ]
  },
  {
   "cell_type": "code",
   "execution_count": 1,
   "id": "145c1ae2-01cb-40b9-b7e9-26420eb86810",
   "metadata": {},
   "outputs": [
    {
     "name": "stdout",
     "output_type": "stream",
     "text": [
      "(2, 4, 6, 8, 10, 12, 14, 16, 18, 20, 22, 24, 26, 28, 30, 32, 34, 36, 38, 40, 42, 44, 46, 48, 50, 52, 54, 56, 58, 60, 62, 64, 66, 68, 70, 72, 74, 76, 78, 80, 82, 84, 86, 88, 90, 92, 94, 96, 98)\n"
     ]
    }
   ],
   "source": [
    "tu2 = tuple(range(2,99,2))\n",
    "print(tu2)"
   ]
  },
  {
   "cell_type": "code",
   "execution_count": null,
   "id": "e4d5b591-6890-4bc5-9d26-fe0b9e8f280c",
   "metadata": {},
   "outputs": [],
   "source": []
  }
 ],
 "metadata": {
  "kernelspec": {
   "display_name": "Python 3 (ipykernel)",
   "language": "python",
   "name": "python3"
  },
  "language_info": {
   "codemirror_mode": {
    "name": "ipython",
    "version": 3
   },
   "file_extension": ".py",
   "mimetype": "text/x-python",
   "name": "python",
   "nbconvert_exporter": "python",
   "pygments_lexer": "ipython3",
   "version": "3.11.7"
  }
 },
 "nbformat": 4,
 "nbformat_minor": 5
}
