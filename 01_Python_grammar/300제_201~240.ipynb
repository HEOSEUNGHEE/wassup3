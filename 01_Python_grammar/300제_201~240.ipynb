{
 "cells": [
  {
   "cell_type": "markdown",
   "id": "4e429d07-2b81-43ab-8116-b12597a1241f",
   "metadata": {},
   "source": [
    "# 파이썬 함수"
   ]
  },
  {
   "cell_type": "code",
   "execution_count": null,
   "id": "a80e5829-d28d-419c-a1b2-7dffee114119",
   "metadata": {},
   "outputs": [],
   "source": [
    "# 201"
   ]
  },
  {
   "cell_type": "code",
   "execution_count": 1,
   "id": "45b04220-0633-41d6-b557-bdcbdef05122",
   "metadata": {},
   "outputs": [],
   "source": [
    "def print_coin() :\n",
    "    print(\"비트코인\")"
   ]
  },
  {
   "cell_type": "code",
   "execution_count": 2,
   "id": "82023da7-bb7b-45fe-9f82-bf8e111a137d",
   "metadata": {},
   "outputs": [],
   "source": [
    "# 202"
   ]
  },
  {
   "cell_type": "code",
   "execution_count": 3,
   "id": "63e36bda-5d7f-4790-ab95-e432ffdaeb1e",
   "metadata": {},
   "outputs": [
    {
     "name": "stdout",
     "output_type": "stream",
     "text": [
      "비트코인\n"
     ]
    }
   ],
   "source": [
    "print_coin()"
   ]
  },
  {
   "cell_type": "code",
   "execution_count": null,
   "id": "d63cc7a9-c047-4c22-8fa4-db5b155fcfb8",
   "metadata": {},
   "outputs": [],
   "source": [
    "# 203"
   ]
  },
  {
   "cell_type": "code",
   "execution_count": null,
   "id": "7c04b6d0-53e2-4fad-a114-7d42d2c32777",
   "metadata": {},
   "outputs": [],
   "source": [
    "for i in range(100) :\n",
    "    print_coin()"
   ]
  },
  {
   "cell_type": "code",
   "execution_count": null,
   "id": "7cdf8132-9c6e-459b-a0f0-ac8be1cadbda",
   "metadata": {},
   "outputs": [],
   "source": [
    "# 204"
   ]
  },
  {
   "cell_type": "code",
   "execution_count": 5,
   "id": "a5657447-e02d-4ea8-a1da-c0b91b3a125f",
   "metadata": {},
   "outputs": [],
   "source": [
    "def print_coin() :\n",
    "    for i in range(100) :\n",
    "        print(\"비트코인\")"
   ]
  },
  {
   "cell_type": "code",
   "execution_count": null,
   "id": "0949787b-ffa0-4430-88c7-c5d75d985d67",
   "metadata": {},
   "outputs": [],
   "source": [
    "# 205"
   ]
  },
  {
   "cell_type": "code",
   "execution_count": null,
   "id": "a6a97a51-597f-4ae6-b9c9-b2b0a77262e3",
   "metadata": {},
   "outputs": [],
   "source": [
    "line 1의 hello() 삭제, 함수가 정의된 이후 호출 "
   ]
  },
  {
   "cell_type": "code",
   "execution_count": 7,
   "id": "5f1070b9-4f34-4fa2-8b33-57f7a8793ed0",
   "metadata": {},
   "outputs": [],
   "source": [
    "def hello():\n",
    "    print(\"Hi\")"
   ]
  },
  {
   "cell_type": "code",
   "execution_count": null,
   "id": "f99ac436-f915-4fa9-8a95-18835751ec7f",
   "metadata": {},
   "outputs": [],
   "source": [
    "# 206"
   ]
  },
  {
   "cell_type": "code",
   "execution_count": null,
   "id": "b2891a08-a57b-4383-9861-74c5042eb824",
   "metadata": {},
   "outputs": [],
   "source": [
    "def message() :\n",
    "    print(\"A\")\n",
    "    print(\"B\")\n",
    "\n",
    "message()\n",
    "print(\"C\")\n",
    "message()"
   ]
  },
  {
   "cell_type": "code",
   "execution_count": null,
   "id": "6b0d7341-6719-4c0d-a308-a0ddaea90d8a",
   "metadata": {},
   "outputs": [],
   "source": [
    "A\n",
    "B\n",
    "C\n",
    "A\n",
    "B"
   ]
  },
  {
   "cell_type": "code",
   "execution_count": null,
   "id": "b3f906dd-64b8-4faa-8832-f7193eef001c",
   "metadata": {},
   "outputs": [],
   "source": [
    "# 207"
   ]
  },
  {
   "cell_type": "code",
   "execution_count": null,
   "id": "fa824244-4ce7-4868-ad95-5d2adc776e8c",
   "metadata": {},
   "outputs": [],
   "source": [
    "print(\"A\")\n",
    "\n",
    "def message() :\n",
    "    print(\"B\")\n",
    "\n",
    "print(\"C\")\n",
    "message()"
   ]
  },
  {
   "cell_type": "code",
   "execution_count": null,
   "id": "0e67a4f3-f3c0-4e42-a634-1271f0ebc58b",
   "metadata": {},
   "outputs": [],
   "source": [
    "A\n",
    "C\n",
    "B"
   ]
  },
  {
   "cell_type": "code",
   "execution_count": null,
   "id": "8907cbf1-8860-45d4-8861-8ad00059d3e3",
   "metadata": {},
   "outputs": [],
   "source": [
    "# 208"
   ]
  },
  {
   "cell_type": "code",
   "execution_count": null,
   "id": "3098c10f-1f6d-4174-879a-ea00f482496e",
   "metadata": {},
   "outputs": [],
   "source": [
    "print(\"A\")\n",
    "def message1() :\n",
    "    print(\"B\")\n",
    "print(\"C\")\n",
    "def message2() :\n",
    "    print(\"D\")\n",
    "message1()\n",
    "print(\"E\")\n",
    "message2()"
   ]
  },
  {
   "cell_type": "code",
   "execution_count": null,
   "id": "ad98a719-2077-41c1-b257-24d91570c764",
   "metadata": {},
   "outputs": [],
   "source": [
    "A\n",
    "C\n",
    "B\n",
    "E\n",
    "D"
   ]
  },
  {
   "cell_type": "code",
   "execution_count": null,
   "id": "88d7573c-941f-4fc7-a37e-1b1d213eea52",
   "metadata": {},
   "outputs": [],
   "source": [
    "# 209"
   ]
  },
  {
   "cell_type": "code",
   "execution_count": null,
   "id": "ee45b52a-223f-4de5-b013-7c35905bdd96",
   "metadata": {},
   "outputs": [],
   "source": [
    "def message1():\n",
    "    print(\"A\")\n",
    "\n",
    "def message2():\n",
    "    print(\"B\")\n",
    "    message1()\n",
    "\n",
    "message2()"
   ]
  },
  {
   "cell_type": "code",
   "execution_count": null,
   "id": "cbe909d3-e4eb-4e26-99c4-90653272cff0",
   "metadata": {},
   "outputs": [],
   "source": [
    "B\n",
    "A"
   ]
  },
  {
   "cell_type": "code",
   "execution_count": null,
   "id": "2711aa18-cdb5-4421-a718-be84cb5b9db4",
   "metadata": {},
   "outputs": [],
   "source": [
    "# 210"
   ]
  },
  {
   "cell_type": "code",
   "execution_count": null,
   "id": "46017b49-ef02-4455-a0e8-212321f8d43a",
   "metadata": {},
   "outputs": [],
   "source": [
    "def message1():\n",
    "    print(\"A\")\n",
    "\n",
    "def message2():\n",
    "    print(\"B\")\n",
    "\n",
    "def message3():\n",
    "    for i in range (3) :\n",
    "        message2()\n",
    "        print(\"C\")\n",
    "    message1()\n",
    "\n",
    "message3()"
   ]
  },
  {
   "cell_type": "code",
   "execution_count": null,
   "id": "6a74f225-ca3a-427a-b5bb-02d103b5e2dd",
   "metadata": {},
   "outputs": [],
   "source": [
    "B\n",
    "C\n",
    "B\n",
    "C\n",
    "B\n",
    "C\n",
    "A"
   ]
  },
  {
   "cell_type": "code",
   "execution_count": null,
   "id": "b8a41801-b217-4598-8215-a2d406e1bb95",
   "metadata": {},
   "outputs": [],
   "source": [
    "#211"
   ]
  },
  {
   "cell_type": "code",
   "execution_count": null,
   "id": "75e0ac0d-e159-4d08-85f9-a2c6caf9703e",
   "metadata": {},
   "outputs": [],
   "source": [
    "def 함수(문자열) :\n",
    "    print(문자열)\n",
    "\n",
    "함수(\"안녕\")\n",
    "함수(\"Hi\")"
   ]
  },
  {
   "cell_type": "code",
   "execution_count": null,
   "id": "f430f3ee-fd19-4fbf-bb54-35b8059ccca4",
   "metadata": {},
   "outputs": [],
   "source": [
    "안녕\n",
    "Hi"
   ]
  },
  {
   "cell_type": "code",
   "execution_count": null,
   "id": "817f76ba-89d6-463f-acd8-e0d46795d942",
   "metadata": {},
   "outputs": [],
   "source": [
    "#212"
   ]
  },
  {
   "cell_type": "code",
   "execution_count": null,
   "id": "97dc597f-85f3-4721-a373-d00d58e5a1a4",
   "metadata": {},
   "outputs": [],
   "source": [
    "def 함수(a, b) :\n",
    "    print(a + b)\n",
    "\n",
    "함수(3, 4)\n",
    "함수(7, 8)"
   ]
  },
  {
   "cell_type": "code",
   "execution_count": null,
   "id": "c35b583d-89aa-4ac7-bfd8-d4d8697ecf1c",
   "metadata": {},
   "outputs": [],
   "source": [
    "7\n",
    "15"
   ]
  },
  {
   "cell_type": "code",
   "execution_count": null,
   "id": "e1541b2a-1cc3-45ea-a34c-32bed56fc3c1",
   "metadata": {},
   "outputs": [],
   "source": [
    "#213"
   ]
  },
  {
   "cell_type": "code",
   "execution_count": null,
   "id": "3cc6153a-7734-4278-a185-7f3f589fca6c",
   "metadata": {},
   "outputs": [],
   "source": [
    "def 함수(문자열) :\n",
    "    print(문자열)\n",
    "\n"
   ]
  },
  {
   "cell_type": "code",
   "execution_count": null,
   "id": "fb0e6435-c2e1-41e3-9f17-3b5c8c7eaae6",
   "metadata": {},
   "outputs": [],
   "source": [
    "# 214"
   ]
  },
  {
   "cell_type": "code",
   "execution_count": null,
   "id": "4fa78ab0-5ff2-4f2e-817c-4ac6ef9b65b3",
   "metadata": {},
   "outputs": [],
   "source": [
    "def 함수(a, b) :\n",
    "    print(a + b)\n",
    "\n",
    "함수(\"안녕\", 3)\n",
    "\n",
    "## 문자열과 숫자 더하기 연산 불가"
   ]
  },
  {
   "cell_type": "code",
   "execution_count": null,
   "id": "bb05c32d-970f-4442-882a-b7b8f2c86337",
   "metadata": {},
   "outputs": [],
   "source": [
    "# 215"
   ]
  },
  {
   "cell_type": "code",
   "execution_count": 8,
   "id": "62dd4e72-9b06-4480-9c4d-fcd8905e9054",
   "metadata": {},
   "outputs": [],
   "source": [
    "def smile(string) :\n",
    "    print(string + \":D\")"
   ]
  },
  {
   "cell_type": "code",
   "execution_count": null,
   "id": "92020e28-0303-4801-b442-f4e9fe6678fd",
   "metadata": {},
   "outputs": [],
   "source": [
    "#216"
   ]
  },
  {
   "cell_type": "code",
   "execution_count": 10,
   "id": "e070554c-c606-432c-8914-5988e8e32a0c",
   "metadata": {},
   "outputs": [
    {
     "name": "stdout",
     "output_type": "stream",
     "text": [
      "안녕하세요:D\n"
     ]
    }
   ],
   "source": [
    "def smile(string) :\n",
    "    print(string + \":D\")\n",
    "\n",
    "smile(\"안녕하세요\")"
   ]
  },
  {
   "cell_type": "code",
   "execution_count": null,
   "id": "42f9d961-060d-43fe-aa5f-1b4d928b3945",
   "metadata": {},
   "outputs": [],
   "source": [
    "#217"
   ]
  },
  {
   "cell_type": "code",
   "execution_count": 11,
   "id": "e1d32166-d264-4370-8f57-5f321cc6567b",
   "metadata": {},
   "outputs": [],
   "source": [
    "def print_upper_price(price) :\n",
    "    print(price*1.3)\n"
   ]
  },
  {
   "cell_type": "code",
   "execution_count": null,
   "id": "983a093d-69ec-4096-bb7e-6b4622edc6f4",
   "metadata": {},
   "outputs": [],
   "source": [
    "#218"
   ]
  },
  {
   "cell_type": "code",
   "execution_count": 12,
   "id": "bbf55ca6-48dd-41f0-82e7-6ba566090841",
   "metadata": {},
   "outputs": [],
   "source": [
    "def print_sum(a,b) :\n",
    "    print(a+b)\n"
   ]
  },
  {
   "cell_type": "code",
   "execution_count": null,
   "id": "121b9201-71cc-42ac-bf6a-37d504ea6dc7",
   "metadata": {},
   "outputs": [],
   "source": [
    "#219"
   ]
  },
  {
   "cell_type": "code",
   "execution_count": null,
   "id": "2dadb2f0-02df-488b-8b9a-20806aa3c259",
   "metadata": {},
   "outputs": [],
   "source": [
    "def print_arithmetic_operation(a, b):\n",
    "    print(a, \"+\", b, \"=\", a + b)\n",
    "    print(a, \"-\", b, \"=\", a - b)\n",
    "    print(a, \"*\", b, \"=\", a * b)\n",
    "    print(a, \"/\", b, \"=\", a / b)"
   ]
  },
  {
   "cell_type": "code",
   "execution_count": null,
   "id": "3003078e-5445-4766-8d8c-34997fa85c49",
   "metadata": {},
   "outputs": [],
   "source": [
    "#220"
   ]
  },
  {
   "cell_type": "code",
   "execution_count": 13,
   "id": "9ee8d55b-1b24-4bbb-9d18-4f938c89acf4",
   "metadata": {},
   "outputs": [],
   "source": [
    "def print_max(a, b, c) :\n",
    "    max = 0\n",
    "    if a > max :\n",
    "        max = a\n",
    "    if b > max :\n",
    "        max = b\n",
    "    if c > max :\n",
    "        max = c\n",
    "    print(max)"
   ]
  },
  {
   "cell_type": "code",
   "execution_count": null,
   "id": "3ea990b6-9dc7-482e-9ae2-e857fe0d3440",
   "metadata": {},
   "outputs": [],
   "source": [
    "# 221"
   ]
  },
  {
   "cell_type": "code",
   "execution_count": null,
   "id": "0260fdad-efc0-4b52-87ee-98062e803c26",
   "metadata": {},
   "outputs": [],
   "source": [
    "def print_reverse(string) :\n",
    "    print(string[::-1])"
   ]
  },
  {
   "cell_type": "code",
   "execution_count": null,
   "id": "6c9db2cc-576c-4323-a77a-07170d96fab2",
   "metadata": {},
   "outputs": [],
   "source": [
    "# 222"
   ]
  },
  {
   "cell_type": "code",
   "execution_count": 16,
   "id": "7d63e705-36be-4b72-a03d-9f86e853f50e",
   "metadata": {},
   "outputs": [],
   "source": [
    "def print(score) : \n",
    "    print(sum(score)/len(score))"
   ]
  },
  {
   "cell_type": "code",
   "execution_count": null,
   "id": "b2d437ae-32b9-4b78-a66a-692d6d08a107",
   "metadata": {},
   "outputs": [],
   "source": [
    "# 223"
   ]
  },
  {
   "cell_type": "code",
   "execution_count": 19,
   "id": "785e1132-e6b2-4165-9af3-7a88754819d4",
   "metadata": {},
   "outputs": [],
   "source": [
    "def print_even(i) :\n",
    "    for i in my_list : \n",
    "        if i % 2 == 0 : \n",
    "            print(i)"
   ]
  },
  {
   "cell_type": "code",
   "execution_count": null,
   "id": "dff20b5b-459b-4b3d-8176-4bbbee039c64",
   "metadata": {},
   "outputs": [],
   "source": [
    "#224"
   ]
  },
  {
   "cell_type": "code",
   "execution_count": null,
   "id": "6b0ee18f-9a9a-490a-b52e-6f4f81bada47",
   "metadata": {},
   "outputs": [],
   "source": [
    "def print_keys(dic):\n",
    "    for keys in dic.keys():\n",
    "        print(keys)"
   ]
  },
  {
   "cell_type": "code",
   "execution_count": null,
   "id": "00432286-614c-4470-bf3e-7d0fe2183289",
   "metadata": {},
   "outputs": [],
   "source": [
    "#225"
   ]
  },
  {
   "cell_type": "code",
   "execution_count": null,
   "id": "11ce45cc-5a86-4cb7-a842-6e2afb637ff3",
   "metadata": {},
   "outputs": [],
   "source": [
    "def print_value_by_key(my_dict, key) :\n",
    "    print(my_dict[key])"
   ]
  },
  {
   "cell_type": "code",
   "execution_count": null,
   "id": "39b97c69-4904-4dd1-a063-e894edb4165b",
   "metadata": {},
   "outputs": [],
   "source": [
    "# 226"
   ]
  },
  {
   "cell_type": "code",
   "execution_count": 1,
   "id": "9911c76d-809b-4743-acb8-638c000f70b4",
   "metadata": {},
   "outputs": [
    {
     "name": "stdout",
     "output_type": "stream",
     "text": [
      "아이엠어보\n",
      "이유알어걸\n",
      "\n"
     ]
    }
   ],
   "source": [
    "def print_5xn(line):\n",
    "    chunk_num = int(len(line) / 5)\n",
    "    for x in range(chunk_num + 1) :\n",
    "        print(line[x * 5: x * 5 + 5])\n",
    "\n",
    "print_5xn(\"아이엠어보이유알어걸\")"
   ]
  },
  {
   "cell_type": "code",
   "execution_count": null,
   "id": "b2565c52-4f60-4f9e-b00b-4bb14feef125",
   "metadata": {},
   "outputs": [],
   "source": [
    "# 227"
   ]
  },
  {
   "cell_type": "code",
   "execution_count": 3,
   "id": "5d6ea4ea-4490-4919-8a8b-450e3d6cbfab",
   "metadata": {},
   "outputs": [
    {
     "name": "stdout",
     "output_type": "stream",
     "text": [
      "아이엠\n",
      "어보이\n",
      "유알어\n",
      "걸\n"
     ]
    }
   ],
   "source": [
    "def print_mxn(line, num):\n",
    "    chunk_num = int(len(line) / num)\n",
    "    for x in range(chunk_num + 1) :\n",
    "        print(line[x * num: x * num + num])\n",
    "\n",
    "print_mxn(\"아이엠어보이유알어걸\", 3)"
   ]
  },
  {
   "cell_type": "code",
   "execution_count": null,
   "id": "a94f858c-3e9b-49ed-9811-9bae70c886e6",
   "metadata": {},
   "outputs": [],
   "source": [
    "#228"
   ]
  },
  {
   "cell_type": "code",
   "execution_count": 6,
   "id": "3365778c-4ed0-4a36-b742-bf8a4072e312",
   "metadata": {},
   "outputs": [
    {
     "data": {
      "text/plain": [
       "1000000"
      ]
     },
     "execution_count": 6,
     "metadata": {},
     "output_type": "execute_result"
    }
   ],
   "source": [
    "def calc_monthly_salary(annual_pay) :\n",
    "    monthly_pay = int(annual_pay / 12)\n",
    "    return monthly_pay\n",
    "    \n",
    "calc_monthly_salary(12000000)"
   ]
  },
  {
   "cell_type": "code",
   "execution_count": null,
   "id": "80d119c8-454c-45f6-b394-e4a71e21003c",
   "metadata": {},
   "outputs": [],
   "source": [
    "#229"
   ]
  },
  {
   "cell_type": "code",
   "execution_count": null,
   "id": "add40910-c17c-4fd0-a41d-6a66a6b48fbf",
   "metadata": {},
   "outputs": [],
   "source": [
    "def my_print (a, b) :\n",
    "    print(\"왼쪽:\", a)\n",
    "    print(\"오른쪽:\", b)\n",
    "\n",
    "my_print(a=100, b=200)"
   ]
  },
  {
   "cell_type": "code",
   "execution_count": null,
   "id": "00d2b48e-03f8-40e1-bf09-6fc68a4444c4",
   "metadata": {},
   "outputs": [],
   "source": [
    "왼쪽 : 100\n",
    "오른쪽 : 200"
   ]
  },
  {
   "cell_type": "code",
   "execution_count": null,
   "id": "72346664-052a-4653-861d-9b247ff002c0",
   "metadata": {},
   "outputs": [],
   "source": [
    "# 230"
   ]
  },
  {
   "cell_type": "code",
   "execution_count": null,
   "id": "3b6c242b-4060-4ef7-b72f-20f3e8092900",
   "metadata": {},
   "outputs": [],
   "source": [
    "def my_print (a, b) :\n",
    "    print(\"왼쪽:\", a)\n",
    "    print(\"오른쪽:\", b)\n",
    "\n",
    "my_print(b=100, a=200)"
   ]
  },
  {
   "cell_type": "code",
   "execution_count": null,
   "id": "ca7cca12-6804-4758-bbb6-be5e7ecc7027",
   "metadata": {},
   "outputs": [],
   "source": [
    "왼쪽 : 200\n",
    "오른쪽 : 100"
   ]
  },
  {
   "cell_type": "code",
   "execution_count": null,
   "id": "ffdabe82-b8f1-43dc-b928-dec2df4be2e6",
   "metadata": {},
   "outputs": [],
   "source": [
    "# 231"
   ]
  },
  {
   "cell_type": "code",
   "execution_count": null,
   "id": "3d3fa21f-b6f2-45fa-8186-e9d1320b5a1d",
   "metadata": {},
   "outputs": [],
   "source": [
    "def n_plus_1 (n) :\n",
    "    result = n + 1\n",
    "\n",
    "n_plus_1(3)\n",
    "print (result)"
   ]
  },
  {
   "cell_type": "code",
   "execution_count": null,
   "id": "e7406dd3-20ce-4a73-a9e6-a24960b59c62",
   "metadata": {},
   "outputs": [],
   "source": [
    "## ? 리턴 필수"
   ]
  },
  {
   "cell_type": "code",
   "execution_count": null,
   "id": "e4416b8a-f206-4baf-acbd-99ee1bd075ea",
   "metadata": {},
   "outputs": [],
   "source": []
  },
  {
   "cell_type": "code",
   "execution_count": null,
   "id": "fe949750-e01c-4fc5-8dae-4ae50f68a785",
   "metadata": {},
   "outputs": [],
   "source": [
    "#232"
   ]
  },
  {
   "cell_type": "code",
   "execution_count": 9,
   "id": "cc690659-8cc1-41f9-b7ae-0fc554ad21af",
   "metadata": {},
   "outputs": [
    {
     "data": {
      "text/plain": [
       "'www.naver.com'"
      ]
     },
     "execution_count": 9,
     "metadata": {},
     "output_type": "execute_result"
    }
   ],
   "source": [
    "def make_url(url) :\n",
    "    url = \"www.\"+url+\".com\"\n",
    "    return url\n",
    "\n",
    "make_url(\"naver\")"
   ]
  },
  {
   "cell_type": "code",
   "execution_count": null,
   "id": "3cabeab4-8806-464a-aff0-64c701e14a8e",
   "metadata": {},
   "outputs": [],
   "source": [
    "#233"
   ]
  },
  {
   "cell_type": "code",
   "execution_count": 3,
   "id": "31276bca-ea9d-4a93-8caf-7a606380b292",
   "metadata": {},
   "outputs": [
    {
     "data": {
      "text/plain": [
       "['a', 'b', 'c', 'd']"
      ]
     },
     "execution_count": 3,
     "metadata": {},
     "output_type": "execute_result"
    }
   ],
   "source": [
    "def make_list(string) :\n",
    "    list = []\n",
    "    for i in string :\n",
    "        list.append(i)\n",
    "    return list\n",
    "\n",
    "make_list(\"abcd\")"
   ]
  },
  {
   "cell_type": "code",
   "execution_count": null,
   "id": "58730b27-22e1-4635-a00d-1a14ff63483a",
   "metadata": {},
   "outputs": [],
   "source": [
    "# 234"
   ]
  },
  {
   "cell_type": "code",
   "execution_count": 9,
   "id": "e1cfb07f-c9ec-4b62-9c0a-aca116687df5",
   "metadata": {},
   "outputs": [
    {
     "data": {
      "text/plain": [
       "[4, 6, 8]"
      ]
     },
     "execution_count": 9,
     "metadata": {},
     "output_type": "execute_result"
    }
   ],
   "source": [
    "def pickup_even(A) :\n",
    "    list = []\n",
    "    for i in A :\n",
    "        if i % 2 == 0 :\n",
    "            list.append(i)\n",
    "    return list\n",
    "\n",
    "pickup_even([3, 4, 5, 6, 7, 8])"
   ]
  },
  {
   "cell_type": "code",
   "execution_count": null,
   "id": "88da8760-9ea5-4f05-acef-a8d2725be05b",
   "metadata": {},
   "outputs": [],
   "source": [
    "# 235"
   ]
  },
  {
   "cell_type": "code",
   "execution_count": 11,
   "id": "73850d60-f311-4fc0-9242-d1e7c55b1ec2",
   "metadata": {},
   "outputs": [
    {
     "data": {
      "text/plain": [
       "1234567"
      ]
     },
     "execution_count": 11,
     "metadata": {},
     "output_type": "execute_result"
    }
   ],
   "source": [
    "def convert_int(A) :\n",
    "    return int(A.replace(',', ''))\n",
    "\n",
    "convert_int(\"1,234,567\")"
   ]
  },
  {
   "cell_type": "code",
   "execution_count": null,
   "id": "175cc5e2-9461-45dc-8ebe-592937333cb6",
   "metadata": {},
   "outputs": [],
   "source": [
    "#236"
   ]
  },
  {
   "cell_type": "code",
   "execution_count": null,
   "id": "204cdb32-6efa-4a31-bbb6-5892023ba3a2",
   "metadata": {},
   "outputs": [],
   "source": [
    "def 함수(num) :\n",
    "    return num + 4\n",
    "\n",
    "a = 함수(10)\n",
    "b = 함수(a)\n",
    "c = 함수(b)\n",
    "print(c)"
   ]
  },
  {
   "cell_type": "code",
   "execution_count": null,
   "id": "3442fed5-89a0-466e-9993-49933bda03da",
   "metadata": {},
   "outputs": [],
   "source": [
    "a = 14\n",
    "b = 18\n",
    "c = 22\n"
   ]
  },
  {
   "cell_type": "code",
   "execution_count": null,
   "id": "05f79aa2-6d11-4bd3-8d7f-2b796311efa4",
   "metadata": {},
   "outputs": [],
   "source": [
    "# 237"
   ]
  },
  {
   "cell_type": "code",
   "execution_count": null,
   "id": "1031f17e-5db0-41bd-8000-2bb88c01f4c1",
   "metadata": {},
   "outputs": [],
   "source": [
    "def 함수(num) :\n",
    "    return num + 4\n",
    "\n",
    "c = 함수(함수(함수(10)))\n",
    "print(c)"
   ]
  },
  {
   "cell_type": "code",
   "execution_count": null,
   "id": "776e87d1-30bf-44e0-9907-a978fbaa2421",
   "metadata": {},
   "outputs": [],
   "source": [
    "14\n",
    "18\n",
    "22\n"
   ]
  },
  {
   "cell_type": "code",
   "execution_count": null,
   "id": "4b0eb89a-7d64-40e5-a42f-8b6933a48034",
   "metadata": {},
   "outputs": [],
   "source": [
    "#238"
   ]
  },
  {
   "cell_type": "code",
   "execution_count": null,
   "id": "c7c4e459-f0fd-4a4c-bf14-8b5444ba7c64",
   "metadata": {},
   "outputs": [],
   "source": [
    "def 함수1(num) :\n",
    "    return num + 4\n",
    "\n",
    "def 함수2(num) :\n",
    "    return num * 10\n",
    "\n",
    "a = 함수1(10)\n",
    "c = 함수2(a)\n",
    "print(c)"
   ]
  },
  {
   "cell_type": "code",
   "execution_count": null,
   "id": "7a05307f-77cd-4ab0-8637-39f778fab2dc",
   "metadata": {},
   "outputs": [],
   "source": [
    "14\n",
    "140"
   ]
  },
  {
   "cell_type": "code",
   "execution_count": null,
   "id": "4c84514d-b6a0-4b43-b9fb-384f18cac6dd",
   "metadata": {},
   "outputs": [],
   "source": [
    "#239"
   ]
  },
  {
   "cell_type": "code",
   "execution_count": null,
   "id": "74426409-0a9b-426c-ac23-8a07060c9626",
   "metadata": {},
   "outputs": [],
   "source": [
    "def 함수1(num) :\n",
    "    return num + 4\n",
    "\n",
    "def 함수2(num) :\n",
    "    num = num + 2\n",
    "    return 함수1(num)\n",
    "\n",
    "c = 함수2(10)\n",
    "print(c)"
   ]
  },
  {
   "cell_type": "code",
   "execution_count": null,
   "id": "c651c5e9-318a-443e-92cc-f5a1bcdcedf0",
   "metadata": {},
   "outputs": [],
   "source": [
    "16"
   ]
  },
  {
   "cell_type": "code",
   "execution_count": null,
   "id": "ea624c8b-d573-4eba-9af5-47b669a21f5c",
   "metadata": {},
   "outputs": [],
   "source": [
    "#240"
   ]
  },
  {
   "cell_type": "code",
   "execution_count": 12,
   "id": "652144ba-920c-44b7-8872-5e836d081a43",
   "metadata": {},
   "outputs": [
    {
     "name": "stdout",
     "output_type": "stream",
     "text": [
      "28\n"
     ]
    }
   ],
   "source": [
    "def 함수0(num) :\n",
    "    return num * 2\n",
    "\n",
    "def 함수1(num) :\n",
    "    return 함수0(num + 2)\n",
    "\n",
    "def 함수2(num) :\n",
    "    num = num + 10\n",
    "    return 함수1(num)\n",
    "\n",
    "c = 함수2(2)\n",
    "print(c)"
   ]
  },
  {
   "cell_type": "code",
   "execution_count": null,
   "id": "6beb3a04-2dd3-45db-9060-c851fe289ca8",
   "metadata": {},
   "outputs": [],
   "source": []
  }
 ],
 "metadata": {
  "kernelspec": {
   "display_name": "Python 3 (ipykernel)",
   "language": "python",
   "name": "python3"
  },
  "language_info": {
   "codemirror_mode": {
    "name": "ipython",
    "version": 3
   },
   "file_extension": ".py",
   "mimetype": "text/x-python",
   "name": "python",
   "nbconvert_exporter": "python",
   "pygments_lexer": "ipython3",
   "version": "3.11.7"
  }
 },
 "nbformat": 4,
 "nbformat_minor": 5
}
