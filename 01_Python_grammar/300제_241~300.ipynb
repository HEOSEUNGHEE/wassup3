{
 "cells": [
  {
   "cell_type": "markdown",
   "id": "52dcf636-c221-4be4-8254-7b32b49d2212",
   "metadata": {},
   "source": [
    "# 파이썬 모듈"
   ]
  },
  {
   "cell_type": "code",
   "execution_count": null,
   "id": "dc584359-55a3-4f59-8558-091473ed9336",
   "metadata": {},
   "outputs": [],
   "source": [
    "# 241"
   ]
  },
  {
   "cell_type": "code",
   "execution_count": 1,
   "id": "1ac0741d-60d8-434a-b460-405d3c82f25a",
   "metadata": {},
   "outputs": [
    {
     "name": "stdout",
     "output_type": "stream",
     "text": [
      "2024-06-18 22:56:46.845293\n"
     ]
    }
   ],
   "source": [
    "import datetime\n",
    "now = datetime.datetime.now()\n",
    "print(now)"
   ]
  },
  {
   "cell_type": "code",
   "execution_count": null,
   "id": "5590f724-2b40-483b-8d31-2345841b72b6",
   "metadata": {},
   "outputs": [],
   "source": [
    "# 242"
   ]
  },
  {
   "cell_type": "code",
   "execution_count": 2,
   "id": "2362068d-199e-487e-bde0-5a41d6a3e6f3",
   "metadata": {},
   "outputs": [
    {
     "name": "stdout",
     "output_type": "stream",
     "text": [
      "2024-06-18 22:57:42.015365 <class 'datetime.datetime'>\n"
     ]
    }
   ],
   "source": [
    "import datetime\n",
    "now = datetime.datetime.now()\n",
    "print(now,type(now))"
   ]
  },
  {
   "cell_type": "code",
   "execution_count": 11,
   "id": "f8c96b9c-0ac9-447a-977e-15096545baec",
   "metadata": {},
   "outputs": [
    {
     "name": "stdout",
     "output_type": "stream",
     "text": [
      "2024-06-13 23:07:51.139397\n",
      "2024-06-14 23:07:51.139397\n",
      "2024-06-15 23:07:51.139397\n",
      "2024-06-16 23:07:51.139397\n",
      "2024-06-17 23:07:51.139397\n"
     ]
    }
   ],
   "source": [
    "import datetime\n",
    "now = datetime.datetime.now()\n",
    "\n",
    "for day in range(5,0,-1) :\n",
    "    delta = datetime.timedelta(days=day)\n",
    "    date = now - delta\n",
    "    print(date)"
   ]
  },
  {
   "cell_type": "code",
   "execution_count": null,
   "id": "e043131e-602d-4738-a45c-74e541f3ad81",
   "metadata": {},
   "outputs": [],
   "source": [
    "# 244 strftime"
   ]
  },
  {
   "cell_type": "code",
   "execution_count": 18,
   "id": "97ade774-47bf-44f2-abcf-2c8aa2d5fe87",
   "metadata": {},
   "outputs": [
    {
     "name": "stdout",
     "output_type": "stream",
     "text": [
      "23:11:53\n"
     ]
    }
   ],
   "source": [
    "import datetime\n",
    "\n",
    "now = datetime.datetime.now()\n",
    "print(now.strftime('%H:%M:%S')) #대문자만 가능?"
   ]
  },
  {
   "cell_type": "code",
   "execution_count": null,
   "id": "0ec9ce90-c479-4373-87f8-2d6fcd33ecf0",
   "metadata": {},
   "outputs": [],
   "source": [
    "# 245"
   ]
  },
  {
   "cell_type": "code",
   "execution_count": 19,
   "id": "2e232aed-6ce5-48d9-9a1d-9863307669eb",
   "metadata": {},
   "outputs": [
    {
     "name": "stdout",
     "output_type": "stream",
     "text": [
      "2024-06-18 00:00:00 <class 'datetime.datetime'>\n"
     ]
    }
   ],
   "source": [
    "import datetime\n",
    "day = \"2024-06-18\"\n",
    "a = datetime.datetime.strptime(day, \"%Y-%m-%d\")\n",
    "print(a, type(a))"
   ]
  },
  {
   "cell_type": "code",
   "execution_count": null,
   "id": "64a1b849-ab8b-4e39-9f0c-a3edf2a9240c",
   "metadata": {},
   "outputs": [],
   "source": [
    "# 246"
   ]
  },
  {
   "cell_type": "code",
   "execution_count": null,
   "id": "32354bd1-c03e-4a00-83ad-c955cec8623a",
   "metadata": {},
   "outputs": [],
   "source": [
    "import time\n",
    "import datetime\n",
    "\n",
    "while True:\n",
    "    now = datetime.datetime.now()\n",
    "    print(now)\n",
    "\n",
    "    time.sleep(1)\n"
   ]
  },
  {
   "cell_type": "code",
   "execution_count": null,
   "id": "ca4dfedf-366e-45eb-ae1d-186aedb7d93c",
   "metadata": {},
   "outputs": [],
   "source": [
    "# 248"
   ]
  },
  {
   "cell_type": "code",
   "execution_count": 2,
   "id": "256e8a45-5219-4971-ab70-c9c1f7993662",
   "metadata": {},
   "outputs": [
    {
     "name": "stdout",
     "output_type": "stream",
     "text": [
      "C:\\workspace\\wassup3\\01_Python_grammar <class 'str'>\n"
     ]
    }
   ],
   "source": [
    "import os\n",
    "ab = os.getcwd()\n",
    "print(ret, type(ab))"
   ]
  },
  {
   "cell_type": "code",
   "execution_count": null,
   "id": "74d2c29b-994c-4907-bd53-227a81bdf3ca",
   "metadata": {},
   "outputs": [],
   "source": [
    "#249"
   ]
  },
  {
   "cell_type": "code",
   "execution_count": 9,
   "id": "45a86fc9-2209-4fea-a2c8-3c82001f8f35",
   "metadata": {},
   "outputs": [],
   "source": [
    "import os\n",
    "os.rename(\"C:\\\\workspace\\\\wassup3\\\\01_Python_grammar\\\\output\\\\새파일.txt\", \"C:\\\\workspace\\\\wassup3\\\\01_Python_grammar\\\\output\\\\newfile.txt\")"
   ]
  },
  {
   "cell_type": "code",
   "execution_count": null,
   "id": "dcaff327-8910-47c1-b708-c91948b61328",
   "metadata": {},
   "outputs": [],
   "source": [
    "#250"
   ]
  },
  {
   "cell_type": "code",
   "execution_count": 14,
   "id": "4c812d0a-b7e0-4adf-83a4-9b4358844ff7",
   "metadata": {},
   "outputs": [
    {
     "name": "stdout",
     "output_type": "stream",
     "text": [
      "0.0\n",
      "0.1\n",
      "0.2\n",
      "0.30000000000000004\n",
      "0.4\n",
      "0.5\n",
      "0.6000000000000001\n",
      "0.7000000000000001\n",
      "0.8\n",
      "0.9\n",
      "1.0\n",
      "1.1\n",
      "1.2000000000000002\n",
      "1.3\n",
      "1.4000000000000001\n",
      "1.5\n",
      "1.6\n",
      "1.7000000000000002\n",
      "1.8\n",
      "1.9000000000000001\n",
      "2.0\n",
      "2.1\n",
      "2.2\n",
      "2.3000000000000003\n",
      "2.4000000000000004\n",
      "2.5\n",
      "2.6\n",
      "2.7\n",
      "2.8000000000000003\n",
      "2.9000000000000004\n",
      "3.0\n",
      "3.1\n",
      "3.2\n",
      "3.3000000000000003\n",
      "3.4000000000000004\n",
      "3.5\n",
      "3.6\n",
      "3.7\n",
      "3.8000000000000003\n",
      "3.9000000000000004\n",
      "4.0\n",
      "4.1000000000000005\n",
      "4.2\n",
      "4.3\n",
      "4.4\n",
      "4.5\n",
      "4.6000000000000005\n",
      "4.7\n",
      "4.800000000000001\n",
      "4.9\n"
     ]
    }
   ],
   "source": [
    "import numpy\n",
    "for i in numpy.arange(0, 5, 0.1):\n",
    "    print(i)"
   ]
  },
  {
   "cell_type": "code",
   "execution_count": null,
   "id": "c34aac6e-83b1-4dc4-bfe1-82b2862fabe0",
   "metadata": {},
   "outputs": [],
   "source": [
    "#251 "
   ]
  },
  {
   "cell_type": "code",
   "execution_count": null,
   "id": "0fe13493-f74b-4933-8fe4-89a1afe05fa1",
   "metadata": {},
   "outputs": [],
   "source": [
    "클래스 : \n",
    "객체 : \n",
    "인스턴스 : "
   ]
  },
  {
   "cell_type": "code",
   "execution_count": null,
   "id": "97be7cae-b7a1-4b38-9a4e-dd2204c9a0df",
   "metadata": {},
   "outputs": [],
   "source": [
    "# 252 "
   ]
  },
  {
   "cell_type": "code",
   "execution_count": 15,
   "id": "b099c0fb-31ba-4a98-83ae-0ba46eb1e627",
   "metadata": {},
   "outputs": [],
   "source": [
    "class Human :\n",
    "    pass"
   ]
  },
  {
   "cell_type": "code",
   "execution_count": null,
   "id": "38085014-7124-4af9-89da-dfe2cdc736fd",
   "metadata": {},
   "outputs": [],
   "source": [
    "# 253"
   ]
  },
  {
   "cell_type": "code",
   "execution_count": 16,
   "id": "0b26a7e5-39c2-4638-8183-5ee14b3bfca6",
   "metadata": {},
   "outputs": [],
   "source": [
    "class Human :\n",
    "    pass\n",
    "    areum = Human()"
   ]
  },
  {
   "cell_type": "code",
   "execution_count": null,
   "id": "d4690a63-4adc-4931-81a2-d2207d9e5140",
   "metadata": {},
   "outputs": [],
   "source": [
    "# 254"
   ]
  },
  {
   "cell_type": "code",
   "execution_count": null,
   "id": "d860f020-3a85-4de5-b604-e25c1428344f",
   "metadata": {},
   "outputs": [],
   "source": [
    "class Human :\n",
    "    def __init__(self):\n",
    "        print(\"응애응애\")\n",
    "    \n",
    "    areum = Human()"
   ]
  },
  {
   "cell_type": "code",
   "execution_count": null,
   "id": "da59b281-4ecc-4f4d-a296-e55d5e677843",
   "metadata": {},
   "outputs": [],
   "source": [
    "# 255"
   ]
  },
  {
   "cell_type": "code",
   "execution_count": 17,
   "id": "8fa357a9-c2da-4094-9f22-040d15f1bebf",
   "metadata": {},
   "outputs": [
    {
     "name": "stdout",
     "output_type": "stream",
     "text": [
      "아름\n"
     ]
    }
   ],
   "source": [
    "class Human :\n",
    "    def __init__(self, name, age, sex):\n",
    "        self.name = name\n",
    "        self.age = age\n",
    "        self.sex = sex\n",
    "\n",
    "areum = Human(\"아름\", 25, \"여자\")\n",
    "print(areum.name)"
   ]
  },
  {
   "cell_type": "code",
   "execution_count": null,
   "id": "60473249-f6e4-4b9d-ab2b-14e458b8e81c",
   "metadata": {},
   "outputs": [],
   "source": [
    "# 256"
   ]
  },
  {
   "cell_type": "code",
   "execution_count": 18,
   "id": "7103423d-77c0-40cc-81fb-aea6549e4ceb",
   "metadata": {},
   "outputs": [
    {
     "name": "stdout",
     "output_type": "stream",
     "text": [
      "25\n"
     ]
    }
   ],
   "source": [
    "class Human:\n",
    "    def __init__(self, name, age, sex):\n",
    "        self.name = name\n",
    "        self.age = age\n",
    "        self.sex = sex\n",
    "\n",
    "areum = Human(\"아름\", 25, \"여자\")\n",
    "print(areum.age)"
   ]
  },
  {
   "cell_type": "code",
   "execution_count": null,
   "id": "3f4602e3-2047-451c-bf6c-d332e2fb565f",
   "metadata": {},
   "outputs": [],
   "source": [
    "# 257"
   ]
  },
  {
   "cell_type": "code",
   "execution_count": 21,
   "id": "50e38d0a-a2f7-4a4a-90cd-b6f25428e4c9",
   "metadata": {},
   "outputs": [
    {
     "name": "stdout",
     "output_type": "stream",
     "text": [
      "이름: 아름 나이: 25 성별: 여자\n"
     ]
    }
   ],
   "source": [
    "class Human:\n",
    "    def __init__(self, name, age, sex):\n",
    "        self.name = name\n",
    "        self.age = age\n",
    "        self.sex = sex\n",
    "\n",
    "    def who(self) :\n",
    "        print(\"이름: {} 나이: {} 성별: {}\".format(self.name, self.age, self.sex))\n",
    "        \n",
    "areum = Human(\"아름\", 25, \"여자\")\n",
    "areum.who() "
   ]
  },
  {
   "cell_type": "code",
   "execution_count": null,
   "id": "97610ab4-5fd3-4aa8-9a7d-9ec718ed7b84",
   "metadata": {},
   "outputs": [],
   "source": [
    "# 258"
   ]
  },
  {
   "cell_type": "code",
   "execution_count": 23,
   "id": "8e1e4b63-b97e-4a95-b10b-b82de55bdf78",
   "metadata": {},
   "outputs": [
    {
     "name": "stdout",
     "output_type": "stream",
     "text": [
      "이름: 모름 나이: 0 성별: 모름\n",
      "이름: 아름 나이: 25 성별: 여자\n"
     ]
    }
   ],
   "source": [
    "class Human:\n",
    "    def __init__(self, name, age, sex):\n",
    "        self.name = name\n",
    "        self.age = age\n",
    "        self.sex = sex\n",
    "\n",
    "    def who(self) :\n",
    "        print(\"이름: {} 나이: {} 성별: {}\".format(self.name, self.age, self.sex))\n",
    "\n",
    "    def setInfo(self, name, age, sex):\n",
    "        self.name = name\n",
    "        self.age = age\n",
    "        self.sex = sex\n",
    "\n",
    "areum = Human(\"모름\", 0, \"모름\")\n",
    "areum.who()\n",
    "\n",
    "areum.setInfo(\"아름\", 25, \"여자\")\n",
    "areum.who()"
   ]
  },
  {
   "cell_type": "code",
   "execution_count": null,
   "id": "69b92d12-b30a-4beb-9106-eb44df21a830",
   "metadata": {},
   "outputs": [],
   "source": [
    "# 259"
   ]
  },
  {
   "cell_type": "code",
   "execution_count": 28,
   "id": "5a9e82f1-013a-4dcd-a72e-557ea030ccaa",
   "metadata": {},
   "outputs": [
    {
     "name": "stdout",
     "output_type": "stream",
     "text": [
      "나의 죽음을 알리지마라\n"
     ]
    }
   ],
   "source": [
    "class Human:\n",
    "    def __init__(self, name, age, sex):\n",
    "        self.name = name\n",
    "        self.age = age\n",
    "        self.sex = sex\n",
    "\n",
    "    def __del__(self) :\n",
    "         print(\"나의 죽음을 알리지마라\")\n",
    "\n",
    "    def who(self) :\n",
    "        print(\"이름: {} 나이: {} 성별: {}\".format(self.name, self.age, self.sex))\n",
    "\n",
    "    def setInfo(self, name, age, sex):\n",
    "        self.name = name\n",
    "        self.age = age\n",
    "        self.sex = sex\n",
    "\n",
    "\n",
    "areum = Human(\"아름\", 25, \"여자\")\n",
    "del(areum)"
   ]
  },
  {
   "cell_type": "code",
   "execution_count": null,
   "id": "14800b43-6f04-45b6-92a4-a6dad6a48702",
   "metadata": {},
   "outputs": [],
   "source": [
    "# 260"
   ]
  },
  {
   "cell_type": "code",
   "execution_count": 2,
   "id": "5893dce3-2689-46aa-918f-1e1f1caf95a0",
   "metadata": {},
   "outputs": [
    {
     "ename": "TypeError",
     "evalue": "OMG.print() takes 0 positional arguments but 1 was given",
     "output_type": "error",
     "traceback": [
      "\u001b[1;31m----------------------------------------------------------------------\u001b[0m",
      "\u001b[1;31mTypeError\u001b[0m                            Traceback (most recent call last)",
      "Cell \u001b[1;32mIn[2], line 7\u001b[0m\n\u001b[0;32m      3\u001b[0m         \u001b[38;5;28mprint\u001b[39m(\u001b[38;5;124m\"\u001b[39m\u001b[38;5;124mOh my god\u001b[39m\u001b[38;5;124m\"\u001b[39m)\n\u001b[0;32m      6\u001b[0m mystock \u001b[38;5;241m=\u001b[39m OMG()\n\u001b[1;32m----> 7\u001b[0m mystock\u001b[38;5;241m.\u001b[39mprint()\n",
      "\u001b[1;31mTypeError\u001b[0m: OMG.print() takes 0 positional arguments but 1 was given"
     ]
    }
   ],
   "source": [
    "class OMG :\n",
    "    def print() :\n",
    "        print(\"Oh my god\")\n",
    "\n",
    "\n",
    "mystock = OMG()\n",
    "mystock.print()      # OMG.print(mystock)"
   ]
  },
  {
   "cell_type": "code",
   "execution_count": null,
   "id": "fa1bad7e-db15-49f2-bc96-e485775274ae",
   "metadata": {},
   "outputs": [],
   "source": [
    "# 261"
   ]
  },
  {
   "cell_type": "code",
   "execution_count": 3,
   "id": "85ca6ff7-f61d-4c29-ae96-b0cf94477600",
   "metadata": {},
   "outputs": [],
   "source": [
    "class Stock :\n",
    "    pass"
   ]
  },
  {
   "cell_type": "code",
   "execution_count": null,
   "id": "62f9a0cc-9c3d-4324-a00d-25aff4a6e101",
   "metadata": {},
   "outputs": [],
   "source": [
    "# 262"
   ]
  },
  {
   "cell_type": "code",
   "execution_count": 5,
   "id": "c791ea82-9a43-4286-a200-383c0c0d23e5",
   "metadata": {},
   "outputs": [
    {
     "name": "stdout",
     "output_type": "stream",
     "text": [
      "삼성전자\n",
      "005930\n"
     ]
    }
   ],
   "source": [
    "class stock :\n",
    "    def __init__(self,com,code) :\n",
    "        self.com = com\n",
    "        self.code = code\n",
    "\n",
    "samsung = stock(\"삼성전자\",\"005930\")\n",
    "print(samsung.com)\n",
    "print(samsung.code)"
   ]
  },
  {
   "cell_type": "code",
   "execution_count": null,
   "id": "b8c9660b-d784-4b55-955f-65f833a04bdc",
   "metadata": {},
   "outputs": [],
   "source": [
    "# 263"
   ]
  },
  {
   "cell_type": "code",
   "execution_count": 2,
   "id": "642f3f0f-38ab-487e-977b-950b742ddef9",
   "metadata": {},
   "outputs": [
    {
     "name": "stdout",
     "output_type": "stream",
     "text": [
      "005930\n"
     ]
    }
   ],
   "source": [
    "class stock :\n",
    "    def __init__(self,com,code) :\n",
    "        self.com = com\n",
    "        self.code = code\n",
    "\n",
    "    def set_com(self,com):\n",
    "        self.com = com\n",
    "        \n",
    "    def set_code(self,code):\n",
    "        self.code = code\n",
    "\n",
    "a = stock(None, None)\n",
    "a.set_code(\"005930\")\n",
    "print(a.code)"
   ]
  },
  {
   "cell_type": "code",
   "execution_count": null,
   "id": "59862a73-8f17-421a-8c09-7119aebc995a",
   "metadata": {},
   "outputs": [],
   "source": [
    "# 265"
   ]
  },
  {
   "cell_type": "code",
   "execution_count": 2,
   "id": "6b1d6012-b181-4166-afb3-daa63bebed53",
   "metadata": {},
   "outputs": [
    {
     "name": "stdout",
     "output_type": "stream",
     "text": [
      "삼성전자\n",
      "005930\n",
      "삼성전자\n",
      "005930\n"
     ]
    }
   ],
   "source": [
    "class stock :\n",
    "    def __init__(self,com,code) :\n",
    "        self.com = com\n",
    "        self.code = code\n",
    "\n",
    "    def set_com(self,com):\n",
    "        self.com = com\n",
    "        \n",
    "    def set_code(self,code):\n",
    "        self.code = code\n",
    "\n",
    "    def get_name(self):\n",
    "        return self.com\n",
    "\n",
    "    def get_code(self):\n",
    "        return self.code\n",
    "\n",
    "samsung = stock(\"삼성전자\",\"005930\")\n",
    "print(samsung.com)\n",
    "print(samsung.code)\n",
    "print(samsung.get_name())\n",
    "print(samsung.get_code())"
   ]
  },
  {
   "cell_type": "code",
   "execution_count": null,
   "id": "9dd044c7-9691-4318-9e56-df5debe5846c",
   "metadata": {},
   "outputs": [],
   "source": [
    "# 266"
   ]
  },
  {
   "cell_type": "code",
   "execution_count": 3,
   "id": "d6337ebf-c863-4b57-9a25-557a77e963aa",
   "metadata": {},
   "outputs": [],
   "source": [
    "class Stock:\n",
    "    def __init__(self, name, code, per, pbr, 배당수익률):\n",
    "        self.name = name\n",
    "        self.code = code\n",
    "        self.per = per\n",
    "        self.pbr = pbr\n",
    "        self.배당수익률 = 배당수익률\n",
    "\n",
    "    def set_name(self, name):\n",
    "        self.name = name\n",
    "\n",
    "    def set_code(self, code):\n",
    "        self.code = code\n",
    "\n",
    "    def get_name(self):\n",
    "        return self.name\n",
    "\n",
    "    def get_code(self):\n",
    "        return self.code"
   ]
  },
  {
   "cell_type": "code",
   "execution_count": null,
   "id": "8d25529f-9e82-4c48-9c1e-088c5d33973b",
   "metadata": {},
   "outputs": [],
   "source": [
    "# 267"
   ]
  },
  {
   "cell_type": "code",
   "execution_count": 4,
   "id": "1a7e5791-079d-47f7-8209-22294f16cfe7",
   "metadata": {},
   "outputs": [
    {
     "name": "stdout",
     "output_type": "stream",
     "text": [
      "2.83\n"
     ]
    }
   ],
   "source": [
    "삼성 = Stock(\"삼성전자\", \"005930\", 15.79, 1.33, 2.83)\n",
    "print(삼성.배당수익률)"
   ]
  },
  {
   "cell_type": "code",
   "execution_count": null,
   "id": "aeead427-1a19-405b-b815-29891ec75f09",
   "metadata": {},
   "outputs": [],
   "source": [
    "# 268"
   ]
  },
  {
   "cell_type": "code",
   "execution_count": 5,
   "id": "5e148010-000e-4d60-bfd7-300001e0bf56",
   "metadata": {},
   "outputs": [],
   "source": [
    "class Stock:\n",
    "    def __init__(self, name, code, per, pbr, 배당수익률):\n",
    "        self.name = name\n",
    "        self.code = code\n",
    "        self.per = per\n",
    "        self.pbr = pbr\n",
    "        self.배당수익률 = 배당수익률\n",
    "\n",
    "    def set_name(self, name):\n",
    "        self.name = name\n",
    "\n",
    "    def set_code(self, code):\n",
    "        self.code = code\n",
    "\n",
    "    def get_name(self):\n",
    "        return self.name\n",
    "\n",
    "    def get_code(self):\n",
    "        return self.code\n",
    "\n",
    "    def set_per(self, per):\n",
    "        self.per = per\n",
    "\n",
    "    def set_pbr(self, pbr):\n",
    "        self.pbr = pbr\n",
    "\n",
    "    def set_dividend(self, dividend):\n",
    "        self.dividend = dividend"
   ]
  },
  {
   "cell_type": "code",
   "execution_count": null,
   "id": "a1c0d399-b0ed-4c69-acce-1533cca9d39c",
   "metadata": {},
   "outputs": [],
   "source": [
    "# 269"
   ]
  },
  {
   "cell_type": "code",
   "execution_count": 6,
   "id": "e28d5f97-1156-4797-a50d-8073fc01961c",
   "metadata": {},
   "outputs": [
    {
     "name": "stdout",
     "output_type": "stream",
     "text": [
      "12.75\n"
     ]
    }
   ],
   "source": [
    "삼성 = Stock(\"삼성전자\", \"005930\", 15.79, 1.33, 2.83)\n",
    "삼성.set_per(12.75)\n",
    "print(삼성.per)"
   ]
  },
  {
   "cell_type": "code",
   "execution_count": null,
   "id": "a0fa4b78-e4ac-4be7-802c-d8c152c8762e",
   "metadata": {},
   "outputs": [],
   "source": [
    "# 270"
   ]
  },
  {
   "cell_type": "code",
   "execution_count": 7,
   "id": "82c04720-c9dc-4327-b227-831217824f34",
   "metadata": {},
   "outputs": [
    {
     "name": "stdout",
     "output_type": "stream",
     "text": [
      "005930 15.79\n",
      "005380 8.7\n",
      "066570 317.34\n"
     ]
    }
   ],
   "source": [
    "종목 = []\n",
    "\n",
    "삼성 = Stock(\"삼성전자\", \"005930\", 15.79, 1.33, 2.83)\n",
    "현대차 = Stock(\"현대차\", \"005380\", 8.70, 0.35, 4.27)\n",
    "LG전자 = Stock(\"LG전자\", \"066570\", 317.34, 0.69, 1.37)\n",
    "\n",
    "종목.append(삼성)\n",
    "종목.append(현대차)\n",
    "종목.append(LG전자)\n",
    "\n",
    "for i in 종목:\n",
    "    print(i.code, i.per) "
   ]
  },
  {
   "cell_type": "code",
   "execution_count": null,
   "id": "76d65cf1-19bd-4b44-87d3-e4bb290f70c6",
   "metadata": {},
   "outputs": [],
   "source": []
  },
  {
   "cell_type": "code",
   "execution_count": null,
   "id": "4f4af19b-f9fb-40d5-908c-85e65463f014",
   "metadata": {},
   "outputs": [],
   "source": []
  },
  {
   "cell_type": "code",
   "execution_count": null,
   "id": "9324f50d-55f8-4740-aa3c-216c3f540812",
   "metadata": {},
   "outputs": [],
   "source": []
  },
  {
   "cell_type": "code",
   "execution_count": null,
   "id": "6b53953a-2b19-46fc-8cba-2d190d539df4",
   "metadata": {},
   "outputs": [],
   "source": []
  },
  {
   "cell_type": "code",
   "execution_count": null,
   "id": "72f751d6-4efd-40c4-8ba2-60f74cb1b9fd",
   "metadata": {},
   "outputs": [],
   "source": []
  },
  {
   "cell_type": "code",
   "execution_count": null,
   "id": "d6ad4caa-5b77-4447-b9db-0e5b5cedb828",
   "metadata": {},
   "outputs": [],
   "source": []
  },
  {
   "cell_type": "code",
   "execution_count": null,
   "id": "16948fd1-97ce-4ed0-86d9-58757c4e97f3",
   "metadata": {},
   "outputs": [],
   "source": []
  },
  {
   "cell_type": "code",
   "execution_count": null,
   "id": "07a1480b-cde9-4611-bc27-cacecaef9835",
   "metadata": {},
   "outputs": [],
   "source": []
  },
  {
   "cell_type": "code",
   "execution_count": null,
   "id": "9503821b-fb60-4142-924a-e1e69b370d1c",
   "metadata": {},
   "outputs": [],
   "source": []
  },
  {
   "cell_type": "code",
   "execution_count": null,
   "id": "b296e6ce-90b5-4f33-aed5-e88cd24312c3",
   "metadata": {},
   "outputs": [],
   "source": []
  }
 ],
 "metadata": {
  "kernelspec": {
   "display_name": "Python 3 (ipykernel)",
   "language": "python",
   "name": "python3"
  },
  "language_info": {
   "codemirror_mode": {
    "name": "ipython",
    "version": 3
   },
   "file_extension": ".py",
   "mimetype": "text/x-python",
   "name": "python",
   "nbconvert_exporter": "python",
   "pygments_lexer": "ipython3",
   "version": "3.11.7"
  }
 },
 "nbformat": 4,
 "nbformat_minor": 5
}
