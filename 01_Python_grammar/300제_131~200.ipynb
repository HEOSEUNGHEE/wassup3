{
 "cells": [
  {
   "cell_type": "markdown",
   "id": "dfaa0961-87ba-4fcf-949f-1a685af59849",
   "metadata": {},
   "source": [
    "# 반복문"
   ]
  },
  {
   "cell_type": "markdown",
   "id": "0b3dc2c9-7064-4d4c-93c2-28ea6ed114c1",
   "metadata": {},
   "source": [
    "## 131"
   ]
  },
  {
   "cell_type": "code",
   "execution_count": 2,
   "id": "2578e505-2035-4b56-958e-5e1036a1dc2a",
   "metadata": {},
   "outputs": [
    {
     "name": "stdout",
     "output_type": "stream",
     "text": [
      "사과\n",
      "귤\n",
      "수박\n"
     ]
    }
   ],
   "source": [
    "과일 = [\"사과\", \"귤\", \"수박\"]\n",
    "for 변수 in 과일:\n",
    "    print(변수)"
   ]
  },
  {
   "cell_type": "code",
   "execution_count": null,
   "id": "bdd8e325-6557-46a2-838d-cc0670199dc3",
   "metadata": {},
   "outputs": [],
   "source": [
    "사과\n",
    "귤 \n",
    "수박"
   ]
  },
  {
   "cell_type": "code",
   "execution_count": null,
   "id": "f7e19495-588c-4cb5-9be3-72d96ae5958e",
   "metadata": {},
   "outputs": [],
   "source": [
    "# 132"
   ]
  },
  {
   "cell_type": "code",
   "execution_count": 3,
   "id": "3e78ff17-f964-4723-ba4f-6eb935f38a61",
   "metadata": {},
   "outputs": [
    {
     "name": "stdout",
     "output_type": "stream",
     "text": [
      "#####\n",
      "#####\n",
      "#####\n"
     ]
    }
   ],
   "source": [
    "과일 = [\"사과\", \"귤\", \"수박\"]\n",
    "for 변수 in 과일:\n",
    "  print(\"#####\")"
   ]
  },
  {
   "cell_type": "code",
   "execution_count": null,
   "id": "fbb16a77-6628-48d4-a2ec-47a134b64b1e",
   "metadata": {},
   "outputs": [],
   "source": [
    "#####\n",
    "#####\n",
    "#####"
   ]
  },
  {
   "cell_type": "code",
   "execution_count": null,
   "id": "c0b5d1b7-c017-46fe-a929-eba7ccf9121e",
   "metadata": {},
   "outputs": [],
   "source": [
    "# 133"
   ]
  },
  {
   "cell_type": "code",
   "execution_count": null,
   "id": "7340357e-a9c8-40b3-b785-43416a09c776",
   "metadata": {},
   "outputs": [],
   "source": [
    "for 변수 in [\"A\", \"B\", \"C\"]:\n",
    "  print(변수)"
   ]
  },
  {
   "cell_type": "code",
   "execution_count": null,
   "id": "aaa69e75-e5f5-4213-a8c7-8de01883f6a7",
   "metadata": {},
   "outputs": [],
   "source": [
    "print(\"A\")\n",
    "print(\"B\")\n",
    "print(\"C\")"
   ]
  },
  {
   "cell_type": "code",
   "execution_count": null,
   "id": "33423205-ddaf-4e1f-aa96-d228b3bae1cc",
   "metadata": {},
   "outputs": [],
   "source": [
    "# 134"
   ]
  },
  {
   "cell_type": "code",
   "execution_count": null,
   "id": "ef7e522b-592e-487a-a14b-741b0f35c3e5",
   "metadata": {},
   "outputs": [],
   "source": [
    "for 변수 in [\"A\", \"B\", \"C\"]:\n",
    "  print(\"출력:\", 변수)"
   ]
  },
  {
   "cell_type": "code",
   "execution_count": null,
   "id": "7e038e42-e03c-4f4b-8ee9-21a5647364e9",
   "metadata": {},
   "outputs": [],
   "source": [
    "print(\"출력:\", \"A\")\n",
    "print(\"출력:\", \"B\")\n",
    "print(\"출력:\", \"C\")"
   ]
  },
  {
   "cell_type": "code",
   "execution_count": null,
   "id": "bbb71cfb-95ac-4236-8233-8277d5b5a011",
   "metadata": {},
   "outputs": [],
   "source": [
    "# 135"
   ]
  },
  {
   "cell_type": "code",
   "execution_count": null,
   "id": "3846c7d3-976f-4a43-8834-116befad36da",
   "metadata": {},
   "outputs": [],
   "source": [
    "for 변수 in [\"A\", \"B\", \"C\"]:\n",
    "  b = 변수.lower()\n",
    "  print(\"변환:\", b)"
   ]
  },
  {
   "cell_type": "code",
   "execution_count": 11,
   "id": "565cbd1d-e830-4548-a11e-eccdeacd7cfb",
   "metadata": {},
   "outputs": [
    {
     "name": "stdout",
     "output_type": "stream",
     "text": [
      "출력: a\n",
      "출력: b\n",
      "출력: c\n"
     ]
    }
   ],
   "source": [
    "print(\"출력:\", \"A\".lower())\n",
    "print(\"출력:\", \"B\".lower())\n",
    "print(\"출력:\", \"C\".lower())"
   ]
  },
  {
   "cell_type": "code",
   "execution_count": null,
   "id": "4186d7a1-750d-4386-9d11-4ddf2e6f363c",
   "metadata": {},
   "outputs": [],
   "source": [
    "# 136"
   ]
  },
  {
   "cell_type": "code",
   "execution_count": null,
   "id": "6fdfc982-5864-407f-8bfb-1043ab89c458",
   "metadata": {},
   "outputs": [],
   "source": [
    "변수 = 10\n",
    "print(변수)\n",
    "변수 = 20\n",
    "print(변수)\n",
    "변수 = 30\n",
    "print(변수)"
   ]
  },
  {
   "cell_type": "code",
   "execution_count": null,
   "id": "c89bfcbc-3353-44de-bcff-16818f87d460",
   "metadata": {},
   "outputs": [],
   "source": [
    "for 변수 in [10,20,30] :\n",
    "print(변수)"
   ]
  },
  {
   "cell_type": "code",
   "execution_count": null,
   "id": "dce248cd-aa69-439d-9600-be1da64a5e20",
   "metadata": {},
   "outputs": [],
   "source": [
    "# 137"
   ]
  },
  {
   "cell_type": "code",
   "execution_count": null,
   "id": "35d63fca-3fc2-47ad-824c-b8d501c633b0",
   "metadata": {},
   "outputs": [],
   "source": [
    "print(10)\n",
    "print(20)\n",
    "print(30)"
   ]
  },
  {
   "cell_type": "code",
   "execution_count": null,
   "id": "fb5e49cc-d414-4894-829e-096424bba9cb",
   "metadata": {},
   "outputs": [],
   "source": [
    "for 변수 in [10,20,30] :\n",
    "print(변수)"
   ]
  },
  {
   "cell_type": "code",
   "execution_count": null,
   "id": "33a2bf22-94a0-4003-8cf0-31d092ff306c",
   "metadata": {},
   "outputs": [],
   "source": [
    "# 138"
   ]
  },
  {
   "cell_type": "code",
   "execution_count": 14,
   "id": "3a2fe246-e6c0-4f9d-8be0-51a368ff8ee0",
   "metadata": {},
   "outputs": [
    {
     "name": "stdout",
     "output_type": "stream",
     "text": [
      "10\n",
      "-------\n",
      "20\n",
      "-------\n",
      "30\n",
      "-------\n"
     ]
    }
   ],
   "source": [
    "print(10)\n",
    "print(\"-------\")\n",
    "print(20)\n",
    "print(\"-------\")\n",
    "print(30)\n",
    "print(\"-------\")"
   ]
  },
  {
   "cell_type": "code",
   "execution_count": 13,
   "id": "c5d73c4f-60b2-4509-9a65-16a28c70ab56",
   "metadata": {},
   "outputs": [
    {
     "name": "stdout",
     "output_type": "stream",
     "text": [
      "10\n",
      "-------\n",
      "20\n",
      "-------\n",
      "30\n",
      "-------\n"
     ]
    }
   ],
   "source": [
    "for 변수 in [10,20,30]:\n",
    "    print(변수)\n",
    "    print(\"-------\")"
   ]
  },
  {
   "cell_type": "code",
   "execution_count": null,
   "id": "25877861-e289-402c-b2bf-5fb75cf83b4f",
   "metadata": {},
   "outputs": [],
   "source": [
    "#139"
   ]
  },
  {
   "cell_type": "code",
   "execution_count": 16,
   "id": "65dc882c-a39e-4dda-873a-2b009278b4f6",
   "metadata": {},
   "outputs": [
    {
     "name": "stdout",
     "output_type": "stream",
     "text": [
      "++++\n",
      "10\n",
      "20\n",
      "30\n"
     ]
    }
   ],
   "source": [
    "print(\"++++\")\n",
    "print(10)\n",
    "print(20)\n",
    "print(30)"
   ]
  },
  {
   "cell_type": "code",
   "execution_count": 15,
   "id": "80964e9a-1f01-42b3-b9ab-3b7f949f4920",
   "metadata": {},
   "outputs": [
    {
     "name": "stdout",
     "output_type": "stream",
     "text": [
      "++++\n",
      "10\n",
      "20\n",
      "30\n"
     ]
    }
   ],
   "source": [
    "print(\"++++\")\n",
    "for 변수 in [10,20,30]:\n",
    "    print(변수)\n"
   ]
  },
  {
   "cell_type": "code",
   "execution_count": null,
   "id": "35859766-e735-4ece-bd15-af58a3d4559d",
   "metadata": {},
   "outputs": [],
   "source": [
    "#140"
   ]
  },
  {
   "cell_type": "code",
   "execution_count": null,
   "id": "0afeb192-ae4a-4201-bb51-b137ed20f3bb",
   "metadata": {},
   "outputs": [],
   "source": [
    "print(\"-------\")\n",
    "print(\"-------\")\n",
    "print(\"-------\")\n",
    "print(\"-------\")"
   ]
  },
  {
   "cell_type": "code",
   "execution_count": 19,
   "id": "c752e28f-e330-4e86-a53e-43074c747d5c",
   "metadata": {},
   "outputs": [
    {
     "name": "stdout",
     "output_type": "stream",
     "text": [
      "-------\n",
      "-------\n",
      "-------\n",
      "-------\n"
     ]
    }
   ],
   "source": [
    "i=0\n",
    "while i<4 :\n",
    "  print(\"-------\")\n",
    "  i=i+1"
   ]
  },
  {
   "cell_type": "code",
   "execution_count": null,
   "id": "88a71ff1-6d24-431e-9dcf-3212be133f41",
   "metadata": {},
   "outputs": [],
   "source": [
    "# 141"
   ]
  },
  {
   "cell_type": "code",
   "execution_count": null,
   "id": "ca796243-f4b2-42d6-bd2d-891593808011",
   "metadata": {},
   "outputs": [],
   "source": [
    "리스트 = [100, 200, 300]"
   ]
  },
  {
   "cell_type": "code",
   "execution_count": 21,
   "id": "e63e629f-ca35-482f-ab6c-61b4e18de2ec",
   "metadata": {},
   "outputs": [
    {
     "name": "stdout",
     "output_type": "stream",
     "text": [
      "110\n",
      "210\n",
      "310\n"
     ]
    }
   ],
   "source": [
    "for cost in [100, 200, 300] :\n",
    "    cost = cost + 10\n",
    "    print(cost)"
   ]
  },
  {
   "cell_type": "code",
   "execution_count": null,
   "id": "cd8ca747-0860-4f8c-a445-38d7b9637e61",
   "metadata": {},
   "outputs": [],
   "source": [
    "# 142"
   ]
  },
  {
   "cell_type": "code",
   "execution_count": 22,
   "id": "ce2297ee-0562-4ac4-8d0f-7f5e76583f7e",
   "metadata": {},
   "outputs": [
    {
     "name": "stdout",
     "output_type": "stream",
     "text": [
      "오늘의 메뉴: 김밥\n",
      "오늘의 메뉴: 라면\n",
      "오늘의 메뉴: 튀김\n"
     ]
    }
   ],
   "source": [
    "for menu in [\"김밥\", \"라면\", \"튀김\"] :\n",
    "    print(\"오늘의 메뉴:\",menu)"
   ]
  },
  {
   "cell_type": "code",
   "execution_count": null,
   "id": "e10d3272-881e-4b80-a892-a3ac5e49bc20",
   "metadata": {},
   "outputs": [],
   "source": [
    "# 143"
   ]
  },
  {
   "cell_type": "code",
   "execution_count": 25,
   "id": "578e6362-c32f-42c2-a488-0799fca590e6",
   "metadata": {},
   "outputs": [
    {
     "name": "stdout",
     "output_type": "stream",
     "text": [
      "6\n",
      "4\n",
      "4\n"
     ]
    }
   ],
   "source": [
    "for com in [\"SK하이닉스\", \"삼성전자\", \"LG전자\"] :\n",
    "    print(len(com))"
   ]
  },
  {
   "cell_type": "code",
   "execution_count": null,
   "id": "a99cc89f-9669-4e8b-8be2-bd02f139edfa",
   "metadata": {},
   "outputs": [],
   "source": [
    "# 144"
   ]
  },
  {
   "cell_type": "code",
   "execution_count": 26,
   "id": "fbc79df0-0d23-4948-8e98-de4f971aba64",
   "metadata": {},
   "outputs": [
    {
     "name": "stdout",
     "output_type": "stream",
     "text": [
      "dog 3\n",
      "cat 3\n",
      "parrot 6\n"
     ]
    }
   ],
   "source": [
    "for com in ['dog', 'cat', 'parrot'] :\n",
    "    print(com,len(com))"
   ]
  },
  {
   "cell_type": "code",
   "execution_count": null,
   "id": "11e4077f-e936-407e-a069-5a47166a4b58",
   "metadata": {},
   "outputs": [],
   "source": [
    "# 145"
   ]
  },
  {
   "cell_type": "code",
   "execution_count": 27,
   "id": "1a3e5568-fe5e-4b46-9411-852cf4f920df",
   "metadata": {},
   "outputs": [
    {
     "name": "stdout",
     "output_type": "stream",
     "text": [
      "d\n",
      "c\n",
      "p\n"
     ]
    }
   ],
   "source": [
    "for com in ['dog', 'cat', 'parrot'] :\n",
    "    print(com[0])"
   ]
  },
  {
   "cell_type": "code",
   "execution_count": null,
   "id": "a6d7dbbb-4756-4575-83eb-c8dfe8fe6322",
   "metadata": {},
   "outputs": [],
   "source": [
    "# 146 "
   ]
  },
  {
   "cell_type": "code",
   "execution_count": 29,
   "id": "b9891d6d-8fea-42b1-bbfa-bc3dd202bc70",
   "metadata": {},
   "outputs": [
    {
     "name": "stdout",
     "output_type": "stream",
     "text": [
      "3 * 1\n",
      "3 * 2\n",
      "3 * 3\n"
     ]
    }
   ],
   "source": [
    "for com in [1, 2, 3] :\n",
    "    print(\"3 *\", com)"
   ]
  },
  {
   "cell_type": "code",
   "execution_count": null,
   "id": "655cd3f3-915a-4ee6-bf0d-9cab6837f6b6",
   "metadata": {},
   "outputs": [],
   "source": [
    "# 147"
   ]
  },
  {
   "cell_type": "code",
   "execution_count": 31,
   "id": "524e5a6e-0ada-4102-a3b8-02f7e152ead6",
   "metadata": {},
   "outputs": [
    {
     "name": "stdout",
     "output_type": "stream",
     "text": [
      "3 * 1 = 3\n",
      "3 * 2 = 6\n",
      "3 * 3 = 9\n"
     ]
    }
   ],
   "source": [
    "for com in [1, 2, 3] :\n",
    "    print(\"3 *\",com, \"=\", 3*com)"
   ]
  },
  {
   "cell_type": "code",
   "execution_count": null,
   "id": "0660b3c7-2502-48ec-8f9f-3c0bc6303678",
   "metadata": {},
   "outputs": [],
   "source": [
    "# 148 "
   ]
  },
  {
   "cell_type": "code",
   "execution_count": 37,
   "id": "d098f49d-01e5-4f75-b360-fd569d59ac6a",
   "metadata": {},
   "outputs": [
    {
     "name": "stdout",
     "output_type": "stream",
     "text": [
      "나\n",
      "다\n",
      "라\n"
     ]
    }
   ],
   "source": [
    "rrr = [\"가\", \"나\", \"다\", \"라\"] \n",
    "for com in rrr[1:] :\n",
    "    print(com)"
   ]
  },
  {
   "cell_type": "code",
   "execution_count": null,
   "id": "0fa84bdf-9a34-4705-a73a-63f351b64a16",
   "metadata": {},
   "outputs": [],
   "source": [
    "# 149"
   ]
  },
  {
   "cell_type": "code",
   "execution_count": 40,
   "id": "cec72c0f-5a2e-4aac-a9af-f01bba8d54e0",
   "metadata": {},
   "outputs": [
    {
     "name": "stdout",
     "output_type": "stream",
     "text": [
      "가\n",
      "다\n",
      "마\n"
     ]
    }
   ],
   "source": [
    "rrr = [\"가\", \"나\", \"다\", \"라\", \"마\"] \n",
    "for com in rrr[: :2] :\n",
    "    print(com)"
   ]
  },
  {
   "cell_type": "code",
   "execution_count": null,
   "id": "8ae0ac83-e29c-404b-8ff8-1c5d4d7e3e6c",
   "metadata": {},
   "outputs": [],
   "source": [
    "# 150"
   ]
  },
  {
   "cell_type": "code",
   "execution_count": 49,
   "id": "c7c55028-67f1-4c0a-91c7-6944821bbf73",
   "metadata": {},
   "outputs": [
    {
     "name": "stdout",
     "output_type": "stream",
     "text": [
      "라\n",
      "다\n",
      "나\n",
      "가\n"
     ]
    }
   ],
   "source": [
    "rrr = [\"가\", \"나\", \"다\", \"라\"] \n",
    "for com in rrr[3:: -1] :\n",
    "    print(com)"
   ]
  },
  {
   "cell_type": "code",
   "execution_count": null,
   "id": "da061abb-2d85-41e6-a629-e1985c6079f1",
   "metadata": {},
   "outputs": [],
   "source": [
    "# 151"
   ]
  },
  {
   "cell_type": "code",
   "execution_count": 51,
   "id": "3da623b4-14cc-4176-8561-9ee1a26a55ef",
   "metadata": {},
   "outputs": [
    {
     "name": "stdout",
     "output_type": "stream",
     "text": [
      "-20\n",
      "-3\n"
     ]
    }
   ],
   "source": [
    "rrr = [3, -20, -3, 44]\n",
    "for com in rrr :\n",
    "    if(com < 0) :\n",
    "       print(com)"
   ]
  },
  {
   "cell_type": "code",
   "execution_count": null,
   "id": "c39b8675-d127-4508-95d6-55e417326a08",
   "metadata": {},
   "outputs": [],
   "source": [
    "# 152"
   ]
  },
  {
   "cell_type": "code",
   "execution_count": 52,
   "id": "3ce0cccd-8406-4b49-b0d1-084e5f88d1b9",
   "metadata": {},
   "outputs": [
    {
     "name": "stdout",
     "output_type": "stream",
     "text": [
      "3\n"
     ]
    }
   ],
   "source": [
    "rrr = [3, 100, 23, 44]\n",
    "for com in rrr :\n",
    "    if(com % 3 == 0) :\n",
    "       print(com)"
   ]
  },
  {
   "cell_type": "code",
   "execution_count": null,
   "id": "48c17999-9c25-4a1e-925a-7ebb810ba92f",
   "metadata": {},
   "outputs": [],
   "source": [
    "# 153"
   ]
  },
  {
   "cell_type": "code",
   "execution_count": 59,
   "id": "a8e4f4e8-a1a9-4484-aa84-910eb47d01a2",
   "metadata": {},
   "outputs": [
    {
     "name": "stdout",
     "output_type": "stream",
     "text": [
      "12\n",
      "18\n"
     ]
    }
   ],
   "source": [
    "rrr = [13, 21, 12, 14, 30, 18]\n",
    "for com in rrr :\n",
    "    if(com < 20) :\n",
    "        if(com % 3 == 0) :\n",
    "            print(com)"
   ]
  },
  {
   "cell_type": "code",
   "execution_count": null,
   "id": "d45e4ba7-1928-4aae-87eb-bf2886b23ee8",
   "metadata": {},
   "outputs": [],
   "source": [
    "# 154"
   ]
  },
  {
   "cell_type": "code",
   "execution_count": 63,
   "id": "7990b394-2670-4f68-bc7c-11549a270c49",
   "metadata": {},
   "outputs": [
    {
     "name": "stdout",
     "output_type": "stream",
     "text": [
      "study\n",
      "python\n",
      "language\n"
     ]
    }
   ],
   "source": [
    "rrr = [\"I\", \"study\", \"python\", \"language\", \"!\"]\n",
    "for com in rrr :\n",
    "    if(len(com) >= 3) :\n",
    "        print(com)"
   ]
  },
  {
   "cell_type": "code",
   "execution_count": null,
   "id": "085d7d8e-dfed-481c-88fe-a14862ba9ca0",
   "metadata": {},
   "outputs": [],
   "source": [
    "# 155"
   ]
  },
  {
   "cell_type": "code",
   "execution_count": 65,
   "id": "f608d144-a415-441e-8b9c-6318a21b44bd",
   "metadata": {},
   "outputs": [
    {
     "name": "stdout",
     "output_type": "stream",
     "text": [
      "A\n",
      "D\n"
     ]
    }
   ],
   "source": [
    "rrr = [\"A\", \"b\", \"c\", \"D\"]\n",
    "for com in rrr :\n",
    "    if(com.isupper()) :\n",
    "        print(com)"
   ]
  },
  {
   "cell_type": "code",
   "execution_count": null,
   "id": "0c64391a-dc78-4985-9580-76f9a70a2c64",
   "metadata": {},
   "outputs": [],
   "source": [
    "# 156"
   ]
  },
  {
   "cell_type": "code",
   "execution_count": 66,
   "id": "65247edd-370f-4354-a785-a01ca9890ada",
   "metadata": {},
   "outputs": [
    {
     "name": "stdout",
     "output_type": "stream",
     "text": [
      "b\n",
      "c\n"
     ]
    }
   ],
   "source": [
    "rrr = [\"A\", \"b\", \"c\", \"D\"]\n",
    "for com in rrr :\n",
    "    if(com.islower()) :\n",
    "        print(com)"
   ]
  },
  {
   "cell_type": "code",
   "execution_count": null,
   "id": "b8d3201a-5da3-4758-a896-40c77fbfb56b",
   "metadata": {},
   "outputs": [],
   "source": [
    "# 157"
   ]
  },
  {
   "cell_type": "code",
   "execution_count": 74,
   "id": "a6788f94-8ded-4644-a919-1f71c04720e6",
   "metadata": {},
   "outputs": [
    {
     "name": "stdout",
     "output_type": "stream",
     "text": [
      "Dog\n",
      "Cat\n",
      "Parrot\n"
     ]
    }
   ],
   "source": [
    "rrr = ['dog', 'cat', 'parrot']\n",
    "for com in rrr :\n",
    "    com = com[0].upper() +com[1:]\n",
    "    print(com)"
   ]
  },
  {
   "cell_type": "code",
   "execution_count": null,
   "id": "b9eae824-0553-437e-89fc-b0f7d157d9d5",
   "metadata": {},
   "outputs": [],
   "source": [
    "# 158"
   ]
  },
  {
   "cell_type": "code",
   "execution_count": 78,
   "id": "48a9b662-2fec-48d6-8f0c-3760a1c10e30",
   "metadata": {},
   "outputs": [
    {
     "name": "stdout",
     "output_type": "stream",
     "text": [
      "hello\n",
      "ex01\n",
      "intro\n"
     ]
    }
   ],
   "source": [
    "rrr = ['hello.py', 'ex01.py', 'intro.hwp']\n",
    "for com in rrr :\n",
    "    com = com.split(\".\")\n",
    "    print(com[0])"
   ]
  },
  {
   "cell_type": "code",
   "execution_count": null,
   "id": "7093f607-5f5d-4ce0-a8bc-f46a0b93e01e",
   "metadata": {},
   "outputs": [],
   "source": [
    "# 159"
   ]
  },
  {
   "cell_type": "code",
   "execution_count": 80,
   "id": "083d0c5a-8a1e-4086-b77c-0a81802cd2f0",
   "metadata": {},
   "outputs": [
    {
     "name": "stdout",
     "output_type": "stream",
     "text": [
      "intra.h\n",
      "define.h\n"
     ]
    }
   ],
   "source": [
    "rrr = ['intra.h', 'intra.c', 'define.h', 'run.py']\n",
    "for com in rrr :\n",
    "    com2 = com.split(\".\")\n",
    "    if com2[1] == \"h\" : \n",
    "        print(com)"
   ]
  },
  {
   "cell_type": "code",
   "execution_count": null,
   "id": "b264bae5-6f5c-49cc-a227-e7ba8f41ff1e",
   "metadata": {},
   "outputs": [],
   "source": [
    "# 160"
   ]
  },
  {
   "cell_type": "code",
   "execution_count": 82,
   "id": "ffdefc63-a62f-4397-b873-d16074d6a81d",
   "metadata": {},
   "outputs": [
    {
     "name": "stdout",
     "output_type": "stream",
     "text": [
      "intra.h\n",
      "intra.c\n",
      "define.h\n"
     ]
    }
   ],
   "source": [
    "rrr = ['intra.h', 'intra.c', 'define.h', 'run.py']\n",
    "for com in rrr :\n",
    "    com2 = com.split(\".\")\n",
    "    if com2[1] == \"h\" or com2[1] == \"c\" : \n",
    "        print(com)"
   ]
  },
  {
   "cell_type": "code",
   "execution_count": null,
   "id": "ac883f80-ddf9-49e2-9b5e-68d0f49b85dd",
   "metadata": {},
   "outputs": [],
   "source": [
    "# 161 "
   ]
  },
  {
   "cell_type": "code",
   "execution_count": 83,
   "id": "33900bf9-afe3-45d7-9882-7abcf91c0ebe",
   "metadata": {},
   "outputs": [
    {
     "name": "stdout",
     "output_type": "stream",
     "text": [
      "0\n",
      "1\n",
      "2\n",
      "3\n",
      "4\n",
      "5\n",
      "6\n",
      "7\n",
      "8\n",
      "9\n",
      "10\n",
      "11\n",
      "12\n",
      "13\n",
      "14\n",
      "15\n",
      "16\n",
      "17\n",
      "18\n",
      "19\n",
      "20\n",
      "21\n",
      "22\n",
      "23\n",
      "24\n",
      "25\n",
      "26\n",
      "27\n",
      "28\n",
      "29\n",
      "30\n",
      "31\n",
      "32\n",
      "33\n",
      "34\n",
      "35\n",
      "36\n",
      "37\n",
      "38\n",
      "39\n",
      "40\n",
      "41\n",
      "42\n",
      "43\n",
      "44\n",
      "45\n",
      "46\n",
      "47\n",
      "48\n",
      "49\n",
      "50\n",
      "51\n",
      "52\n",
      "53\n",
      "54\n",
      "55\n",
      "56\n",
      "57\n",
      "58\n",
      "59\n",
      "60\n",
      "61\n",
      "62\n",
      "63\n",
      "64\n",
      "65\n",
      "66\n",
      "67\n",
      "68\n",
      "69\n",
      "70\n",
      "71\n",
      "72\n",
      "73\n",
      "74\n",
      "75\n",
      "76\n",
      "77\n",
      "78\n",
      "79\n",
      "80\n",
      "81\n",
      "82\n",
      "83\n",
      "84\n",
      "85\n",
      "86\n",
      "87\n",
      "88\n",
      "89\n",
      "90\n",
      "91\n",
      "92\n",
      "93\n",
      "94\n",
      "95\n",
      "96\n",
      "97\n",
      "98\n",
      "99\n"
     ]
    }
   ],
   "source": [
    "for i in range(100):\n",
    "    print(i)"
   ]
  },
  {
   "cell_type": "code",
   "execution_count": null,
   "id": "d3f0cb39-d4b2-400a-9ce7-c1e36ab3aca7",
   "metadata": {},
   "outputs": [],
   "source": [
    "#162"
   ]
  },
  {
   "cell_type": "code",
   "execution_count": 84,
   "id": "51b08c05-78de-45c8-9f81-99cbc0583c37",
   "metadata": {},
   "outputs": [
    {
     "name": "stdout",
     "output_type": "stream",
     "text": [
      "2002\n",
      "2006\n",
      "2010\n",
      "2014\n",
      "2018\n",
      "2022\n",
      "2026\n",
      "2030\n",
      "2034\n",
      "2038\n",
      "2042\n",
      "2046\n"
     ]
    }
   ],
   "source": [
    "for i in range(2002,2050,4):\n",
    "    print(i)"
   ]
  },
  {
   "cell_type": "code",
   "execution_count": null,
   "id": "d7c9b135-3c11-4454-91a4-79e0e5c31a81",
   "metadata": {},
   "outputs": [],
   "source": [
    "# 163"
   ]
  },
  {
   "cell_type": "code",
   "execution_count": 88,
   "id": "de342e21-bcd4-41f3-80e7-6579d3a003ca",
   "metadata": {},
   "outputs": [
    {
     "name": "stdout",
     "output_type": "stream",
     "text": [
      "3\n",
      "6\n",
      "9\n",
      "12\n",
      "15\n",
      "18\n",
      "21\n",
      "24\n",
      "27\n"
     ]
    }
   ],
   "source": [
    "for i in range(1,30):\n",
    "    if i % 3 == 0 :\n",
    "        print(i)"
   ]
  },
  {
   "cell_type": "code",
   "execution_count": null,
   "id": "cd1fb5df-db07-4d0b-b882-80d8e74ec7de",
   "metadata": {},
   "outputs": [],
   "source": [
    "# 164"
   ]
  },
  {
   "cell_type": "code",
   "execution_count": 89,
   "id": "e7c9d6c3-9da9-4173-8780-718ed909768c",
   "metadata": {},
   "outputs": [
    {
     "name": "stdout",
     "output_type": "stream",
     "text": [
      "99\n",
      "98\n",
      "97\n",
      "96\n",
      "95\n",
      "94\n",
      "93\n",
      "92\n",
      "91\n",
      "90\n",
      "89\n",
      "88\n",
      "87\n",
      "86\n",
      "85\n",
      "84\n",
      "83\n",
      "82\n",
      "81\n",
      "80\n",
      "79\n",
      "78\n",
      "77\n",
      "76\n",
      "75\n",
      "74\n",
      "73\n",
      "72\n",
      "71\n",
      "70\n",
      "69\n",
      "68\n",
      "67\n",
      "66\n",
      "65\n",
      "64\n",
      "63\n",
      "62\n",
      "61\n",
      "60\n",
      "59\n",
      "58\n",
      "57\n",
      "56\n",
      "55\n",
      "54\n",
      "53\n",
      "52\n",
      "51\n",
      "50\n",
      "49\n",
      "48\n",
      "47\n",
      "46\n",
      "45\n",
      "44\n",
      "43\n",
      "42\n",
      "41\n",
      "40\n",
      "39\n",
      "38\n",
      "37\n",
      "36\n",
      "35\n",
      "34\n",
      "33\n",
      "32\n",
      "31\n",
      "30\n",
      "29\n",
      "28\n",
      "27\n",
      "26\n",
      "25\n",
      "24\n",
      "23\n",
      "22\n",
      "21\n",
      "20\n",
      "19\n",
      "18\n",
      "17\n",
      "16\n",
      "15\n",
      "14\n",
      "13\n",
      "12\n",
      "11\n",
      "10\n",
      "9\n",
      "8\n",
      "7\n",
      "6\n",
      "5\n",
      "4\n",
      "3\n",
      "2\n",
      "1\n"
     ]
    }
   ],
   "source": [
    "for i in range(99,0,-1):\n",
    "    print(i)"
   ]
  },
  {
   "cell_type": "code",
   "execution_count": null,
   "id": "e70c2baa-4535-4493-be39-578bdc6c5e85",
   "metadata": {},
   "outputs": [],
   "source": [
    "# 165"
   ]
  },
  {
   "cell_type": "code",
   "execution_count": 92,
   "id": "452ba2cf-ed06-4dd8-b72a-cf1f84a8718c",
   "metadata": {
    "collapsed": true,
    "jupyter": {
     "outputs_hidden": true
    }
   },
   "outputs": [
    {
     "name": "stdout",
     "output_type": "stream",
     "text": [
      "0.0\n",
      "0.1\n",
      "0.2\n",
      "0.3\n",
      "0.4\n",
      "0.5\n",
      "0.6\n",
      "0.7\n",
      "0.8\n",
      "0.9\n"
     ]
    }
   ],
   "source": [
    "for i in range(10) :\n",
    "    print(i / 10)"
   ]
  },
  {
   "cell_type": "code",
   "execution_count": null,
   "id": "dfcc89f3-e949-40fb-847a-4ce16593c859",
   "metadata": {},
   "outputs": [],
   "source": [
    "# 166"
   ]
  },
  {
   "cell_type": "code",
   "execution_count": 96,
   "id": "c4b5c5f8-3d6f-4a10-b33b-35e736a9648a",
   "metadata": {},
   "outputs": [
    {
     "name": "stdout",
     "output_type": "stream",
     "text": [
      "3 * 1 = 3\n",
      "3 * 2 = 6\n",
      "3 * 3 = 9\n",
      "3 * 4 = 12\n",
      "3 * 5 = 15\n",
      "3 * 6 = 18\n",
      "3 * 7 = 21\n",
      "3 * 8 = 24\n",
      "3 * 9 = 27\n"
     ]
    }
   ],
   "source": [
    "for i in range(1,10) :\n",
    "    print(3, \"*\", i, \"=\", 3*i)"
   ]
  },
  {
   "cell_type": "code",
   "execution_count": null,
   "id": "931b2322-154e-4559-8344-44062ca91462",
   "metadata": {},
   "outputs": [],
   "source": [
    "# 167"
   ]
  },
  {
   "cell_type": "code",
   "execution_count": 99,
   "id": "3d5d1a81-263d-4ba3-a1e6-a0889ea878c5",
   "metadata": {},
   "outputs": [
    {
     "name": "stdout",
     "output_type": "stream",
     "text": [
      "3 * 1 = 3\n",
      "3 * 3 = 9\n",
      "3 * 5 = 15\n",
      "3 * 7 = 21\n",
      "3 * 9 = 27\n"
     ]
    }
   ],
   "source": [
    "for i in range(1,10) :\n",
    "    if i % 2 == 1 :\n",
    "        print(3, \"*\", i, \"=\", 3*i)"
   ]
  },
  {
   "cell_type": "code",
   "execution_count": null,
   "id": "3c133dbd-3165-4e05-91f5-12448166d031",
   "metadata": {},
   "outputs": [],
   "source": [
    "# 168 "
   ]
  },
  {
   "cell_type": "code",
   "execution_count": 101,
   "id": "cd8c3140-21d7-41f2-9976-3c7c99489f12",
   "metadata": {},
   "outputs": [
    {
     "name": "stdout",
     "output_type": "stream",
     "text": [
      "55\n"
     ]
    }
   ],
   "source": [
    "num=0\n",
    "for i in range(1,11) :\n",
    "    num = i + num\n",
    "print(num)"
   ]
  },
  {
   "cell_type": "code",
   "execution_count": null,
   "id": "6822b3ae-8626-4428-b64f-45b9604ba17f",
   "metadata": {},
   "outputs": [],
   "source": [
    "# 169"
   ]
  },
  {
   "cell_type": "code",
   "execution_count": 102,
   "id": "e68bca4b-4587-4644-8c17-46d5c32701e7",
   "metadata": {},
   "outputs": [
    {
     "name": "stdout",
     "output_type": "stream",
     "text": [
      "25\n"
     ]
    }
   ],
   "source": [
    "num=0\n",
    "for i in range(1,11) :\n",
    "    if i % 2 == 1 :\n",
    "        num = i + num\n",
    "print(num)"
   ]
  },
  {
   "cell_type": "code",
   "execution_count": null,
   "id": "5635c73e-a841-4723-86de-51ab90c177f0",
   "metadata": {},
   "outputs": [],
   "source": [
    "# 170"
   ]
  },
  {
   "cell_type": "code",
   "execution_count": 108,
   "id": "a997ad9e-0f82-489d-82a2-a72ebeab4c22",
   "metadata": {},
   "outputs": [
    {
     "name": "stdout",
     "output_type": "stream",
     "text": [
      "3628800\n"
     ]
    }
   ],
   "source": [
    "num=1\n",
    "for i in range(1,11) :\n",
    "        num = i * num\n",
    "print(num)"
   ]
  },
  {
   "cell_type": "code",
   "execution_count": null,
   "id": "45e9e18e-53d3-478a-879e-b3feeb6f326a",
   "metadata": {},
   "outputs": [],
   "source": [
    "# 171"
   ]
  },
  {
   "cell_type": "code",
   "execution_count": 105,
   "id": "329e25ed-ef8f-4e3a-a327-271853487dc2",
   "metadata": {},
   "outputs": [
    {
     "name": "stdout",
     "output_type": "stream",
     "text": [
      "32100\n",
      "32150\n",
      "32000\n",
      "32500\n"
     ]
    }
   ],
   "source": [
    "price_list = [32100, 32150, 32000, 32500]\n",
    "for i in range(0,4) :\n",
    "    print(price_list[i])"
   ]
  },
  {
   "cell_type": "code",
   "execution_count": null,
   "id": "0a351e1c-7401-4b14-b736-ed5af243a142",
   "metadata": {},
   "outputs": [],
   "source": [
    "# 172"
   ]
  },
  {
   "cell_type": "code",
   "execution_count": 110,
   "id": "11548192-4e42-4935-a543-c69dbcb48006",
   "metadata": {},
   "outputs": [
    {
     "name": "stdout",
     "output_type": "stream",
     "text": [
      "0 32100\n",
      "1 32150\n",
      "2 32000\n",
      "3 32500\n"
     ]
    }
   ],
   "source": [
    "price_list = [32100, 32150, 32000, 32500]\n",
    "for i in range(0,4) :\n",
    "    print(i,price_list[i])"
   ]
  },
  {
   "cell_type": "code",
   "execution_count": null,
   "id": "f4590001-3a90-4ffc-8f61-e24edfaec20e",
   "metadata": {},
   "outputs": [],
   "source": [
    "# 173"
   ]
  },
  {
   "cell_type": "code",
   "execution_count": 114,
   "id": "b4452d92-9436-4a8d-9a3c-2632d98e277c",
   "metadata": {},
   "outputs": [
    {
     "name": "stdout",
     "output_type": "stream",
     "text": [
      "3 32500\n",
      "2 32000\n",
      "1 32150\n",
      "0 32100\n"
     ]
    }
   ],
   "source": [
    "price_list = [32100, 32150, 32000, 32500]\n",
    "for i in range(3,-1,-1) :\n",
    "    print(i,price_list[i])"
   ]
  },
  {
   "cell_type": "code",
   "execution_count": null,
   "id": "e8ccd91d-d8a9-4272-87d3-f4b8f8ddca68",
   "metadata": {},
   "outputs": [],
   "source": [
    "# 174"
   ]
  },
  {
   "cell_type": "code",
   "execution_count": 115,
   "id": "4b2d0aca-2b77-440e-ba79-e1afc2c8d4c3",
   "metadata": {},
   "outputs": [
    {
     "name": "stdout",
     "output_type": "stream",
     "text": [
      "100 32150\n",
      "110 32000\n",
      "120 32500\n"
     ]
    }
   ],
   "source": [
    "price_list = [32100, 32150, 32000, 32500]\n",
    "for i in range(1,4) :\n",
    "    print(100 + (i-1)*10,price_list[i])\n"
   ]
  },
  {
   "cell_type": "code",
   "execution_count": null,
   "id": "66c06add-b53e-4f0e-98f7-3403003e8cb1",
   "metadata": {},
   "outputs": [],
   "source": [
    "# 175"
   ]
  },
  {
   "cell_type": "code",
   "execution_count": 121,
   "id": "91dba148-311a-456b-a17a-c1c37fe96ed4",
   "metadata": {},
   "outputs": [
    {
     "name": "stdout",
     "output_type": "stream",
     "text": [
      "가 나\n",
      "나 다\n",
      "다 라\n"
     ]
    }
   ],
   "source": [
    "my_list = [\"가\", \"나\", \"다\", \"라\"]\n",
    "for i in range(0,3) :\n",
    "    print(my_list[i],my_list[i+1])"
   ]
  },
  {
   "cell_type": "code",
   "execution_count": null,
   "id": "ad8221b4-1c30-4760-abdb-3403ef77f81f",
   "metadata": {},
   "outputs": [],
   "source": [
    "# 176"
   ]
  },
  {
   "cell_type": "code",
   "execution_count": 122,
   "id": "9775ffc7-a850-4da1-8969-1a594f57e22d",
   "metadata": {},
   "outputs": [
    {
     "name": "stdout",
     "output_type": "stream",
     "text": [
      "가 나 다\n",
      "나 다 라\n",
      "다 라 마\n"
     ]
    }
   ],
   "source": [
    "my_list = [\"가\", \"나\", \"다\", \"라\", \"마\"]\n",
    "for i in range(0,3) :\n",
    "    print(my_list[i],my_list[i+1],my_list[i+2])"
   ]
  },
  {
   "cell_type": "code",
   "execution_count": null,
   "id": "31406ecb-6c61-4078-87ba-d71793ef09a6",
   "metadata": {},
   "outputs": [],
   "source": [
    "# 177"
   ]
  },
  {
   "cell_type": "code",
   "execution_count": 125,
   "id": "cb0ba2ec-2f17-4784-ba82-51e8e287a857",
   "metadata": {},
   "outputs": [
    {
     "name": "stdout",
     "output_type": "stream",
     "text": [
      "라 다\n",
      "다 나\n",
      "나 가\n"
     ]
    }
   ],
   "source": [
    "my_list = [\"가\", \"나\", \"다\", \"라\"]\n",
    "for i in range(3,0,-1) :\n",
    "    print(my_list[i],my_list[i-1])"
   ]
  },
  {
   "cell_type": "code",
   "execution_count": null,
   "id": "2665ccbc-2273-4f78-adbb-15130aa1fe0a",
   "metadata": {},
   "outputs": [],
   "source": [
    "# 178"
   ]
  },
  {
   "cell_type": "code",
   "execution_count": 127,
   "id": "5bcecefb-0b37-406f-9523-f189a28a7a3a",
   "metadata": {},
   "outputs": [
    {
     "name": "stdout",
     "output_type": "stream",
     "text": [
      "100\n",
      "200\n",
      "400\n"
     ]
    }
   ],
   "source": [
    "my_list = [100, 200, 400, 800]\n",
    "for i in range(0,3) :\n",
    "    print(my_list[i+1] - my_list[i])"
   ]
  },
  {
   "cell_type": "code",
   "execution_count": null,
   "id": "7f275d66-4590-4728-a940-75691bdcfe34",
   "metadata": {},
   "outputs": [],
   "source": [
    "# 179"
   ]
  },
  {
   "cell_type": "code",
   "execution_count": 132,
   "id": "c80fb737-e827-4fb7-bc58-2c163fceded1",
   "metadata": {},
   "outputs": [
    {
     "name": "stdout",
     "output_type": "stream",
     "text": [
      "233.33333333333334\n",
      "466.6666666666667\n",
      "733.3333333333334\n",
      "1033.3333333333333\n"
     ]
    }
   ],
   "source": [
    "my_list = [100, 200, 400, 800, 1000, 1300]\n",
    "for i in range(0,4) :\n",
    "    avg = (my_list[i]+my_list[i+1]+my_list[i+2])/3\n",
    "    print(avg)"
   ]
  },
  {
   "cell_type": "code",
   "execution_count": null,
   "id": "56f4caa7-9411-4131-afe6-bedbfe60a322",
   "metadata": {},
   "outputs": [],
   "source": [
    "# 180"
   ]
  },
  {
   "cell_type": "code",
   "execution_count": 134,
   "id": "f895fcd0-b5c9-4e3c-8505-7fc0e80339b9",
   "metadata": {},
   "outputs": [
    {
     "name": "stdout",
     "output_type": "stream",
     "text": [
      "50\n",
      "100\n",
      "30\n",
      "80\n",
      "0\n"
     ]
    }
   ],
   "source": [
    "low_prices  = [100, 200, 400, 800, 1000]\n",
    "high_prices = [150, 300, 430, 880, 1000]\n",
    "\n",
    "for i in range(0,5) :\n",
    "    volatility = (high_prices[i] - low_prices[i])\n",
    "    print(volatility)"
   ]
  },
  {
   "cell_type": "code",
   "execution_count": null,
   "id": "e1ab20d1-e81b-4bee-81e0-018eaa73eddb",
   "metadata": {},
   "outputs": [],
   "source": [
    "# 181 "
   ]
  },
  {
   "cell_type": "code",
   "execution_count": 138,
   "id": "7548955c-bed8-44b0-9419-f648ba375a44",
   "metadata": {},
   "outputs": [],
   "source": [
    "apart = [[\"101호\",\"102호\"],[\"201호\",\"202호\"],[\"301호\",\"302호\"]]"
   ]
  },
  {
   "cell_type": "code",
   "execution_count": null,
   "id": "db55befd-e3a5-4cae-a509-26bf8e42d1fc",
   "metadata": {},
   "outputs": [],
   "source": [
    "# 182"
   ]
  },
  {
   "cell_type": "code",
   "execution_count": 140,
   "id": "1f4345a9-93f8-4852-a1de-8b0610058051",
   "metadata": {},
   "outputs": [],
   "source": [
    "stock = [[\"시가\",100,200,300],[\"종가\",80,210,330]]"
   ]
  },
  {
   "cell_type": "code",
   "execution_count": null,
   "id": "080d2cad-1f82-464b-b89a-ce4d88c2db9f",
   "metadata": {},
   "outputs": [],
   "source": [
    "# 183"
   ]
  },
  {
   "cell_type": "code",
   "execution_count": 141,
   "id": "69d0e279-9d19-42c7-bccd-d61550c5a9eb",
   "metadata": {},
   "outputs": [],
   "source": [
    "stock = {\"시가\" : [100,200,300]},{\"종가\": [80,210,330]}"
   ]
  },
  {
   "cell_type": "code",
   "execution_count": null,
   "id": "3f8dd6c7-d4b3-4822-8620-3dca47f69a81",
   "metadata": {},
   "outputs": [],
   "source": [
    "# 184 "
   ]
  },
  {
   "cell_type": "code",
   "execution_count": 142,
   "id": "62317798-d15f-4922-98ac-d56c62c6975e",
   "metadata": {},
   "outputs": [],
   "source": [
    "stock = {\"10/10\" : [80,110,70,90]},{\"10/11\": [210,230,190,200]}"
   ]
  },
  {
   "cell_type": "code",
   "execution_count": null,
   "id": "82bacaed-a982-47bb-89fc-69e05d061203",
   "metadata": {},
   "outputs": [],
   "source": [
    "# 185"
   ]
  },
  {
   "cell_type": "code",
   "execution_count": 158,
   "id": "62f969cc-aec0-4f46-8f71-839d2c9052eb",
   "metadata": {},
   "outputs": [
    {
     "name": "stdout",
     "output_type": "stream",
     "text": [
      "101 호\n",
      "102 호\n",
      "201 호\n",
      "202 호\n",
      "301 호\n",
      "302 호\n"
     ]
    }
   ],
   "source": [
    "apart = [ [101, 102], [201, 202], [301, 302] ]\n",
    "for i in range(0,3) :\n",
    "    for i2 in range(0,2) : \n",
    "        print(apart[i][i2] , \"호\")"
   ]
  },
  {
   "cell_type": "code",
   "execution_count": null,
   "id": "7bfd453d-08fe-4538-9ba8-fb9e19fc91a7",
   "metadata": {},
   "outputs": [],
   "source": [
    " #186"
   ]
  },
  {
   "cell_type": "code",
   "execution_count": 168,
   "id": "28c44b59-0f2f-4894-9dd2-9c81cd402a81",
   "metadata": {},
   "outputs": [
    {
     "name": "stdout",
     "output_type": "stream",
     "text": [
      "301 호\n",
      "302 호\n",
      "201 호\n",
      "202 호\n",
      "101 호\n",
      "102 호\n"
     ]
    }
   ],
   "source": [
    "apart = [ [101, 102], [201, 202], [301, 302] ]\n",
    "for i in range(2,-1,-1) :\n",
    "    for i2 in range(0,2) : \n",
    "        print(apart[i][i2] , \"호\")"
   ]
  },
  {
   "cell_type": "code",
   "execution_count": null,
   "id": "5e8b93cb-26f7-41dc-a31e-5115511c6062",
   "metadata": {},
   "outputs": [],
   "source": [
    "# 187"
   ]
  },
  {
   "cell_type": "code",
   "execution_count": 167,
   "id": "7b2af0e0-422f-46b1-ac2d-d187a82fbd61",
   "metadata": {},
   "outputs": [
    {
     "name": "stdout",
     "output_type": "stream",
     "text": [
      "302 호\n",
      "301 호\n",
      "202 호\n",
      "201 호\n",
      "102 호\n",
      "101 호\n"
     ]
    }
   ],
   "source": [
    "apart = [ [101, 102], [201, 202], [301, 302] ]\n",
    "for i in range(2,-1,-1) :\n",
    "    for i2 in range(1,-1,-1) : \n",
    "        print(apart[i][i2] , \"호\")"
   ]
  },
  {
   "cell_type": "code",
   "execution_count": null,
   "id": "b2552b3e-4141-442a-8d35-71d150a1509e",
   "metadata": {},
   "outputs": [],
   "source": [
    "#188"
   ]
  },
  {
   "cell_type": "code",
   "execution_count": 172,
   "id": "76e0cda4-6021-43a6-bb5c-1d6b3cedc6db",
   "metadata": {},
   "outputs": [
    {
     "name": "stdout",
     "output_type": "stream",
     "text": [
      "101 호\n",
      "----\n",
      "102 호\n",
      "----\n",
      "201 호\n",
      "----\n",
      "202 호\n",
      "----\n",
      "301 호\n",
      "----\n",
      "302 호\n",
      "----\n"
     ]
    }
   ],
   "source": [
    "apart = [ [101, 102], [201, 202], [301, 302] ]\n",
    "for i in range(0,3) :\n",
    "    for i2 in range(0,2) : \n",
    "        print(apart[i][i2] , \"호\")\n",
    "        print(\"----\")"
   ]
  },
  {
   "cell_type": "code",
   "execution_count": null,
   "id": "9ac9bfc0-3657-4767-880d-b236298d1655",
   "metadata": {},
   "outputs": [],
   "source": [
    "# 189"
   ]
  },
  {
   "cell_type": "code",
   "execution_count": 173,
   "id": "eaac3b00-74b9-4f53-badf-6793bf3a527b",
   "metadata": {},
   "outputs": [
    {
     "name": "stdout",
     "output_type": "stream",
     "text": [
      "101 호\n",
      "102 호\n",
      "----\n",
      "201 호\n",
      "202 호\n",
      "----\n",
      "301 호\n",
      "302 호\n",
      "----\n"
     ]
    }
   ],
   "source": [
    "apart = [ [101, 102], [201, 202], [301, 302] ]\n",
    "for i in range(0,3) :\n",
    "    for i2 in range(0,2) : \n",
    "        print(apart[i][i2] , \"호\")\n",
    "    print(\"----\")"
   ]
  },
  {
   "cell_type": "code",
   "execution_count": null,
   "id": "007f5d14-fc6d-4856-a123-90cfdf519bb1",
   "metadata": {},
   "outputs": [],
   "source": [
    "#190"
   ]
  },
  {
   "cell_type": "code",
   "execution_count": 176,
   "id": "74946042-6b80-44cf-8e00-b3b6011e0c54",
   "metadata": {},
   "outputs": [
    {
     "name": "stdout",
     "output_type": "stream",
     "text": [
      "101 호\n",
      "102 호\n",
      "201 호\n",
      "202 호\n",
      "301 호\n",
      "302 호\n",
      "----\n"
     ]
    }
   ],
   "source": [
    "apart = [ [101, 102], [201, 202], [301, 302] ]\n",
    "for i in range(0,3) :\n",
    "    for i2 in range(0,2) : \n",
    "        print(apart[i][i2] , \"호\")\n",
    "print(\"----\")"
   ]
  },
  {
   "cell_type": "code",
   "execution_count": null,
   "id": "b4752f95-9262-45da-99a7-c7ff4e734116",
   "metadata": {},
   "outputs": [],
   "source": [
    "#191"
   ]
  },
  {
   "cell_type": "code",
   "execution_count": 177,
   "id": "78d3d69d-e6ed-4131-868b-328fe851a8c4",
   "metadata": {},
   "outputs": [
    {
     "name": "stdout",
     "output_type": "stream",
     "text": [
      "2000.28\n",
      "3050.427\n",
      "2050.2870000000003\n",
      "1980.2772\n",
      "7501.05\n",
      "2050.2870000000003\n",
      "2050.2870000000003\n",
      "1980.2772\n",
      "15452.163\n",
      "15052.107\n",
      "15552.177\n",
      "14902.086000000001\n"
     ]
    }
   ],
   "source": [
    "data = [\n",
    "    [ 2000,  3050,  2050,  1980],\n",
    "    [ 7500,  2050,  2050,  1980],\n",
    "    [15450, 15050, 15550, 14900]\n",
    "]\n",
    "\n",
    "for line in data :\n",
    "    for c in line :\n",
    "        print(c * 1.00014)"
   ]
  },
  {
   "cell_type": "code",
   "execution_count": null,
   "id": "8730d531-6732-4077-ad3a-55ae2449a559",
   "metadata": {},
   "outputs": [],
   "source": [
    "#192"
   ]
  },
  {
   "cell_type": "code",
   "execution_count": 178,
   "id": "6b36b62e-f45e-4226-9ad5-cd666e62f0a7",
   "metadata": {},
   "outputs": [
    {
     "name": "stdout",
     "output_type": "stream",
     "text": [
      "2000.28\n",
      "3050.427\n",
      "2050.2870000000003\n",
      "1980.2772\n",
      "----\n",
      "7501.05\n",
      "2050.2870000000003\n",
      "2050.2870000000003\n",
      "1980.2772\n",
      "----\n",
      "15452.163\n",
      "15052.107\n",
      "15552.177\n",
      "14902.086000000001\n",
      "----\n"
     ]
    }
   ],
   "source": [
    "data = [\n",
    "    [ 2000,  3050,  2050,  1980],\n",
    "    [ 7500,  2050,  2050,  1980],\n",
    "    [15450, 15050, 15550, 14900]\n",
    "]\n",
    "\n",
    "for line in data :\n",
    "    for c in line :\n",
    "        print(c * 1.00014)\n",
    "    print(\"----\")"
   ]
  },
  {
   "cell_type": "code",
   "execution_count": null,
   "id": "4431416e-d6ba-435d-a6d4-50b4dec2d357",
   "metadata": {},
   "outputs": [],
   "source": [
    "#193"
   ]
  },
  {
   "cell_type": "code",
   "execution_count": 184,
   "id": "8ce4fb29-2ffc-416d-b239-d734fca62e84",
   "metadata": {},
   "outputs": [
    {
     "name": "stdout",
     "output_type": "stream",
     "text": [
      "[2000.28, 3050.427, 2050.2870000000003, 1980.2772, 7501.05, 2050.2870000000003, 2050.2870000000003, 1980.2772, 15452.163, 15052.107, 15552.177, 14902.086000000001]\n"
     ]
    }
   ],
   "source": [
    "result = []\n",
    "for line in data:\n",
    "    for c in line :\n",
    "        result.append(c * 1.00014)\n",
    "print(result)"
   ]
  },
  {
   "cell_type": "code",
   "execution_count": null,
   "id": "b4bae3f4-73fa-4a8f-82e1-a80ad3e2d79e",
   "metadata": {},
   "outputs": [],
   "source": [
    "# 194"
   ]
  },
  {
   "cell_type": "code",
   "execution_count": 185,
   "id": "fd53f5b4-d306-431e-aa82-3c053dc4f85a",
   "metadata": {},
   "outputs": [
    {
     "name": "stdout",
     "output_type": "stream",
     "text": [
      "[[2000.28, 3050.427, 2050.2870000000003, 1980.2772], [7501.05, 2050.2870000000003, 2050.2870000000003, 1980.2772], [15452.163, 15052.107, 15552.177, 14902.086000000001]]\n"
     ]
    }
   ],
   "source": [
    "result = [] ##\n",
    "for line in data:\n",
    "    result2 = []\n",
    "    for c in line :\n",
    "        result2.append(c * 1.00014)\n",
    "    result.append(result2)\n",
    "print(result)"
   ]
  },
  {
   "cell_type": "code",
   "execution_count": null,
   "id": "96c6abc5-0a44-4609-bfa7-27c70385f82e",
   "metadata": {},
   "outputs": [],
   "source": [
    "# 195"
   ]
  },
  {
   "cell_type": "code",
   "execution_count": 186,
   "id": "af37079d-a69c-4646-82e7-ef761cc75391",
   "metadata": {},
   "outputs": [
    {
     "name": "stdout",
     "output_type": "stream",
     "text": [
      "100\n",
      "190\n",
      "310\n"
     ]
    }
   ],
   "source": [
    "ohlc = [[\"open\", \"high\", \"low\", \"close\"],\n",
    "        [100, 110, 70, 100],\n",
    "        [200, 210, 180, 190],\n",
    "        [300, 310, 300, 310]]\n",
    "\n",
    "for i in ohlc[1:]:\n",
    "    print(i[3]) "
   ]
  },
  {
   "cell_type": "code",
   "execution_count": null,
   "id": "0fb36aa2-6c3f-47ed-aee1-c6a7b0202d7e",
   "metadata": {},
   "outputs": [],
   "source": [
    "# 196"
   ]
  },
  {
   "cell_type": "code",
   "execution_count": 188,
   "id": "38ba994f-2056-42c9-91aa-306223d25579",
   "metadata": {},
   "outputs": [
    {
     "name": "stdout",
     "output_type": "stream",
     "text": [
      "190\n",
      "310\n"
     ]
    }
   ],
   "source": [
    "ohlc = [[\"open\", \"high\", \"low\", \"close\"],\n",
    "        [100, 110, 70, 100],\n",
    "        [200, 210, 180, 190],\n",
    "        [300, 310, 300, 310]]\n",
    "\n",
    "for i in ohlc[1:]:\n",
    "    if (i[3] > 150) :\n",
    "        print(i[3]) "
   ]
  },
  {
   "cell_type": "code",
   "execution_count": null,
   "id": "a3f2108a-f64a-417b-b7e2-caff190a32fc",
   "metadata": {},
   "outputs": [],
   "source": [
    "# 197"
   ]
  },
  {
   "cell_type": "code",
   "execution_count": 191,
   "id": "6071cafa-b73c-47b5-9109-658e2e8fade0",
   "metadata": {},
   "outputs": [
    {
     "name": "stdout",
     "output_type": "stream",
     "text": [
      "100\n",
      "310\n"
     ]
    }
   ],
   "source": [
    "ohlc = [[\"open\", \"high\", \"low\", \"close\"],\n",
    "        [100, 110, 70, 100],\n",
    "        [200, 210, 180, 190],\n",
    "        [300, 310, 300, 310]]\n",
    "\n",
    "for i in ohlc[1:]:\n",
    "    if (i[3] >= i[0]) :\n",
    "        print(i[3]) "
   ]
  },
  {
   "cell_type": "code",
   "execution_count": null,
   "id": "ec464a55-cea2-4508-b24e-e9d3d05a922e",
   "metadata": {},
   "outputs": [],
   "source": [
    "# 198"
   ]
  },
  {
   "cell_type": "code",
   "execution_count": 192,
   "id": "d2120952-798e-4e90-ac6a-d11042052a31",
   "metadata": {},
   "outputs": [
    {
     "name": "stdout",
     "output_type": "stream",
     "text": [
      "[40, 30, 10]\n"
     ]
    }
   ],
   "source": [
    "ohlc = [[\"open\", \"high\", \"low\", \"close\"],\n",
    "        [100, 110, 70, 100],\n",
    "        [200, 210, 180, 190],\n",
    "        [300, 310, 300, 310]]\n",
    "\n",
    "volatility = []\n",
    "for i in range(1, len(ohlc)):\n",
    "    volatility.append(ohlc[i][1]-ohlc[i][2])\n",
    "print(volatility)"
   ]
  },
  {
   "cell_type": "code",
   "execution_count": null,
   "id": "099bc46a-9fc5-4734-9b37-310ef6fd0f4b",
   "metadata": {},
   "outputs": [],
   "source": [
    "#199"
   ]
  },
  {
   "cell_type": "code",
   "execution_count": null,
   "id": "98d6ea1c-739a-4cb9-8bbf-407da034f286",
   "metadata": {},
   "outputs": [],
   "source": [
    "ohlc = [[\"open\", \"high\", \"low\", \"close\"],\n",
    "        [100, 110, 70, 100],\n",
    "        [200, 210, 180, 190],\n",
    "        [300, 310, 300, 310]]"
   ]
  },
  {
   "cell_type": "code",
   "execution_count": null,
   "id": "e26f0ab8-c52e-41cf-bb16-4f1651a95524",
   "metadata": {},
   "outputs": [],
   "source": [
    "for i in ohlc[1:]:\n",
    "    if i[3] > i[0]:\n",
    "        print(i[1]-i[2])"
   ]
  },
  {
   "cell_type": "code",
   "execution_count": null,
   "id": "69394e69-55d6-4086-af4e-3918b7ad6c87",
   "metadata": {},
   "outputs": [],
   "source": [
    "# 200"
   ]
  },
  {
   "cell_type": "code",
   "execution_count": 3,
   "id": "b19cb799-3230-432e-88e8-c945eda34a46",
   "metadata": {},
   "outputs": [
    {
     "name": "stdout",
     "output_type": "stream",
     "text": [
      "0\n",
      "-10\n",
      "0\n"
     ]
    }
   ],
   "source": [
    "ohlc = [[\"open\", \"high\", \"low\", \"close\"],\n",
    "        [100, 110, 70, 100],\n",
    "        [200, 210, 180, 190],\n",
    "        [300, 310, 300, 310]]\n",
    "\n",
    "profit = 0\n",
    "for i in ohlc[1:]:\n",
    "    profit += (i[3] - i[0])\n",
    "    print(profit)"
   ]
  },
  {
   "cell_type": "code",
   "execution_count": null,
   "id": "22e2740e-ade0-4611-9ef4-02470efaff33",
   "metadata": {},
   "outputs": [],
   "source": []
  },
  {
   "cell_type": "code",
   "execution_count": null,
   "id": "04fa509e-7098-4a9a-b19d-7f640b3b9390",
   "metadata": {},
   "outputs": [],
   "source": []
  },
  {
   "cell_type": "code",
   "execution_count": null,
   "id": "cfcbc3a1-3c5d-49ae-8dd8-5c4df1279397",
   "metadata": {},
   "outputs": [],
   "source": []
  },
  {
   "cell_type": "code",
   "execution_count": null,
   "id": "4b77e62d-e215-4ffc-8d8c-0041b2df1965",
   "metadata": {},
   "outputs": [],
   "source": []
  },
  {
   "cell_type": "code",
   "execution_count": null,
   "id": "7a86ad6f-9de0-46c8-b788-9926fd0b844b",
   "metadata": {},
   "outputs": [],
   "source": []
  },
  {
   "cell_type": "code",
   "execution_count": null,
   "id": "2fffaa83-7905-4ba4-958c-56786da29f40",
   "metadata": {},
   "outputs": [],
   "source": []
  },
  {
   "cell_type": "code",
   "execution_count": null,
   "id": "d7752fec-909a-43d1-bea1-11aed5327cf5",
   "metadata": {},
   "outputs": [],
   "source": []
  },
  {
   "cell_type": "code",
   "execution_count": null,
   "id": "4c554692-75f3-489d-8c1e-f4f3fb8aee50",
   "metadata": {},
   "outputs": [],
   "source": []
  },
  {
   "cell_type": "code",
   "execution_count": null,
   "id": "479ad526-33ac-4ebf-97c9-c2fcddf0565c",
   "metadata": {},
   "outputs": [],
   "source": []
  },
  {
   "cell_type": "code",
   "execution_count": null,
   "id": "8ca6fa0e-e474-44c5-8347-709b67fd21b4",
   "metadata": {},
   "outputs": [],
   "source": []
  },
  {
   "cell_type": "code",
   "execution_count": null,
   "id": "d004ad74-df6b-4887-87da-46faade6622a",
   "metadata": {},
   "outputs": [],
   "source": []
  },
  {
   "cell_type": "code",
   "execution_count": null,
   "id": "54fdeb26-a0a3-44ed-a6e6-d6efbc1c2ddc",
   "metadata": {},
   "outputs": [],
   "source": []
  }
 ],
 "metadata": {
  "kernelspec": {
   "display_name": "Python 3 (ipykernel)",
   "language": "python",
   "name": "python3"
  },
  "language_info": {
   "codemirror_mode": {
    "name": "ipython",
    "version": 3
   },
   "file_extension": ".py",
   "mimetype": "text/x-python",
   "name": "python",
   "nbconvert_exporter": "python",
   "pygments_lexer": "ipython3",
   "version": "3.11.7"
  }
 },
 "nbformat": 4,
 "nbformat_minor": 5
}
