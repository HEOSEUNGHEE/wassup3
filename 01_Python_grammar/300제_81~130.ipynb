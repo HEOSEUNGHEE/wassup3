{
 "cells": [
  {
   "cell_type": "markdown",
   "id": "829915da-813a-4a48-9396-ab4b88bb8c5b",
   "metadata": {},
   "source": [
    "# 파이썬 딕셔너리"
   ]
  },
  {
   "cell_type": "markdown",
   "id": "56511cbb-7976-46f0-a4a8-c0590305ba21",
   "metadata": {},
   "source": [
    "## 81~90"
   ]
  },
  {
   "cell_type": "code",
   "execution_count": 1,
   "id": "9e3aaf69-c871-44e8-ac6e-dcaeec74eb81",
   "metadata": {},
   "outputs": [
    {
     "name": "stdout",
     "output_type": "stream",
     "text": [
      "[8.8, 8.9, 8.7, 9.2, 9.3, 9.7, 9.9, 9.5]\n"
     ]
    }
   ],
   "source": [
    "#81\n",
    "scores = [8.8, 8.9, 8.7, 9.2, 9.3, 9.7, 9.9, 9.5, 7.8, 9.4]\n",
    "*valid_score, _, _= scores\n",
    "print(valid_score)"
   ]
  },
  {
   "cell_type": "code",
   "execution_count": 2,
   "id": "7103b5f1-4427-47e6-9293-8b156941fce3",
   "metadata": {},
   "outputs": [
    {
     "name": "stdout",
     "output_type": "stream",
     "text": [
      "[8.7, 9.2, 9.3, 9.7, 9.9, 9.5, 7.8, 9.4]\n"
     ]
    }
   ],
   "source": [
    "#82\n",
    "scores = [8.8, 8.9, 8.7, 9.2, 9.3, 9.7, 9.9, 9.5, 7.8, 9.4]\n",
    "_,_,*valid_score= scores\n",
    "print(valid_score)"
   ]
  },
  {
   "cell_type": "code",
   "execution_count": 3,
   "id": "82d9d723-9a42-496b-a673-997f60b74cb3",
   "metadata": {},
   "outputs": [
    {
     "name": "stdout",
     "output_type": "stream",
     "text": [
      "[8.9, 8.7, 9.2, 9.3, 9.7, 9.9, 9.5, 7.8]\n"
     ]
    }
   ],
   "source": [
    "#83\n",
    "scores = [8.8, 8.9, 8.7, 9.2, 9.3, 9.7, 9.9, 9.5, 7.8, 9.4]\n",
    "a,*valid_score,b = scores\n",
    "print(valid_score)"
   ]
  },
  {
   "cell_type": "code",
   "execution_count": 5,
   "id": "d7a15245-438b-48d3-96df-3a62d8f0ace8",
   "metadata": {},
   "outputs": [],
   "source": [
    "# 84\n",
    "temp = {}"
   ]
  },
  {
   "cell_type": "code",
   "execution_count": 7,
   "id": "02e579af-86c3-4e12-befb-1157aaa70f9d",
   "metadata": {},
   "outputs": [
    {
     "name": "stdout",
     "output_type": "stream",
     "text": [
      "{'메로나': 1000, '폴라포': 1200, '빵빠레': 1800}\n"
     ]
    }
   ],
   "source": [
    "# 85\n",
    "ice = {'메로나':1000,'폴라포':1200,'빵빠레':1800}\n",
    "print(ice)"
   ]
  },
  {
   "cell_type": "code",
   "execution_count": null,
   "id": "940ebfe1-d5af-486e-820f-1050049e2326",
   "metadata": {},
   "outputs": [],
   "source": [
    "#ice = dict('메로나':1000,'폴라포':1200,'빵빠레':1800)\n",
    "#ice = dict([('메로나':1000),('폴라포':1200),('빵빠레':1800)])\n",
    "#keys = ['메로나','폴라포','빵빠레']\n",
    "#values = [1000,1200,1800]\n",
    "#ice = dict(zip(keys,values))\n",
    "#ice = {'메로나'=1000,'폴라포'=1200,'빵빠레'=1800}"
   ]
  },
  {
   "cell_type": "code",
   "execution_count": null,
   "id": "c3b0f577-c474-4274-80b8-b23b4a6b6b29",
   "metadata": {},
   "outputs": [],
   "source": [
    "# 86"
   ]
  },
  {
   "cell_type": "code",
   "execution_count": 9,
   "id": "471b49bd-dfef-4c98-ac2a-3821cec09a5e",
   "metadata": {},
   "outputs": [
    {
     "name": "stdout",
     "output_type": "stream",
     "text": [
      "{'메로나': 1000, '폴라포': 1200, '빵빠레': 1800, '죠스바': 1200, '월드콘': 1500}\n"
     ]
    }
   ],
   "source": [
    "ice = {'메로나':1000,'폴라포':1200,'빵빠레':1800}\n",
    "ice['죠스바'] = 1200\n",
    "ice['월드콘'] = 1500\n",
    "print(ice)"
   ]
  },
  {
   "cell_type": "code",
   "execution_count": null,
   "id": "0f13d165-c2d6-413c-bfda-28a37b554bce",
   "metadata": {},
   "outputs": [],
   "source": [
    "# 87"
   ]
  },
  {
   "cell_type": "code",
   "execution_count": 14,
   "id": "3e35a2d2-ee36-49b3-8fcc-58aea8be3f98",
   "metadata": {},
   "outputs": [
    {
     "name": "stdout",
     "output_type": "stream",
     "text": [
      "메로나 가격:  1000\n"
     ]
    }
   ],
   "source": [
    "ice = {'메로나': 1000,\n",
    "       '폴로포': 1200,\n",
    "       '빵빠레': 1800,\n",
    "       '죠스바': 1200,\n",
    "       '월드콘': 1500}\n",
    "ice['메로나']\n",
    "print(\"메로나 가격: \",ice['메로나'])"
   ]
  },
  {
   "cell_type": "code",
   "execution_count": null,
   "id": "0b2e1e2e-674d-4e30-ad67-c95f989398c1",
   "metadata": {},
   "outputs": [],
   "source": [
    "# 88"
   ]
  },
  {
   "cell_type": "code",
   "execution_count": 19,
   "id": "491211a7-cb6b-45e2-9a2a-9ea605841359",
   "metadata": {},
   "outputs": [
    {
     "name": "stdout",
     "output_type": "stream",
     "text": [
      "{'폴로포': 1200, '빵빠레': 1800, '죠스바': 1200, '월드콘': 1500, '메로나': 1300}\n"
     ]
    }
   ],
   "source": [
    "ice[\"메로나\"] = 1300\n",
    "print(ice)"
   ]
  },
  {
   "cell_type": "code",
   "execution_count": null,
   "id": "6562b597-5ace-41ac-8116-5e93aa0ca412",
   "metadata": {},
   "outputs": [],
   "source": [
    "# 89"
   ]
  },
  {
   "cell_type": "code",
   "execution_count": 20,
   "id": "36f75f43-7d89-4de9-a20b-e6e15a0eb63e",
   "metadata": {},
   "outputs": [
    {
     "name": "stdout",
     "output_type": "stream",
     "text": [
      "{'폴로포': 1200, '빵빠레': 1800, '죠스바': 1200, '월드콘': 1500}\n"
     ]
    }
   ],
   "source": [
    "ice = {'메로나': 1000,\n",
    "       '폴로포': 1200,\n",
    "       '빵빠레': 1800,\n",
    "       '죠스바': 1200,\n",
    "       '월드콘': 1500}\n",
    "del ice['메로나']\n",
    "print(ice)"
   ]
  },
  {
   "cell_type": "code",
   "execution_count": null,
   "id": "43ddfdf1-98e5-4009-ba2d-e5d2d41fc1fe",
   "metadata": {},
   "outputs": [],
   "source": [
    "# 90"
   ]
  },
  {
   "cell_type": "code",
   "execution_count": 21,
   "id": "c52b0004-6299-4084-8e39-6aed82117cac",
   "metadata": {},
   "outputs": [
    {
     "ename": "KeyError",
     "evalue": "'누가바'",
     "output_type": "error",
     "traceback": [
      "\u001b[1;31m---------------------------------------------------------------------------\u001b[0m",
      "\u001b[1;31mKeyError\u001b[0m                                  Traceback (most recent call last)",
      "Cell \u001b[1;32mIn[21], line 2\u001b[0m\n\u001b[0;32m      1\u001b[0m icecream \u001b[38;5;241m=\u001b[39m {\u001b[38;5;124m'\u001b[39m\u001b[38;5;124m폴라포\u001b[39m\u001b[38;5;124m'\u001b[39m: \u001b[38;5;241m1200\u001b[39m, \u001b[38;5;124m'\u001b[39m\u001b[38;5;124m빵빠레\u001b[39m\u001b[38;5;124m'\u001b[39m: \u001b[38;5;241m1800\u001b[39m, \u001b[38;5;124m'\u001b[39m\u001b[38;5;124m월드콘\u001b[39m\u001b[38;5;124m'\u001b[39m: \u001b[38;5;241m1500\u001b[39m, \u001b[38;5;124m'\u001b[39m\u001b[38;5;124m메로나\u001b[39m\u001b[38;5;124m'\u001b[39m: \u001b[38;5;241m1000\u001b[39m}\n\u001b[1;32m----> 2\u001b[0m icecream[\u001b[38;5;124m'\u001b[39m\u001b[38;5;124m누가바\u001b[39m\u001b[38;5;124m'\u001b[39m]\n",
      "\u001b[1;31mKeyError\u001b[0m: '누가바'"
     ]
    }
   ],
   "source": [
    "icecream = {'폴라포': 1200, '빵빠레': 1800, '월드콘': 1500, '메로나': 1000}\n",
    "icecream['누가바']"
   ]
  },
  {
   "cell_type": "code",
   "execution_count": null,
   "id": "95c1f898-2e62-4c1c-ae4f-c628abe55895",
   "metadata": {},
   "outputs": [],
   "source": [
    "# 딕셔너리 안에 누가바 라는 키가 없는데, 인덱싱해서 에러 발"
   ]
  },
  {
   "cell_type": "markdown",
   "id": "71b37ad1-c401-412f-8144-d488610f1eb8",
   "metadata": {},
   "source": [
    "## 91~100"
   ]
  },
  {
   "cell_type": "code",
   "execution_count": null,
   "id": "82c8f3c6-66de-42b2-a787-7418a13b7d34",
   "metadata": {},
   "outputs": [],
   "source": [
    "# 91"
   ]
  },
  {
   "cell_type": "code",
   "execution_count": 25,
   "id": "acfe2908-1abb-4ab5-b8d2-fa6100bd45dd",
   "metadata": {},
   "outputs": [
    {
     "name": "stdout",
     "output_type": "stream",
     "text": [
      "{'메로나': [300, 20], '비비빅': [400, 3], '죠스바': [250, 100]}\n"
     ]
    }
   ],
   "source": [
    "inventory = {'메로나': [300,20], '비비빅': [400,3], '죠스바': [250,100]}\n",
    "print(inventory)"
   ]
  },
  {
   "cell_type": "code",
   "execution_count": null,
   "id": "5911734e-8d3f-400e-80e2-d72b067c6334",
   "metadata": {},
   "outputs": [],
   "source": [
    "# 92"
   ]
  },
  {
   "cell_type": "code",
   "execution_count": 28,
   "id": "eb3dd04a-6efd-4ab2-9da7-16fe7ada2c85",
   "metadata": {},
   "outputs": [
    {
     "name": "stdout",
     "output_type": "stream",
     "text": [
      "300 원\n"
     ]
    }
   ],
   "source": [
    "inventory = {\"메로나\": [300, 20],\n",
    "              \"비비빅\": [400, 3],\n",
    "              \"죠스바\": [250, 100]}\n",
    "print(inventory[\"메로나\"][0], '원')"
   ]
  },
  {
   "cell_type": "code",
   "execution_count": null,
   "id": "b2a44c34-a469-4dd8-bb75-13fd47091618",
   "metadata": {},
   "outputs": [],
   "source": [
    "# 93"
   ]
  },
  {
   "cell_type": "code",
   "execution_count": 29,
   "id": "4baa1981-7307-4e20-9957-f51eded299d0",
   "metadata": {},
   "outputs": [
    {
     "name": "stdout",
     "output_type": "stream",
     "text": [
      "20 개\n"
     ]
    }
   ],
   "source": [
    "inventory = {\"메로나\": [300, 20],\n",
    "              \"비비빅\": [400, 3],\n",
    "              \"죠스바\": [250, 100]}\n",
    "print(inventory[\"메로나\"][1], '개')"
   ]
  },
  {
   "cell_type": "code",
   "execution_count": null,
   "id": "568a73f6-1ca9-4ba2-a477-da80d05de18d",
   "metadata": {},
   "outputs": [],
   "source": [
    "# 94"
   ]
  },
  {
   "cell_type": "code",
   "execution_count": 32,
   "id": "78f4d640-3144-43c5-ade6-d58a85e72b97",
   "metadata": {},
   "outputs": [
    {
     "name": "stdout",
     "output_type": "stream",
     "text": [
      "{'메로나': [300, 20], '비비빅': [400, 3], '죠스바': [250, 100], '월드콘': [500, 7]}\n"
     ]
    }
   ],
   "source": [
    "inventory = {\"메로나\": [300, 20],\n",
    "              \"비비빅\": [400, 3],\n",
    "              \"죠스바\": [250, 100]}\n",
    "inventory[\"월드콘\"] = [500,7]\n",
    "print(inventory)"
   ]
  },
  {
   "cell_type": "code",
   "execution_count": null,
   "id": "957073fa-9a50-42fe-aa1c-ff2fe1c128de",
   "metadata": {},
   "outputs": [],
   "source": [
    "# 95"
   ]
  },
  {
   "cell_type": "code",
   "execution_count": 37,
   "id": "ba5e4def-5703-42d7-9724-6ee23d46d626",
   "metadata": {},
   "outputs": [
    {
     "name": "stdout",
     "output_type": "stream",
     "text": [
      "dict_keys(['탱크보이', '폴라포', '빵빠레', '월드콘', '메로나'])\n"
     ]
    }
   ],
   "source": [
    "icecream = {'탱크보이': 1200, '폴라포': 1200, '빵빠레': 1800, '월드콘': 1500, '메로나': 1000}\n",
    "keys = ['탱크보이','폴라포','빵빠레','월드콘','메로나']\n",
    "\n",
    "print(icecream.keys())"
   ]
  },
  {
   "cell_type": "code",
   "execution_count": 38,
   "id": "103d78ea-3eeb-4b92-968e-13825dbfaa9c",
   "metadata": {},
   "outputs": [
    {
     "name": "stdout",
     "output_type": "stream",
     "text": [
      "['탱크보이', '폴라포', '빵빠레', '월드콘', '메로나']\n"
     ]
    }
   ],
   "source": [
    "icecream = {'탱크보이': 1200, '폴라포': 1200, '빵빠레': 1800, '월드콘': 1500, '메로나': 1000}\n",
    "ice = list(icecream.keys())\n",
    "print(ice)"
   ]
  },
  {
   "cell_type": "code",
   "execution_count": 39,
   "id": "7f4099e6-a37c-40b9-b036-7559e3ee6b00",
   "metadata": {},
   "outputs": [
    {
     "name": "stdout",
     "output_type": "stream",
     "text": [
      "[1200, 1200, 1800, 1500, 1000]\n"
     ]
    }
   ],
   "source": [
    "# 96\n",
    "icecream = {'탱크보이': 1200, '폴라포': 1200, '빵빠레': 1800, '월드콘': 1500, '메로나': 1000}\n",
    "won = list(icecream.values())\n",
    "print(won)"
   ]
  },
  {
   "cell_type": "code",
   "execution_count": 40,
   "id": "4500c405-8df4-4f61-afb6-462f4967f0a7",
   "metadata": {},
   "outputs": [
    {
     "name": "stdout",
     "output_type": "stream",
     "text": [
      "6700\n"
     ]
    }
   ],
   "source": [
    "# 97\n",
    "icecream = {'탱크보이': 1200, '폴라포': 1200, '빵빠레': 1800, '월드콘': 1500, '메로나': 1000}\n",
    "won = list(icecream.values())\n",
    "print(sum(won))"
   ]
  },
  {
   "cell_type": "code",
   "execution_count": 41,
   "id": "ad944529-1c89-4c08-baa5-53f1eaa20807",
   "metadata": {},
   "outputs": [
    {
     "name": "stdout",
     "output_type": "stream",
     "text": [
      "6700\n"
     ]
    }
   ],
   "source": [
    "icecream = {'탱크보이': 1200, '폴라포': 1200, '빵빠레': 1800, '월드콘': 1500, '메로나': 1000}\n",
    "print(sum(icecream.values()))"
   ]
  },
  {
   "cell_type": "code",
   "execution_count": null,
   "id": "86e4df87-2a23-46b0-8f44-f69222b25340",
   "metadata": {},
   "outputs": [],
   "source": [
    "# 98"
   ]
  },
  {
   "cell_type": "code",
   "execution_count": 45,
   "id": "f3d0d112-b4cd-47d9-819b-e70c0efdeab9",
   "metadata": {},
   "outputs": [
    {
     "name": "stdout",
     "output_type": "stream",
     "text": [
      "{'탱크보이': 1200, '폴라포': 1200, '빵빠레': 1800, '월드콘': 1500, '메로나': 1000, '팥빙수': 2700, '아맛나': 1000}\n"
     ]
    }
   ],
   "source": [
    "icecream = {'탱크보이': 1200, '폴라포': 1200, '빵빠레': 1800, '월드콘': 1500, '메로나': 1000}\n",
    "new_product = {'팥빙수':2700, '아맛나':1000}\n",
    "\n",
    "icecream.update(new_product)\n",
    "print(icecream)"
   ]
  },
  {
   "cell_type": "code",
   "execution_count": null,
   "id": "ef4e4e6f-5b05-4ab3-9725-aaac3b175e3d",
   "metadata": {},
   "outputs": [],
   "source": [
    "# 99"
   ]
  },
  {
   "cell_type": "code",
   "execution_count": 51,
   "id": "50d89f53-0480-4d12-9adc-c767abd1e607",
   "metadata": {},
   "outputs": [
    {
     "name": "stdout",
     "output_type": "stream",
     "text": [
      "{'apple': 300, 'pear': 250, 'peach': 400}\n"
     ]
    }
   ],
   "source": [
    "keys = (\"apple\", \"pear\", \"peach\")\n",
    "vals = (300, 250, 400)\n",
    "result = dict(zip(keys,vals))\n",
    "print(result)"
   ]
  },
  {
   "cell_type": "code",
   "execution_count": null,
   "id": "aa0347b2-8632-4726-be24-b26918269ee0",
   "metadata": {},
   "outputs": [],
   "source": [
    "#100"
   ]
  },
  {
   "cell_type": "code",
   "execution_count": 52,
   "id": "d6c78b68-d4f7-451f-a427-ddca7c9dce87",
   "metadata": {},
   "outputs": [
    {
     "name": "stdout",
     "output_type": "stream",
     "text": [
      "{'09/05': 10500, '09/06': 10300, '09/07': 10100, '09/08': 10800, '09/09': 11000}\n"
     ]
    }
   ],
   "source": [
    "date = ['09/05', '09/06', '09/07', '09/08', '09/09']\n",
    "close_price = [10500, 10300, 10100, 10800, 11000]\n",
    "close_table = dict(zip(date,close_price))\n",
    "print(close_table)"
   ]
  },
  {
   "cell_type": "code",
   "execution_count": null,
   "id": "348b0ff6-3d88-4d90-ac9d-34d99cf7e893",
   "metadata": {},
   "outputs": [],
   "source": []
  },
  {
   "cell_type": "markdown",
   "id": "5c1069ab-35eb-4b46-9b89-a4ff16c75b42",
   "metadata": {},
   "source": [
    "# 파이썬 분기문"
   ]
  },
  {
   "cell_type": "markdown",
   "id": "74464828-11c4-452d-b6a6-2f3d6801d8bd",
   "metadata": {},
   "source": [
    "## 101~110"
   ]
  },
  {
   "cell_type": "code",
   "execution_count": null,
   "id": "39780892-78cf-4edb-a95a-01da17f4bcb2",
   "metadata": {},
   "outputs": [],
   "source": [
    "# 101 파이썬에서 True 혹은 False를 갖는 데이터 타입은 무엇"
   ]
  },
  {
   "cell_type": "code",
   "execution_count": null,
   "id": "18fc9053-a615-4c1d-8d93-2b6b509d5df7",
   "metadata": {},
   "outputs": [],
   "source": [
    "bool 타입"
   ]
  },
  {
   "cell_type": "code",
   "execution_count": null,
   "id": "57a02e6a-7998-4782-b425-dc8fcd72c981",
   "metadata": {},
   "outputs": [],
   "source": [
    "# 102"
   ]
  },
  {
   "cell_type": "code",
   "execution_count": 56,
   "id": "df6c0aa7-788d-4387-bad7-9892f208036b",
   "metadata": {},
   "outputs": [
    {
     "name": "stdout",
     "output_type": "stream",
     "text": [
      "False\n"
     ]
    }
   ],
   "source": [
    "print(3 == 5)\n",
    "# False"
   ]
  },
  {
   "cell_type": "code",
   "execution_count": null,
   "id": "9b101aae-be6a-460e-b6d5-1509636ec128",
   "metadata": {},
   "outputs": [],
   "source": [
    "# 103"
   ]
  },
  {
   "cell_type": "code",
   "execution_count": 59,
   "id": "32ce1da6-7823-4e8a-a23a-44e65e903c9e",
   "metadata": {},
   "outputs": [
    {
     "name": "stdout",
     "output_type": "stream",
     "text": [
      "True\n"
     ]
    }
   ],
   "source": [
    "print(3 < 5)\n",
    "# True"
   ]
  },
  {
   "cell_type": "code",
   "execution_count": null,
   "id": "c3564f01-9e2d-496d-9bad-6e573c86c586",
   "metadata": {},
   "outputs": [],
   "source": [
    "# 104"
   ]
  },
  {
   "cell_type": "code",
   "execution_count": 60,
   "id": "2b30132f-49b1-4d48-be4a-4a5161ea8f44",
   "metadata": {},
   "outputs": [
    {
     "name": "stdout",
     "output_type": "stream",
     "text": [
      "True\n"
     ]
    }
   ],
   "source": [
    "x = 4\n",
    "print(1 < x < 5)\n",
    "# True"
   ]
  },
  {
   "cell_type": "code",
   "execution_count": null,
   "id": "75e4e938-6c04-4969-8938-0cc9a6a1ff03",
   "metadata": {},
   "outputs": [],
   "source": [
    "# 105"
   ]
  },
  {
   "cell_type": "code",
   "execution_count": 62,
   "id": "740c21b7-834d-48e3-ad9d-7cb24f006cc6",
   "metadata": {},
   "outputs": [
    {
     "name": "stdout",
     "output_type": "stream",
     "text": [
      "True\n"
     ]
    }
   ],
   "source": [
    "print ((3 == 3) and (4 != 3))\n",
    "# True"
   ]
  },
  {
   "cell_type": "code",
   "execution_count": null,
   "id": "628c4a85-2686-4085-a625-52f43078c07a",
   "metadata": {},
   "outputs": [],
   "source": [
    "# 106"
   ]
  },
  {
   "cell_type": "code",
   "execution_count": 63,
   "id": "09acb31b-af44-4cac-a217-885d02cf3d56",
   "metadata": {},
   "outputs": [
    {
     "ename": "SyntaxError",
     "evalue": "expression cannot contain assignment, perhaps you meant \"==\"? (3612698823.py, line 1)",
     "output_type": "error",
     "traceback": [
      "\u001b[1;36m  Cell \u001b[1;32mIn[63], line 1\u001b[1;36m\u001b[0m\n\u001b[1;33m    print(3 => 4)\u001b[0m\n\u001b[1;37m          ^\u001b[0m\n\u001b[1;31mSyntaxError\u001b[0m\u001b[1;31m:\u001b[0m expression cannot contain assignment, perhaps you meant \"==\"?\n"
     ]
    }
   ],
   "source": [
    "print(3 => 4)"
   ]
  },
  {
   "cell_type": "code",
   "execution_count": 64,
   "id": "e8de3bc4-b107-4882-a7f7-f23e0426d772",
   "metadata": {},
   "outputs": [
    {
     "name": "stdout",
     "output_type": "stream",
     "text": [
      "False\n"
     ]
    }
   ],
   "source": [
    "print(3 >= 4)"
   ]
  },
  {
   "cell_type": "code",
   "execution_count": null,
   "id": "8a59f06e-a4c8-47c0-aa9a-3074fe8fb298",
   "metadata": {},
   "outputs": [],
   "source": [
    "# 107"
   ]
  },
  {
   "cell_type": "code",
   "execution_count": 66,
   "id": "f4039ec8-9df7-4f1a-af1d-07600d6d28d1",
   "metadata": {},
   "outputs": [],
   "source": [
    "if 4 < 3:\n",
    "    print(\"Hello World\")\n",
    "# 미출력 "
   ]
  },
  {
   "cell_type": "code",
   "execution_count": 70,
   "id": "d7cc6e80-8856-4f45-a6ed-1df0e42c8800",
   "metadata": {},
   "outputs": [
    {
     "name": "stdout",
     "output_type": "stream",
     "text": [
      "틀렸습니다.\n"
     ]
    }
   ],
   "source": [
    "if 4 < 3:\n",
    "    print(\"Hello World\")\n",
    "else :\n",
    "    print(\"틀렸습니다.\")"
   ]
  },
  {
   "cell_type": "code",
   "execution_count": null,
   "id": "6cc17a4b-2805-4516-ad10-f791d8aa9548",
   "metadata": {},
   "outputs": [],
   "source": [
    "# 108"
   ]
  },
  {
   "cell_type": "code",
   "execution_count": 71,
   "id": "52f43ae0-387e-41e1-95e9-aa5c307d66b3",
   "metadata": {},
   "outputs": [
    {
     "name": "stdout",
     "output_type": "stream",
     "text": [
      "Hi, there.\n"
     ]
    }
   ],
   "source": [
    "if 4 < 3:\n",
    "    print(\"Hello World.\")\n",
    "else:\n",
    "    print(\"Hi, there.\")\n",
    "# Hi, there."
   ]
  },
  {
   "cell_type": "code",
   "execution_count": null,
   "id": "421cc92c-d173-4d2f-9338-323c779f05a2",
   "metadata": {},
   "outputs": [],
   "source": [
    "# 109"
   ]
  },
  {
   "cell_type": "code",
   "execution_count": 72,
   "id": "07acb5f3-78b3-48db-983c-a8f948a1cf0a",
   "metadata": {},
   "outputs": [
    {
     "name": "stdout",
     "output_type": "stream",
     "text": [
      "1\n",
      "2\n",
      "4\n"
     ]
    }
   ],
   "source": [
    "if True :\n",
    "    print (\"1\")\n",
    "    print (\"2\")\n",
    "else :\n",
    "    print(\"3\")\n",
    "print(\"4\")\n",
    "# 1 2 4"
   ]
  },
  {
   "cell_type": "code",
   "execution_count": null,
   "id": "6147e3a6-82c0-40ae-b898-d91a0e6f4e48",
   "metadata": {},
   "outputs": [],
   "source": [
    "# 110"
   ]
  },
  {
   "cell_type": "code",
   "execution_count": 73,
   "id": "79349aa7-7933-4686-973d-5450cfca0946",
   "metadata": {},
   "outputs": [
    {
     "name": "stdout",
     "output_type": "stream",
     "text": [
      "3\n",
      "5\n"
     ]
    }
   ],
   "source": [
    "if True :\n",
    "    if False:\n",
    "        print(\"1\")\n",
    "        print(\"2\")\n",
    "    else:\n",
    "        print(\"3\")\n",
    "else :\n",
    "    print(\"4\")\n",
    "print(\"5\")\n",
    "# 3 5"
   ]
  },
  {
   "cell_type": "markdown",
   "id": "a3bd3bc6-67df-488e-a40c-30d1806eed60",
   "metadata": {},
   "source": [
    "## 111~120"
   ]
  },
  {
   "cell_type": "code",
   "execution_count": null,
   "id": "f08123fc-5e7a-4b2b-95ad-dfe6b1df5164",
   "metadata": {},
   "outputs": [],
   "source": [
    "# 111"
   ]
  },
  {
   "cell_type": "code",
   "execution_count": 75,
   "id": "1f9bed39-e8d8-4336-a05c-3f24e4a9de45",
   "metadata": {},
   "outputs": [
    {
     "name": "stdin",
     "output_type": "stream",
     "text": [
      "입력:  안녕하세요\n"
     ]
    },
    {
     "name": "stdout",
     "output_type": "stream",
     "text": [
      "안녕하세요안녕하세요\n"
     ]
    }
   ],
   "source": [
    "user = input(\"입력: \")\n",
    "print(user * 2)"
   ]
  },
  {
   "cell_type": "code",
   "execution_count": null,
   "id": "7693f5a1-0e17-4a65-af3a-865cb0213fbb",
   "metadata": {},
   "outputs": [],
   "source": [
    "# 112"
   ]
  },
  {
   "cell_type": "code",
   "execution_count": 80,
   "id": "49d802a6-de87-423d-9399-8fa5fbde9de2",
   "metadata": {},
   "outputs": [
    {
     "name": "stdin",
     "output_type": "stream",
     "text": [
      "숫자를 입력하세요:  30\n"
     ]
    },
    {
     "name": "stdout",
     "output_type": "stream",
     "text": [
      "40\n"
     ]
    }
   ],
   "source": [
    "user = input(\"숫자를 입력하세요: \")\n",
    "print(int(user) + 10)"
   ]
  },
  {
   "cell_type": "code",
   "execution_count": null,
   "id": "0e8fa894-3711-4296-86c1-a9646f2b007e",
   "metadata": {},
   "outputs": [],
   "source": [
    "# 113"
   ]
  },
  {
   "cell_type": "code",
   "execution_count": 81,
   "id": "e570a313-6810-4f8d-9db0-efa41fd3aab1",
   "metadata": {},
   "outputs": [
    {
     "name": "stdin",
     "output_type": "stream",
     "text": [
      "입력:  30\n"
     ]
    },
    {
     "name": "stdout",
     "output_type": "stream",
     "text": [
      "짝수\n"
     ]
    }
   ],
   "source": [
    "user = input(\"입력: \")\n",
    "if int(user) % 2 == 0 :\n",
    "    print(\"짝수\")\n",
    "else :\n",
    "    print(\"홀수\")"
   ]
  },
  {
   "cell_type": "code",
   "execution_count": null,
   "id": "720fcf37-24e9-4d01-b38e-546e5369a48a",
   "metadata": {},
   "outputs": [],
   "source": [
    "# 114"
   ]
  },
  {
   "cell_type": "code",
   "execution_count": 83,
   "id": "0f6f8a02-3922-4408-8ddc-041d89181a59",
   "metadata": {},
   "outputs": [
    {
     "name": "stdin",
     "output_type": "stream",
     "text": [
      "입력:  256\n"
     ]
    },
    {
     "name": "stdout",
     "output_type": "stream",
     "text": [
      "255\n"
     ]
    }
   ],
   "source": [
    "user = input(\"입력: \")\n",
    "if int(user) + 20 < 255 :\n",
    "    print(int(user) + 20 )\n",
    "else :\n",
    "    print(255)"
   ]
  },
  {
   "cell_type": "code",
   "execution_count": null,
   "id": "2c5c548f-66da-4785-b322-88436d1b2618",
   "metadata": {},
   "outputs": [],
   "source": [
    "# 115"
   ]
  },
  {
   "cell_type": "code",
   "execution_count": 85,
   "id": "45db1fea-1697-4848-b0d1-4ba8e8b356e8",
   "metadata": {},
   "outputs": [
    {
     "name": "stdin",
     "output_type": "stream",
     "text": [
      "입력:  10\n"
     ]
    },
    {
     "name": "stdout",
     "output_type": "stream",
     "text": [
      "0\n"
     ]
    }
   ],
   "source": [
    "user = input(\"입력: \")\n",
    "num = int(user) - 20\n",
    "if int(user) > 255 :\n",
    "    print(255)\n",
    "elif num < 0:\n",
    "    print(0)\n",
    "else :\n",
    "    print(num)"
   ]
  },
  {
   "cell_type": "code",
   "execution_count": null,
   "id": "e9d7430e-3897-479a-9f94-ceeaa37ae4aa",
   "metadata": {},
   "outputs": [],
   "source": [
    "# 116"
   ]
  },
  {
   "cell_type": "code",
   "execution_count": 87,
   "id": "7b63f0bd-0e26-4125-8389-1ced9a16f770",
   "metadata": {},
   "outputs": [
    {
     "name": "stdin",
     "output_type": "stream",
     "text": [
      "입력:  03:02\n"
     ]
    },
    {
     "name": "stdout",
     "output_type": "stream",
     "text": [
      "정각이 아닙니다.\n"
     ]
    }
   ],
   "source": [
    "user = input(\"입력: \")\n",
    "if user[-2:] == \"00\" :\n",
    "    print(\"정각입니다.\")\n",
    "else:\n",
    "    print(\"정각이 아닙니다.\")"
   ]
  },
  {
   "cell_type": "code",
   "execution_count": null,
   "id": "4bdc65f0-2eff-4026-ab0d-720fe1b54d17",
   "metadata": {},
   "outputs": [],
   "source": [
    "#117"
   ]
  },
  {
   "cell_type": "code",
   "execution_count": 92,
   "id": "1d19232c-e93d-47f9-a53f-be3090826c1a",
   "metadata": {},
   "outputs": [
    {
     "name": "stdin",
     "output_type": "stream",
     "text": [
      "좋아하는 과일은? :  딸기\n"
     ]
    },
    {
     "name": "stdout",
     "output_type": "stream",
     "text": [
      "오답입니다.\n"
     ]
    }
   ],
   "source": [
    "fruit = [\"사과\", \"포도\", \"홍시\"]\n",
    "\n",
    "user = input(\"좋아하는 과일은? : \")\n",
    "if user in fruit :\n",
    "    print(\"정답입니다.\")\n",
    "else :\n",
    "    print(\"오답입니다.\")"
   ]
  },
  {
   "cell_type": "code",
   "execution_count": null,
   "id": "fb1f70b8-439d-49b8-8ca0-716562975d82",
   "metadata": {},
   "outputs": [],
   "source": [
    "# 118"
   ]
  },
  {
   "cell_type": "code",
   "execution_count": 94,
   "id": "f97f07f9-6bc7-41a9-8c14-7d68c76384e3",
   "metadata": {},
   "outputs": [
    {
     "name": "stdin",
     "output_type": "stream",
     "text": [
      "입력:  LG\n"
     ]
    },
    {
     "name": "stdout",
     "output_type": "stream",
     "text": [
      "투자 경고 종목입니다.\n"
     ]
    }
   ],
   "source": [
    "warn_investment_list = [\"Microsoft\", \"Google\", \"Naver\", \"Kakao\", \"SAMSUNG\", \"LG\"]\n",
    "\n",
    "user = input(\"입력: \")\n",
    "if user in warn_investment_list :\n",
    "    print(\"투자 경고 종목입니다.\")\n",
    "else :\n",
    "    print(\"투자 경고 종목이 아닙니다.\")"
   ]
  },
  {
   "cell_type": "code",
   "execution_count": null,
   "id": "11311583-7e19-4f84-9733-df7688ea8918",
   "metadata": {},
   "outputs": [],
   "source": [
    "# 119"
   ]
  },
  {
   "cell_type": "code",
   "execution_count": 97,
   "id": "143cde2f-7908-49bb-b340-c84881ab3e45",
   "metadata": {},
   "outputs": [
    {
     "name": "stdin",
     "output_type": "stream",
     "text": [
      "제가 좋아하는 계절:  겨울\n"
     ]
    },
    {
     "name": "stdout",
     "output_type": "stream",
     "text": [
      "오답.\n"
     ]
    }
   ],
   "source": [
    "fruit = {\"봄\" : \"딸기\", \"여름\" : \"토마토\", \"가을\" : \"사과\"}\n",
    "user = input(\"제가 좋아하는 계절: \")\n",
    "if user in fruit :\n",
    "    print(\"정답.\")\n",
    "else :\n",
    "    print(\"오답.\")"
   ]
  },
  {
   "cell_type": "code",
   "execution_count": null,
   "id": "4755c3d5-81e2-4f00-98f7-d97dc938c795",
   "metadata": {},
   "outputs": [],
   "source": [
    "# 120"
   ]
  },
  {
   "cell_type": "code",
   "execution_count": 98,
   "id": "03c09b6d-6760-4b20-9c18-dc639ec18523",
   "metadata": {},
   "outputs": [
    {
     "name": "stdin",
     "output_type": "stream",
     "text": [
      "제가 좋아하는 과일:  키위\n"
     ]
    },
    {
     "name": "stdout",
     "output_type": "stream",
     "text": [
      "오답.\n"
     ]
    }
   ],
   "source": [
    "fruit = {\"봄\" : \"딸기\", \"여름\" : \"토마토\", \"가을\" : \"사과\"}\n",
    "user = input(\"제가 좋아하는 과일: \")\n",
    "if user in fruit.values() :\n",
    "    print(\"정답.\")\n",
    "else :\n",
    "    print(\"오답.\")"
   ]
  },
  {
   "cell_type": "code",
   "execution_count": null,
   "id": "dbee8e5b-0c5a-4d56-93f4-e9da74d45604",
   "metadata": {},
   "outputs": [],
   "source": []
  },
  {
   "cell_type": "markdown",
   "id": "37a8a6a5-8d50-40da-a1a7-7c1157aa955e",
   "metadata": {},
   "source": [
    "## 121~130"
   ]
  },
  {
   "cell_type": "code",
   "execution_count": null,
   "id": "5a025525-3143-484d-a394-a26561c80f58",
   "metadata": {},
   "outputs": [],
   "source": [
    "#121"
   ]
  },
  {
   "cell_type": "code",
   "execution_count": 101,
   "id": "10ed365f-b63d-44fa-b8d1-e401f5e90ef8",
   "metadata": {},
   "outputs": [
    {
     "name": "stdin",
     "output_type": "stream",
     "text": [
      "입력:  b\n"
     ]
    },
    {
     "name": "stdout",
     "output_type": "stream",
     "text": [
      "B\n"
     ]
    }
   ],
   "source": [
    "user = input(\"입력: \")\n",
    "if user.islower() :\n",
    "    print(user.upper())\n",
    "else :\n",
    "    print(user.lower())\n"
   ]
  },
  {
   "cell_type": "code",
   "execution_count": null,
   "id": "bbfbddce-52ac-4aa6-b039-8c1b16a3e080",
   "metadata": {},
   "outputs": [],
   "source": [
    "#122"
   ]
  },
  {
   "cell_type": "code",
   "execution_count": 1,
   "id": "0e27f823-22ab-47b7-bf65-6d47bf358996",
   "metadata": {},
   "outputs": [
    {
     "name": "stdin",
     "output_type": "stream",
     "text": [
      "score:  88\n"
     ]
    },
    {
     "name": "stdout",
     "output_type": "stream",
     "text": [
      "grade is A\n"
     ]
    }
   ],
   "source": [
    "score = input(\"score: \")\n",
    "score = int(score)\n",
    "if 81 <= score <= 100:\n",
    "    print(\"grade is A\")\n",
    "elif 61 <= score <= 80:\n",
    "    print(\"grade is B\")\n",
    "elif 41 <= score <= 60:\n",
    "    print(\"grade is C\")\n",
    "elif 21 <= score <= 40:\n",
    "    print(\"grade is D\")\n",
    "else:\n",
    "    print(\"grade is E\")"
   ]
  },
  {
   "cell_type": "code",
   "execution_count": null,
   "id": "0bf31c6e-e13a-48f4-8df5-8525c0e1c396",
   "metadata": {},
   "outputs": [],
   "source": []
  },
  {
   "cell_type": "code",
   "execution_count": null,
   "id": "43dff49c-b080-4f0b-b1cf-06e125dc794f",
   "metadata": {},
   "outputs": [],
   "source": [
    "# 124"
   ]
  },
  {
   "cell_type": "code",
   "execution_count": 2,
   "id": "204bae69-1dc9-45c2-8fae-426187e97bd1",
   "metadata": {},
   "outputs": [
    {
     "name": "stdin",
     "output_type": "stream",
     "text": [
      "input number1:  20\n",
      "input number2:  30\n",
      "input number3:  40\n"
     ]
    },
    {
     "name": "stdout",
     "output_type": "stream",
     "text": [
      "40\n"
     ]
    }
   ],
   "source": [
    "num1 = input(\"input number1: \")\n",
    "num2 = input(\"input number2: \")\n",
    "num3 = input(\"input number3: \")\n",
    "num1 = int(num1)\n",
    "num2 = int(num2)\n",
    "num3 = int(num3)\n",
    "\n",
    "if num1 >= num2 and num1 >= num3:\n",
    "    print(num1)\n",
    "elif num2 >= num1 and num2 >= num3:\n",
    "    print(num2)\n",
    "else:\n",
    "    print(num3)"
   ]
  },
  {
   "cell_type": "code",
   "execution_count": null,
   "id": "ebd5556d-fc72-4051-9d8e-029fc26d761f",
   "metadata": {},
   "outputs": [],
   "source": [
    "# 125"
   ]
  },
  {
   "cell_type": "code",
   "execution_count": 4,
   "id": "44578793-22ee-42ab-a0fb-7a1a748a535f",
   "metadata": {},
   "outputs": [
    {
     "ename": "SyntaxError",
     "evalue": "leading zeros in decimal integer literals are not permitted; use an 0o prefix for octal integers (3696791693.py, line 3)",
     "output_type": "error",
     "traceback": [
      "\u001b[1;36m  Cell \u001b[1;32mIn[4], line 3\u001b[1;36m\u001b[0m\n\u001b[1;33m    if phone == 011 :\u001b[0m\n\u001b[1;37m                ^\u001b[0m\n\u001b[1;31mSyntaxError\u001b[0m\u001b[1;31m:\u001b[0m leading zeros in decimal integer literals are not permitted; use an 0o prefix for octal integers\n"
     ]
    }
   ],
   "source": [
    "phone = input(\"휴대전화 번호 입력: \")\n",
    "phone = num.split(\"-\")[0]\n",
    "if phone == 011 :\n",
    "    print(\"SKT\")\n",
    "elif phone == 016:\n",
    "    print(\"KT\")\n",
    "elif phone == 016:\n",
    "    print(\"LGU\")    \n",
    "elif phone == 010 :\n",
    "    print(\"알수없음\")"
   ]
  },
  {
   "cell_type": "code",
   "execution_count": null,
   "id": "3e642e03-9b02-46c4-93f8-2775623b2246",
   "metadata": {},
   "outputs": [],
   "source": [
    "# 126"
   ]
  },
  {
   "cell_type": "code",
   "execution_count": 7,
   "id": "8ae2102e-cb5b-4667-9672-07fcc704d37e",
   "metadata": {},
   "outputs": [
    {
     "name": "stdin",
     "output_type": "stream",
     "text": [
      "우편번호:  01022\n"
     ]
    },
    {
     "name": "stdout",
     "output_type": "stream",
     "text": [
      "강북구\n"
     ]
    }
   ],
   "source": [
    "우편번호 = input(\"우편번호: \")\n",
    "우편번호 = 우편번호[:3]\n",
    "if 우편번호 in [\"010\", \"011\", \"012\"]:\n",
    "    print(\"강북구\")\n",
    "elif 우편번호 in [\"014\", \"015\", \"016\"]:\n",
    "    print(\"도봉구\")\n",
    "else:\n",
    "    print(\"노원구\")"
   ]
  },
  {
   "cell_type": "code",
   "execution_count": null,
   "id": "0c47c824-2baa-4292-b4a7-a9277fecffa2",
   "metadata": {},
   "outputs": [],
   "source": [
    "# 127"
   ]
  },
  {
   "cell_type": "code",
   "execution_count": 10,
   "id": "22440ac0-959f-4237-9c7b-fbbd8545f0da",
   "metadata": {},
   "outputs": [
    {
     "name": "stdin",
     "output_type": "stream",
     "text": [
      "주민등록번호:  810101-1122543\n"
     ]
    },
    {
     "name": "stdout",
     "output_type": "stream",
     "text": [
      "남자\n"
     ]
    }
   ],
   "source": [
    "주민번호 = input(\"주민등록번호: \")\n",
    "주민번호 = 주민번호.split(\"-\")[1]\n",
    "if 주민번호[0] == \"1\" or 주민번호[0] == \"3\":\n",
    "    print(\"남자\")\n",
    "else:\n",
    "    print(\"여자\")"
   ]
  },
  {
   "cell_type": "code",
   "execution_count": null,
   "id": "fe4ac09b-e657-4a2a-9f55-ea4bafdf3b3a",
   "metadata": {},
   "outputs": [],
   "source": [
    "#128"
   ]
  },
  {
   "cell_type": "code",
   "execution_count": 11,
   "id": "4ce6243e-ddea-405f-aef6-32874733a8ed",
   "metadata": {},
   "outputs": [
    {
     "name": "stdin",
     "output_type": "stream",
     "text": [
      "주민등록번호:  810101-1122543\n"
     ]
    },
    {
     "name": "stdout",
     "output_type": "stream",
     "text": [
      "서울이 아닙니다.\n"
     ]
    }
   ],
   "source": [
    "주민번호 = input(\"주민등록번호: \")\n",
    "뒷자리 = 주민번호.split(\"-\")[1]\n",
    "if 0 <= int(뒷자리[1:3]) <= 8:\n",
    "    print(\"서울입니다.\")\n",
    "else:\n",
    "    print(\"서울이 아닙니다.\")"
   ]
  },
  {
   "cell_type": "code",
   "execution_count": null,
   "id": "588cf69e-c861-453d-bf32-43562dfa8c1c",
   "metadata": {},
   "outputs": [],
   "source": [
    "# 130"
   ]
  },
  {
   "cell_type": "code",
   "execution_count": null,
   "id": "5df4b92e-b244-4ff5-bccc-3426553220cf",
   "metadata": {},
   "outputs": [],
   "source": [
    "import requests\n",
    "btc = requests.get(\"https://api.bithumb.com/public/ticker/\").json()['data']"
   ]
  }
 ],
 "metadata": {
  "kernelspec": {
   "display_name": "Python 3 (ipykernel)",
   "language": "python",
   "name": "python3"
  },
  "language_info": {
   "codemirror_mode": {
    "name": "ipython",
    "version": 3
   },
   "file_extension": ".py",
   "mimetype": "text/x-python",
   "name": "python",
   "nbconvert_exporter": "python",
   "pygments_lexer": "ipython3",
   "version": "3.11.7"
  }
 },
 "nbformat": 4,
 "nbformat_minor": 5
}
