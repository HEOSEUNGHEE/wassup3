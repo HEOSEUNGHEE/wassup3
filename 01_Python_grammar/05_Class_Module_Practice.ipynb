{
 "cells": [
  {
   "cell_type": "markdown",
   "id": "f1fdca32",
   "metadata": {},
   "source": [
    "# Q1. 다음은 Calculator 클래스이다.\n",
    "```python\n",
    "class Calculator:\n",
    "    def __init__(self):\n",
    "        self.value = 0\n",
    "    def add(self, val):\n",
    "        self.value += val\n",
    "```\n",
    "위 클래스를 상속하는 UpgradeCalculator를 만들고 값을 뺄 수 잇는 minus 메서드를 추가해보자.   \n",
    "즉 다음과 같이 동작하는 클래스를 만들어야 한다.\n",
    "```python\n",
    "cal = UpgradeCalculator()\n",
    "cal.add(10)\n",
    "cal.minus(7)\n",
    "print(cal.calue) # 10에서 7을 뺀 3을 출력\n",
    "```"
   ]
  },
  {
   "cell_type": "code",
   "execution_count": 1,
   "id": "8028089e-b069-4bb1-9b08-8cd8ca76fcf6",
   "metadata": {},
   "outputs": [],
   "source": [
    "class Calculator:\n",
    "    def __init__(self):\n",
    "        self.value = 0\n",
    "    def add(self, val):\n",
    "        self.value += val"
   ]
  },
  {
   "cell_type": "code",
   "execution_count": 2,
   "id": "f3345c8c",
   "metadata": {},
   "outputs": [],
   "source": [
    "class UpgradeCalculator(Calculator):\n",
    "    def minus(self, val):\n",
    "        self.value -= val    "
   ]
  },
  {
   "cell_type": "code",
   "execution_count": 4,
   "id": "d5bc73e1",
   "metadata": {},
   "outputs": [
    {
     "name": "stdout",
     "output_type": "stream",
     "text": [
      "3\n"
     ]
    }
   ],
   "source": [
    "cal = UpgradeCalculator()\n",
    "cal.add(10) \n",
    "cal.minus(7) \n",
    "print(cal.value)"
   ]
  },
  {
   "cell_type": "markdown",
   "id": "75806738",
   "metadata": {},
   "source": [
    "# Q2. 객체 변수 value가 100 이상의 값은 가질 수 없도록 제한하는 MaxLimitCalculator 클래스를 만들어 보자. 즉 다음과 같이 동작해야 한다.\n",
    "```python\n",
    "cal = MaxLimitCalculator()\n",
    "cal.add(50) # 50 더하기\n",
    "cal.add(60) # 60 더하기\n",
    "\n",
    "print(cal.value) # 100 출력\n",
    "```\n",
    "\n",
    "단 반드시 다음과 같은 calculator 클래스를 상속해서 만들어야 한다.\n",
    "```python\n",
    "class Calculator:\n",
    "    def __init__(self):\n",
    "        self.value = 0\n",
    "    def add(self, val):\n",
    "        self.value += val\n",
    "```"
   ]
  },
  {
   "cell_type": "code",
   "execution_count": 6,
   "id": "3791e78c-68e9-41ed-b9a6-4b2baeb21778",
   "metadata": {},
   "outputs": [],
   "source": [
    "class Calculator:\n",
    "    def __init__(self):\n",
    "        self.value = 0\n",
    "    def add(self, val):\n",
    "        self.value += val"
   ]
  },
  {
   "cell_type": "code",
   "execution_count": 9,
   "id": "9e38fdb1-28b0-4cb9-87e5-fe5e194dd0af",
   "metadata": {},
   "outputs": [],
   "source": [
    "class MaxLimitCalculator(Calculator):\n",
    "    def add(self,val):\n",
    "        self.value += val\n",
    "        if self.value > 100 :\n",
    "            self.value = 100\n",
    "    "
   ]
  },
  {
   "cell_type": "code",
   "execution_count": 10,
   "id": "1282775d-d723-4011-886b-e91273637744",
   "metadata": {},
   "outputs": [
    {
     "name": "stdout",
     "output_type": "stream",
     "text": [
      "100\n"
     ]
    }
   ],
   "source": [
    "cal = MaxLimitCalculator()\n",
    "cal.add(50)\n",
    "cal.add(60)\n",
    "\n",
    "print(cal.value) # 100 출력"
   ]
  },
  {
   "cell_type": "markdown",
   "id": "7286e434",
   "metadata": {},
   "source": [
    "# Q3. 다음 결과를 예측해 보자.\n",
    "```python\n",
    "# 1.\n",
    ">>> all({1, 2, abs(-3)-3})\n",
    "\n",
    "# 2.\n",
    ">>> chr(ord('a')) == 'a'\n",
    "```"
   ]
  },
  {
   "cell_type": "code",
   "execution_count": 11,
   "id": "b686ab29",
   "metadata": {},
   "outputs": [
    {
     "name": "stdout",
     "output_type": "stream",
     "text": [
      "False\n"
     ]
    }
   ],
   "source": [
    "print(all({1, 2, abs(-3)-3}))"
   ]
  },
  {
   "cell_type": "code",
   "execution_count": 12,
   "id": "c622a33b-32b5-4790-a6d9-455acd4e5774",
   "metadata": {},
   "outputs": [
    {
     "name": "stdout",
     "output_type": "stream",
     "text": [
      "True\n"
     ]
    }
   ],
   "source": [
    "print(chr(ord('a')) == 'a')"
   ]
  },
  {
   "cell_type": "markdown",
   "id": "ff058604",
   "metadata": {},
   "source": [
    "# Q4. filter와 lambda를 사용하여 리스트 [1, -2, 3, -5, 8, -3]에서 음수를 모두 제거해 보자."
   ]
  },
  {
   "cell_type": "code",
   "execution_count": 14,
   "id": "4da2f202",
   "metadata": {},
   "outputs": [
    {
     "data": {
      "text/plain": [
       "[1, 3, 8]"
      ]
     },
     "execution_count": 14,
     "metadata": {},
     "output_type": "execute_result"
    }
   ],
   "source": [
    "list(filter(lambda i : i > 0, [1, -2, 3, -5, 8, -3]))"
   ]
  },
  {
   "cell_type": "markdown",
   "id": "3810c0b8",
   "metadata": {},
   "source": [
    "# Q5. 234라는 10진수의 16진수는 다음과 같이 구할 수 있다.\n",
    "```python\n",
    ">>> hex(234)\n",
    "'0xea'\n",
    "```\n",
    "이번에는 반대로 16진수 문자열 0xea를 10진수로 변경해 보자."
   ]
  },
  {
   "cell_type": "code",
   "execution_count": 16,
   "id": "c94be636",
   "metadata": {},
   "outputs": [
    {
     "data": {
      "text/plain": [
       "234"
      ]
     },
     "execution_count": 16,
     "metadata": {},
     "output_type": "execute_result"
    }
   ],
   "source": [
    "int('0xea', 16)"
   ]
  },
  {
   "cell_type": "markdown",
   "id": "6c563fc7",
   "metadata": {},
   "source": [
    "# Q6. map과 lambda를 사용하여 [1, 2, 3, 4] 리스트의 각 요솟값에 3이 곱해진 리스트 [3, 6, 9, 12]를 만들어 보자."
   ]
  },
  {
   "cell_type": "code",
   "execution_count": 17,
   "id": "f303e800",
   "metadata": {},
   "outputs": [
    {
     "data": {
      "text/plain": [
       "[3, 6, 9, 12]"
      ]
     },
     "execution_count": 17,
     "metadata": {},
     "output_type": "execute_result"
    }
   ],
   "source": [
    "list(map(lambda i : i * 3, [1, 2, 3, 4]))"
   ]
  },
  {
   "cell_type": "markdown",
   "id": "5abd78a0",
   "metadata": {},
   "source": [
    "# Q7. 다음 리스트의 최댓값과 최솟값의 합을 구해 보자.\n",
    "[-8, 2, 7, 5, -3, 5, 0, 1]"
   ]
  },
  {
   "cell_type": "code",
   "execution_count": 18,
   "id": "4527968b",
   "metadata": {},
   "outputs": [
    {
     "data": {
      "text/plain": [
       "-1"
      ]
     },
     "execution_count": 18,
     "metadata": {},
     "output_type": "execute_result"
    }
   ],
   "source": [
    "a = [-8, 2, 7, 5, -3, 5, 0, 1]\n",
    "max(a) + min(a)"
   ]
  },
  {
   "cell_type": "markdown",
   "id": "b64ed240",
   "metadata": {},
   "source": [
    "# Q8. 17 / 3의 결과는 다음과 같다.\n",
    "```python\n",
    ">>> 17 / 3\n",
    "5.666666666667\n",
    "```\n",
    "위와 같은 결괏값 5.6666666666667을 소숫점 4자리까지만 반올림하여 표시해 보자."
   ]
  },
  {
   "cell_type": "code",
   "execution_count": 19,
   "id": "730d116a",
   "metadata": {},
   "outputs": [
    {
     "data": {
      "text/plain": [
       "5.6667"
      ]
     },
     "execution_count": 19,
     "metadata": {},
     "output_type": "execute_result"
    }
   ],
   "source": [
    "round(17 / 3, 4)"
   ]
  },
  {
   "cell_type": "markdown",
   "id": "6ae88f19",
   "metadata": {},
   "source": [
    "# Q9. 다음과 같이 실행할 때 입력값을 모두 더하여 출력하는 스크립트(C:\\doit\\myargv.py)를 작성해 보자.\n",
    "```\n",
    "C:\\> cd doit\n",
    "C:\\dodit> python myargv.py 1 2 3 4 5 6 7 8 9 10\n",
    "```"
   ]
  },
  {
   "cell_type": "code",
   "execution_count": 2,
   "id": "93068ed8",
   "metadata": {},
   "outputs": [
    {
     "ename": "ValueError",
     "evalue": "invalid literal for int() with base 10: '-f'",
     "output_type": "error",
     "traceback": [
      "\u001b[1;31m----------------------------------------------------------------------\u001b[0m",
      "\u001b[1;31mValueError\u001b[0m                           Traceback (most recent call last)",
      "Cell \u001b[1;32mIn[2], line 5\u001b[0m\n\u001b[0;32m      3\u001b[0m number \u001b[38;5;241m=\u001b[39m \u001b[38;5;241m0\u001b[39m\n\u001b[0;32m      4\u001b[0m \u001b[38;5;28;01mfor\u001b[39;00m i \u001b[38;5;129;01min\u001b[39;00m args:\n\u001b[1;32m----> 5\u001b[0m     number \u001b[38;5;241m+\u001b[39m\u001b[38;5;241m=\u001b[39m \u001b[38;5;28mint\u001b[39m(i)\n\u001b[0;32m      6\u001b[0m \u001b[38;5;28mprint\u001b[39m(number)\n",
      "\u001b[1;31mValueError\u001b[0m: invalid literal for int() with base 10: '-f'"
     ]
    }
   ],
   "source": [
    "import sys\n",
    "args = sys.argv[1:]\n",
    "number = 0\n",
    "for i in args:\n",
    "    number += int(i)\n",
    "print(number)"
   ]
  },
  {
   "cell_type": "markdown",
   "id": "ac41096a",
   "metadata": {},
   "source": [
    "# Q10. OS 모듈을 사용하여 다음과 같이 동작하도록 코드를 작성해 보자.\n",
    "1. C:\\doit 디렉터리로 이동한다.\n",
    "2. dir 명령을 실행하고 그 결과를 변수에 담는다.\n",
    "3. dir 명령의 결과를 출력한다."
   ]
  },
  {
   "cell_type": "code",
   "execution_count": 20,
   "id": "6cef3623",
   "metadata": {},
   "outputs": [],
   "source": [
    "import os"
   ]
  },
  {
   "cell_type": "code",
   "execution_count": 21,
   "id": "6b11705a-2f0d-4036-9fed-bd9a4868c0b2",
   "metadata": {},
   "outputs": [
    {
     "data": {
      "text/plain": [
       "'C:\\\\workspace\\\\wassup3\\\\01_Python_grammar'"
      ]
     },
     "execution_count": 21,
     "metadata": {},
     "output_type": "execute_result"
    }
   ],
   "source": [
    "os.getcwd()"
   ]
  },
  {
   "cell_type": "code",
   "execution_count": 22,
   "id": "4bf64274-4a47-400e-b38f-c2870c3596a6",
   "metadata": {},
   "outputs": [
    {
     "data": {
      "text/plain": [
       "0"
      ]
     },
     "execution_count": 22,
     "metadata": {},
     "output_type": "execute_result"
    }
   ],
   "source": [
    "os.system('dir')"
   ]
  },
  {
   "cell_type": "code",
   "execution_count": 23,
   "id": "e0a1a3ed-8f77-42dc-a7cd-fa5f2fe3eb40",
   "metadata": {},
   "outputs": [
    {
     "name": "stdout",
     "output_type": "stream",
     "text": [
      " C 드라이브의 볼륨에는 이름이 없습니다.\n",
      " 볼륨 일련 번호: F2CF-1136\n",
      "\n",
      " C:\\workspace\\wassup3\\01_Python_grammar 디렉터리\n",
      "\n",
      "2024-06-18  오전 01:19    <DIR>          .\n",
      "2024-06-13  오후 02:04    <DIR>          ..\n",
      "2024-06-17  오후 11:37    <DIR>          .ipynb_checkpoints\n",
      "2024-06-12  오후 03:13           118,566 01_DatatypeVariable.ipynb\n",
      "2024-06-12  오후 06:10            10,114 01_DatatypeVariable_practice.ipynb\n",
      "2024-06-13  오후 10:39            16,394 01_Datatype_Variable_Practice_Answer.ipynb\n",
      "2024-06-13  오후 03:35            26,141 02_Control_Statement.ipynb\n",
      "2024-06-13  오후 10:15            40,497 02_Control_Statement._b.ipynb\n",
      "2024-06-13  오후 11:22             8,593 02_Control_Statement_Practice.ipynb\n",
      "2024-06-14  오전 12:20             8,658 03_Coding_Practice_PhoneBookProgram.ipynb\n",
      "2024-06-15  오후 05:44            10,477 03_Coding_Practice_PhoneBookProgram_b.ipynb\n",
      "2024-06-15  오후 08:47            43,599 04_Function_IO.ipynb\n",
      "2024-06-15  오후 07:19             9,778 04_Function__IO_Practice.ipynb\n",
      "2024-06-15  오후 07:19             9,725 04_Function__IO_Practice_Answer.ipynb\n",
      "2024-06-17  오후 05:04            34,249 05_Class_Exception.ipynb\n",
      "2024-06-18  오전 01:19            12,162 05_Class_Module_Practice.ipynb\n",
      "2024-06-17  오후 05:15            18,904 05_Class_Module_Practice_Answer.ipynb\n",
      "2024-06-17  오전 12:23            52,358 300제_131~200.ipynb\n",
      "2024-06-12  오전 12:40            64,498 300제_1~80.ipynb\n",
      "2024-06-17  오전 08:56            24,803 300제_201~240.ipynb\n",
      "2024-06-13  오전 02:39            37,370 300제_81~130.ipynb\n",
      "2024-06-14  오후 04:04    <DIR>          output\n",
      "2024-06-17  오후 11:30             1,945 phonebook-Copy1.py\n",
      "2024-06-17  오후 11:26             1,675 phonebook.py\n",
      "2024-06-15  오후 05:57                32 test.txt\n",
      "2024-06-18  오전 12:30             4,273 test_phonebook.ipynb\n",
      "2024-06-12  오전 12:31            16,486 복습.ipynb\n",
      "              23개 파일             571,297 바이트\n",
      "               4개 디렉터리  101,231,304,704 바이트 남음\n",
      "\n"
     ]
    }
   ],
   "source": [
    "f = os.popen('dir')\n",
    "print(f.read())"
   ]
  },
  {
   "cell_type": "code",
   "execution_count": null,
   "id": "e6f5c489-3566-40ae-8e68-f7149bcbc160",
   "metadata": {},
   "outputs": [],
   "source": []
  },
  {
   "cell_type": "code",
   "execution_count": null,
   "id": "8ee097fa-1a84-4dca-b51f-d5316492f0fa",
   "metadata": {},
   "outputs": [],
   "source": []
  },
  {
   "cell_type": "code",
   "execution_count": null,
   "id": "21d60d26-4b70-4f8c-bf48-cf9704c4cfda",
   "metadata": {},
   "outputs": [],
   "source": []
  },
  {
   "cell_type": "markdown",
   "id": "e1df445d",
   "metadata": {},
   "source": [
    "# Q11. glob 모듈을 사용하여 C:\\doit 디렉터리의 파일 중 확장자가 .ipynb인 파일만 출력하는 프로그램을 작성해 보자."
   ]
  },
  {
   "cell_type": "code",
   "execution_count": 24,
   "id": "b69ab522",
   "metadata": {},
   "outputs": [],
   "source": [
    "import glob"
   ]
  },
  {
   "cell_type": "code",
   "execution_count": 29,
   "id": "1b7eae1e-6215-4af7-ad05-37f81bb90863",
   "metadata": {},
   "outputs": [
    {
     "data": {
      "text/plain": [
       "['C:\\\\workspace\\\\wassup3\\\\01_Python_grammar']"
      ]
     },
     "execution_count": 29,
     "metadata": {},
     "output_type": "execute_result"
    }
   ],
   "source": [
    "glob.glob(os.getcwd())"
   ]
  },
  {
   "cell_type": "code",
   "execution_count": 30,
   "id": "bfd9c753-a418-4ce6-a996-cb2b086cd713",
   "metadata": {},
   "outputs": [
    {
     "data": {
      "text/plain": [
       "['C:\\\\workspace\\\\wassup3\\\\01_Python_grammar\\\\01_DatatypeVariable.ipynb',\n",
       " 'C:\\\\workspace\\\\wassup3\\\\01_Python_grammar\\\\01_DatatypeVariable_practice.ipynb',\n",
       " 'C:\\\\workspace\\\\wassup3\\\\01_Python_grammar\\\\01_Datatype_Variable_Practice_Answer.ipynb',\n",
       " 'C:\\\\workspace\\\\wassup3\\\\01_Python_grammar\\\\02_Control_Statement.ipynb',\n",
       " 'C:\\\\workspace\\\\wassup3\\\\01_Python_grammar\\\\02_Control_Statement._b.ipynb',\n",
       " 'C:\\\\workspace\\\\wassup3\\\\01_Python_grammar\\\\02_Control_Statement_Practice.ipynb',\n",
       " 'C:\\\\workspace\\\\wassup3\\\\01_Python_grammar\\\\03_Coding_Practice_PhoneBookProgram.ipynb',\n",
       " 'C:\\\\workspace\\\\wassup3\\\\01_Python_grammar\\\\03_Coding_Practice_PhoneBookProgram_b.ipynb',\n",
       " 'C:\\\\workspace\\\\wassup3\\\\01_Python_grammar\\\\04_Function_IO.ipynb',\n",
       " 'C:\\\\workspace\\\\wassup3\\\\01_Python_grammar\\\\04_Function__IO_Practice.ipynb',\n",
       " 'C:\\\\workspace\\\\wassup3\\\\01_Python_grammar\\\\04_Function__IO_Practice_Answer.ipynb',\n",
       " 'C:\\\\workspace\\\\wassup3\\\\01_Python_grammar\\\\05_Class_Exception.ipynb',\n",
       " 'C:\\\\workspace\\\\wassup3\\\\01_Python_grammar\\\\05_Class_Module_Practice.ipynb',\n",
       " 'C:\\\\workspace\\\\wassup3\\\\01_Python_grammar\\\\05_Class_Module_Practice_Answer.ipynb',\n",
       " 'C:\\\\workspace\\\\wassup3\\\\01_Python_grammar\\\\300제_131~200.ipynb',\n",
       " 'C:\\\\workspace\\\\wassup3\\\\01_Python_grammar\\\\300제_1~80.ipynb',\n",
       " 'C:\\\\workspace\\\\wassup3\\\\01_Python_grammar\\\\300제_201~240.ipynb',\n",
       " 'C:\\\\workspace\\\\wassup3\\\\01_Python_grammar\\\\300제_81~130.ipynb',\n",
       " 'C:\\\\workspace\\\\wassup3\\\\01_Python_grammar\\\\test_phonebook.ipynb',\n",
       " 'C:\\\\workspace\\\\wassup3\\\\01_Python_grammar\\\\복습.ipynb']"
      ]
     },
     "execution_count": 30,
     "metadata": {},
     "output_type": "execute_result"
    }
   ],
   "source": [
    "glob.glob(os.getcwd()+'/*.ipynb')"
   ]
  },
  {
   "cell_type": "code",
   "execution_count": null,
   "id": "98a24ec0-901b-481a-a380-ae72c3ff2a71",
   "metadata": {},
   "outputs": [],
   "source": []
  },
  {
   "cell_type": "code",
   "execution_count": null,
   "id": "8afea9a7-e95f-4464-86b6-3208dd38d641",
   "metadata": {},
   "outputs": [],
   "source": []
  },
  {
   "cell_type": "code",
   "execution_count": null,
   "id": "7346956a-52cf-4452-9056-b52c390f7467",
   "metadata": {},
   "outputs": [],
   "source": []
  },
  {
   "cell_type": "code",
   "execution_count": null,
   "id": "508b497f-50ae-4afa-84c2-0d963faa9c16",
   "metadata": {},
   "outputs": [],
   "source": []
  },
  {
   "cell_type": "markdown",
   "id": "d7b91fea",
   "metadata": {},
   "source": [
    "# Q12. time 모듈을 사용하여 현재 날짜와 시간을 다음과 같은 형식으로 출력해 보자.\n",
    "2018/04/03 17:20:32"
   ]
  },
  {
   "cell_type": "code",
   "execution_count": 31,
   "id": "e2a5f482",
   "metadata": {},
   "outputs": [],
   "source": [
    "import time"
   ]
  },
  {
   "cell_type": "code",
   "execution_count": 37,
   "id": "218e4d62-0e1a-4107-a71c-e5c84c08a263",
   "metadata": {},
   "outputs": [
    {
     "data": {
      "text/plain": [
       "'2024/28/06/18/24 01:28:39'"
      ]
     },
     "execution_count": 37,
     "metadata": {},
     "output_type": "execute_result"
    }
   ],
   "source": [
    "time.strftime('%Y/%M/%D %H:%M:%S', time.localtime(time.time()))"
   ]
  },
  {
   "cell_type": "code",
   "execution_count": 38,
   "id": "8cbaa2d9-4d04-453c-b1af-b94f8222c9eb",
   "metadata": {},
   "outputs": [
    {
     "ename": "TypeError",
     "evalue": "strptime() argument 1 must be str, not <class 'time.struct_time'>",
     "output_type": "error",
     "traceback": [
      "\u001b[1;31m----------------------------------------------------------------------\u001b[0m",
      "\u001b[1;31mTypeError\u001b[0m                            Traceback (most recent call last)",
      "Cell \u001b[1;32mIn[38], line 1\u001b[0m\n\u001b[1;32m----> 1\u001b[0m time\u001b[38;5;241m.\u001b[39mstrptime(\u001b[38;5;124m'\u001b[39m\u001b[38;5;124m%\u001b[39m\u001b[38;5;124mY/\u001b[39m\u001b[38;5;124m%\u001b[39m\u001b[38;5;124mM/\u001b[39m\u001b[38;5;124m%\u001b[39m\u001b[38;5;124mD \u001b[39m\u001b[38;5;124m%\u001b[39m\u001b[38;5;124mH:\u001b[39m\u001b[38;5;124m%\u001b[39m\u001b[38;5;124mM:\u001b[39m\u001b[38;5;124m%\u001b[39m\u001b[38;5;124mS\u001b[39m\u001b[38;5;124m'\u001b[39m, time\u001b[38;5;241m.\u001b[39mlocaltime(time\u001b[38;5;241m.\u001b[39mtime()))\n",
      "File \u001b[1;32m~\\anaconda3\\Lib\\_strptime.py:562\u001b[0m, in \u001b[0;36m_strptime_time\u001b[1;34m(data_string, format)\u001b[0m\n\u001b[0;32m    559\u001b[0m \u001b[38;5;28;01mdef\u001b[39;00m \u001b[38;5;21m_strptime_time\u001b[39m(data_string, \u001b[38;5;28mformat\u001b[39m\u001b[38;5;241m=\u001b[39m\u001b[38;5;124m\"\u001b[39m\u001b[38;5;132;01m%a\u001b[39;00m\u001b[38;5;124m \u001b[39m\u001b[38;5;124m%\u001b[39m\u001b[38;5;124mb \u001b[39m\u001b[38;5;132;01m%d\u001b[39;00m\u001b[38;5;124m \u001b[39m\u001b[38;5;124m%\u001b[39m\u001b[38;5;124mH:\u001b[39m\u001b[38;5;124m%\u001b[39m\u001b[38;5;124mM:\u001b[39m\u001b[38;5;124m%\u001b[39m\u001b[38;5;124mS \u001b[39m\u001b[38;5;124m%\u001b[39m\u001b[38;5;124mY\u001b[39m\u001b[38;5;124m\"\u001b[39m):\n\u001b[0;32m    560\u001b[0m \u001b[38;5;250m    \u001b[39m\u001b[38;5;124;03m\"\"\"Return a time struct based on the input string and the\u001b[39;00m\n\u001b[0;32m    561\u001b[0m \u001b[38;5;124;03m    format string.\"\"\"\u001b[39;00m\n\u001b[1;32m--> 562\u001b[0m     tt \u001b[38;5;241m=\u001b[39m _strptime(data_string, \u001b[38;5;28mformat\u001b[39m)[\u001b[38;5;241m0\u001b[39m]\n\u001b[0;32m    563\u001b[0m     \u001b[38;5;28;01mreturn\u001b[39;00m time\u001b[38;5;241m.\u001b[39mstruct_time(tt[:time\u001b[38;5;241m.\u001b[39m_STRUCT_TM_ITEMS])\n",
      "File \u001b[1;32m~\\anaconda3\\Lib\\_strptime.py:317\u001b[0m, in \u001b[0;36m_strptime\u001b[1;34m(data_string, format)\u001b[0m\n\u001b[0;32m    315\u001b[0m     \u001b[38;5;28;01mif\u001b[39;00m \u001b[38;5;129;01mnot\u001b[39;00m \u001b[38;5;28misinstance\u001b[39m(arg, \u001b[38;5;28mstr\u001b[39m):\n\u001b[0;32m    316\u001b[0m         msg \u001b[38;5;241m=\u001b[39m \u001b[38;5;124m\"\u001b[39m\u001b[38;5;124mstrptime() argument \u001b[39m\u001b[38;5;132;01m{}\u001b[39;00m\u001b[38;5;124m must be str, not \u001b[39m\u001b[38;5;132;01m{}\u001b[39;00m\u001b[38;5;124m\"\u001b[39m\n\u001b[1;32m--> 317\u001b[0m         \u001b[38;5;28;01mraise\u001b[39;00m \u001b[38;5;167;01mTypeError\u001b[39;00m(msg\u001b[38;5;241m.\u001b[39mformat(index, \u001b[38;5;28mtype\u001b[39m(arg)))\n\u001b[0;32m    319\u001b[0m \u001b[38;5;28;01mglobal\u001b[39;00m _TimeRE_cache, _regex_cache\n\u001b[0;32m    320\u001b[0m \u001b[38;5;28;01mwith\u001b[39;00m _cache_lock:\n",
      "\u001b[1;31mTypeError\u001b[0m: strptime() argument 1 must be str, not <class 'time.struct_time'>"
     ]
    }
   ],
   "source": [
    "time.strptime('%Y/%M/%D %H:%M:%S', time.localtime(time.time()))"
   ]
  },
  {
   "cell_type": "markdown",
   "id": "393cd834",
   "metadata": {},
   "source": [
    "# Q13. random 모듈을 사용하여 로또 번호 (1~45 사이의 숫자 6개)를 생성해보자(단 중복된 숫자가 있으면 안됨)."
   ]
  },
  {
   "cell_type": "code",
   "execution_count": 40,
   "id": "c4b093dc",
   "metadata": {},
   "outputs": [
    {
     "name": "stdout",
     "output_type": "stream",
     "text": [
      "[34, 3, 20, 41, 37, 13]\n"
     ]
    }
   ],
   "source": [
    "import random\n",
    "result = []\n",
    "while len(result) < 6 :\n",
    "    num = random.randint(1,45)\n",
    "    if num not in result:\n",
    "        result.append(num)\n",
    "print(result)"
   ]
  },
  {
   "cell_type": "markdown",
   "id": "ee89ff74",
   "metadata": {},
   "source": [
    "\"성공은 매일 반복한 작은 노력들의 합이다.\"\n",
    "- 로버트 콜리어"
   ]
  }
 ],
 "metadata": {
  "kernelspec": {
   "display_name": "Python 3 (ipykernel)",
   "language": "python",
   "name": "python3"
  },
  "language_info": {
   "codemirror_mode": {
    "name": "ipython",
    "version": 3
   },
   "file_extension": ".py",
   "mimetype": "text/x-python",
   "name": "python",
   "nbconvert_exporter": "python",
   "pygments_lexer": "ipython3",
   "version": "3.11.7"
  },
  "toc": {
   "base_numbering": 1,
   "nav_menu": {},
   "number_sections": true,
   "sideBar": true,
   "skip_h1_title": false,
   "title_cell": "Table of Contents",
   "title_sidebar": "Contents",
   "toc_cell": false,
   "toc_position": {},
   "toc_section_display": true,
   "toc_window_display": false
  },
  "varInspector": {
   "cols": {
    "lenName": 16,
    "lenType": 16,
    "lenVar": 40
   },
   "kernels_config": {
    "python": {
     "delete_cmd_postfix": "",
     "delete_cmd_prefix": "del ",
     "library": "var_list.py",
     "varRefreshCmd": "print(var_dic_list())"
    },
    "r": {
     "delete_cmd_postfix": ") ",
     "delete_cmd_prefix": "rm(",
     "library": "var_list.r",
     "varRefreshCmd": "cat(var_dic_list()) "
    }
   },
   "types_to_exclude": [
    "module",
    "function",
    "builtin_function_or_method",
    "instance",
    "_Feature"
   ],
   "window_display": false
  }
 },
 "nbformat": 4,
 "nbformat_minor": 5
}
