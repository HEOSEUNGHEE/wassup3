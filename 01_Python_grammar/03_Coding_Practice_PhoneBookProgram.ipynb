{
 "cells": [
  {
   "cell_type": "markdown",
   "metadata": {},
   "source": [
    "# 전화번호 프로그램 만들기\n",
    "\n",
    "* 홍길동 010-123-4567\n",
    "* 기능1 : 연락처 추가\n",
    "* 기능2 : 연락처 전체 보기\n",
    "* 기능3 : 검색, 이름을 입력받아서 전화번호 조회\n",
    "* 기능4 : 수정, 이름을 입력받아서 전화번호 입력수정\n",
    "* 기능5 : 삭제, 이름 입력받아서 삭제\n",
    "* 기능6 : 프로그램 종료"
   ]
  },
  {
   "cell_type": "code",
   "execution_count": 6,
   "metadata": {},
   "outputs": [],
   "source": [
    "prompt = \"\"\"\n",
    "1. 연락처 추가\n",
    "2. 검색(이름)\n",
    "3. 수정\n",
    "4. 삭제\n",
    "5. 연락처 전체 보기\n",
    "6. 전체 삭제 \n",
    "7. 종료\n",
    "Enter number :\n",
    "\"\"\"\n",
    "userList = []"
   ]
  },
  {
   "cell_type": "code",
   "execution_count": 7,
   "metadata": {},
   "outputs": [
    {
     "name": "stdout",
     "output_type": "stream",
     "text": [
      "\n",
      "1. 연락처 추가\n",
      "2. 검색(이름)\n",
      "3. 수정\n",
      "4. 삭제\n",
      "5. 연락처 전체 보기\n",
      "6. 전체 삭제 \n",
      "7. 종료\n",
      "Enter number :\n",
      "\n"
     ]
    }
   ],
   "source": [
    "print(prompt)"
   ]
  },
  {
   "cell_type": "code",
   "execution_count": 10,
   "metadata": {},
   "outputs": [],
   "source": [
    "## 요구사항 분석 및 설계\n",
    "1. I/O, 데이터 : 문자열, 딕셔널리 K : V\n",
    "2. 데이터 : 사용자 입력 input()\n",
    "3. 구조 : 프로그램 while 반복문, 기능 if 분기문\n",
    "4. 기능 + 인터페이스 정책\n",
    "- 1번 연락처 추가 : dict[key] = value\n",
    "- 2번 연락처 전체 보기 : print(dict)\n",
    "- 3번 검색 : get메서드, dict[key] + 편의기능(사전에 사용자가 존재하는지 확인 if user in dict)\n",
    "- 4번 수정 : update 메서드, dict[key] = value\n",
    "- 5번 삭제 : del\n",
    "- 6번 종료 : break\n",
    "+ 예외처리"
   ]
  },
  {
   "cell_type": "code",
   "execution_count": null,
   "metadata": {},
   "outputs": [
    {
     "name": "stdout",
     "output_type": "stream",
     "text": [
      "-----전화번호부 프로그램-----\n",
      "1.추가   2.보기   3.검색   4.수정   5.삭제   9.종료\n"
     ]
    }
   ],
   "source": [
    "contact = {} #contact를 넣을 딕셔너리 만들어줌\n",
    "\n",
    "while True:\n",
    "    print('-----전화번호부 프로그램-----') # 문구 출력 : 전화번호부 프로그램 \n",
    "    print('1.추가   2.보기   3.검색   4.수정   5.삭제   9.종료') # 문구 출력 : 번호 당 기능 설명\n",
    "    menu = int(input('메뉴를 선택해주세요.(숫자only): ' )) # 숫자만 입력받을 수 있는 입력창을 숫자형이 들어갈거니까 int로 형변환 하고, 그걸 menu로 지정\n",
    "\n",
    "    if menu == 1: #input 박스에 들어온 값이 1이면 \n",
    "        print('연락처를 추가합니다.') #문구 출력\n",
    "        new_name = input('이름: ') # '이름:'의 input창에 입력된 값을 new_name에 저장\n",
    "        new_tel = input('전화번호: ') # '전화번호:'의 input창에 입력된 값을 new_tel에 저장\n",
    "        print(new_name, new_tel) #입력한 값을 보여줘라 \n",
    "        # contact[new_name] = new_tel\n",
    "        contact.setdefault(new_name, new_tel) #setdefault(key,value)는 딕셔너리에 키,값을 쌍으로 추가할 수 있고, 키만 입력했다면 value는 None으로 지정됨\n",
    "                                            # contact딕셔너리에 new_name(key,value)를 추가\n",
    "    elif menu == 2: #완성 #input 박스에 들어온 값이 2이면 \n",
    "        print('연락처를 조회합니다.') #문구 출력 \n",
    "        # print(contact)\n",
    "        for name, tel in contact.items(): #items() 키와 값을 동시에 접근할 때 사용, 이름과 전화번호가 contact딕셔너리에 저장돼 있다면\n",
    "            print(name, '=', tel ) # 이름 = 전화번호 라고 출력해서 보여줘\n",
    "\n",
    "    elif menu == 3: # 완성 #input박스에 들어온 값이 3이면\n",
    "        print('연락처를 검색합니다.') #문구 출력\n",
    "        search_name = input('검색 이름: ') # '검색 이름:'의 input창에 입력된 값을 search_name에 저장\n",
    "        # print(contact[search_name])\n",
    "        print(contact.get(search_name, '없는 이름입니다.')) #get()메서드는 딕셔너리에서 주어진 키에 해당하는 값을 반환하는 메서드\n",
    "                                                            #딕셔너리에 저장된 조회한 이름을 반환하고, 없으면 없다는 문구 출력                    \n",
    "\n",
    "    elif menu == 4: # 완성 #input박스에 들어온 값이 4이면\n",
    "        print('연락처를 수정합니다.') # 문구 출력\n",
    "        mod_name = input('수정 이름 : ') # '수정 이름:'의 input창에 입력된 값을 mod_name에 저장\n",
    "\n",
    "        if mod_name in contact: # 이름이 딕셔너리에 있다면 \n",
    "            mod_tel = input('새 전화번호 : ') # 일치하는 이름에 대해 전화번호를 수정할 수 있는 input이 나오고, 그 입력 값을 mod_tel에 저장\n",
    "            contact[mod_name] = mod_tel # 수정된 전화번호를 딕셔너리의 해당 이름에 저장 \n",
    "        else : # 이름이 딕셔너리에 없으면\n",
    "            print('등록되지 않은 이름입니다.') # 문구 출력 \n",
    "\n",
    "    elif menu == 5: # 완성 #input박스에 들어온 값이 5이면\n",
    "        print('연락처를 삭제합니다.') # 문구 출력\n",
    "        del_name = input('삭제 이름: ') # '삭제 이름:'의 input창에 입력된 값을 del_name에 저장\n",
    "\n",
    "        if del_name in contact: # 그 입력된 del_name이 딕셔너리에 있다면\n",
    "            del contact[del_name] # 딕셔너리의 일치하는 del_name을 삭제해\n",
    "        else : # 입력된 이름이 딕셔너리에 없다면 \n",
    "            print('등록되지 않은 이름입니다.') # 문구 출력\n",
    "\n",
    "\n",
    "    elif menu == 9: # 완성 #input박스에 들어온 값이 9이면\n",
    "        print('연락처를 종료합니다.') # 문구 출력 \n",
    "        break # while 문 종료\n",
    "\n",
    "    else : # 번호 당 기능설명에 없는 숫자가 입력됐다면 \n",
    "        print('잘못된 입력입니다.') # 문구 출력 "
   ]
  },
  {
   "cell_type": "code",
   "execution_count": null,
   "metadata": {},
   "outputs": [],
   "source": [
    "    if menu == 1: #input 박스에 들어온 값이 1이면 \n",
    "        print('연락처를 추가합니다.') #문구 출력\n",
    "        new_name = input('이름: ') # '이름:'의 input창을 new_name으로 지정해줘라\n",
    "        new_tel = input('전화번호: ') # '전화번호:'의 input창을 new_tel으로 지정해줘라\n",
    "        print(new_name, new_tel) "
   ]
  }
 ],
 "metadata": {
  "kernelspec": {
   "display_name": "Python 3 (ipykernel)",
   "language": "python",
   "name": "python3"
  },
  "language_info": {
   "codemirror_mode": {
    "name": "ipython",
    "version": 3
   },
   "file_extension": ".py",
   "mimetype": "text/x-python",
   "name": "python",
   "nbconvert_exporter": "python",
   "pygments_lexer": "ipython3",
   "version": "3.11.7"
  },
  "toc": {
   "base_numbering": 1,
   "nav_menu": {},
   "number_sections": true,
   "sideBar": true,
   "skip_h1_title": false,
   "title_cell": "Table of Contents",
   "title_sidebar": "Contents",
   "toc_cell": false,
   "toc_position": {},
   "toc_section_display": true,
   "toc_window_display": false
  },
  "varInspector": {
   "cols": {
    "lenName": 16,
    "lenType": 16,
    "lenVar": 40
   },
   "kernels_config": {
    "python": {
     "delete_cmd_postfix": "",
     "delete_cmd_prefix": "del ",
     "library": "var_list.py",
     "varRefreshCmd": "print(var_dic_list())"
    },
    "r": {
     "delete_cmd_postfix": ") ",
     "delete_cmd_prefix": "rm(",
     "library": "var_list.r",
     "varRefreshCmd": "cat(var_dic_list()) "
    }
   },
   "types_to_exclude": [
    "module",
    "function",
    "builtin_function_or_method",
    "instance",
    "_Feature"
   ],
   "window_display": false
  }
 },
 "nbformat": 4,
 "nbformat_minor": 4
}
