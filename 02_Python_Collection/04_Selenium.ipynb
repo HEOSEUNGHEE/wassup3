{
 "cells": [
  {
   "cell_type": "markdown",
   "id": "fcb7bfa8-0a80-42ff-8de9-55ee61985a64",
   "metadata": {},
   "source": [
    "# Selenium 사용하기"
   ]
  },
  {
   "cell_type": "markdown",
   "id": "7c237876-4450-4510-b606-b2fd8be492b6",
   "metadata": {},
   "source": [
    "* 크롬 115이상 버전부터 부터 드라이버 설치 불필요\n",
    "* 셀레니움4 부터 문법 변경\n",
    "* https://www.selenium.dev/documentation/   셀레니움으로는 스크래핑하면 너무 느리므로, 동적 웹페이지 접속 및 이벤트 발생 역할 만 하고, 파싱은 BS4를 쓰는게 좋다."
   ]
  },
  {
   "cell_type": "code",
   "execution_count": 1,
   "id": "5c18babf-affd-43b1-91cf-5db8d4534a7d",
   "metadata": {},
   "outputs": [
    {
     "name": "stdout",
     "output_type": "stream",
     "text": [
      "Collecting selenium\n",
      "  Downloading selenium-4.22.0-py3-none-any.whl.metadata (7.0 kB)\n",
      "Requirement already satisfied: urllib3<3,>=1.26 in c:\\users\\hsh97\\anaconda3\\lib\\site-packages (from urllib3[socks]<3,>=1.26->selenium) (2.0.7)\n",
      "Collecting trio~=0.17 (from selenium)\n",
      "  Downloading trio-0.25.1-py3-none-any.whl.metadata (8.7 kB)\n",
      "Collecting trio-websocket~=0.9 (from selenium)\n",
      "  Downloading trio_websocket-0.11.1-py3-none-any.whl.metadata (4.7 kB)\n",
      "Requirement already satisfied: certifi>=2021.10.8 in c:\\users\\hsh97\\anaconda3\\lib\\site-packages (from selenium) (2024.2.2)\n",
      "Requirement already satisfied: typing_extensions>=4.9.0 in c:\\users\\hsh97\\anaconda3\\lib\\site-packages (from selenium) (4.9.0)\n",
      "Collecting websocket-client>=1.8.0 (from selenium)\n",
      "  Downloading websocket_client-1.8.0-py3-none-any.whl.metadata (8.0 kB)\n",
      "Collecting attrs>=23.2.0 (from trio~=0.17->selenium)\n",
      "  Downloading attrs-23.2.0-py3-none-any.whl.metadata (9.5 kB)\n",
      "Requirement already satisfied: sortedcontainers in c:\\users\\hsh97\\anaconda3\\lib\\site-packages (from trio~=0.17->selenium) (2.4.0)\n",
      "Requirement already satisfied: idna in c:\\users\\hsh97\\anaconda3\\lib\\site-packages (from trio~=0.17->selenium) (3.4)\n",
      "Collecting outcome (from trio~=0.17->selenium)\n",
      "  Downloading outcome-1.3.0.post0-py2.py3-none-any.whl.metadata (2.6 kB)\n",
      "Requirement already satisfied: sniffio>=1.3.0 in c:\\users\\hsh97\\anaconda3\\lib\\site-packages (from trio~=0.17->selenium) (1.3.0)\n",
      "Requirement already satisfied: cffi>=1.14 in c:\\users\\hsh97\\anaconda3\\lib\\site-packages (from trio~=0.17->selenium) (1.16.0)\n",
      "Collecting wsproto>=0.14 (from trio-websocket~=0.9->selenium)\n",
      "  Downloading wsproto-1.2.0-py3-none-any.whl.metadata (5.6 kB)\n",
      "Requirement already satisfied: pysocks!=1.5.7,<2.0,>=1.5.6 in c:\\users\\hsh97\\anaconda3\\lib\\site-packages (from urllib3[socks]<3,>=1.26->selenium) (1.7.1)\n",
      "Requirement already satisfied: pycparser in c:\\users\\hsh97\\anaconda3\\lib\\site-packages (from cffi>=1.14->trio~=0.17->selenium) (2.21)\n",
      "Collecting h11<1,>=0.9.0 (from wsproto>=0.14->trio-websocket~=0.9->selenium)\n",
      "  Downloading h11-0.14.0-py3-none-any.whl.metadata (8.2 kB)\n",
      "Downloading selenium-4.22.0-py3-none-any.whl (9.4 MB)\n",
      "   ---------------------------------------- 0.0/9.4 MB ? eta -:--:--\n",
      "   ---------------------------------------- 0.1/9.4 MB 1.7 MB/s eta 0:00:06\n",
      "   ---------------------------------------- 0.1/9.4 MB 1.6 MB/s eta 0:00:06\n",
      "    --------------------------------------- 0.1/9.4 MB 1.2 MB/s eta 0:00:08\n",
      "    --------------------------------------- 0.2/9.4 MB 1.3 MB/s eta 0:00:08\n",
      "   - -------------------------------------- 0.3/9.4 MB 1.4 MB/s eta 0:00:07\n",
      "   - -------------------------------------- 0.4/9.4 MB 1.3 MB/s eta 0:00:07\n",
      "   - -------------------------------------- 0.4/9.4 MB 1.2 MB/s eta 0:00:08\n",
      "   - -------------------------------------- 0.5/9.4 MB 1.3 MB/s eta 0:00:08\n",
      "   -- ------------------------------------- 0.6/9.4 MB 1.4 MB/s eta 0:00:07\n",
      "   -- ------------------------------------- 0.6/9.4 MB 1.4 MB/s eta 0:00:07\n",
      "   --- ------------------------------------ 0.7/9.4 MB 1.4 MB/s eta 0:00:07\n",
      "   --- ------------------------------------ 0.7/9.4 MB 1.5 MB/s eta 0:00:06\n",
      "   --- ------------------------------------ 0.7/9.4 MB 1.3 MB/s eta 0:00:07\n",
      "   --- ------------------------------------ 0.8/9.4 MB 1.3 MB/s eta 0:00:07\n",
      "   ---- ----------------------------------- 1.0/9.4 MB 1.4 MB/s eta 0:00:06\n",
      "   ---- ----------------------------------- 1.0/9.4 MB 1.5 MB/s eta 0:00:06\n",
      "   ---- ----------------------------------- 1.0/9.4 MB 1.5 MB/s eta 0:00:06\n",
      "   ---- ----------------------------------- 1.0/9.4 MB 1.5 MB/s eta 0:00:06\n",
      "   ---- ----------------------------------- 1.0/9.4 MB 1.5 MB/s eta 0:00:06\n",
      "   ---- ----------------------------------- 1.0/9.4 MB 1.5 MB/s eta 0:00:06\n",
      "   ---- ----------------------------------- 1.0/9.4 MB 1.5 MB/s eta 0:00:06\n",
      "   ---- ----------------------------------- 1.0/9.4 MB 1.5 MB/s eta 0:00:06\n",
      "   ---- ----------------------------------- 1.0/9.4 MB 1.5 MB/s eta 0:00:06\n",
      "   ---- ----------------------------------- 1.1/9.4 MB 964.1 kB/s eta 0:00:09\n",
      "   ---- ----------------------------------- 1.1/9.4 MB 951.3 kB/s eta 0:00:09\n",
      "   ---- ----------------------------------- 1.2/9.4 MB 982.6 kB/s eta 0:00:09\n",
      "   ----- ---------------------------------- 1.2/9.4 MB 987.4 kB/s eta 0:00:09\n",
      "   ----- ---------------------------------- 1.2/9.4 MB 987.4 kB/s eta 0:00:09\n",
      "   ----- ---------------------------------- 1.2/9.4 MB 987.4 kB/s eta 0:00:09\n",
      "   ----- ---------------------------------- 1.2/9.4 MB 886.2 kB/s eta 0:00:10\n",
      "   ----- ---------------------------------- 1.3/9.4 MB 900.1 kB/s eta 0:00:10\n",
      "   ----- ---------------------------------- 1.3/9.4 MB 900.1 kB/s eta 0:00:10\n",
      "   ----- ---------------------------------- 1.3/9.4 MB 900.1 kB/s eta 0:00:10\n",
      "   ----- ---------------------------------- 1.3/9.4 MB 900.1 kB/s eta 0:00:10\n",
      "   ----- ---------------------------------- 1.3/9.4 MB 900.1 kB/s eta 0:00:10\n",
      "   ----- ---------------------------------- 1.3/9.4 MB 792.5 kB/s eta 0:00:11\n",
      "   ----- ---------------------------------- 1.4/9.4 MB 793.7 kB/s eta 0:00:11\n",
      "   ------ --------------------------------- 1.5/9.4 MB 825.1 kB/s eta 0:00:10\n",
      "   ------ --------------------------------- 1.6/9.4 MB 866.2 kB/s eta 0:00:10\n",
      "   ------ --------------------------------- 1.6/9.4 MB 896.3 kB/s eta 0:00:09\n",
      "   ------- -------------------------------- 1.7/9.4 MB 909.7 kB/s eta 0:00:09\n",
      "   ------- -------------------------------- 1.8/9.4 MB 903.5 kB/s eta 0:00:09\n",
      "   -------- ------------------------------- 1.9/9.4 MB 949.2 kB/s eta 0:00:08\n",
      "   -------- ------------------------------- 2.0/9.4 MB 988.2 kB/s eta 0:00:08\n",
      "   --------- ------------------------------ 2.1/9.4 MB 1.0 MB/s eta 0:00:08\n",
      "   --------- ------------------------------ 2.3/9.4 MB 1.1 MB/s eta 0:00:07\n",
      "   ---------- ----------------------------- 2.4/9.4 MB 1.1 MB/s eta 0:00:07\n",
      "   ---------- ----------------------------- 2.4/9.4 MB 1.1 MB/s eta 0:00:07\n",
      "   ---------- ----------------------------- 2.5/9.4 MB 1.1 MB/s eta 0:00:07\n",
      "   ----------- ---------------------------- 2.6/9.4 MB 1.1 MB/s eta 0:00:06\n",
      "   ----------- ---------------------------- 2.8/9.4 MB 1.2 MB/s eta 0:00:06\n",
      "   ------------ --------------------------- 2.9/9.4 MB 1.2 MB/s eta 0:00:06\n",
      "   ------------ --------------------------- 3.1/9.4 MB 1.2 MB/s eta 0:00:06\n",
      "   ------------- -------------------------- 3.1/9.4 MB 1.3 MB/s eta 0:00:06\n",
      "   ------------- -------------------------- 3.1/9.4 MB 1.3 MB/s eta 0:00:06\n",
      "   ------------- -------------------------- 3.1/9.4 MB 1.3 MB/s eta 0:00:06\n",
      "   ------------- -------------------------- 3.1/9.4 MB 1.3 MB/s eta 0:00:06\n",
      "   ------------- -------------------------- 3.1/9.4 MB 1.3 MB/s eta 0:00:06\n",
      "   ------------- -------------------------- 3.2/9.4 MB 1.2 MB/s eta 0:00:06\n",
      "   ------------- -------------------------- 3.2/9.4 MB 1.2 MB/s eta 0:00:06\n",
      "   ------------- -------------------------- 3.3/9.4 MB 1.2 MB/s eta 0:00:06\n",
      "   ------------- -------------------------- 3.3/9.4 MB 1.2 MB/s eta 0:00:06\n",
      "   -------------- ------------------------- 3.3/9.4 MB 1.1 MB/s eta 0:00:06\n",
      "   -------------- ------------------------- 3.4/9.4 MB 1.1 MB/s eta 0:00:06\n",
      "   -------------- ------------------------- 3.4/9.4 MB 1.1 MB/s eta 0:00:06\n",
      "   -------------- ------------------------- 3.4/9.4 MB 1.1 MB/s eta 0:00:06\n",
      "   --------------- ------------------------ 3.6/9.4 MB 1.2 MB/s eta 0:00:06\n",
      "   --------------- ------------------------ 3.7/9.4 MB 1.2 MB/s eta 0:00:05\n",
      "   ---------------- ----------------------- 3.9/9.4 MB 1.2 MB/s eta 0:00:05\n",
      "   ----------------- ---------------------- 4.2/9.4 MB 1.3 MB/s eta 0:00:05\n",
      "   ------------------ --------------------- 4.3/9.4 MB 1.3 MB/s eta 0:00:04\n",
      "   ------------------ --------------------- 4.3/9.4 MB 1.3 MB/s eta 0:00:04\n",
      "   ------------------ --------------------- 4.3/9.4 MB 1.3 MB/s eta 0:00:05\n",
      "   ------------------ --------------------- 4.4/9.4 MB 1.3 MB/s eta 0:00:04\n",
      "   ------------------- -------------------- 4.7/9.4 MB 1.3 MB/s eta 0:00:04\n",
      "   -------------------- ------------------- 4.9/9.4 MB 1.4 MB/s eta 0:00:04\n",
      "   ---------------------- ----------------- 5.2/9.4 MB 1.5 MB/s eta 0:00:03\n",
      "   ----------------------- ---------------- 5.5/9.4 MB 1.5 MB/s eta 0:00:03\n",
      "   ------------------------- -------------- 6.0/9.4 MB 1.6 MB/s eta 0:00:03\n",
      "   --------------------------- ------------ 6.4/9.4 MB 1.7 MB/s eta 0:00:02\n",
      "   ----------------------------- ---------- 6.9/9.4 MB 1.8 MB/s eta 0:00:02\n",
      "   ------------------------------ --------- 7.3/9.4 MB 1.9 MB/s eta 0:00:02\n",
      "   -------------------------------- ------- 7.7/9.4 MB 2.0 MB/s eta 0:00:01\n",
      "   ----------------------------------- ---- 8.3/9.4 MB 2.1 MB/s eta 0:00:01\n",
      "   ------------------------------------- -- 8.8/9.4 MB 2.2 MB/s eta 0:00:01\n",
      "   ---------------------------------------  9.3/9.4 MB 2.3 MB/s eta 0:00:01\n",
      "   ---------------------------------------- 9.4/9.4 MB 2.3 MB/s eta 0:00:00\n",
      "Downloading trio-0.25.1-py3-none-any.whl (467 kB)\n",
      "   ---------------------------------------- 0.0/467.7 kB ? eta -:--:--\n",
      "   --------------------------------------  460.8/467.7 kB 14.5 MB/s eta 0:00:01\n",
      "   ---------------------------------------- 467.7/467.7 kB 9.7 MB/s eta 0:00:00\n",
      "Downloading trio_websocket-0.11.1-py3-none-any.whl (17 kB)\n",
      "Downloading websocket_client-1.8.0-py3-none-any.whl (58 kB)\n",
      "   ---------------------------------------- 0.0/58.8 kB ? eta -:--:--\n",
      "   ---------------------------------- ----- 51.2/58.8 kB ? eta -:--:--\n",
      "   ---------------------------------------- 58.8/58.8 kB 1.0 MB/s eta 0:00:00\n",
      "Downloading attrs-23.2.0-py3-none-any.whl (60 kB)\n",
      "   ---------------------------------------- 0.0/60.8 kB ? eta -:--:--\n",
      "   ---------------------------------------- 60.8/60.8 kB 3.2 MB/s eta 0:00:00\n",
      "Downloading wsproto-1.2.0-py3-none-any.whl (24 kB)\n",
      "Downloading outcome-1.3.0.post0-py2.py3-none-any.whl (10 kB)\n",
      "Downloading h11-0.14.0-py3-none-any.whl (58 kB)\n",
      "   ---------------------------------------- 0.0/58.3 kB ? eta -:--:--\n",
      "   ---------------------------------------- 58.3/58.3 kB 3.0 MB/s eta 0:00:00\n",
      "Installing collected packages: websocket-client, h11, attrs, wsproto, outcome, trio, trio-websocket, selenium\n",
      "  Attempting uninstall: websocket-client\n",
      "    Found existing installation: websocket-client 0.58.0\n",
      "    Uninstalling websocket-client-0.58.0:\n",
      "      Successfully uninstalled websocket-client-0.58.0\n",
      "  Attempting uninstall: attrs\n",
      "    Found existing installation: attrs 23.1.0\n",
      "    Uninstalling attrs-23.1.0:\n",
      "      Successfully uninstalled attrs-23.1.0\n",
      "Successfully installed attrs-23.2.0 h11-0.14.0 outcome-1.3.0.post0 selenium-4.22.0 trio-0.25.1 trio-websocket-0.11.1 websocket-client-1.8.0 wsproto-1.2.0\n"
     ]
    }
   ],
   "source": [
    "# 셀레니움 라이브러리 설치\n",
    "!pip install selenium"
   ]
  },
  {
   "cell_type": "code",
   "execution_count": 4,
   "id": "79ec1e4f-b5ec-43ef-b2ae-e9b555b40c0b",
   "metadata": {},
   "outputs": [
    {
     "data": {
      "text/plain": [
       "<selenium.webdriver.chrome.options.Options at 0x21c66efc1d0>"
      ]
     },
     "execution_count": 4,
     "metadata": {},
     "output_type": "execute_result"
    }
   ],
   "source": [
    "from selenium import webdriver\n",
    "from selenium.webdriver.common.by import By\n",
    "from selenium.webdriver.chrome.options import Options\n",
    "import time\n",
    "\n",
    "options = Options()\n",
    "# options.add_argument(\"--start-maximized\")\n",
    "# options.add_argument(\"--headless=new\") \n",
    "options"
   ]
  },
  {
   "cell_type": "code",
   "execution_count": 5,
   "id": "2ac09aa1-4a3d-42f9-b0ea-61d0785db57b",
   "metadata": {},
   "outputs": [],
   "source": [
    "#특정함수안에서  드라이버 생성시 함수종료될 때 브라우저 같이 종료되는 문제 대응\n",
    "options.add_experimental_option(\"detach\", True) "
   ]
  },
  {
   "cell_type": "markdown",
   "id": "be166278-ea16-4101-b263-09baa297d90f",
   "metadata": {},
   "source": [
    "## 브라우저 실행 및 페이지 접속"
   ]
  },
  {
   "cell_type": "code",
   "execution_count": 8,
   "id": "6cfaac44-5287-4d64-a1f8-a1ce863a67d4",
   "metadata": {},
   "outputs": [],
   "source": [
    "url = 'http://naver.com'\n",
    "driver = webdriver.Chrome(options=options) # 객체 생성"
   ]
  },
  {
   "cell_type": "code",
   "execution_count": 9,
   "id": "fd084766-6b50-44ab-97ff-46381d0a3044",
   "metadata": {},
   "outputs": [],
   "source": [
    "driver.get(url) # 실행 \n",
    "time.sleep(2) "
   ]
  },
  {
   "cell_type": "markdown",
   "id": "d25bba24-7cc7-4a14-b5a7-cb55c894f5a0",
   "metadata": {},
   "source": [
    "## 상호작용"
   ]
  },
  {
   "cell_type": "code",
   "execution_count": 10,
   "id": "5bbf270d-2bc9-4d45-a370-e2f9a738ea4a",
   "metadata": {},
   "outputs": [],
   "source": [
    "driver.back()"
   ]
  },
  {
   "cell_type": "code",
   "execution_count": 11,
   "id": "c05e218c-ef1a-4b30-9687-222e9fab3deb",
   "metadata": {},
   "outputs": [],
   "source": [
    "driver.forward()"
   ]
  },
  {
   "cell_type": "code",
   "execution_count": 12,
   "id": "a6d5890d-8a41-4b47-a517-9ef0b2523165",
   "metadata": {},
   "outputs": [],
   "source": [
    "driver.refresh()"
   ]
  },
  {
   "cell_type": "markdown",
   "id": "db09422f-c78a-47dd-9238-8565511cc70e",
   "metadata": {},
   "source": [
    "## 페이지 정보 가져오기"
   ]
  },
  {
   "cell_type": "code",
   "execution_count": 13,
   "id": "0c3982c3-b48e-4246-9b2e-f707e092d68e",
   "metadata": {},
   "outputs": [
    {
     "name": "stdout",
     "output_type": "stream",
     "text": [
      "NAVER https://www.naver.com/ 9CF83B7803C25F61D969AD70FC95045B\n"
     ]
    }
   ],
   "source": [
    "title = driver.title # 탭의 타이틀\n",
    "url = driver.current_url # url\n",
    "handle = driver.current_window_handle # ?? \n",
    "print(title, url, handle)"
   ]
  },
  {
   "cell_type": "markdown",
   "id": "3c34b536-19ce-45e7-a1f7-a782d52b4038",
   "metadata": {},
   "source": [
    "## HTML 요소 찾기"
   ]
  },
  {
   "cell_type": "markdown",
   "id": "73ff8884-7acb-4161-aea7-df3e6f6ff985",
   "metadata": {},
   "source": [
    "네이버 검색창을 핸들링해보자 driver.find_element().send_keys()"
   ]
  },
  {
   "cell_type": "code",
   "execution_count": 14,
   "id": "9cfd3839-bc42-4ff6-aae6-93f9022ef2bd",
   "metadata": {},
   "outputs": [
    {
     "data": {
      "text/plain": [
       "\u001b[1;31mSignature:\u001b[0m \u001b[0mdriver\u001b[0m\u001b[1;33m.\u001b[0m\u001b[0mfind_element\u001b[0m\u001b[1;33m(\u001b[0m\u001b[0mby\u001b[0m\u001b[1;33m=\u001b[0m\u001b[1;34m'id'\u001b[0m\u001b[1;33m,\u001b[0m \u001b[0mvalue\u001b[0m\u001b[1;33m:\u001b[0m \u001b[0mOptional\u001b[0m\u001b[1;33m[\u001b[0m\u001b[0mstr\u001b[0m\u001b[1;33m]\u001b[0m \u001b[1;33m=\u001b[0m \u001b[1;32mNone\u001b[0m\u001b[1;33m)\u001b[0m \u001b[1;33m->\u001b[0m \u001b[0mselenium\u001b[0m\u001b[1;33m.\u001b[0m\u001b[0mwebdriver\u001b[0m\u001b[1;33m.\u001b[0m\u001b[0mremote\u001b[0m\u001b[1;33m.\u001b[0m\u001b[0mwebelement\u001b[0m\u001b[1;33m.\u001b[0m\u001b[0mWebElement\u001b[0m\u001b[1;33m\u001b[0m\u001b[1;33m\u001b[0m\u001b[0m\n",
       "\u001b[1;31mDocstring:\u001b[0m\n",
       "Find an element given a By strategy and locator.\n",
       "\n",
       ":Usage:\n",
       "    ::\n",
       "\n",
       "        element = driver.find_element(By.ID, 'foo')\n",
       "\n",
       ":rtype: WebElement\n",
       "\u001b[1;31mFile:\u001b[0m      c:\\users\\hsh97\\anaconda3\\lib\\site-packages\\selenium\\webdriver\\remote\\webdriver.py\n",
       "\u001b[1;31mType:\u001b[0m      method"
      ]
     },
     "metadata": {},
     "output_type": "display_data"
    }
   ],
   "source": [
    "driver.find_element?"
   ]
  },
  {
   "cell_type": "code",
   "execution_count": 20,
   "id": "5d48e1b3-ef88-4bc7-96a0-f4f69ef58d17",
   "metadata": {},
   "outputs": [
    {
     "data": {
      "text/plain": [
       "<selenium.webdriver.remote.webelement.WebElement (session=\"afb074943d04473bfcf8db71b4807e45\", element=\"f.9CF83B7803C25F61D969AD70FC95045B.d.095E34EF5C22CAA5B19B4DCBAF374132.e.2116\")>"
      ]
     },
     "execution_count": 20,
     "metadata": {},
     "output_type": "execute_result"
    }
   ],
   "source": [
    "driver.find_element(By.ID, \"query\") #id로 검색하겠다. id 이름은 query야. -> 찾은 객체에 대한 요소를 찾아서 반환해줌"
   ]
  },
  {
   "cell_type": "code",
   "execution_count": 21,
   "id": "aa940468-8866-4f72-bc8d-31add4a446e6",
   "metadata": {},
   "outputs": [],
   "source": [
    "# 키 입력\n",
    "driver.find_element(By.ID, \"query\").send_keys('뉴진스')"
   ]
  },
  {
   "cell_type": "code",
   "execution_count": 22,
   "id": "961b058b-9b9e-4c19-82d9-5b26406740cb",
   "metadata": {},
   "outputs": [],
   "source": [
    "driver.find_element(By.CLASS_NAME, \"search_input\").send_keys('블랙핑크')"
   ]
  },
  {
   "cell_type": "code",
   "execution_count": 23,
   "id": "920b18c9-913a-42eb-8c29-957863e782f6",
   "metadata": {},
   "outputs": [],
   "source": [
    "driver.find_element(By.NAME, \"query\").send_keys('르세라핌')"
   ]
  },
  {
   "cell_type": "code",
   "execution_count": 26,
   "id": "342e74af-84da-4b8f-a8be-41368e354a76",
   "metadata": {},
   "outputs": [],
   "source": [
    "driver.find_element(By.CSS_SELECTOR, \"#query\").send_keys('에스파')"
   ]
  },
  {
   "cell_type": "code",
   "execution_count": 25,
   "id": "1ce6212a-e5bb-4a71-8bc7-05980a0953ab",
   "metadata": {},
   "outputs": [],
   "source": [
    "driver.find_element(By.CSS_SELECTOR, \".search_input\").send_keys('세븐틴')"
   ]
  },
  {
   "cell_type": "code",
   "execution_count": 27,
   "id": "c92ef4c0-9914-4e97-8156-5fd66d1d2440",
   "metadata": {},
   "outputs": [],
   "source": [
    "driver.find_element(By.CSS_SELECTOR, '[title=\"검색어를 입력해 주세요.\"]').send_keys('트와이스')"
   ]
  },
  {
   "cell_type": "code",
   "execution_count": 30,
   "id": "222e3744-49b9-46cb-9dd5-9146e2641733",
   "metadata": {},
   "outputs": [],
   "source": [
    "driver.find_element(By.XPATH,\"//*[@id='query']\").send_keys('BTS')"
   ]
  },
  {
   "cell_type": "markdown",
   "id": "3371a7de-af00-4f78-9a68-abc4294e8040",
   "metadata": {},
   "source": [
    "## 클릭"
   ]
  },
  {
   "cell_type": "markdown",
   "id": "65d27430-1b60-4b4e-bb17-de6278f7f5d3",
   "metadata": {},
   "source": [
    "네이버 쇼핑 메뉴를 클릭해보자 driver.find_element().click()"
   ]
  },
  {
   "cell_type": "code",
   "execution_count": 34,
   "id": "1de8aea6-19d5-4525-bc37-bb2e59c07928",
   "metadata": {},
   "outputs": [
    {
     "data": {
      "text/plain": [
       "<selenium.webdriver.remote.webelement.WebElement (session=\"afb074943d04473bfcf8db71b4807e45\", element=\"f.9CF83B7803C25F61D969AD70FC95045B.d.095E34EF5C22CAA5B19B4DCBAF374132.e.3969\")>"
      ]
     },
     "execution_count": 34,
     "metadata": {},
     "output_type": "execute_result"
    }
   ],
   "source": [
    "driver.find_element(By.LINK_TEXT, '쇼핑')  # 해당 텍스트가 있는 링크 객체를 찾아줘."
   ]
  },
  {
   "cell_type": "code",
   "execution_count": 35,
   "id": "92437c6f-7ccd-4e80-b50e-2422f384c04b",
   "metadata": {
    "collapsed": true,
    "jupyter": {
     "outputs_hidden": true
    }
   },
   "outputs": [
    {
     "ename": "ElementClickInterceptedException",
     "evalue": "Message: element click intercepted: Element <a href=\"https://shopping.naver.com/home\" class=\"link_service\" target=\"_blank\">...</a> is not clickable at point (524, 154). Other element would receive the click: <a href=\"https://help.naver.com/alias/search/word/word_18.naver\" class=\"report\" data-clk=\"sug.report\" target=\"_blank\">...</a>\n  (Session info: chrome=126.0.6478.63)\nStacktrace:\n\tGetHandleVerifier [0x00007FF79F113E32+31618]\n\t(No symbol) [0x00007FF79F08B099]\n\t(No symbol) [0x00007FF79EF4888A]\n\t(No symbol) [0x00007FF79EFA022E]\n\t(No symbol) [0x00007FF79EF9DBE2]\n\t(No symbol) [0x00007FF79EF9B07B]\n\t(No symbol) [0x00007FF79EF9A246]\n\t(No symbol) [0x00007FF79EF8C281]\n\t(No symbol) [0x00007FF79EFBD10A]\n\t(No symbol) [0x00007FF79EF8BBA6]\n\t(No symbol) [0x00007FF79EFBD320]\n\t(No symbol) [0x00007FF79EFDCA80]\n\t(No symbol) [0x00007FF79EFBCEB3]\n\t(No symbol) [0x00007FF79EF8A46B]\n\t(No symbol) [0x00007FF79EF8B001]\n\tGetHandleVerifier [0x00007FF79F419FFD+3202381]\n\tGetHandleVerifier [0x00007FF79F466A1D+3516269]\n\tGetHandleVerifier [0x00007FF79F45C490+3473888]\n\tGetHandleVerifier [0x00007FF79F1C5D36+760454]\n\t(No symbol) [0x00007FF79F096B3F]\n\t(No symbol) [0x00007FF79F091CD4]\n\t(No symbol) [0x00007FF79F091E62]\n\t(No symbol) [0x00007FF79F08120F]\n\tBaseThreadInitThunk [0x00007FFB59D7257D+29]\n\tRtlUserThreadStart [0x00007FFB5AB6AF28+40]\n",
     "output_type": "error",
     "traceback": [
      "\u001b[1;31m----------------------------------------------------------------------\u001b[0m",
      "\u001b[1;31mElementClickInterceptedException\u001b[0m     Traceback (most recent call last)",
      "Cell \u001b[1;32mIn[35], line 1\u001b[0m\n\u001b[1;32m----> 1\u001b[0m driver\u001b[38;5;241m.\u001b[39mfind_element(By\u001b[38;5;241m.\u001b[39mLINK_TEXT, \u001b[38;5;124m'\u001b[39m\u001b[38;5;124m쇼핑\u001b[39m\u001b[38;5;124m'\u001b[39m)\u001b[38;5;241m.\u001b[39mclick()\n",
      "File \u001b[1;32m~\\anaconda3\\Lib\\site-packages\\selenium\\webdriver\\remote\\webelement.py:94\u001b[0m, in \u001b[0;36mWebElement.click\u001b[1;34m(self)\u001b[0m\n\u001b[0;32m     92\u001b[0m \u001b[38;5;28;01mdef\u001b[39;00m \u001b[38;5;21mclick\u001b[39m(\u001b[38;5;28mself\u001b[39m) \u001b[38;5;241m-\u001b[39m\u001b[38;5;241m>\u001b[39m \u001b[38;5;28;01mNone\u001b[39;00m:\n\u001b[0;32m     93\u001b[0m \u001b[38;5;250m    \u001b[39m\u001b[38;5;124;03m\"\"\"Clicks the element.\"\"\"\u001b[39;00m\n\u001b[1;32m---> 94\u001b[0m     \u001b[38;5;28mself\u001b[39m\u001b[38;5;241m.\u001b[39m_execute(Command\u001b[38;5;241m.\u001b[39mCLICK_ELEMENT)\n",
      "File \u001b[1;32m~\\anaconda3\\Lib\\site-packages\\selenium\\webdriver\\remote\\webelement.py:395\u001b[0m, in \u001b[0;36mWebElement._execute\u001b[1;34m(self, command, params)\u001b[0m\n\u001b[0;32m    393\u001b[0m     params \u001b[38;5;241m=\u001b[39m {}\n\u001b[0;32m    394\u001b[0m params[\u001b[38;5;124m\"\u001b[39m\u001b[38;5;124mid\u001b[39m\u001b[38;5;124m\"\u001b[39m] \u001b[38;5;241m=\u001b[39m \u001b[38;5;28mself\u001b[39m\u001b[38;5;241m.\u001b[39m_id\n\u001b[1;32m--> 395\u001b[0m \u001b[38;5;28;01mreturn\u001b[39;00m \u001b[38;5;28mself\u001b[39m\u001b[38;5;241m.\u001b[39m_parent\u001b[38;5;241m.\u001b[39mexecute(command, params)\n",
      "File \u001b[1;32m~\\anaconda3\\Lib\\site-packages\\selenium\\webdriver\\remote\\webdriver.py:354\u001b[0m, in \u001b[0;36mWebDriver.execute\u001b[1;34m(self, driver_command, params)\u001b[0m\n\u001b[0;32m    352\u001b[0m response \u001b[38;5;241m=\u001b[39m \u001b[38;5;28mself\u001b[39m\u001b[38;5;241m.\u001b[39mcommand_executor\u001b[38;5;241m.\u001b[39mexecute(driver_command, params)\n\u001b[0;32m    353\u001b[0m \u001b[38;5;28;01mif\u001b[39;00m response:\n\u001b[1;32m--> 354\u001b[0m     \u001b[38;5;28mself\u001b[39m\u001b[38;5;241m.\u001b[39merror_handler\u001b[38;5;241m.\u001b[39mcheck_response(response)\n\u001b[0;32m    355\u001b[0m     response[\u001b[38;5;124m\"\u001b[39m\u001b[38;5;124mvalue\u001b[39m\u001b[38;5;124m\"\u001b[39m] \u001b[38;5;241m=\u001b[39m \u001b[38;5;28mself\u001b[39m\u001b[38;5;241m.\u001b[39m_unwrap_value(response\u001b[38;5;241m.\u001b[39mget(\u001b[38;5;124m\"\u001b[39m\u001b[38;5;124mvalue\u001b[39m\u001b[38;5;124m\"\u001b[39m, \u001b[38;5;28;01mNone\u001b[39;00m))\n\u001b[0;32m    356\u001b[0m     \u001b[38;5;28;01mreturn\u001b[39;00m response\n",
      "File \u001b[1;32m~\\anaconda3\\Lib\\site-packages\\selenium\\webdriver\\remote\\errorhandler.py:229\u001b[0m, in \u001b[0;36mErrorHandler.check_response\u001b[1;34m(self, response)\u001b[0m\n\u001b[0;32m    227\u001b[0m         alert_text \u001b[38;5;241m=\u001b[39m value[\u001b[38;5;124m\"\u001b[39m\u001b[38;5;124malert\u001b[39m\u001b[38;5;124m\"\u001b[39m]\u001b[38;5;241m.\u001b[39mget(\u001b[38;5;124m\"\u001b[39m\u001b[38;5;124mtext\u001b[39m\u001b[38;5;124m\"\u001b[39m)\n\u001b[0;32m    228\u001b[0m     \u001b[38;5;28;01mraise\u001b[39;00m exception_class(message, screen, stacktrace, alert_text)  \u001b[38;5;66;03m# type: ignore[call-arg]  # mypy is not smart enough here\u001b[39;00m\n\u001b[1;32m--> 229\u001b[0m \u001b[38;5;28;01mraise\u001b[39;00m exception_class(message, screen, stacktrace)\n",
      "\u001b[1;31mElementClickInterceptedException\u001b[0m: Message: element click intercepted: Element <a href=\"https://shopping.naver.com/home\" class=\"link_service\" target=\"_blank\">...</a> is not clickable at point (524, 154). Other element would receive the click: <a href=\"https://help.naver.com/alias/search/word/word_18.naver\" class=\"report\" data-clk=\"sug.report\" target=\"_blank\">...</a>\n  (Session info: chrome=126.0.6478.63)\nStacktrace:\n\tGetHandleVerifier [0x00007FF79F113E32+31618]\n\t(No symbol) [0x00007FF79F08B099]\n\t(No symbol) [0x00007FF79EF4888A]\n\t(No symbol) [0x00007FF79EFA022E]\n\t(No symbol) [0x00007FF79EF9DBE2]\n\t(No symbol) [0x00007FF79EF9B07B]\n\t(No symbol) [0x00007FF79EF9A246]\n\t(No symbol) [0x00007FF79EF8C281]\n\t(No symbol) [0x00007FF79EFBD10A]\n\t(No symbol) [0x00007FF79EF8BBA6]\n\t(No symbol) [0x00007FF79EFBD320]\n\t(No symbol) [0x00007FF79EFDCA80]\n\t(No symbol) [0x00007FF79EFBCEB3]\n\t(No symbol) [0x00007FF79EF8A46B]\n\t(No symbol) [0x00007FF79EF8B001]\n\tGetHandleVerifier [0x00007FF79F419FFD+3202381]\n\tGetHandleVerifier [0x00007FF79F466A1D+3516269]\n\tGetHandleVerifier [0x00007FF79F45C490+3473888]\n\tGetHandleVerifier [0x00007FF79F1C5D36+760454]\n\t(No symbol) [0x00007FF79F096B3F]\n\t(No symbol) [0x00007FF79F091CD4]\n\t(No symbol) [0x00007FF79F091E62]\n\t(No symbol) [0x00007FF79F08120F]\n\tBaseThreadInitThunk [0x00007FFB59D7257D+29]\n\tRtlUserThreadStart [0x00007FFB5AB6AF28+40]\n"
     ]
    }
   ],
   "source": [
    "driver.find_element(By.LINK_TEXT, '쇼핑').click()"
   ]
  },
  {
   "cell_type": "code",
   "execution_count": 36,
   "id": "5dde0fa3-823d-44f0-a6a8-416e209b119b",
   "metadata": {
    "collapsed": true,
    "jupyter": {
     "outputs_hidden": true
    }
   },
   "outputs": [
    {
     "ename": "ElementClickInterceptedException",
     "evalue": "Message: element click intercepted: Element <a href=\"https://shopping.naver.com/home\" class=\"link_service\" target=\"_blank\">...</a> is not clickable at point (524, 154). Other element would receive the click: <a href=\"https://help.naver.com/alias/search/word/word_18.naver\" class=\"report\" data-clk=\"sug.report\" target=\"_blank\">...</a>\n  (Session info: chrome=126.0.6478.63)\nStacktrace:\n\tGetHandleVerifier [0x00007FF79F113E32+31618]\n\t(No symbol) [0x00007FF79F08B099]\n\t(No symbol) [0x00007FF79EF4888A]\n\t(No symbol) [0x00007FF79EFA022E]\n\t(No symbol) [0x00007FF79EF9DBE2]\n\t(No symbol) [0x00007FF79EF9B07B]\n\t(No symbol) [0x00007FF79EF9A246]\n\t(No symbol) [0x00007FF79EF8C281]\n\t(No symbol) [0x00007FF79EFBD10A]\n\t(No symbol) [0x00007FF79EF8BBA6]\n\t(No symbol) [0x00007FF79EFBD320]\n\t(No symbol) [0x00007FF79EFDCA80]\n\t(No symbol) [0x00007FF79EFBCEB3]\n\t(No symbol) [0x00007FF79EF8A46B]\n\t(No symbol) [0x00007FF79EF8B001]\n\tGetHandleVerifier [0x00007FF79F419FFD+3202381]\n\tGetHandleVerifier [0x00007FF79F466A1D+3516269]\n\tGetHandleVerifier [0x00007FF79F45C490+3473888]\n\tGetHandleVerifier [0x00007FF79F1C5D36+760454]\n\t(No symbol) [0x00007FF79F096B3F]\n\t(No symbol) [0x00007FF79F091CD4]\n\t(No symbol) [0x00007FF79F091E62]\n\t(No symbol) [0x00007FF79F08120F]\n\tBaseThreadInitThunk [0x00007FFB59D7257D+29]\n\tRtlUserThreadStart [0x00007FFB5AB6AF28+40]\n",
     "output_type": "error",
     "traceback": [
      "\u001b[1;31m----------------------------------------------------------------------\u001b[0m",
      "\u001b[1;31mElementClickInterceptedException\u001b[0m     Traceback (most recent call last)",
      "Cell \u001b[1;32mIn[36], line 2\u001b[0m\n\u001b[0;32m      1\u001b[0m \u001b[38;5;66;03m# 일부 매칭\u001b[39;00m\n\u001b[1;32m----> 2\u001b[0m driver\u001b[38;5;241m.\u001b[39mfind_element(By\u001b[38;5;241m.\u001b[39mPARTIAL_LINK_TEXT, \u001b[38;5;124m'\u001b[39m\u001b[38;5;124m쇼\u001b[39m\u001b[38;5;124m'\u001b[39m)\u001b[38;5;241m.\u001b[39mclick()\n",
      "File \u001b[1;32m~\\anaconda3\\Lib\\site-packages\\selenium\\webdriver\\remote\\webelement.py:94\u001b[0m, in \u001b[0;36mWebElement.click\u001b[1;34m(self)\u001b[0m\n\u001b[0;32m     92\u001b[0m \u001b[38;5;28;01mdef\u001b[39;00m \u001b[38;5;21mclick\u001b[39m(\u001b[38;5;28mself\u001b[39m) \u001b[38;5;241m-\u001b[39m\u001b[38;5;241m>\u001b[39m \u001b[38;5;28;01mNone\u001b[39;00m:\n\u001b[0;32m     93\u001b[0m \u001b[38;5;250m    \u001b[39m\u001b[38;5;124;03m\"\"\"Clicks the element.\"\"\"\u001b[39;00m\n\u001b[1;32m---> 94\u001b[0m     \u001b[38;5;28mself\u001b[39m\u001b[38;5;241m.\u001b[39m_execute(Command\u001b[38;5;241m.\u001b[39mCLICK_ELEMENT)\n",
      "File \u001b[1;32m~\\anaconda3\\Lib\\site-packages\\selenium\\webdriver\\remote\\webelement.py:395\u001b[0m, in \u001b[0;36mWebElement._execute\u001b[1;34m(self, command, params)\u001b[0m\n\u001b[0;32m    393\u001b[0m     params \u001b[38;5;241m=\u001b[39m {}\n\u001b[0;32m    394\u001b[0m params[\u001b[38;5;124m\"\u001b[39m\u001b[38;5;124mid\u001b[39m\u001b[38;5;124m\"\u001b[39m] \u001b[38;5;241m=\u001b[39m \u001b[38;5;28mself\u001b[39m\u001b[38;5;241m.\u001b[39m_id\n\u001b[1;32m--> 395\u001b[0m \u001b[38;5;28;01mreturn\u001b[39;00m \u001b[38;5;28mself\u001b[39m\u001b[38;5;241m.\u001b[39m_parent\u001b[38;5;241m.\u001b[39mexecute(command, params)\n",
      "File \u001b[1;32m~\\anaconda3\\Lib\\site-packages\\selenium\\webdriver\\remote\\webdriver.py:354\u001b[0m, in \u001b[0;36mWebDriver.execute\u001b[1;34m(self, driver_command, params)\u001b[0m\n\u001b[0;32m    352\u001b[0m response \u001b[38;5;241m=\u001b[39m \u001b[38;5;28mself\u001b[39m\u001b[38;5;241m.\u001b[39mcommand_executor\u001b[38;5;241m.\u001b[39mexecute(driver_command, params)\n\u001b[0;32m    353\u001b[0m \u001b[38;5;28;01mif\u001b[39;00m response:\n\u001b[1;32m--> 354\u001b[0m     \u001b[38;5;28mself\u001b[39m\u001b[38;5;241m.\u001b[39merror_handler\u001b[38;5;241m.\u001b[39mcheck_response(response)\n\u001b[0;32m    355\u001b[0m     response[\u001b[38;5;124m\"\u001b[39m\u001b[38;5;124mvalue\u001b[39m\u001b[38;5;124m\"\u001b[39m] \u001b[38;5;241m=\u001b[39m \u001b[38;5;28mself\u001b[39m\u001b[38;5;241m.\u001b[39m_unwrap_value(response\u001b[38;5;241m.\u001b[39mget(\u001b[38;5;124m\"\u001b[39m\u001b[38;5;124mvalue\u001b[39m\u001b[38;5;124m\"\u001b[39m, \u001b[38;5;28;01mNone\u001b[39;00m))\n\u001b[0;32m    356\u001b[0m     \u001b[38;5;28;01mreturn\u001b[39;00m response\n",
      "File \u001b[1;32m~\\anaconda3\\Lib\\site-packages\\selenium\\webdriver\\remote\\errorhandler.py:229\u001b[0m, in \u001b[0;36mErrorHandler.check_response\u001b[1;34m(self, response)\u001b[0m\n\u001b[0;32m    227\u001b[0m         alert_text \u001b[38;5;241m=\u001b[39m value[\u001b[38;5;124m\"\u001b[39m\u001b[38;5;124malert\u001b[39m\u001b[38;5;124m\"\u001b[39m]\u001b[38;5;241m.\u001b[39mget(\u001b[38;5;124m\"\u001b[39m\u001b[38;5;124mtext\u001b[39m\u001b[38;5;124m\"\u001b[39m)\n\u001b[0;32m    228\u001b[0m     \u001b[38;5;28;01mraise\u001b[39;00m exception_class(message, screen, stacktrace, alert_text)  \u001b[38;5;66;03m# type: ignore[call-arg]  # mypy is not smart enough here\u001b[39;00m\n\u001b[1;32m--> 229\u001b[0m \u001b[38;5;28;01mraise\u001b[39;00m exception_class(message, screen, stacktrace)\n",
      "\u001b[1;31mElementClickInterceptedException\u001b[0m: Message: element click intercepted: Element <a href=\"https://shopping.naver.com/home\" class=\"link_service\" target=\"_blank\">...</a> is not clickable at point (524, 154). Other element would receive the click: <a href=\"https://help.naver.com/alias/search/word/word_18.naver\" class=\"report\" data-clk=\"sug.report\" target=\"_blank\">...</a>\n  (Session info: chrome=126.0.6478.63)\nStacktrace:\n\tGetHandleVerifier [0x00007FF79F113E32+31618]\n\t(No symbol) [0x00007FF79F08B099]\n\t(No symbol) [0x00007FF79EF4888A]\n\t(No symbol) [0x00007FF79EFA022E]\n\t(No symbol) [0x00007FF79EF9DBE2]\n\t(No symbol) [0x00007FF79EF9B07B]\n\t(No symbol) [0x00007FF79EF9A246]\n\t(No symbol) [0x00007FF79EF8C281]\n\t(No symbol) [0x00007FF79EFBD10A]\n\t(No symbol) [0x00007FF79EF8BBA6]\n\t(No symbol) [0x00007FF79EFBD320]\n\t(No symbol) [0x00007FF79EFDCA80]\n\t(No symbol) [0x00007FF79EFBCEB3]\n\t(No symbol) [0x00007FF79EF8A46B]\n\t(No symbol) [0x00007FF79EF8B001]\n\tGetHandleVerifier [0x00007FF79F419FFD+3202381]\n\tGetHandleVerifier [0x00007FF79F466A1D+3516269]\n\tGetHandleVerifier [0x00007FF79F45C490+3473888]\n\tGetHandleVerifier [0x00007FF79F1C5D36+760454]\n\t(No symbol) [0x00007FF79F096B3F]\n\t(No symbol) [0x00007FF79F091CD4]\n\t(No symbol) [0x00007FF79F091E62]\n\t(No symbol) [0x00007FF79F08120F]\n\tBaseThreadInitThunk [0x00007FFB59D7257D+29]\n\tRtlUserThreadStart [0x00007FFB5AB6AF28+40]\n"
     ]
    }
   ],
   "source": [
    "# 일부 매칭\n",
    "driver.find_element(By.PARTIAL_LINK_TEXT, '쇼').click()"
   ]
  },
  {
   "cell_type": "code",
   "execution_count": 37,
   "id": "9a7df502-bf56-480f-b2b7-a2dfad76ba89",
   "metadata": {},
   "outputs": [
    {
     "data": {
      "text/plain": [
       "<selenium.webdriver.remote.webelement.WebElement (session=\"afb074943d04473bfcf8db71b4807e45\", element=\"f.9CF83B7803C25F61D969AD70FC95045B.d.095E34EF5C22CAA5B19B4DCBAF374132.e.2060\")>"
      ]
     },
     "execution_count": 37,
     "metadata": {},
     "output_type": "execute_result"
    }
   ],
   "source": [
    "# 태그는 너무 요소가 많으므로, 정확하게 대상을 찾을 때에는 안씀\n",
    "driver.find_element(By.TAG_NAME, 'div')"
   ]
  },
  {
   "cell_type": "code",
   "execution_count": 44,
   "id": "f58fd1f4-63f7-4c55-ad76-953b68af9502",
   "metadata": {},
   "outputs": [
    {
     "data": {
      "text/plain": [
       "'https://mail.naver.com/'"
      ]
     },
     "execution_count": 44,
     "metadata": {},
     "output_type": "execute_result"
    }
   ],
   "source": [
    "\n",
    "driver.find_elements(By.CSS_SELECTOR, '.link_service')[0].get_attribute('href')"
   ]
  },
  {
   "cell_type": "code",
   "execution_count": 45,
   "id": "d4d6f482-0e9c-4114-9767-a9198b7d1cd7",
   "metadata": {},
   "outputs": [],
   "source": [
    "# 여러개의 요소를찾을 때\n",
    "links = driver.find_elements(By.CSS_SELECTOR, '.link_service')"
   ]
  },
  {
   "cell_type": "code",
   "execution_count": 46,
   "id": "5c309b0a-5f12-4770-b39b-ad39c300aca1",
   "metadata": {},
   "outputs": [
    {
     "name": "stdout",
     "output_type": "stream",
     "text": [
      "https://mail.naver.com/\n",
      "https://cafe.naver.com/\n",
      "https://blog.naver.com/\n",
      "https://shopping.naver.com/home\n",
      "https://news.naver.com/\n",
      "https://finance.naver.com/\n",
      "https://land.naver.com/\n",
      "https://map.naver.com/\n",
      "https://comic.naver.com/\n",
      "https://chzzk.naver.com/\n",
      "https://www.naver.com/#\n",
      "https://siape.veta.naver.com/rd?rk=F-Vh0V4XNfEA7DRnODyjow&eltts=DCLofzx%2Ffvf5T3Qt%2B6Stdg%3D%3D&elu=5BA297C9C3C09BC2A363AD20A2AF2280AA600BB0F1224856B1E3B0CD8C7D5F6341BB3F4A77A5F39CD5816E901BFB74C92B046500D36C473274A2DF28B9D9C604F0D8675FDAF22A996AAEFDEE92BA1FCD697E5F7ECC82BD74C279AA95D9F31FA9106C54B228F25590EF823CA4768D621930DE9513FAD9CD3EC5D5F708FBFC00BD55815596EE7293415CF82CB49F5E9FE51A0ED1A693EF16C30A00FBDA72F0764E7209A8FD67C774430DBD47E3F034432C92F547C7B3B86140F31458B88223EDBFEC38BD3EBA69E8DF7436D38385B60492F5B0620FF69F0DD4B5E1E335147C443A65EED66E3A851ECEDF4E1A88918480653F73200BECF984761F9DC82ED93A91FD4279499B6F16268D3359D06F3B3BA00BF2FD7FE60FD7B77C4E541A08D8FFFF5C089D243FC151F89C8B4B3FD3F5841E51B77AC722631354439E91A6B12454A5E7641088ED76EA726F88E20794A8F120DFA54A03E807DBE2A94B1B78B84F04285718616E1A9616759425AF29E4573EB585298CDCEB51D5EF0A29891C796393B6ED3EDA556A9953C05C3BFF1E8F98A09A25A9E5615C1BE99B7832338ED15070FE33E258846C453853AAFDDFE2A35DDAE09D&tr=ndp\n"
     ]
    }
   ],
   "source": [
    "for link in links:\n",
    "    print(link.get_attribute('href'))"
   ]
  },
  {
   "cell_type": "markdown",
   "id": "82725cc5-bfdc-40ed-b470-a3116b3e0514",
   "metadata": {},
   "source": [
    "## 자동 로그인 연습\n"
   ]
  },
  {
   "cell_type": "code",
   "execution_count": 82,
   "id": "7a5b2383-cb8a-4463-b724-46148cadaf2a",
   "metadata": {},
   "outputs": [],
   "source": [
    "# 테스트용 html\n",
    "url = 'file:///C:/workspace/wassup3/02_Python_Collection/sample/signin.html'\n",
    "driver = webdriver.Chrome(options=options) # 객체 생성\n",
    "driver.get(url)\n",
    "time.sleep(2)"
   ]
  },
  {
   "cell_type": "code",
   "execution_count": 83,
   "id": "b8461775-8ef6-4872-bcbe-ea5e7b28c6c8",
   "metadata": {},
   "outputs": [],
   "source": [
    "username = driver.find_element(By.NAME, \"username\")\n",
    "username.send_keys('korea')"
   ]
  },
  {
   "cell_type": "code",
   "execution_count": 84,
   "id": "c98a79b4-b90a-4644-be3f-73150aef7d55",
   "metadata": {},
   "outputs": [],
   "source": [
    "username = driver.find_element(By.NAME, \"password\")\n",
    "username.send_keys('1234')"
   ]
  },
  {
   "cell_type": "code",
   "execution_count": 85,
   "id": "ea3adb25-cdd3-4166-a24e-1a55afe6813c",
   "metadata": {},
   "outputs": [],
   "source": [
    "login = driver.find_element(By.XPATH, '//*[@id=\"loginForm\"]/input[3]')\n",
    "login.click()"
   ]
  },
  {
   "cell_type": "code",
   "execution_count": 55,
   "id": "c852f36f-4f80-44cd-a960-68c0e00d8f41",
   "metadata": {},
   "outputs": [],
   "source": [
    "driver.back()"
   ]
  },
  {
   "cell_type": "code",
   "execution_count": 56,
   "id": "e8813914-106a-42e9-b810-472a87641fbd",
   "metadata": {},
   "outputs": [],
   "source": [
    "login = driver.find_element(By.XPATH, '/html/body/form/input[3]')\n",
    "login.click()"
   ]
  },
  {
   "cell_type": "code",
   "execution_count": 57,
   "id": "f60a5c59-a3e3-4ccc-ab02-d5b29b97d956",
   "metadata": {},
   "outputs": [],
   "source": [
    "driver.back()"
   ]
  },
  {
   "cell_type": "code",
   "execution_count": 59,
   "id": "ff4bc027-8e4b-4a33-94da-cb75efe2d291",
   "metadata": {},
   "outputs": [],
   "source": [
    "login =  driver.find_element(By.CSS_SELECTOR, \"[value='Login']\")\n",
    "login.click()"
   ]
  },
  {
   "cell_type": "code",
   "execution_count": 60,
   "id": "edc5ca90-2c8d-455f-9298-0a851260974a",
   "metadata": {},
   "outputs": [],
   "source": [
    "driver.back()"
   ]
  },
  {
   "cell_type": "code",
   "execution_count": 63,
   "id": "aecbb3f1-3360-4fc3-8d75-1f295c308f1f",
   "metadata": {},
   "outputs": [],
   "source": [
    "username = driver.find_element(By.NAME, \"username\")\n",
    "username.send_keys('korea')\n",
    "username = driver.find_element(By.NAME, \"password\")\n",
    "username.send_keys('1234')"
   ]
  },
  {
   "cell_type": "code",
   "execution_count": 64,
   "id": "4624f922-f3ba-4401-9597-790fbf39ae12",
   "metadata": {},
   "outputs": [],
   "source": [
    "username.submit()"
   ]
  },
  {
   "cell_type": "code",
   "execution_count": 65,
   "id": "45abb33f-c30b-45e2-ab8b-37194ccfaf19",
   "metadata": {},
   "outputs": [],
   "source": [
    "driver.back()"
   ]
  },
  {
   "cell_type": "code",
   "execution_count": 66,
   "id": "b550844b-8052-4011-9046-48676ee6b309",
   "metadata": {},
   "outputs": [
    {
     "data": {
      "text/plain": [
       "'Are you sure you want to do this?'"
      ]
     },
     "execution_count": 66,
     "metadata": {},
     "output_type": "execute_result"
    }
   ],
   "source": [
    "driver.find_element(By.TAG_NAME,'p').text"
   ]
  },
  {
   "cell_type": "code",
   "execution_count": 67,
   "id": "abfe5612-2815-4d75-a1df-c35bbac8289f",
   "metadata": {},
   "outputs": [
    {
     "data": {
      "text/plain": [
       "'<html><head></head><body>\\n        <h1> Sign In </h1>\\n        <form action=\"moved.html\" id=\"loginForm\">\\n            ID : <input name=\"username\" type=\"text\"> <br>\\n            Password : <input name=\"password\" type=\"password\"> <br>\\n\\n            <input name=\"continue\" type=\"submit\" value=\"Login\">\\n            <input name=\"continue\" type=\"button\" value=\"Clear\">\\n        \\n        </form>\\n\\n        <p>Are you sure you want to do this?</p>\\n        <a href=\"continue.html\">Continue</a>\\n        <a href=\"cancel.html\">Cancel</a>\\n\\n        <h1>Welcome</h1>\\n        <p>Site content goes here.</p>\\n        <p class=\"content\">Site content goes here.</p>\\n    \\n</body></html>'"
      ]
     },
     "execution_count": 67,
     "metadata": {},
     "output_type": "execute_result"
    }
   ],
   "source": [
    "#html 소스 추출하기\n",
    "driver.page_source"
   ]
  },
  {
   "cell_type": "code",
   "execution_count": 68,
   "id": "d645a0e5-c2dd-4f7b-ada5-2fe41eeab927",
   "metadata": {},
   "outputs": [],
   "source": [
    "driver.close()"
   ]
  },
  {
   "cell_type": "code",
   "execution_count": null,
   "id": "1f571a72-0600-4de2-a79e-22edc7186c48",
   "metadata": {},
   "outputs": [],
   "source": []
  }
 ],
 "metadata": {
  "kernelspec": {
   "display_name": "Python 3 (ipykernel)",
   "language": "python",
   "name": "python3"
  },
  "language_info": {
   "codemirror_mode": {
    "name": "ipython",
    "version": 3
   },
   "file_extension": ".py",
   "mimetype": "text/x-python",
   "name": "python",
   "nbconvert_exporter": "python",
   "pygments_lexer": "ipython3",
   "version": "3.11.7"
  }
 },
 "nbformat": 4,
 "nbformat_minor": 5
}
