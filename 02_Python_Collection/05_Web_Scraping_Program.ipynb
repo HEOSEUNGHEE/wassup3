{
 "cells": [
  {
   "cell_type": "markdown",
   "id": "2a265407-e01d-40c5-bfc2-ce809a83ab33",
   "metadata": {},
   "source": [
    "# 웹 스크래핑 프로그램 만들어보자"
   ]
  },
  {
   "cell_type": "markdown",
   "id": "14ec0183-6c5e-462e-81f4-2b4fb8d7462b",
   "metadata": {},
   "source": [
    "1. 예제 페이지에서 여행기사를 추출한다.\n",
    "   https://korean.visitkorea.or.kr/main/main.do\n",
    "2. 검색어와 스크래핑 건수를 입력받는다.\n",
    "3. 페이지를 이동한다.\n",
    "4. 상세 페이지별로 여행기사 정보를 수집한다.\n",
    "5.  이미지와 텍스트를 추출해서 파일로 저장까지"
   ]
  },
  {
   "cell_type": "code",
   "execution_count": 1,
   "id": "1e5b884d-14e0-4fbb-ad06-d01acd7637e7",
   "metadata": {},
   "outputs": [],
   "source": [
    "from selenium import webdriver\n",
    "from selenium.webdriver.common.by import By\n",
    "from selenium.webdriver.chrome.options import Options\n",
    "import math, time\n",
    "\n",
    "options = Options()\n",
    "options.add_argument('--window-size=974,1047')\n",
    "options.add_argument('--window-position=-7,0')\n",
    "options.add_experimental_option(\"detach\", True)"
   ]
  },
  {
   "cell_type": "code",
   "execution_count": 3,
   "id": "5c224afa-c7a7-42f8-96a7-64582a00e63b",
   "metadata": {},
   "outputs": [
    {
     "name": "stdin",
     "output_type": "stream",
     "text": [
      "검색어: 제주도\n",
      "크롤링 할 건수는 몇건입니까?:  290\n"
     ]
    }
   ],
   "source": [
    "search = input('검색어:')\n",
    "cnt = int(input('크롤링 할 건수는 몇건입니까?: '))\n",
    "page_cnt = math.ceil(cnt / 10)  # 크롤링 할 전체 페이지 수 "
   ]
  },
  {
   "cell_type": "code",
   "execution_count": 4,
   "id": "68e50080-8c0d-49c5-a72b-6757a7d739f6",
   "metadata": {},
   "outputs": [],
   "source": [
    "URL = 'https://korean.visitkorea.or.kr/search/search_list.do?keyword='+search\n",
    "driver = webdriver.Chrome(options=options)\n",
    "driver.get(URL)\n",
    "time.sleep(3)"
   ]
  },
  {
   "cell_type": "code",
   "execution_count": 5,
   "id": "1bccbf4c-f176-4644-8635-8dbf48a780e1",
   "metadata": {},
   "outputs": [],
   "source": [
    "# 여행기사 더보기 클릭\n",
    "# driver.find_element(By.CSS_SELECTOR, \".more_view\").click() 중복주의\n",
    "driver.find_element(By.CSS_SELECTOR, \"#s_recommend > .more_view > a\").click()"
   ]
  },
  {
   "cell_type": "code",
   "execution_count": 6,
   "id": "b057b657-973f-4b24-ac1a-c66a88dfa2cd",
   "metadata": {},
   "outputs": [
    {
     "data": {
      "text/plain": [
       "34"
      ]
     },
     "execution_count": 6,
     "metadata": {},
     "output_type": "execute_result"
    }
   ],
   "source": [
    "# 제목 추출\n",
    "# 왜 길이가 34일까?\n",
    "result = driver.find_elements(By.CSS_SELECTOR,'.tit a')\n",
    "len(result)"
   ]
  },
  {
   "cell_type": "code",
   "execution_count": 7,
   "id": "9473e66e-bb44-474c-880b-ad7cb8834788",
   "metadata": {},
   "outputs": [
    {
     "name": "stdout",
     "output_type": "stream",
     "text": [
      "\n",
      "\n",
      "\n",
      "\n",
      "\n",
      "\n",
      "\n",
      "\n",
      "\n",
      "\n",
      "\n",
      "\n",
      "\n",
      "\n",
      "\n",
      "\n",
      "\n",
      "\n",
      "\n",
      "\n",
      "\n",
      "\n",
      "\n",
      "\n",
      "해변산책부터 레이싱까지, 제주 반려동물 동반여행 추천 코스\n",
      "제주도가 품은 신비의 화산 숲, 환상숲곶자왈공원\n",
      "한국관광공사 추천 2월 걷기여행길, 이른 봄을 맞이하는 제주도 걷기길\n",
      "제주도의 숨겨진 재미를 찾는\n",
      "<놀멍, 배우멍 제주마을체험 - 1일형 체험학습>\n",
      "제주도 조천읍 버킷리스트 여행지 작성하기\n",
      "김창열의 회귀 철학을 건축으로 표현한 미술관, 제주도립김창열미술관\n",
      "[국내 트레킹 추천]\n",
      "제주 올레길 걷기 여행,\n",
      "준비부터 코스 선택까지 꿀팁 총정리!\n",
      "4월 제주도 가볼 만한, 가파도 청보리 축제\n",
      "제주도 유채꽃 명소 추천, 봄에 떠나는 인생샷 여행\n",
      "소소한 '제주여행' 꿀팁! 〈겨울편〉\n"
     ]
    }
   ],
   "source": [
    "for i in result:\n",
    "    print(i.text)"
   ]
  },
  {
   "cell_type": "code",
   "execution_count": 11,
   "id": "157ab093-2971-4631-8140-28707994517f",
   "metadata": {},
   "outputs": [
    {
     "data": {
      "text/plain": [
       "10"
      ]
     },
     "execution_count": 11,
     "metadata": {},
     "output_type": "execute_result"
    }
   ],
   "source": [
    "# 더 정확하게 찾아주자\n",
    "result = driver.find_elements(By.CSS_SELECTOR,'#search_result .tit>a')\n",
    "len(result)"
   ]
  },
  {
   "cell_type": "code",
   "execution_count": 17,
   "id": "2de64822-2f6e-4f4e-adde-fe89fec3461b",
   "metadata": {},
   "outputs": [
    {
     "ename": "ElementClickInterceptedException",
     "evalue": "Message: element click intercepted: Element <a href=\"javascript:goSearchDetail('5bf42aa9-c0dd-4456-a34b-478f953766df');\">...</a> is not clickable at point (191, 9). Other element would receive the click: <h1 class=\"logo\">...</h1>\n  (Session info: chrome=126.0.6478.126)\nStacktrace:\n\tGetHandleVerifier [0x00007FF71175EEA2+31554]\n\t(No symbol) [0x00007FF7116D7ED9]\n\t(No symbol) [0x00007FF71159872A]\n\t(No symbol) [0x00007FF7115F012E]\n\t(No symbol) [0x00007FF7115EDAF2]\n\t(No symbol) [0x00007FF7115EAF8B]\n\t(No symbol) [0x00007FF7115EA156]\n\t(No symbol) [0x00007FF7115DC151]\n\t(No symbol) [0x00007FF71160D02A]\n\t(No symbol) [0x00007FF7115DBA76]\n\t(No symbol) [0x00007FF71160D240]\n\t(No symbol) [0x00007FF71162C977]\n\t(No symbol) [0x00007FF71160CDD3]\n\t(No symbol) [0x00007FF7115DA33B]\n\t(No symbol) [0x00007FF7115DAED1]\n\tGetHandleVerifier [0x00007FF711A68B1D+3217341]\n\tGetHandleVerifier [0x00007FF711AB5AE3+3532675]\n\tGetHandleVerifier [0x00007FF711AAB0E0+3489152]\n\tGetHandleVerifier [0x00007FF71180E776+750614]\n\t(No symbol) [0x00007FF7116E375F]\n\t(No symbol) [0x00007FF7116DEB14]\n\t(No symbol) [0x00007FF7116DECA2]\n\t(No symbol) [0x00007FF7116CE16F]\n\tBaseThreadInitThunk [0x00007FFB59D7257D+29]\n\tRtlUserThreadStart [0x00007FFB5AB6AF28+40]\n",
     "output_type": "error",
     "traceback": [
      "\u001b[1;31m----------------------------------------------------------------------\u001b[0m",
      "\u001b[1;31mElementClickInterceptedException\u001b[0m     Traceback (most recent call last)",
      "Cell \u001b[1;32mIn[17], line 8\u001b[0m\n\u001b[0;32m      6\u001b[0m \u001b[38;5;28;01mfor\u001b[39;00m item \u001b[38;5;129;01min\u001b[39;00m result:\n\u001b[0;32m      7\u001b[0m     contents_no \u001b[38;5;241m+\u001b[39m\u001b[38;5;241m=\u001b[39m \u001b[38;5;241m1\u001b[39m\n\u001b[1;32m----> 8\u001b[0m     item\u001b[38;5;241m.\u001b[39mclick()\n\u001b[0;32m      9\u001b[0m     time\u001b[38;5;241m.\u001b[39msleep(\u001b[38;5;241m3\u001b[39m)  \n\u001b[0;32m     11\u001b[0m     \u001b[38;5;28mprint\u001b[39m(\u001b[38;5;124mf\u001b[39m\u001b[38;5;124m'\u001b[39m\u001b[38;5;124m======= [ \u001b[39m\u001b[38;5;132;01m{\u001b[39;00mcontents_no\u001b[38;5;132;01m}\u001b[39;00m\u001b[38;5;124m ]  =======\u001b[39m\u001b[38;5;124m'\u001b[39m)\n",
      "File \u001b[1;32m~\\anaconda3\\Lib\\site-packages\\selenium\\webdriver\\remote\\webelement.py:94\u001b[0m, in \u001b[0;36mWebElement.click\u001b[1;34m(self)\u001b[0m\n\u001b[0;32m     92\u001b[0m \u001b[38;5;28;01mdef\u001b[39;00m \u001b[38;5;21mclick\u001b[39m(\u001b[38;5;28mself\u001b[39m) \u001b[38;5;241m-\u001b[39m\u001b[38;5;241m>\u001b[39m \u001b[38;5;28;01mNone\u001b[39;00m:\n\u001b[0;32m     93\u001b[0m \u001b[38;5;250m    \u001b[39m\u001b[38;5;124;03m\"\"\"Clicks the element.\"\"\"\u001b[39;00m\n\u001b[1;32m---> 94\u001b[0m     \u001b[38;5;28mself\u001b[39m\u001b[38;5;241m.\u001b[39m_execute(Command\u001b[38;5;241m.\u001b[39mCLICK_ELEMENT)\n",
      "File \u001b[1;32m~\\anaconda3\\Lib\\site-packages\\selenium\\webdriver\\remote\\webelement.py:395\u001b[0m, in \u001b[0;36mWebElement._execute\u001b[1;34m(self, command, params)\u001b[0m\n\u001b[0;32m    393\u001b[0m     params \u001b[38;5;241m=\u001b[39m {}\n\u001b[0;32m    394\u001b[0m params[\u001b[38;5;124m\"\u001b[39m\u001b[38;5;124mid\u001b[39m\u001b[38;5;124m\"\u001b[39m] \u001b[38;5;241m=\u001b[39m \u001b[38;5;28mself\u001b[39m\u001b[38;5;241m.\u001b[39m_id\n\u001b[1;32m--> 395\u001b[0m \u001b[38;5;28;01mreturn\u001b[39;00m \u001b[38;5;28mself\u001b[39m\u001b[38;5;241m.\u001b[39m_parent\u001b[38;5;241m.\u001b[39mexecute(command, params)\n",
      "File \u001b[1;32m~\\anaconda3\\Lib\\site-packages\\selenium\\webdriver\\remote\\webdriver.py:354\u001b[0m, in \u001b[0;36mWebDriver.execute\u001b[1;34m(self, driver_command, params)\u001b[0m\n\u001b[0;32m    352\u001b[0m response \u001b[38;5;241m=\u001b[39m \u001b[38;5;28mself\u001b[39m\u001b[38;5;241m.\u001b[39mcommand_executor\u001b[38;5;241m.\u001b[39mexecute(driver_command, params)\n\u001b[0;32m    353\u001b[0m \u001b[38;5;28;01mif\u001b[39;00m response:\n\u001b[1;32m--> 354\u001b[0m     \u001b[38;5;28mself\u001b[39m\u001b[38;5;241m.\u001b[39merror_handler\u001b[38;5;241m.\u001b[39mcheck_response(response)\n\u001b[0;32m    355\u001b[0m     response[\u001b[38;5;124m\"\u001b[39m\u001b[38;5;124mvalue\u001b[39m\u001b[38;5;124m\"\u001b[39m] \u001b[38;5;241m=\u001b[39m \u001b[38;5;28mself\u001b[39m\u001b[38;5;241m.\u001b[39m_unwrap_value(response\u001b[38;5;241m.\u001b[39mget(\u001b[38;5;124m\"\u001b[39m\u001b[38;5;124mvalue\u001b[39m\u001b[38;5;124m\"\u001b[39m, \u001b[38;5;28;01mNone\u001b[39;00m))\n\u001b[0;32m    356\u001b[0m     \u001b[38;5;28;01mreturn\u001b[39;00m response\n",
      "File \u001b[1;32m~\\anaconda3\\Lib\\site-packages\\selenium\\webdriver\\remote\\errorhandler.py:229\u001b[0m, in \u001b[0;36mErrorHandler.check_response\u001b[1;34m(self, response)\u001b[0m\n\u001b[0;32m    227\u001b[0m         alert_text \u001b[38;5;241m=\u001b[39m value[\u001b[38;5;124m\"\u001b[39m\u001b[38;5;124malert\u001b[39m\u001b[38;5;124m\"\u001b[39m]\u001b[38;5;241m.\u001b[39mget(\u001b[38;5;124m\"\u001b[39m\u001b[38;5;124mtext\u001b[39m\u001b[38;5;124m\"\u001b[39m)\n\u001b[0;32m    228\u001b[0m     \u001b[38;5;28;01mraise\u001b[39;00m exception_class(message, screen, stacktrace, alert_text)  \u001b[38;5;66;03m# type: ignore[call-arg]  # mypy is not smart enough here\u001b[39;00m\n\u001b[1;32m--> 229\u001b[0m \u001b[38;5;28;01mraise\u001b[39;00m exception_class(message, screen, stacktrace)\n",
      "\u001b[1;31mElementClickInterceptedException\u001b[0m: Message: element click intercepted: Element <a href=\"javascript:goSearchDetail('5bf42aa9-c0dd-4456-a34b-478f953766df');\">...</a> is not clickable at point (191, 9). Other element would receive the click: <h1 class=\"logo\">...</h1>\n  (Session info: chrome=126.0.6478.126)\nStacktrace:\n\tGetHandleVerifier [0x00007FF71175EEA2+31554]\n\t(No symbol) [0x00007FF7116D7ED9]\n\t(No symbol) [0x00007FF71159872A]\n\t(No symbol) [0x00007FF7115F012E]\n\t(No symbol) [0x00007FF7115EDAF2]\n\t(No symbol) [0x00007FF7115EAF8B]\n\t(No symbol) [0x00007FF7115EA156]\n\t(No symbol) [0x00007FF7115DC151]\n\t(No symbol) [0x00007FF71160D02A]\n\t(No symbol) [0x00007FF7115DBA76]\n\t(No symbol) [0x00007FF71160D240]\n\t(No symbol) [0x00007FF71162C977]\n\t(No symbol) [0x00007FF71160CDD3]\n\t(No symbol) [0x00007FF7115DA33B]\n\t(No symbol) [0x00007FF7115DAED1]\n\tGetHandleVerifier [0x00007FF711A68B1D+3217341]\n\tGetHandleVerifier [0x00007FF711AB5AE3+3532675]\n\tGetHandleVerifier [0x00007FF711AAB0E0+3489152]\n\tGetHandleVerifier [0x00007FF71180E776+750614]\n\t(No symbol) [0x00007FF7116E375F]\n\t(No symbol) [0x00007FF7116DEB14]\n\t(No symbol) [0x00007FF7116DECA2]\n\t(No symbol) [0x00007FF7116CE16F]\n\tBaseThreadInitThunk [0x00007FFB59D7257D+29]\n\tRtlUserThreadStart [0x00007FFB5AB6AF28+40]\n"
     ]
    }
   ],
   "source": [
    "# 한페이지내 콘텐츠별 상세페이지 정보를 추출해보자\n",
    "# 페이지 로딩시간 고려해서 넉넉히 2~3초 간격을 주자\n",
    "from bs4 import BeautifulSoup\n",
    "contents_no = 0\n",
    "\n",
    "for item in result:\n",
    "    contents_no += 1\n",
    "    item.click()\n",
    "    time.sleep(3)  \n",
    "    \n",
    "    print(f'======= [ {contents_no} ]  =======')\n",
    "    html = driver.page_source\n",
    "\n",
    "    soup = BeautifulSoup(html, 'lxml')\n",
    "    title = soup.find(id='topTitle')\n",
    "    print(title.text)\n",
    "\n",
    "    driver.back()\n",
    "    time.sleep(3)\n",
    "\n",
    "print('==== 완료 ====')"
   ]
  },
  {
   "cell_type": "code",
   "execution_count": 18,
   "id": "8e8cb914-d1e2-4288-99a7-4e16fc827843",
   "metadata": {},
   "outputs": [
    {
     "data": {
      "text/plain": [
       "'해변산책부터 레이싱까지, 제주 반려동물 동반여행 추천 코스'"
      ]
     },
     "execution_count": 18,
     "metadata": {},
     "output_type": "execute_result"
    }
   ],
   "source": [
    "result = driver.find_elements(By.CSS_SELECTOR,'#search_result .tit>a')\n",
    "result[0].text"
   ]
  },
  {
   "cell_type": "code",
   "execution_count": 19,
   "id": "1bb60887-7ba8-477e-8615-e896f3a9f983",
   "metadata": {},
   "outputs": [],
   "source": [
    "# result[0].click() ## 에러 잘남\n",
    "from selenium.webdriver.common.keys import Keys\n",
    "item.send_keys(Keys.ENTER)"
   ]
  },
  {
   "cell_type": "code",
   "execution_count": 20,
   "id": "472665d4-4439-49fc-8adc-785d5a138af7",
   "metadata": {},
   "outputs": [],
   "source": [
    "from selenium.webdriver.common.keys import Keys\n",
    "\n",
    "def page_work():\n",
    "    result = driver.find_elements(By.CSS_SELECTOR,'#search_result .tit>a')\n",
    "    global contents_no, cnt\n",
    "    \n",
    "    for item in result:\n",
    "        contents_no += 1\n",
    "        \n",
    "        if contents_no <= cnt :    \n",
    "            print(f'[콘텐츠 {contents_no}]')  \n",
    "            item.send_keys(Keys.ENTER) # .click()은 에러 잘남\n",
    "\n",
    "            time.sleep(2)\n",
    "            html = driver.page_source\n",
    "            html_dom = BeautifulSoup(html, 'lxml')\n",
    "\n",
    "            title = html_dom.find(id='topTitle')\n",
    "            print(title.text)\n",
    "            driver.back()\n",
    "            time.sleep(2)     "
   ]
  },
  {
   "cell_type": "markdown",
   "id": "e3420258-2a26-4aef-a8f3-85911e09f267",
   "metadata": {},
   "source": [
    "## 페이지이동 스크래핑"
   ]
  },
  {
   "cell_type": "code",
   "execution_count": 22,
   "id": "392102f0-17c0-42a6-93f4-b69bc67c8a3d",
   "metadata": {},
   "outputs": [
    {
     "name": "stdout",
     "output_type": "stream",
     "text": [
      "스크래핑 프로그램 실행\n",
      "====== 1 페이지 스크래핑 시작 ======\n",
      "====== 1 페이지 스크래핑 완료 ======\n"
     ]
    },
    {
     "ename": "NoSuchElementException",
     "evalue": "Message: no such element: Unable to locate element: {\"method\":\"xpath\",\"selector\":\"/html/body/div[3]/div/div[1]/div[14]/a[2]\"}\n  (Session info: chrome=126.0.6478.126); For documentation on this error, please visit: https://www.selenium.dev/documentation/webdriver/troubleshooting/errors#no-such-element-exception\nStacktrace:\n\tGetHandleVerifier [0x00007FF71175EEA2+31554]\n\t(No symbol) [0x00007FF7116D7ED9]\n\t(No symbol) [0x00007FF71159872A]\n\t(No symbol) [0x00007FF7115E8434]\n\t(No symbol) [0x00007FF7115E853C]\n\t(No symbol) [0x00007FF71162F6A7]\n\t(No symbol) [0x00007FF71160D06F]\n\t(No symbol) [0x00007FF71162C977]\n\t(No symbol) [0x00007FF71160CDD3]\n\t(No symbol) [0x00007FF7115DA33B]\n\t(No symbol) [0x00007FF7115DAED1]\n\tGetHandleVerifier [0x00007FF711A68B1D+3217341]\n\tGetHandleVerifier [0x00007FF711AB5AE3+3532675]\n\tGetHandleVerifier [0x00007FF711AAB0E0+3489152]\n\tGetHandleVerifier [0x00007FF71180E776+750614]\n\t(No symbol) [0x00007FF7116E375F]\n\t(No symbol) [0x00007FF7116DEB14]\n\t(No symbol) [0x00007FF7116DECA2]\n\t(No symbol) [0x00007FF7116CE16F]\n\tBaseThreadInitThunk [0x00007FFB59D7257D+29]\n\tRtlUserThreadStart [0x00007FFB5AB6AF28+40]\n",
     "output_type": "error",
     "traceback": [
      "\u001b[1;31m----------------------------------------------------------------------\u001b[0m",
      "\u001b[1;31mNoSuchElementException\u001b[0m               Traceback (most recent call last)",
      "Cell \u001b[1;32mIn[22], line 9\u001b[0m\n\u001b[0;32m      7\u001b[0m     \u001b[38;5;28mprint\u001b[39m(\u001b[38;5;124mf\u001b[39m\u001b[38;5;124m'\u001b[39m\u001b[38;5;124m====== \u001b[39m\u001b[38;5;132;01m{\u001b[39;00mpage_no\u001b[38;5;132;01m}\u001b[39;00m\u001b[38;5;124m 페이지 스크래핑 완료 ======\u001b[39m\u001b[38;5;124m'\u001b[39m)\n\u001b[0;32m      8\u001b[0m     \u001b[38;5;28;01mif\u001b[39;00m page_no \u001b[38;5;241m<\u001b[39m page_cnt:\n\u001b[1;32m----> 9\u001b[0m         driver\u001b[38;5;241m.\u001b[39mfind_element(By\u001b[38;5;241m.\u001b[39mXPATH, \u001b[38;5;124mf\u001b[39m\u001b[38;5;124m'\u001b[39m\u001b[38;5;124m/html/body/div[3]/div/div[1]/div[14]/a[\u001b[39m\u001b[38;5;132;01m{\u001b[39;00mpage_no\u001b[38;5;241m+\u001b[39m\u001b[38;5;241m1\u001b[39m\u001b[38;5;132;01m}\u001b[39;00m\u001b[38;5;124m]\u001b[39m\u001b[38;5;124m'\u001b[39m)\u001b[38;5;241m.\u001b[39mclick()\n\u001b[0;32m     10\u001b[0m         time\u001b[38;5;241m.\u001b[39msleep(\u001b[38;5;241m2\u001b[39m)\n\u001b[0;32m     11\u001b[0m \u001b[38;5;28mprint\u001b[39m(\u001b[38;5;124m'\u001b[39m\u001b[38;5;124m스크래핑 프로그램 종료\u001b[39m\u001b[38;5;124m'\u001b[39m)\n",
      "File \u001b[1;32m~\\anaconda3\\Lib\\site-packages\\selenium\\webdriver\\remote\\webdriver.py:748\u001b[0m, in \u001b[0;36mWebDriver.find_element\u001b[1;34m(self, by, value)\u001b[0m\n\u001b[0;32m    745\u001b[0m     by \u001b[38;5;241m=\u001b[39m By\u001b[38;5;241m.\u001b[39mCSS_SELECTOR\n\u001b[0;32m    746\u001b[0m     value \u001b[38;5;241m=\u001b[39m \u001b[38;5;124mf\u001b[39m\u001b[38;5;124m'\u001b[39m\u001b[38;5;124m[name=\u001b[39m\u001b[38;5;124m\"\u001b[39m\u001b[38;5;132;01m{\u001b[39;00mvalue\u001b[38;5;132;01m}\u001b[39;00m\u001b[38;5;124m\"\u001b[39m\u001b[38;5;124m]\u001b[39m\u001b[38;5;124m'\u001b[39m\n\u001b[1;32m--> 748\u001b[0m \u001b[38;5;28;01mreturn\u001b[39;00m \u001b[38;5;28mself\u001b[39m\u001b[38;5;241m.\u001b[39mexecute(Command\u001b[38;5;241m.\u001b[39mFIND_ELEMENT, {\u001b[38;5;124m\"\u001b[39m\u001b[38;5;124musing\u001b[39m\u001b[38;5;124m\"\u001b[39m: by, \u001b[38;5;124m\"\u001b[39m\u001b[38;5;124mvalue\u001b[39m\u001b[38;5;124m\"\u001b[39m: value})[\u001b[38;5;124m\"\u001b[39m\u001b[38;5;124mvalue\u001b[39m\u001b[38;5;124m\"\u001b[39m]\n",
      "File \u001b[1;32m~\\anaconda3\\Lib\\site-packages\\selenium\\webdriver\\remote\\webdriver.py:354\u001b[0m, in \u001b[0;36mWebDriver.execute\u001b[1;34m(self, driver_command, params)\u001b[0m\n\u001b[0;32m    352\u001b[0m response \u001b[38;5;241m=\u001b[39m \u001b[38;5;28mself\u001b[39m\u001b[38;5;241m.\u001b[39mcommand_executor\u001b[38;5;241m.\u001b[39mexecute(driver_command, params)\n\u001b[0;32m    353\u001b[0m \u001b[38;5;28;01mif\u001b[39;00m response:\n\u001b[1;32m--> 354\u001b[0m     \u001b[38;5;28mself\u001b[39m\u001b[38;5;241m.\u001b[39merror_handler\u001b[38;5;241m.\u001b[39mcheck_response(response)\n\u001b[0;32m    355\u001b[0m     response[\u001b[38;5;124m\"\u001b[39m\u001b[38;5;124mvalue\u001b[39m\u001b[38;5;124m\"\u001b[39m] \u001b[38;5;241m=\u001b[39m \u001b[38;5;28mself\u001b[39m\u001b[38;5;241m.\u001b[39m_unwrap_value(response\u001b[38;5;241m.\u001b[39mget(\u001b[38;5;124m\"\u001b[39m\u001b[38;5;124mvalue\u001b[39m\u001b[38;5;124m\"\u001b[39m, \u001b[38;5;28;01mNone\u001b[39;00m))\n\u001b[0;32m    356\u001b[0m     \u001b[38;5;28;01mreturn\u001b[39;00m response\n",
      "File \u001b[1;32m~\\anaconda3\\Lib\\site-packages\\selenium\\webdriver\\remote\\errorhandler.py:229\u001b[0m, in \u001b[0;36mErrorHandler.check_response\u001b[1;34m(self, response)\u001b[0m\n\u001b[0;32m    227\u001b[0m         alert_text \u001b[38;5;241m=\u001b[39m value[\u001b[38;5;124m\"\u001b[39m\u001b[38;5;124malert\u001b[39m\u001b[38;5;124m\"\u001b[39m]\u001b[38;5;241m.\u001b[39mget(\u001b[38;5;124m\"\u001b[39m\u001b[38;5;124mtext\u001b[39m\u001b[38;5;124m\"\u001b[39m)\n\u001b[0;32m    228\u001b[0m     \u001b[38;5;28;01mraise\u001b[39;00m exception_class(message, screen, stacktrace, alert_text)  \u001b[38;5;66;03m# type: ignore[call-arg]  # mypy is not smart enough here\u001b[39;00m\n\u001b[1;32m--> 229\u001b[0m \u001b[38;5;28;01mraise\u001b[39;00m exception_class(message, screen, stacktrace)\n",
      "\u001b[1;31mNoSuchElementException\u001b[0m: Message: no such element: Unable to locate element: {\"method\":\"xpath\",\"selector\":\"/html/body/div[3]/div/div[1]/div[14]/a[2]\"}\n  (Session info: chrome=126.0.6478.126); For documentation on this error, please visit: https://www.selenium.dev/documentation/webdriver/troubleshooting/errors#no-such-element-exception\nStacktrace:\n\tGetHandleVerifier [0x00007FF71175EEA2+31554]\n\t(No symbol) [0x00007FF7116D7ED9]\n\t(No symbol) [0x00007FF71159872A]\n\t(No symbol) [0x00007FF7115E8434]\n\t(No symbol) [0x00007FF7115E853C]\n\t(No symbol) [0x00007FF71162F6A7]\n\t(No symbol) [0x00007FF71160D06F]\n\t(No symbol) [0x00007FF71162C977]\n\t(No symbol) [0x00007FF71160CDD3]\n\t(No symbol) [0x00007FF7115DA33B]\n\t(No symbol) [0x00007FF7115DAED1]\n\tGetHandleVerifier [0x00007FF711A68B1D+3217341]\n\tGetHandleVerifier [0x00007FF711AB5AE3+3532675]\n\tGetHandleVerifier [0x00007FF711AAB0E0+3489152]\n\tGetHandleVerifier [0x00007FF71180E776+750614]\n\t(No symbol) [0x00007FF7116E375F]\n\t(No symbol) [0x00007FF7116DEB14]\n\t(No symbol) [0x00007FF7116DECA2]\n\t(No symbol) [0x00007FF7116CE16F]\n\tBaseThreadInitThunk [0x00007FFB59D7257D+29]\n\tRtlUserThreadStart [0x00007FFB5AB6AF28+40]\n"
     ]
    }
   ],
   "source": [
    "contents_no = 0\n",
    "print('스크래핑 프로그램 실행')\n",
    "\n",
    "for page_no in range(1, page_cnt+1):    \n",
    "    print(f'====== {page_no} 페이지 스크래핑 시작 ======')\n",
    "    page_work()\n",
    "    print(f'====== {page_no} 페이지 스크래핑 완료 ======')\n",
    "    if page_no < page_cnt:\n",
    "        driver.find_element(By.XPATH, f'/html/body/div[3]/div/div[1]/div[14]/a[{page_no+1}]').click()\n",
    "        time.sleep(2)\n",
    "print('스크래핑 프로그램 종료')\n",
    "\n",
    "driver.close()"
   ]
  },
  {
   "cell_type": "markdown",
   "id": "7b3a7ffd-9308-483d-9a17-32458caf46af",
   "metadata": {},
   "source": [
    "## 상세페이지 콘텐츠도 함께 추출해서 파일로 저장"
   ]
  },
  {
   "cell_type": "code",
   "execution_count": 23,
   "id": "7d1f3d25-1249-46f3-b961-c5fd895a9a26",
   "metadata": {},
   "outputs": [],
   "source": [
    "from bs4 import BeautifulSoup\n",
    "from selenium import webdriver\n",
    "from selenium.webdriver.common.by import By\n",
    "from selenium.webdriver.common.keys import Keys\n",
    "from selenium.webdriver.chrome.options import Options\n",
    "import math, time, pandas as pd, urllib.request\n",
    "\n",
    "options = Options()\n",
    "options.add_argument('--window-size=974,1047')\n",
    "options.add_argument('--window-position=-7,0')\n",
    "options.add_experimental_option(\"detach\", True)"
   ]
  },
  {
   "cell_type": "code",
   "execution_count": 24,
   "id": "ef049c1e-9b4b-48fe-bb4a-6768c14b37d9",
   "metadata": {},
   "outputs": [
    {
     "name": "stdin",
     "output_type": "stream",
     "text": [
      "검색어: 제주도\n",
      "스크래핑 할 건수는 몇건입니까?:  290\n"
     ]
    }
   ],
   "source": [
    "search = input('검색어:')\n",
    "cnt = int(input('스크래핑 할 건수는 몇건입니까?: '))\n",
    "page_cnt = math.ceil(cnt / 10)  # 크롤링 할 전체 페이지 수 "
   ]
  },
  {
   "cell_type": "code",
   "execution_count": 25,
   "id": "cb0933e4-7560-4d2b-83d9-1c509e00b6a1",
   "metadata": {},
   "outputs": [],
   "source": [
    "URL = 'https://korean.visitkorea.or.kr/search/search_list.do?keyword='+search\n",
    "driver = webdriver.Chrome(options=options)\n",
    "driver.get(URL)\n",
    "time.sleep(2)"
   ]
  },
  {
   "cell_type": "code",
   "execution_count": 26,
   "id": "9d7cfb20-66b1-48bd-a2c8-3d618bf063b9",
   "metadata": {},
   "outputs": [],
   "source": [
    "# 여행기사 더보기 클릭\n",
    "# driver.find_element(By.CSS_SELECTOR, \".more_view\").click() 중복주의\n",
    "driver.find_element(By.CSS_SELECTOR, \"#s_recommend > .more_view > a\").click()"
   ]
  },
  {
   "cell_type": "code",
   "execution_count": 27,
   "id": "7ffb9240-646f-41bc-a1f6-a8d480fa2efd",
   "metadata": {},
   "outputs": [],
   "source": [
    "title_list = []\n",
    "contents_list = []\n",
    "\n",
    "def page_work():\n",
    "    result = driver.find_elements(By.CSS_SELECTOR,'#search_result .tit>a')\n",
    "    global contents_no, cnt\n",
    "    global title_list, contents_list\n",
    "    \n",
    "    for item in result:\n",
    "        contents_no += 1\n",
    "        \n",
    "        if contents_no <= cnt :    \n",
    "            print(f'[콘텐츠 {contents_no}]')  \n",
    "            item.send_keys(Keys.ENTER) # .click()은 에러 잘남\n",
    "\n",
    "            time.sleep(2)\n",
    "            html = driver.page_source\n",
    "            html_dom = BeautifulSoup(html, 'lxml')\n",
    "\n",
    "            title = html_dom.find(id='topTitle')\n",
    "            title_list.append(title.text)\n",
    "            print(title.text)\n",
    "            \n",
    "            contents = driver.find_elements(By.CLASS_NAME, 'txt_p')\n",
    "            contents_merge = ' '.join([item.text for item in contents])        \n",
    "            contents_list.append(contents_merge)\n",
    "            \n",
    "            driver.back()\n",
    "            time.sleep(2)     "
   ]
  },
  {
   "cell_type": "code",
   "execution_count": 29,
   "id": "7528620d-28e0-4a93-89cf-06d3d7564bac",
   "metadata": {},
   "outputs": [
    {
     "name": "stdout",
     "output_type": "stream",
     "text": [
      "스크래핑 프로그램 실행\n",
      "====== 1 페이지 스크래핑 시작 ======\n",
      "====== 1 페이지 스크래핑 완료 ======\n",
      "====== 1 페이지 제주도여행기사_290건_2024626.xlsx파일 저장 완료 ======\n"
     ]
    },
    {
     "ename": "NoSuchElementException",
     "evalue": "Message: no such element: Unable to locate element: {\"method\":\"xpath\",\"selector\":\"/html/body/div[3]/div/div[1]/div[14]/a[2]\"}\n  (Session info: chrome=126.0.6478.126); For documentation on this error, please visit: https://www.selenium.dev/documentation/webdriver/troubleshooting/errors#no-such-element-exception\nStacktrace:\n\tGetHandleVerifier [0x00007FF71175EEA2+31554]\n\t(No symbol) [0x00007FF7116D7ED9]\n\t(No symbol) [0x00007FF71159872A]\n\t(No symbol) [0x00007FF7115E8434]\n\t(No symbol) [0x00007FF7115E853C]\n\t(No symbol) [0x00007FF71162F6A7]\n\t(No symbol) [0x00007FF71160D06F]\n\t(No symbol) [0x00007FF71162C977]\n\t(No symbol) [0x00007FF71160CDD3]\n\t(No symbol) [0x00007FF7115DA33B]\n\t(No symbol) [0x00007FF7115DAED1]\n\tGetHandleVerifier [0x00007FF711A68B1D+3217341]\n\tGetHandleVerifier [0x00007FF711AB5AE3+3532675]\n\tGetHandleVerifier [0x00007FF711AAB0E0+3489152]\n\tGetHandleVerifier [0x00007FF71180E776+750614]\n\t(No symbol) [0x00007FF7116E375F]\n\t(No symbol) [0x00007FF7116DEB14]\n\t(No symbol) [0x00007FF7116DECA2]\n\t(No symbol) [0x00007FF7116CE16F]\n\tBaseThreadInitThunk [0x00007FFB59D7257D+29]\n\tRtlUserThreadStart [0x00007FFB5AB6AF28+40]\n",
     "output_type": "error",
     "traceback": [
      "\u001b[1;31m----------------------------------------------------------------------\u001b[0m",
      "\u001b[1;31mNoSuchElementException\u001b[0m               Traceback (most recent call last)",
      "Cell \u001b[1;32mIn[29], line 16\u001b[0m\n\u001b[0;32m     13\u001b[0m     \u001b[38;5;28mprint\u001b[39m(\u001b[38;5;124mf\u001b[39m\u001b[38;5;124m'\u001b[39m\u001b[38;5;124m====== \u001b[39m\u001b[38;5;132;01m{\u001b[39;00mpage_no\u001b[38;5;132;01m}\u001b[39;00m\u001b[38;5;124m 페이지 \u001b[39m\u001b[38;5;132;01m{\u001b[39;00mfilename\u001b[38;5;132;01m}\u001b[39;00m\u001b[38;5;124m파일 저장 완료 ======\u001b[39m\u001b[38;5;124m'\u001b[39m)\n\u001b[0;32m     15\u001b[0m     \u001b[38;5;28;01mif\u001b[39;00m page_no \u001b[38;5;241m<\u001b[39m page_cnt:\n\u001b[1;32m---> 16\u001b[0m         driver\u001b[38;5;241m.\u001b[39mfind_element(By\u001b[38;5;241m.\u001b[39mXPATH, \u001b[38;5;124mf\u001b[39m\u001b[38;5;124m'\u001b[39m\u001b[38;5;124m/html/body/div[3]/div/div[1]/div[14]/a[\u001b[39m\u001b[38;5;132;01m{\u001b[39;00mpage_no\u001b[38;5;241m+\u001b[39m\u001b[38;5;241m1\u001b[39m\u001b[38;5;132;01m}\u001b[39;00m\u001b[38;5;124m]\u001b[39m\u001b[38;5;124m'\u001b[39m)\u001b[38;5;241m.\u001b[39mclick()\n\u001b[0;32m     17\u001b[0m         time\u001b[38;5;241m.\u001b[39msleep(\u001b[38;5;241m2\u001b[39m)\n\u001b[0;32m     19\u001b[0m \u001b[38;5;28mprint\u001b[39m(\u001b[38;5;124m'\u001b[39m\u001b[38;5;124m스크래핑 프로그램 종료\u001b[39m\u001b[38;5;124m'\u001b[39m)\n",
      "File \u001b[1;32m~\\anaconda3\\Lib\\site-packages\\selenium\\webdriver\\remote\\webdriver.py:748\u001b[0m, in \u001b[0;36mWebDriver.find_element\u001b[1;34m(self, by, value)\u001b[0m\n\u001b[0;32m    745\u001b[0m     by \u001b[38;5;241m=\u001b[39m By\u001b[38;5;241m.\u001b[39mCSS_SELECTOR\n\u001b[0;32m    746\u001b[0m     value \u001b[38;5;241m=\u001b[39m \u001b[38;5;124mf\u001b[39m\u001b[38;5;124m'\u001b[39m\u001b[38;5;124m[name=\u001b[39m\u001b[38;5;124m\"\u001b[39m\u001b[38;5;132;01m{\u001b[39;00mvalue\u001b[38;5;132;01m}\u001b[39;00m\u001b[38;5;124m\"\u001b[39m\u001b[38;5;124m]\u001b[39m\u001b[38;5;124m'\u001b[39m\n\u001b[1;32m--> 748\u001b[0m \u001b[38;5;28;01mreturn\u001b[39;00m \u001b[38;5;28mself\u001b[39m\u001b[38;5;241m.\u001b[39mexecute(Command\u001b[38;5;241m.\u001b[39mFIND_ELEMENT, {\u001b[38;5;124m\"\u001b[39m\u001b[38;5;124musing\u001b[39m\u001b[38;5;124m\"\u001b[39m: by, \u001b[38;5;124m\"\u001b[39m\u001b[38;5;124mvalue\u001b[39m\u001b[38;5;124m\"\u001b[39m: value})[\u001b[38;5;124m\"\u001b[39m\u001b[38;5;124mvalue\u001b[39m\u001b[38;5;124m\"\u001b[39m]\n",
      "File \u001b[1;32m~\\anaconda3\\Lib\\site-packages\\selenium\\webdriver\\remote\\webdriver.py:354\u001b[0m, in \u001b[0;36mWebDriver.execute\u001b[1;34m(self, driver_command, params)\u001b[0m\n\u001b[0;32m    352\u001b[0m response \u001b[38;5;241m=\u001b[39m \u001b[38;5;28mself\u001b[39m\u001b[38;5;241m.\u001b[39mcommand_executor\u001b[38;5;241m.\u001b[39mexecute(driver_command, params)\n\u001b[0;32m    353\u001b[0m \u001b[38;5;28;01mif\u001b[39;00m response:\n\u001b[1;32m--> 354\u001b[0m     \u001b[38;5;28mself\u001b[39m\u001b[38;5;241m.\u001b[39merror_handler\u001b[38;5;241m.\u001b[39mcheck_response(response)\n\u001b[0;32m    355\u001b[0m     response[\u001b[38;5;124m\"\u001b[39m\u001b[38;5;124mvalue\u001b[39m\u001b[38;5;124m\"\u001b[39m] \u001b[38;5;241m=\u001b[39m \u001b[38;5;28mself\u001b[39m\u001b[38;5;241m.\u001b[39m_unwrap_value(response\u001b[38;5;241m.\u001b[39mget(\u001b[38;5;124m\"\u001b[39m\u001b[38;5;124mvalue\u001b[39m\u001b[38;5;124m\"\u001b[39m, \u001b[38;5;28;01mNone\u001b[39;00m))\n\u001b[0;32m    356\u001b[0m     \u001b[38;5;28;01mreturn\u001b[39;00m response\n",
      "File \u001b[1;32m~\\anaconda3\\Lib\\site-packages\\selenium\\webdriver\\remote\\errorhandler.py:229\u001b[0m, in \u001b[0;36mErrorHandler.check_response\u001b[1;34m(self, response)\u001b[0m\n\u001b[0;32m    227\u001b[0m         alert_text \u001b[38;5;241m=\u001b[39m value[\u001b[38;5;124m\"\u001b[39m\u001b[38;5;124malert\u001b[39m\u001b[38;5;124m\"\u001b[39m]\u001b[38;5;241m.\u001b[39mget(\u001b[38;5;124m\"\u001b[39m\u001b[38;5;124mtext\u001b[39m\u001b[38;5;124m\"\u001b[39m)\n\u001b[0;32m    228\u001b[0m     \u001b[38;5;28;01mraise\u001b[39;00m exception_class(message, screen, stacktrace, alert_text)  \u001b[38;5;66;03m# type: ignore[call-arg]  # mypy is not smart enough here\u001b[39;00m\n\u001b[1;32m--> 229\u001b[0m \u001b[38;5;28;01mraise\u001b[39;00m exception_class(message, screen, stacktrace)\n",
      "\u001b[1;31mNoSuchElementException\u001b[0m: Message: no such element: Unable to locate element: {\"method\":\"xpath\",\"selector\":\"/html/body/div[3]/div/div[1]/div[14]/a[2]\"}\n  (Session info: chrome=126.0.6478.126); For documentation on this error, please visit: https://www.selenium.dev/documentation/webdriver/troubleshooting/errors#no-such-element-exception\nStacktrace:\n\tGetHandleVerifier [0x00007FF71175EEA2+31554]\n\t(No symbol) [0x00007FF7116D7ED9]\n\t(No symbol) [0x00007FF71159872A]\n\t(No symbol) [0x00007FF7115E8434]\n\t(No symbol) [0x00007FF7115E853C]\n\t(No symbol) [0x00007FF71162F6A7]\n\t(No symbol) [0x00007FF71160D06F]\n\t(No symbol) [0x00007FF71162C977]\n\t(No symbol) [0x00007FF71160CDD3]\n\t(No symbol) [0x00007FF7115DA33B]\n\t(No symbol) [0x00007FF7115DAED1]\n\tGetHandleVerifier [0x00007FF711A68B1D+3217341]\n\tGetHandleVerifier [0x00007FF711AB5AE3+3532675]\n\tGetHandleVerifier [0x00007FF711AAB0E0+3489152]\n\tGetHandleVerifier [0x00007FF71180E776+750614]\n\t(No symbol) [0x00007FF7116E375F]\n\t(No symbol) [0x00007FF7116DEB14]\n\t(No symbol) [0x00007FF7116DECA2]\n\t(No symbol) [0x00007FF7116CE16F]\n\tBaseThreadInitThunk [0x00007FFB59D7257D+29]\n\tRtlUserThreadStart [0x00007FFB5AB6AF28+40]\n"
     ]
    }
   ],
   "source": [
    "contents_no = 0\n",
    "today = time.localtime()\n",
    "print('스크래핑 프로그램 실행')\n",
    "\n",
    "for page_no in range(1, page_cnt+1):    \n",
    "    print(f'====== {page_no} 페이지 스크래핑 시작 ======')\n",
    "    page_work()\n",
    "    print(f'====== {page_no} 페이지 스크래핑 완료 ======')\n",
    "    \n",
    "    DF = pd.DataFrame({\"제목\":title_list, \"내용\":contents_list})\n",
    "    filename = f'{search}여행기사_{cnt}건_{today.tm_year}{today.tm_mon}{today.tm_mday}.xlsx'\n",
    "    DF.to_excel(filename)\n",
    "    print(f'====== {page_no} 페이지 {filename}파일 저장 완료 ======')\n",
    "    \n",
    "    if page_no < page_cnt:\n",
    "        driver.find_element(By.XPATH, f'/html/body/div[3]/div/div[1]/div[14]/a[{page_no+1}]').click()\n",
    "        time.sleep(2)\n",
    "                   \n",
    "print('스크래핑 프로그램 종료')\n",
    "driver.close()"
   ]
  },
  {
   "cell_type": "code",
   "execution_count": null,
   "id": "c3865496-da3e-44d7-92c3-a15927486e09",
   "metadata": {},
   "outputs": [],
   "source": [
    "## 이미지 추출 기능 추가"
   ]
  },
  {
   "cell_type": "code",
   "execution_count": 30,
   "id": "29eccb3d-8339-4b34-b1f1-5d2e1c929116",
   "metadata": {},
   "outputs": [],
   "source": [
    "from bs4 import BeautifulSoup\n",
    "from selenium import webdriver\n",
    "from selenium.webdriver.common.by import By\n",
    "from selenium.webdriver.common.keys import Keys\n",
    "from selenium.webdriver.chrome.options import Options\n",
    "import math, time, os, pandas as pd\n",
    "\n",
    "options = Options()\n",
    "options.add_argument('--window-size=974,1047')\n",
    "options.add_argument('--window-position=-7,0')\n",
    "options.add_experimental_option(\"detach\", True)"
   ]
  },
  {
   "cell_type": "code",
   "execution_count": 31,
   "id": "ec98170c-94cf-4134-930b-1fea4afa098f",
   "metadata": {},
   "outputs": [
    {
     "name": "stdin",
     "output_type": "stream",
     "text": [
      "검색어: 제주도\n",
      "스크래핑 할 건수는 몇건입니까?:  290\n"
     ]
    }
   ],
   "source": [
    "search = input('검색어:')\n",
    "cnt = int(input('스크래핑 할 건수는 몇건입니까?: '))\n",
    "page_cnt = math.ceil(cnt / 10)  # 크롤링 할 전체 페이지 수 "
   ]
  },
  {
   "cell_type": "code",
   "execution_count": 32,
   "id": "db2af34e-0e93-4e4a-a0a2-ff0b2598e3ea",
   "metadata": {},
   "outputs": [],
   "source": [
    "now = time.localtime()\n",
    "date_format = '%04d%02d%02d'%(now.tm_year, now.tm_mon, now.tm_mday)\n",
    "f_dir = f'{os.getcwd()}\\\\{search}여행기사_{cnt}건_{date_format}'\n",
    "os.makedirs(f_dir)"
   ]
  },
  {
   "cell_type": "code",
   "execution_count": 33,
   "id": "2f7df550-b9f7-4db2-a669-62706f37cb39",
   "metadata": {},
   "outputs": [],
   "source": [
    "URL = 'https://korean.visitkorea.or.kr/search/search_list.do?keyword='+search\n",
    "driver = webdriver.Chrome(options=options)\n",
    "driver.get(URL)\n",
    "time.sleep(2)\n",
    "# 여행기사 더보기 클릭\n",
    "driver.find_element(By.CSS_SELECTOR, \"#s_recommend > .more_view > a\").click()\n",
    "time.sleep(2)"
   ]
  },
  {
   "cell_type": "code",
   "execution_count": 34,
   "id": "c754bf7b-fb29-4eea-9b39-b4ae5f1f84e9",
   "metadata": {},
   "outputs": [],
   "source": [
    "title_list = []\n",
    "contents_list = []\n",
    "img_url_list = []\n",
    "\n",
    "def page_work():\n",
    "    result = driver.find_elements(By.CSS_SELECTOR,'#search_result .tit>a')\n",
    "    global contents_no, cnt\n",
    "    global title_list, contents_list, img_url_list\n",
    "    \n",
    "    for item in result:\n",
    "        contents_no += 1\n",
    "        \n",
    "        if contents_no <= cnt :    \n",
    "            print(f'[콘텐츠 {contents_no}]')  \n",
    "            item.send_keys(Keys.ENTER) # .click()은 에러 잘남\n",
    "\n",
    "            time.sleep(2)\n",
    "            \n",
    "            # 이미지 추출을 위해 미리 스크롤\n",
    "            driver.execute_script(\"window.scrollTo(0, document.body.scrollHeight)\")\n",
    "            \n",
    "            html = driver.page_source\n",
    "            html_dom = BeautifulSoup(html, 'lxml')\n",
    "\n",
    "            title = html_dom.find(id='topTitle')\n",
    "            title_list.append(title.text)\n",
    "            print(title.text)\n",
    "            \n",
    "            img_tag_list = html_dom.select('.img_typeBox img')\n",
    "            img_url_list = [item['src'] for item in img_tag_list]\n",
    "\n",
    "            contents = driver.find_elements(By.CLASS_NAME, 'txt_p')\n",
    "            contents_merge = ' '.join([item.text for item in contents])        \n",
    "            contents_list.append(contents_merge)           \n",
    "            \n",
    "            driver.back()\n",
    "            time.sleep(2)     "
   ]
  },
  {
   "cell_type": "code",
   "execution_count": 35,
   "id": "097356cc-c614-47bd-9ec7-39a6372bd3b6",
   "metadata": {},
   "outputs": [],
   "source": [
    "def file_export():\n",
    "    \n",
    "    DF = pd.DataFrame({\"제목\":title_list, \"내용\":contents_list})\n",
    "    filename = f'{search}여행기사_{cnt}건_{date_format}.xlsx'\n",
    "    DF.to_excel(f_dir+'\\\\'+filename)\n",
    "    print(f'====== {page_no} 페이지 {filename} 파일 저장 완료 ======')\n",
    "    \n",
    "    \n",
    "    no = 0\n",
    "    for src in img_url_list:\n",
    "        # 다운로드  (주소, 파일이름)\n",
    "        urllib.request.urlretrieve(src, f'{f_dir}\\\\{page_no}_{no}.jpg')\n",
    "        no += 1\n",
    "    print(f'====== {page_no} 페이지 {f_dir} 디렉토리 이미지 저장 완료 ======')"
   ]
  },
  {
   "cell_type": "code",
   "execution_count": 36,
   "id": "2cb7fcc5-c65c-4389-ba86-349c8278ef77",
   "metadata": {},
   "outputs": [
    {
     "name": "stdout",
     "output_type": "stream",
     "text": [
      "스크래핑 프로그램 실행\n",
      "====== 1 페이지 스크래핑 시작 ======\n",
      "[콘텐츠 1]\n",
      "해변산책부터 레이싱까지, 제주 반려동물 동반여행 추천 코스\n",
      "[콘텐츠 2]\n"
     ]
    },
    {
     "ename": "StaleElementReferenceException",
     "evalue": "Message: stale element reference: stale element not found\n  (Session info: chrome=126.0.6478.126); For documentation on this error, please visit: https://www.selenium.dev/documentation/webdriver/troubleshooting/errors#stale-element-reference-exception\nStacktrace:\n\tGetHandleVerifier [0x00007FF71175EEA2+31554]\n\t(No symbol) [0x00007FF7116D7ED9]\n\t(No symbol) [0x00007FF71159872A]\n\t(No symbol) [0x00007FF7115AADBD]\n\t(No symbol) [0x00007FF7115AB84A]\n\t(No symbol) [0x00007FF71159F5BB]\n\t(No symbol) [0x00007FF71159D326]\n\t(No symbol) [0x00007FF7115A0EB1]\n\t(No symbol) [0x00007FF7115A0F50]\n\t(No symbol) [0x00007FF7115E9192]\n\t(No symbol) [0x00007FF7115E9272]\n\t(No symbol) [0x00007FF7115DF119]\n\t(No symbol) [0x00007FF71160D02A]\n\t(No symbol) [0x00007FF7115DBA76]\n\t(No symbol) [0x00007FF71160D240]\n\t(No symbol) [0x00007FF71162C977]\n\t(No symbol) [0x00007FF71160CDD3]\n\t(No symbol) [0x00007FF7115DA33B]\n\t(No symbol) [0x00007FF7115DAED1]\n\tGetHandleVerifier [0x00007FF711A68B1D+3217341]\n\tGetHandleVerifier [0x00007FF711AB5AE3+3532675]\n\tGetHandleVerifier [0x00007FF711AAB0E0+3489152]\n\tGetHandleVerifier [0x00007FF71180E776+750614]\n\t(No symbol) [0x00007FF7116E375F]\n\t(No symbol) [0x00007FF7116DEB14]\n\t(No symbol) [0x00007FF7116DECA2]\n\t(No symbol) [0x00007FF7116CE16F]\n\tBaseThreadInitThunk [0x00007FFB59D7257D+29]\n\tRtlUserThreadStart [0x00007FFB5AB6AF28+40]\n",
     "output_type": "error",
     "traceback": [
      "\u001b[1;31m----------------------------------------------------------------------\u001b[0m",
      "\u001b[1;31mStaleElementReferenceException\u001b[0m       Traceback (most recent call last)",
      "Cell \u001b[1;32mIn[36], line 7\u001b[0m\n\u001b[0;32m      5\u001b[0m \u001b[38;5;28;01mfor\u001b[39;00m page_no \u001b[38;5;129;01min\u001b[39;00m \u001b[38;5;28mrange\u001b[39m(\u001b[38;5;241m1\u001b[39m, page_cnt\u001b[38;5;241m+\u001b[39m\u001b[38;5;241m1\u001b[39m):    \n\u001b[0;32m      6\u001b[0m     \u001b[38;5;28mprint\u001b[39m(\u001b[38;5;124mf\u001b[39m\u001b[38;5;124m'\u001b[39m\u001b[38;5;124m====== \u001b[39m\u001b[38;5;132;01m{\u001b[39;00mpage_no\u001b[38;5;132;01m}\u001b[39;00m\u001b[38;5;124m 페이지 스크래핑 시작 ======\u001b[39m\u001b[38;5;124m'\u001b[39m)\n\u001b[1;32m----> 7\u001b[0m     page_work()\n\u001b[0;32m      8\u001b[0m     \u001b[38;5;28mprint\u001b[39m(\u001b[38;5;124mf\u001b[39m\u001b[38;5;124m'\u001b[39m\u001b[38;5;124m====== \u001b[39m\u001b[38;5;132;01m{\u001b[39;00mpage_no\u001b[38;5;132;01m}\u001b[39;00m\u001b[38;5;124m 페이지 스크래핑 작업중 ======\u001b[39m\u001b[38;5;124m'\u001b[39m)\n\u001b[0;32m      9\u001b[0m     file_export()\n",
      "Cell \u001b[1;32mIn[34], line 15\u001b[0m, in \u001b[0;36mpage_work\u001b[1;34m()\u001b[0m\n\u001b[0;32m     13\u001b[0m \u001b[38;5;28;01mif\u001b[39;00m contents_no \u001b[38;5;241m<\u001b[39m\u001b[38;5;241m=\u001b[39m cnt :    \n\u001b[0;32m     14\u001b[0m     \u001b[38;5;28mprint\u001b[39m(\u001b[38;5;124mf\u001b[39m\u001b[38;5;124m'\u001b[39m\u001b[38;5;124m[콘텐츠 \u001b[39m\u001b[38;5;132;01m{\u001b[39;00mcontents_no\u001b[38;5;132;01m}\u001b[39;00m\u001b[38;5;124m]\u001b[39m\u001b[38;5;124m'\u001b[39m)  \n\u001b[1;32m---> 15\u001b[0m     item\u001b[38;5;241m.\u001b[39msend_keys(Keys\u001b[38;5;241m.\u001b[39mENTER) \u001b[38;5;66;03m# .click()은 에러 잘남\u001b[39;00m\n\u001b[0;32m     17\u001b[0m     time\u001b[38;5;241m.\u001b[39msleep(\u001b[38;5;241m2\u001b[39m)\n\u001b[0;32m     19\u001b[0m     \u001b[38;5;66;03m# 이미지 추출을 위해 미리 스크롤\u001b[39;00m\n",
      "File \u001b[1;32m~\\anaconda3\\Lib\\site-packages\\selenium\\webdriver\\remote\\webelement.py:231\u001b[0m, in \u001b[0;36mWebElement.send_keys\u001b[1;34m(self, *value)\u001b[0m\n\u001b[0;32m    228\u001b[0m             remote_files\u001b[38;5;241m.\u001b[39mappend(\u001b[38;5;28mself\u001b[39m\u001b[38;5;241m.\u001b[39m_upload(file))\n\u001b[0;32m    229\u001b[0m         value \u001b[38;5;241m=\u001b[39m \u001b[38;5;124m\"\u001b[39m\u001b[38;5;130;01m\\n\u001b[39;00m\u001b[38;5;124m\"\u001b[39m\u001b[38;5;241m.\u001b[39mjoin(remote_files)\n\u001b[1;32m--> 231\u001b[0m \u001b[38;5;28mself\u001b[39m\u001b[38;5;241m.\u001b[39m_execute(\n\u001b[0;32m    232\u001b[0m     Command\u001b[38;5;241m.\u001b[39mSEND_KEYS_TO_ELEMENT, {\u001b[38;5;124m\"\u001b[39m\u001b[38;5;124mtext\u001b[39m\u001b[38;5;124m\"\u001b[39m: \u001b[38;5;124m\"\u001b[39m\u001b[38;5;124m\"\u001b[39m\u001b[38;5;241m.\u001b[39mjoin(keys_to_typing(value)), \u001b[38;5;124m\"\u001b[39m\u001b[38;5;124mvalue\u001b[39m\u001b[38;5;124m\"\u001b[39m: keys_to_typing(value)}\n\u001b[0;32m    233\u001b[0m )\n",
      "File \u001b[1;32m~\\anaconda3\\Lib\\site-packages\\selenium\\webdriver\\remote\\webelement.py:395\u001b[0m, in \u001b[0;36mWebElement._execute\u001b[1;34m(self, command, params)\u001b[0m\n\u001b[0;32m    393\u001b[0m     params \u001b[38;5;241m=\u001b[39m {}\n\u001b[0;32m    394\u001b[0m params[\u001b[38;5;124m\"\u001b[39m\u001b[38;5;124mid\u001b[39m\u001b[38;5;124m\"\u001b[39m] \u001b[38;5;241m=\u001b[39m \u001b[38;5;28mself\u001b[39m\u001b[38;5;241m.\u001b[39m_id\n\u001b[1;32m--> 395\u001b[0m \u001b[38;5;28;01mreturn\u001b[39;00m \u001b[38;5;28mself\u001b[39m\u001b[38;5;241m.\u001b[39m_parent\u001b[38;5;241m.\u001b[39mexecute(command, params)\n",
      "File \u001b[1;32m~\\anaconda3\\Lib\\site-packages\\selenium\\webdriver\\remote\\webdriver.py:354\u001b[0m, in \u001b[0;36mWebDriver.execute\u001b[1;34m(self, driver_command, params)\u001b[0m\n\u001b[0;32m    352\u001b[0m response \u001b[38;5;241m=\u001b[39m \u001b[38;5;28mself\u001b[39m\u001b[38;5;241m.\u001b[39mcommand_executor\u001b[38;5;241m.\u001b[39mexecute(driver_command, params)\n\u001b[0;32m    353\u001b[0m \u001b[38;5;28;01mif\u001b[39;00m response:\n\u001b[1;32m--> 354\u001b[0m     \u001b[38;5;28mself\u001b[39m\u001b[38;5;241m.\u001b[39merror_handler\u001b[38;5;241m.\u001b[39mcheck_response(response)\n\u001b[0;32m    355\u001b[0m     response[\u001b[38;5;124m\"\u001b[39m\u001b[38;5;124mvalue\u001b[39m\u001b[38;5;124m\"\u001b[39m] \u001b[38;5;241m=\u001b[39m \u001b[38;5;28mself\u001b[39m\u001b[38;5;241m.\u001b[39m_unwrap_value(response\u001b[38;5;241m.\u001b[39mget(\u001b[38;5;124m\"\u001b[39m\u001b[38;5;124mvalue\u001b[39m\u001b[38;5;124m\"\u001b[39m, \u001b[38;5;28;01mNone\u001b[39;00m))\n\u001b[0;32m    356\u001b[0m     \u001b[38;5;28;01mreturn\u001b[39;00m response\n",
      "File \u001b[1;32m~\\anaconda3\\Lib\\site-packages\\selenium\\webdriver\\remote\\errorhandler.py:229\u001b[0m, in \u001b[0;36mErrorHandler.check_response\u001b[1;34m(self, response)\u001b[0m\n\u001b[0;32m    227\u001b[0m         alert_text \u001b[38;5;241m=\u001b[39m value[\u001b[38;5;124m\"\u001b[39m\u001b[38;5;124malert\u001b[39m\u001b[38;5;124m\"\u001b[39m]\u001b[38;5;241m.\u001b[39mget(\u001b[38;5;124m\"\u001b[39m\u001b[38;5;124mtext\u001b[39m\u001b[38;5;124m\"\u001b[39m)\n\u001b[0;32m    228\u001b[0m     \u001b[38;5;28;01mraise\u001b[39;00m exception_class(message, screen, stacktrace, alert_text)  \u001b[38;5;66;03m# type: ignore[call-arg]  # mypy is not smart enough here\u001b[39;00m\n\u001b[1;32m--> 229\u001b[0m \u001b[38;5;28;01mraise\u001b[39;00m exception_class(message, screen, stacktrace)\n",
      "\u001b[1;31mStaleElementReferenceException\u001b[0m: Message: stale element reference: stale element not found\n  (Session info: chrome=126.0.6478.126); For documentation on this error, please visit: https://www.selenium.dev/documentation/webdriver/troubleshooting/errors#stale-element-reference-exception\nStacktrace:\n\tGetHandleVerifier [0x00007FF71175EEA2+31554]\n\t(No symbol) [0x00007FF7116D7ED9]\n\t(No symbol) [0x00007FF71159872A]\n\t(No symbol) [0x00007FF7115AADBD]\n\t(No symbol) [0x00007FF7115AB84A]\n\t(No symbol) [0x00007FF71159F5BB]\n\t(No symbol) [0x00007FF71159D326]\n\t(No symbol) [0x00007FF7115A0EB1]\n\t(No symbol) [0x00007FF7115A0F50]\n\t(No symbol) [0x00007FF7115E9192]\n\t(No symbol) [0x00007FF7115E9272]\n\t(No symbol) [0x00007FF7115DF119]\n\t(No symbol) [0x00007FF71160D02A]\n\t(No symbol) [0x00007FF7115DBA76]\n\t(No symbol) [0x00007FF71160D240]\n\t(No symbol) [0x00007FF71162C977]\n\t(No symbol) [0x00007FF71160CDD3]\n\t(No symbol) [0x00007FF7115DA33B]\n\t(No symbol) [0x00007FF7115DAED1]\n\tGetHandleVerifier [0x00007FF711A68B1D+3217341]\n\tGetHandleVerifier [0x00007FF711AB5AE3+3532675]\n\tGetHandleVerifier [0x00007FF711AAB0E0+3489152]\n\tGetHandleVerifier [0x00007FF71180E776+750614]\n\t(No symbol) [0x00007FF7116E375F]\n\t(No symbol) [0x00007FF7116DEB14]\n\t(No symbol) [0x00007FF7116DECA2]\n\t(No symbol) [0x00007FF7116CE16F]\n\tBaseThreadInitThunk [0x00007FFB59D7257D+29]\n\tRtlUserThreadStart [0x00007FFB5AB6AF28+40]\n"
     ]
    }
   ],
   "source": [
    "contents_no = 0\n",
    "today = time.localtime()\n",
    "print('스크래핑 프로그램 실행')\n",
    "\n",
    "for page_no in range(1, page_cnt+1):    \n",
    "    print(f'====== {page_no} 페이지 스크래핑 시작 ======')\n",
    "    page_work()\n",
    "    print(f'====== {page_no} 페이지 스크래핑 작업중 ======')\n",
    "    file_export()\n",
    "    print(f'====== {page_no} 페이지 스크래핑 완료 ======')\n",
    "    if page_no < page_cnt:\n",
    "        driver.find_element(By.XPATH, f'/html/body/div[3]/div/div[1]/div[14]/a[{page_no+1}]').click()\n",
    "        time.sleep(2)\n",
    "                   \n",
    "print('스크래핑 프로그램 종료')\n",
    "driver.close()"
   ]
  },
  {
   "cell_type": "code",
   "execution_count": 39,
   "id": "23cb87ce-2c84-4753-9f21-08769fb0eb35",
   "metadata": {},
   "outputs": [
    {
     "name": "stdin",
     "output_type": "stream",
     "text": [
      "검색어: 제주도\n",
      "스크래핑 할 건수는 몇건입니까?:  20\n"
     ]
    },
    {
     "name": "stdout",
     "output_type": "stream",
     "text": [
      "스크래핑 프로그램 실행\n",
      "====== 1 페이지 스크래핑 시작 ======\n",
      "[콘텐츠 1]\n",
      "해변산책부터 레이싱까지, 제주 반려동물 동반여행 추천 코스\n",
      "[콘텐츠 2]\n"
     ]
    },
    {
     "ename": "StaleElementReferenceException",
     "evalue": "Message: stale element reference: stale element not found\n  (Session info: chrome=126.0.6478.126); For documentation on this error, please visit: https://www.selenium.dev/documentation/webdriver/troubleshooting/errors#stale-element-reference-exception\nStacktrace:\n\tGetHandleVerifier [0x00007FF71175EEA2+31554]\n\t(No symbol) [0x00007FF7116D7ED9]\n\t(No symbol) [0x00007FF71159872A]\n\t(No symbol) [0x00007FF7115AADBD]\n\t(No symbol) [0x00007FF7115AB84A]\n\t(No symbol) [0x00007FF71159F5BB]\n\t(No symbol) [0x00007FF71159D326]\n\t(No symbol) [0x00007FF7115A0EB1]\n\t(No symbol) [0x00007FF7115A0F50]\n\t(No symbol) [0x00007FF7115E9192]\n\t(No symbol) [0x00007FF7115E9272]\n\t(No symbol) [0x00007FF7115DF119]\n\t(No symbol) [0x00007FF71160D02A]\n\t(No symbol) [0x00007FF7115DBA76]\n\t(No symbol) [0x00007FF71160D240]\n\t(No symbol) [0x00007FF71162C977]\n\t(No symbol) [0x00007FF71160CDD3]\n\t(No symbol) [0x00007FF7115DA33B]\n\t(No symbol) [0x00007FF7115DAED1]\n\tGetHandleVerifier [0x00007FF711A68B1D+3217341]\n\tGetHandleVerifier [0x00007FF711AB5AE3+3532675]\n\tGetHandleVerifier [0x00007FF711AAB0E0+3489152]\n\tGetHandleVerifier [0x00007FF71180E776+750614]\n\t(No symbol) [0x00007FF7116E375F]\n\t(No symbol) [0x00007FF7116DEB14]\n\t(No symbol) [0x00007FF7116DECA2]\n\t(No symbol) [0x00007FF7116CE16F]\n\tBaseThreadInitThunk [0x00007FFB59D7257D+29]\n\tRtlUserThreadStart [0x00007FFB5AB6AF28+40]\n",
     "output_type": "error",
     "traceback": [
      "\u001b[1;31m----------------------------------------------------------------------\u001b[0m",
      "\u001b[1;31mStaleElementReferenceException\u001b[0m       Traceback (most recent call last)",
      "Cell \u001b[1;32mIn[39], line 91\u001b[0m\n\u001b[0;32m     89\u001b[0m \u001b[38;5;28;01mfor\u001b[39;00m page_no \u001b[38;5;129;01min\u001b[39;00m \u001b[38;5;28mrange\u001b[39m(\u001b[38;5;241m1\u001b[39m, page_cnt\u001b[38;5;241m+\u001b[39m\u001b[38;5;241m1\u001b[39m):    \n\u001b[0;32m     90\u001b[0m     \u001b[38;5;28mprint\u001b[39m(\u001b[38;5;124mf\u001b[39m\u001b[38;5;124m'\u001b[39m\u001b[38;5;124m====== \u001b[39m\u001b[38;5;132;01m{\u001b[39;00mpage_no\u001b[38;5;132;01m}\u001b[39;00m\u001b[38;5;124m 페이지 스크래핑 시작 ======\u001b[39m\u001b[38;5;124m'\u001b[39m)\n\u001b[1;32m---> 91\u001b[0m     page_work()\n\u001b[0;32m     92\u001b[0m     \u001b[38;5;28mprint\u001b[39m(\u001b[38;5;124mf\u001b[39m\u001b[38;5;124m'\u001b[39m\u001b[38;5;124m====== \u001b[39m\u001b[38;5;132;01m{\u001b[39;00mpage_no\u001b[38;5;132;01m}\u001b[39;00m\u001b[38;5;124m 페이지 스크래핑 작업중 ======\u001b[39m\u001b[38;5;124m'\u001b[39m)\n\u001b[0;32m     93\u001b[0m     file_export()\n",
      "Cell \u001b[1;32mIn[39], line 44\u001b[0m, in \u001b[0;36mpage_work\u001b[1;34m()\u001b[0m\n\u001b[0;32m     42\u001b[0m \u001b[38;5;28;01mif\u001b[39;00m contents_no \u001b[38;5;241m<\u001b[39m\u001b[38;5;241m=\u001b[39m cnt :    \n\u001b[0;32m     43\u001b[0m     \u001b[38;5;28mprint\u001b[39m(\u001b[38;5;124mf\u001b[39m\u001b[38;5;124m'\u001b[39m\u001b[38;5;124m[콘텐츠 \u001b[39m\u001b[38;5;132;01m{\u001b[39;00mcontents_no\u001b[38;5;132;01m}\u001b[39;00m\u001b[38;5;124m]\u001b[39m\u001b[38;5;124m'\u001b[39m)  \n\u001b[1;32m---> 44\u001b[0m     item\u001b[38;5;241m.\u001b[39msend_keys(Keys\u001b[38;5;241m.\u001b[39mENTER) \u001b[38;5;66;03m# .click()은 에러 잘남\u001b[39;00m\n\u001b[0;32m     46\u001b[0m     time\u001b[38;5;241m.\u001b[39msleep(\u001b[38;5;241m2\u001b[39m)\n\u001b[0;32m     48\u001b[0m     \u001b[38;5;66;03m# 이미지 추출을 위해 미리 스크롤\u001b[39;00m\n",
      "File \u001b[1;32m~\\anaconda3\\Lib\\site-packages\\selenium\\webdriver\\remote\\webelement.py:231\u001b[0m, in \u001b[0;36mWebElement.send_keys\u001b[1;34m(self, *value)\u001b[0m\n\u001b[0;32m    228\u001b[0m             remote_files\u001b[38;5;241m.\u001b[39mappend(\u001b[38;5;28mself\u001b[39m\u001b[38;5;241m.\u001b[39m_upload(file))\n\u001b[0;32m    229\u001b[0m         value \u001b[38;5;241m=\u001b[39m \u001b[38;5;124m\"\u001b[39m\u001b[38;5;130;01m\\n\u001b[39;00m\u001b[38;5;124m\"\u001b[39m\u001b[38;5;241m.\u001b[39mjoin(remote_files)\n\u001b[1;32m--> 231\u001b[0m \u001b[38;5;28mself\u001b[39m\u001b[38;5;241m.\u001b[39m_execute(\n\u001b[0;32m    232\u001b[0m     Command\u001b[38;5;241m.\u001b[39mSEND_KEYS_TO_ELEMENT, {\u001b[38;5;124m\"\u001b[39m\u001b[38;5;124mtext\u001b[39m\u001b[38;5;124m\"\u001b[39m: \u001b[38;5;124m\"\u001b[39m\u001b[38;5;124m\"\u001b[39m\u001b[38;5;241m.\u001b[39mjoin(keys_to_typing(value)), \u001b[38;5;124m\"\u001b[39m\u001b[38;5;124mvalue\u001b[39m\u001b[38;5;124m\"\u001b[39m: keys_to_typing(value)}\n\u001b[0;32m    233\u001b[0m )\n",
      "File \u001b[1;32m~\\anaconda3\\Lib\\site-packages\\selenium\\webdriver\\remote\\webelement.py:395\u001b[0m, in \u001b[0;36mWebElement._execute\u001b[1;34m(self, command, params)\u001b[0m\n\u001b[0;32m    393\u001b[0m     params \u001b[38;5;241m=\u001b[39m {}\n\u001b[0;32m    394\u001b[0m params[\u001b[38;5;124m\"\u001b[39m\u001b[38;5;124mid\u001b[39m\u001b[38;5;124m\"\u001b[39m] \u001b[38;5;241m=\u001b[39m \u001b[38;5;28mself\u001b[39m\u001b[38;5;241m.\u001b[39m_id\n\u001b[1;32m--> 395\u001b[0m \u001b[38;5;28;01mreturn\u001b[39;00m \u001b[38;5;28mself\u001b[39m\u001b[38;5;241m.\u001b[39m_parent\u001b[38;5;241m.\u001b[39mexecute(command, params)\n",
      "File \u001b[1;32m~\\anaconda3\\Lib\\site-packages\\selenium\\webdriver\\remote\\webdriver.py:354\u001b[0m, in \u001b[0;36mWebDriver.execute\u001b[1;34m(self, driver_command, params)\u001b[0m\n\u001b[0;32m    352\u001b[0m response \u001b[38;5;241m=\u001b[39m \u001b[38;5;28mself\u001b[39m\u001b[38;5;241m.\u001b[39mcommand_executor\u001b[38;5;241m.\u001b[39mexecute(driver_command, params)\n\u001b[0;32m    353\u001b[0m \u001b[38;5;28;01mif\u001b[39;00m response:\n\u001b[1;32m--> 354\u001b[0m     \u001b[38;5;28mself\u001b[39m\u001b[38;5;241m.\u001b[39merror_handler\u001b[38;5;241m.\u001b[39mcheck_response(response)\n\u001b[0;32m    355\u001b[0m     response[\u001b[38;5;124m\"\u001b[39m\u001b[38;5;124mvalue\u001b[39m\u001b[38;5;124m\"\u001b[39m] \u001b[38;5;241m=\u001b[39m \u001b[38;5;28mself\u001b[39m\u001b[38;5;241m.\u001b[39m_unwrap_value(response\u001b[38;5;241m.\u001b[39mget(\u001b[38;5;124m\"\u001b[39m\u001b[38;5;124mvalue\u001b[39m\u001b[38;5;124m\"\u001b[39m, \u001b[38;5;28;01mNone\u001b[39;00m))\n\u001b[0;32m    356\u001b[0m     \u001b[38;5;28;01mreturn\u001b[39;00m response\n",
      "File \u001b[1;32m~\\anaconda3\\Lib\\site-packages\\selenium\\webdriver\\remote\\errorhandler.py:229\u001b[0m, in \u001b[0;36mErrorHandler.check_response\u001b[1;34m(self, response)\u001b[0m\n\u001b[0;32m    227\u001b[0m         alert_text \u001b[38;5;241m=\u001b[39m value[\u001b[38;5;124m\"\u001b[39m\u001b[38;5;124malert\u001b[39m\u001b[38;5;124m\"\u001b[39m]\u001b[38;5;241m.\u001b[39mget(\u001b[38;5;124m\"\u001b[39m\u001b[38;5;124mtext\u001b[39m\u001b[38;5;124m\"\u001b[39m)\n\u001b[0;32m    228\u001b[0m     \u001b[38;5;28;01mraise\u001b[39;00m exception_class(message, screen, stacktrace, alert_text)  \u001b[38;5;66;03m# type: ignore[call-arg]  # mypy is not smart enough here\u001b[39;00m\n\u001b[1;32m--> 229\u001b[0m \u001b[38;5;28;01mraise\u001b[39;00m exception_class(message, screen, stacktrace)\n",
      "\u001b[1;31mStaleElementReferenceException\u001b[0m: Message: stale element reference: stale element not found\n  (Session info: chrome=126.0.6478.126); For documentation on this error, please visit: https://www.selenium.dev/documentation/webdriver/troubleshooting/errors#stale-element-reference-exception\nStacktrace:\n\tGetHandleVerifier [0x00007FF71175EEA2+31554]\n\t(No symbol) [0x00007FF7116D7ED9]\n\t(No symbol) [0x00007FF71159872A]\n\t(No symbol) [0x00007FF7115AADBD]\n\t(No symbol) [0x00007FF7115AB84A]\n\t(No symbol) [0x00007FF71159F5BB]\n\t(No symbol) [0x00007FF71159D326]\n\t(No symbol) [0x00007FF7115A0EB1]\n\t(No symbol) [0x00007FF7115A0F50]\n\t(No symbol) [0x00007FF7115E9192]\n\t(No symbol) [0x00007FF7115E9272]\n\t(No symbol) [0x00007FF7115DF119]\n\t(No symbol) [0x00007FF71160D02A]\n\t(No symbol) [0x00007FF7115DBA76]\n\t(No symbol) [0x00007FF71160D240]\n\t(No symbol) [0x00007FF71162C977]\n\t(No symbol) [0x00007FF71160CDD3]\n\t(No symbol) [0x00007FF7115DA33B]\n\t(No symbol) [0x00007FF7115DAED1]\n\tGetHandleVerifier [0x00007FF711A68B1D+3217341]\n\tGetHandleVerifier [0x00007FF711AB5AE3+3532675]\n\tGetHandleVerifier [0x00007FF711AAB0E0+3489152]\n\tGetHandleVerifier [0x00007FF71180E776+750614]\n\t(No symbol) [0x00007FF7116E375F]\n\t(No symbol) [0x00007FF7116DEB14]\n\t(No symbol) [0x00007FF7116DECA2]\n\t(No symbol) [0x00007FF7116CE16F]\n\tBaseThreadInitThunk [0x00007FFB59D7257D+29]\n\tRtlUserThreadStart [0x00007FFB5AB6AF28+40]\n"
     ]
    }
   ],
   "source": [
    "from bs4 import BeautifulSoup\n",
    "from selenium import webdriver\n",
    "from selenium.webdriver.common.by import By\n",
    "from selenium.webdriver.common.keys import Keys\n",
    "from selenium.webdriver.chrome.options import Options\n",
    "import math, time, os, pandas as pd, urllib.request\n",
    "\n",
    "options = Options()\n",
    "options.add_argument('--window-size=974,1047')\n",
    "options.add_argument('--window-position=-7,0')\n",
    "options.add_experimental_option(\"detach\", True)\n",
    "\n",
    "search = input('검색어:')\n",
    "cnt = int(input('스크래핑 할 건수는 몇건입니까?: '))\n",
    "page_cnt = math.ceil(cnt / 10)  # 크롤링 할 전체 페이지 수 \n",
    "\n",
    "now = time.localtime()\n",
    "date_format = '%04d%02d%02d'%(now.tm_year, now.tm_mon, now.tm_mday)\n",
    "f_dir = f'{os.getcwd()}\\\\{search}여행기사_{cnt}건_{date_format}'\n",
    "os.makedirs(f_dir)\n",
    "\n",
    "URL = 'https://korean.visitkorea.or.kr/search/search_list.do?keyword='+search\n",
    "driver = webdriver.Chrome(options=options)\n",
    "driver.get(URL)\n",
    "time.sleep(2)\n",
    "# 여행기사 더보기 클릭\n",
    "driver.find_element(By.CSS_SELECTOR, \"#s_recommend > .more_view > a\").click()\n",
    "time.sleep(2)\n",
    "\n",
    "title_list = []\n",
    "contents_list = []\n",
    "img_url_list = []\n",
    "\n",
    "def page_work():\n",
    "    result = driver.find_elements(By.CSS_SELECTOR,'#search_result .tit>a')\n",
    "    global contents_no, cnt\n",
    "    global title_list, contents_list, img_url_list\n",
    "\n",
    "    for item in result:\n",
    "        contents_no += 1\n",
    "\n",
    "        if contents_no <= cnt :    \n",
    "            print(f'[콘텐츠 {contents_no}]')  \n",
    "            item.send_keys(Keys.ENTER) # .click()은 에러 잘남\n",
    "\n",
    "            time.sleep(2)\n",
    "\n",
    "            # 이미지 추출을 위해 미리 스크롤\n",
    "            driver.execute_script(\"window.scrollTo(0, document.body.scrollHeight)\")\n",
    "\n",
    "            html = driver.page_source\n",
    "            html_dom = BeautifulSoup(html, 'lxml')\n",
    "\n",
    "            title = html_dom.find(id='topTitle')\n",
    "            title_list.append(title.text)\n",
    "            print(title.text)\n",
    "\n",
    "            img_tag_list = html_dom.select('.img_typeBox img')\n",
    "            img_url_list = [item['src'] for item in img_tag_list]\n",
    "\n",
    "            contents = driver.find_elements(By.CLASS_NAME, 'txt_p')\n",
    "            contents_merge = ' '.join([item.text for item in contents])        \n",
    "            contents_list.append(contents_merge)           \n",
    "\n",
    "            driver.back()\n",
    "            time.sleep(2)     \n",
    "\n",
    "\n",
    "def file_export():\n",
    "\n",
    "    DF = pd.DataFrame({\"제목\":title_list, \"내용\":contents_list})\n",
    "    filename = f'{search}여행기사_{cnt}건_{date_format}.xlsx'\n",
    "    DF.to_excel(f_dir+'\\\\'+filename)\n",
    "    print(f'====== {page_no} 페이지 {filename} 파일 저장 완료 ======')\n",
    "\n",
    "\n",
    "    no = 0\n",
    "    for src in img_url_list:\n",
    "        # 다운로드  (주소, 파일이름)\n",
    "        urllib.request.urlretrieve(src, f'{f_dir}\\\\{page_no}_{no}.jpg')\n",
    "        no += 1\n",
    "    print(f'====== {page_no} 페이지 {f_dir} 디렉토리 이미지 저장 완료 ======')\n",
    "\n",
    "\n",
    "contents_no = 0\n",
    "today = time.localtime()\n",
    "print('스크래핑 프로그램 실행')\n",
    "\n",
    "for page_no in range(1, page_cnt+1):    \n",
    "    print(f'====== {page_no} 페이지 스크래핑 시작 ======')\n",
    "    page_work()\n",
    "    print(f'====== {page_no} 페이지 스크래핑 작업중 ======')\n",
    "    file_export()\n",
    "    print(f'====== {page_no} 페이지 스크래핑 완료 ======')\n",
    "    if page_no < page_cnt:\n",
    "        driver.find_element(By.XPATH, f'/html/body/div[3]/div/div[1]/div[14]/a[{page_no+1}]').click()\n",
    "        time.sleep(2)\n",
    "\n",
    "print('스크래핑 프로그램 종료')\n",
    "driver.close()"
   ]
  },
  {
   "cell_type": "code",
   "execution_count": 37,
   "id": "7e1a9d5f-8912-41ac-8dc9-fdef309403ed",
   "metadata": {},
   "outputs": [
    {
     "name": "stdin",
     "output_type": "stream",
     "text": [
      "검색어: 제주도\n",
      "스크래핑 할 건수는 몇건입니까?:  20\n"
     ]
    },
    {
     "name": "stdout",
     "output_type": "stream",
     "text": [
      "스크래핑 프로그램 실행\n",
      "====== 1 페이지 스크래핑 시작 ======\n",
      "[콘텐츠 1]\n",
      "해변산책부터 레이싱까지, 제주 반려동물 동반여행 추천 코스\n",
      "[콘텐츠 2]\n"
     ]
    },
    {
     "ename": "StaleElementReferenceException",
     "evalue": "Message: stale element reference: stale element not found\n  (Session info: chrome=126.0.6478.126); For documentation on this error, please visit: https://www.selenium.dev/documentation/webdriver/troubleshooting/errors#stale-element-reference-exception\nStacktrace:\n\tGetHandleVerifier [0x00007FF71175EEA2+31554]\n\t(No symbol) [0x00007FF7116D7ED9]\n\t(No symbol) [0x00007FF71159872A]\n\t(No symbol) [0x00007FF7115AADBD]\n\t(No symbol) [0x00007FF7115AB84A]\n\t(No symbol) [0x00007FF71159F5BB]\n\t(No symbol) [0x00007FF71159D326]\n\t(No symbol) [0x00007FF7115A0EB1]\n\t(No symbol) [0x00007FF7115A0F50]\n\t(No symbol) [0x00007FF7115E9192]\n\t(No symbol) [0x00007FF7115E9272]\n\t(No symbol) [0x00007FF7115DF119]\n\t(No symbol) [0x00007FF71160D02A]\n\t(No symbol) [0x00007FF7115DBA76]\n\t(No symbol) [0x00007FF71160D240]\n\t(No symbol) [0x00007FF71162C977]\n\t(No symbol) [0x00007FF71160CDD3]\n\t(No symbol) [0x00007FF7115DA33B]\n\t(No symbol) [0x00007FF7115DAED1]\n\tGetHandleVerifier [0x00007FF711A68B1D+3217341]\n\tGetHandleVerifier [0x00007FF711AB5AE3+3532675]\n\tGetHandleVerifier [0x00007FF711AAB0E0+3489152]\n\tGetHandleVerifier [0x00007FF71180E776+750614]\n\t(No symbol) [0x00007FF7116E375F]\n\t(No symbol) [0x00007FF7116DEB14]\n\t(No symbol) [0x00007FF7116DECA2]\n\t(No symbol) [0x00007FF7116CE16F]\n\tBaseThreadInitThunk [0x00007FFB59D7257D+29]\n\tRtlUserThreadStart [0x00007FFB5AB6AF28+40]\n",
     "output_type": "error",
     "traceback": [
      "\u001b[1;31m----------------------------------------------------------------------\u001b[0m",
      "\u001b[1;31mStaleElementReferenceException\u001b[0m       Traceback (most recent call last)",
      "Cell \u001b[1;32mIn[37], line 93\u001b[0m\n\u001b[0;32m     91\u001b[0m \u001b[38;5;28;01mfor\u001b[39;00m page_no \u001b[38;5;129;01min\u001b[39;00m \u001b[38;5;28mrange\u001b[39m(\u001b[38;5;241m1\u001b[39m, page_cnt \u001b[38;5;241m+\u001b[39m \u001b[38;5;241m1\u001b[39m):\n\u001b[0;32m     92\u001b[0m     \u001b[38;5;28mprint\u001b[39m(\u001b[38;5;124mf\u001b[39m\u001b[38;5;124m'\u001b[39m\u001b[38;5;124m====== \u001b[39m\u001b[38;5;132;01m{\u001b[39;00mpage_no\u001b[38;5;132;01m}\u001b[39;00m\u001b[38;5;124m 페이지 스크래핑 시작 ======\u001b[39m\u001b[38;5;124m'\u001b[39m)\n\u001b[1;32m---> 93\u001b[0m     page_work()\n\u001b[0;32m     94\u001b[0m     \u001b[38;5;28mprint\u001b[39m(\u001b[38;5;124mf\u001b[39m\u001b[38;5;124m'\u001b[39m\u001b[38;5;124m====== \u001b[39m\u001b[38;5;132;01m{\u001b[39;00mpage_no\u001b[38;5;132;01m}\u001b[39;00m\u001b[38;5;124m 페이지 스크래핑 작업 중 ======\u001b[39m\u001b[38;5;124m'\u001b[39m)\n\u001b[0;32m     95\u001b[0m     file_export(page_no)\n",
      "Cell \u001b[1;32mIn[37], line 47\u001b[0m, in \u001b[0;36mpage_work\u001b[1;34m()\u001b[0m\n\u001b[0;32m     44\u001b[0m     \u001b[38;5;28;01mreturn\u001b[39;00m\n\u001b[0;32m     46\u001b[0m \u001b[38;5;28mprint\u001b[39m(\u001b[38;5;124mf\u001b[39m\u001b[38;5;124m'\u001b[39m\u001b[38;5;124m[콘텐츠 \u001b[39m\u001b[38;5;132;01m{\u001b[39;00mcontents_no\u001b[38;5;132;01m}\u001b[39;00m\u001b[38;5;124m]\u001b[39m\u001b[38;5;124m'\u001b[39m)\n\u001b[1;32m---> 47\u001b[0m item\u001b[38;5;241m.\u001b[39msend_keys(Keys\u001b[38;5;241m.\u001b[39mENTER)  \u001b[38;5;66;03m# .click()은 에러 잘남\u001b[39;00m\n\u001b[0;32m     48\u001b[0m time\u001b[38;5;241m.\u001b[39msleep(\u001b[38;5;241m2\u001b[39m)\n\u001b[0;32m     50\u001b[0m \u001b[38;5;66;03m# 이미지 추출을 위해 미리 스크롤\u001b[39;00m\n",
      "File \u001b[1;32m~\\anaconda3\\Lib\\site-packages\\selenium\\webdriver\\remote\\webelement.py:231\u001b[0m, in \u001b[0;36mWebElement.send_keys\u001b[1;34m(self, *value)\u001b[0m\n\u001b[0;32m    228\u001b[0m             remote_files\u001b[38;5;241m.\u001b[39mappend(\u001b[38;5;28mself\u001b[39m\u001b[38;5;241m.\u001b[39m_upload(file))\n\u001b[0;32m    229\u001b[0m         value \u001b[38;5;241m=\u001b[39m \u001b[38;5;124m\"\u001b[39m\u001b[38;5;130;01m\\n\u001b[39;00m\u001b[38;5;124m\"\u001b[39m\u001b[38;5;241m.\u001b[39mjoin(remote_files)\n\u001b[1;32m--> 231\u001b[0m \u001b[38;5;28mself\u001b[39m\u001b[38;5;241m.\u001b[39m_execute(\n\u001b[0;32m    232\u001b[0m     Command\u001b[38;5;241m.\u001b[39mSEND_KEYS_TO_ELEMENT, {\u001b[38;5;124m\"\u001b[39m\u001b[38;5;124mtext\u001b[39m\u001b[38;5;124m\"\u001b[39m: \u001b[38;5;124m\"\u001b[39m\u001b[38;5;124m\"\u001b[39m\u001b[38;5;241m.\u001b[39mjoin(keys_to_typing(value)), \u001b[38;5;124m\"\u001b[39m\u001b[38;5;124mvalue\u001b[39m\u001b[38;5;124m\"\u001b[39m: keys_to_typing(value)}\n\u001b[0;32m    233\u001b[0m )\n",
      "File \u001b[1;32m~\\anaconda3\\Lib\\site-packages\\selenium\\webdriver\\remote\\webelement.py:395\u001b[0m, in \u001b[0;36mWebElement._execute\u001b[1;34m(self, command, params)\u001b[0m\n\u001b[0;32m    393\u001b[0m     params \u001b[38;5;241m=\u001b[39m {}\n\u001b[0;32m    394\u001b[0m params[\u001b[38;5;124m\"\u001b[39m\u001b[38;5;124mid\u001b[39m\u001b[38;5;124m\"\u001b[39m] \u001b[38;5;241m=\u001b[39m \u001b[38;5;28mself\u001b[39m\u001b[38;5;241m.\u001b[39m_id\n\u001b[1;32m--> 395\u001b[0m \u001b[38;5;28;01mreturn\u001b[39;00m \u001b[38;5;28mself\u001b[39m\u001b[38;5;241m.\u001b[39m_parent\u001b[38;5;241m.\u001b[39mexecute(command, params)\n",
      "File \u001b[1;32m~\\anaconda3\\Lib\\site-packages\\selenium\\webdriver\\remote\\webdriver.py:354\u001b[0m, in \u001b[0;36mWebDriver.execute\u001b[1;34m(self, driver_command, params)\u001b[0m\n\u001b[0;32m    352\u001b[0m response \u001b[38;5;241m=\u001b[39m \u001b[38;5;28mself\u001b[39m\u001b[38;5;241m.\u001b[39mcommand_executor\u001b[38;5;241m.\u001b[39mexecute(driver_command, params)\n\u001b[0;32m    353\u001b[0m \u001b[38;5;28;01mif\u001b[39;00m response:\n\u001b[1;32m--> 354\u001b[0m     \u001b[38;5;28mself\u001b[39m\u001b[38;5;241m.\u001b[39merror_handler\u001b[38;5;241m.\u001b[39mcheck_response(response)\n\u001b[0;32m    355\u001b[0m     response[\u001b[38;5;124m\"\u001b[39m\u001b[38;5;124mvalue\u001b[39m\u001b[38;5;124m\"\u001b[39m] \u001b[38;5;241m=\u001b[39m \u001b[38;5;28mself\u001b[39m\u001b[38;5;241m.\u001b[39m_unwrap_value(response\u001b[38;5;241m.\u001b[39mget(\u001b[38;5;124m\"\u001b[39m\u001b[38;5;124mvalue\u001b[39m\u001b[38;5;124m\"\u001b[39m, \u001b[38;5;28;01mNone\u001b[39;00m))\n\u001b[0;32m    356\u001b[0m     \u001b[38;5;28;01mreturn\u001b[39;00m response\n",
      "File \u001b[1;32m~\\anaconda3\\Lib\\site-packages\\selenium\\webdriver\\remote\\errorhandler.py:229\u001b[0m, in \u001b[0;36mErrorHandler.check_response\u001b[1;34m(self, response)\u001b[0m\n\u001b[0;32m    227\u001b[0m         alert_text \u001b[38;5;241m=\u001b[39m value[\u001b[38;5;124m\"\u001b[39m\u001b[38;5;124malert\u001b[39m\u001b[38;5;124m\"\u001b[39m]\u001b[38;5;241m.\u001b[39mget(\u001b[38;5;124m\"\u001b[39m\u001b[38;5;124mtext\u001b[39m\u001b[38;5;124m\"\u001b[39m)\n\u001b[0;32m    228\u001b[0m     \u001b[38;5;28;01mraise\u001b[39;00m exception_class(message, screen, stacktrace, alert_text)  \u001b[38;5;66;03m# type: ignore[call-arg]  # mypy is not smart enough here\u001b[39;00m\n\u001b[1;32m--> 229\u001b[0m \u001b[38;5;28;01mraise\u001b[39;00m exception_class(message, screen, stacktrace)\n",
      "\u001b[1;31mStaleElementReferenceException\u001b[0m: Message: stale element reference: stale element not found\n  (Session info: chrome=126.0.6478.126); For documentation on this error, please visit: https://www.selenium.dev/documentation/webdriver/troubleshooting/errors#stale-element-reference-exception\nStacktrace:\n\tGetHandleVerifier [0x00007FF71175EEA2+31554]\n\t(No symbol) [0x00007FF7116D7ED9]\n\t(No symbol) [0x00007FF71159872A]\n\t(No symbol) [0x00007FF7115AADBD]\n\t(No symbol) [0x00007FF7115AB84A]\n\t(No symbol) [0x00007FF71159F5BB]\n\t(No symbol) [0x00007FF71159D326]\n\t(No symbol) [0x00007FF7115A0EB1]\n\t(No symbol) [0x00007FF7115A0F50]\n\t(No symbol) [0x00007FF7115E9192]\n\t(No symbol) [0x00007FF7115E9272]\n\t(No symbol) [0x00007FF7115DF119]\n\t(No symbol) [0x00007FF71160D02A]\n\t(No symbol) [0x00007FF7115DBA76]\n\t(No symbol) [0x00007FF71160D240]\n\t(No symbol) [0x00007FF71162C977]\n\t(No symbol) [0x00007FF71160CDD3]\n\t(No symbol) [0x00007FF7115DA33B]\n\t(No symbol) [0x00007FF7115DAED1]\n\tGetHandleVerifier [0x00007FF711A68B1D+3217341]\n\tGetHandleVerifier [0x00007FF711AB5AE3+3532675]\n\tGetHandleVerifier [0x00007FF711AAB0E0+3489152]\n\tGetHandleVerifier [0x00007FF71180E776+750614]\n\t(No symbol) [0x00007FF7116E375F]\n\t(No symbol) [0x00007FF7116DEB14]\n\t(No symbol) [0x00007FF7116DECA2]\n\t(No symbol) [0x00007FF7116CE16F]\n\tBaseThreadInitThunk [0x00007FFB59D7257D+29]\n\tRtlUserThreadStart [0x00007FFB5AB6AF28+40]\n"
     ]
    }
   ],
   "source": [
    "from bs4 import BeautifulSoup\n",
    "from selenium import webdriver\n",
    "from selenium.webdriver.common.by import By\n",
    "from selenium.webdriver.common.keys import Keys\n",
    "from selenium.webdriver.chrome.options import Options\n",
    "import math, time, os, pandas as pd, urllib.request\n",
    "\n",
    "options = Options()\n",
    "options.add_argument('--window-size=974,1047')\n",
    "options.add_argument('--window-position=-7,0')\n",
    "options.add_experimental_option(\"detach\", True)\n",
    "\n",
    "search = input('검색어:')\n",
    "cnt = int(input('스크래핑 할 건수는 몇건입니까?: '))\n",
    "page_cnt = math.ceil(cnt / 10)  # 크롤링 할 전체 페이지 수 \n",
    "\n",
    "now = time.localtime()\n",
    "date_format = '%04d%02d%02d' % (now.tm_year, now.tm_mon, now.tm_mday)\n",
    "f_dir = os.path.join(os.getcwd(), f'{search}여행기사_{cnt}건_{date_format}')\n",
    "os.makedirs(f_dir, exist_ok=True)\n",
    "\n",
    "URL = 'https://korean.visitkorea.or.kr/search/search_list.do?keyword=' + search\n",
    "driver = webdriver.Chrome(options=options)\n",
    "driver.get(URL)\n",
    "time.sleep(2)\n",
    "\n",
    "# 여행기사 더보기 클릭\n",
    "driver.find_element(By.CSS_SELECTOR, \"#s_recommend > .more_view > a\").click()\n",
    "time.sleep(2)\n",
    "\n",
    "title_list = []\n",
    "contents_list = []\n",
    "img_url_list = []\n",
    "\n",
    "def page_work():\n",
    "    global contents_no, cnt\n",
    "    global title_list, contents_list, img_url_list\n",
    "\n",
    "    result = driver.find_elements(By.CSS_SELECTOR, '#search_result .tit>a')\n",
    "\n",
    "    for item in result:\n",
    "        contents_no += 1\n",
    "        if contents_no > cnt:\n",
    "            return\n",
    "\n",
    "        print(f'[콘텐츠 {contents_no}]')\n",
    "        item.send_keys(Keys.ENTER)  # .click()은 에러 잘남\n",
    "        time.sleep(2)\n",
    "\n",
    "        # 이미지 추출을 위해 미리 스크롤\n",
    "        driver.execute_script(\"window.scrollTo(0, document.body.scrollHeight)\")\n",
    "\n",
    "        html = driver.page_source\n",
    "        html_dom = BeautifulSoup(html, 'lxml')\n",
    "\n",
    "        title = html_dom.select_one('#topTitle')\n",
    "        if title:\n",
    "            title_list.append(title.text)\n",
    "            print(title.text)\n",
    "        else:\n",
    "            title_list.append('No Title')\n",
    "\n",
    "        img_tag_list = html_dom.select('.img_typeBox img')\n",
    "        img_url_list.extend([item['src'] for item in img_tag_list])\n",
    "\n",
    "        contents = driver.find_elements(By.CLASS_NAME, 'txt_p')\n",
    "        contents_merge = ' '.join([item.text for item in contents])\n",
    "        contents_list.append(contents_merge)\n",
    "\n",
    "        driver.back()\n",
    "        time.sleep(2)\n",
    "\n",
    "def file_export(page_no):\n",
    "    DF = pd.DataFrame({\"제목\": title_list, \"내용\": contents_list})\n",
    "    filename = f'{search}여행기사_{cnt}건_{date_format}.xlsx'\n",
    "    DF.to_excel(os.path.join(f_dir, filename))\n",
    "    print(f'====== {page_no} 페이지 {filename} 파일 저장 완료 ======')\n",
    "\n",
    "    for i, src in enumerate(img_url_list):\n",
    "        try:\n",
    "            # 다운로드 (주소, 파일이름)\n",
    "            urllib.request.urlretrieve(src, os.path.join(f_dir, f'{page_no}_{i}.jpg'))\n",
    "        except Exception as e:\n",
    "            print(f'이미지 다운로드 실패 {src}: {e}')\n",
    "\n",
    "    print(f'====== {page_no} 페이지 {f_dir} 디렉토리 이미지 저장 완료 ======')\n",
    "\n",
    "contents_no = 0\n",
    "print('스크래핑 프로그램 실행')\n",
    "\n",
    "for page_no in range(1, page_cnt + 1):\n",
    "    print(f'====== {page_no} 페이지 스크래핑 시작 ======')\n",
    "    page_work()\n",
    "    print(f'====== {page_no} 페이지 스크래핑 작업 중 ======')\n",
    "    file_export(page_no)\n",
    "    print(f'====== {page_no} 페이지 스크래핑 완료 ======')\n",
    "    if page_no < page_cnt:\n",
    "        try:\n",
    "            next_button = driver.find_element(By.XPATH, f'/html/body/div[3]/div/div[1]/div[14]/a[{page_no + 1}]')\n",
    "            next_button.click()\n",
    "            time.sleep(2)\n",
    "        except Exception as e:\n",
    "            print(f'페이지 넘김 실패: {e}')\n",
    "            break\n",
    "\n",
    "print('스크래핑 프로그램 종료')\n",
    "driver.close()\n"
   ]
  },
  {
   "cell_type": "code",
   "execution_count": null,
   "id": "2d3bb3f7-a8f2-4c61-94a1-d2b431a02d50",
   "metadata": {},
   "outputs": [],
   "source": []
  },
  {
   "cell_type": "code",
   "execution_count": null,
   "id": "fd33b44b-62b1-4ec6-b18a-6d93d161e5f8",
   "metadata": {},
   "outputs": [],
   "source": []
  },
  {
   "cell_type": "code",
   "execution_count": null,
   "id": "6e151377-a6a1-4899-ae40-da6f22ec6e55",
   "metadata": {},
   "outputs": [],
   "source": []
  },
  {
   "cell_type": "code",
   "execution_count": null,
   "id": "c4988ae0-26d5-451b-bab1-0def8756a082",
   "metadata": {},
   "outputs": [],
   "source": []
  },
  {
   "cell_type": "code",
   "execution_count": null,
   "id": "40a4784c-2e3f-45ec-896c-0603942ab6bc",
   "metadata": {},
   "outputs": [],
   "source": []
  },
  {
   "cell_type": "code",
   "execution_count": null,
   "id": "e8641e7d-42f7-4f46-9914-d46e77d05118",
   "metadata": {},
   "outputs": [],
   "source": []
  },
  {
   "cell_type": "code",
   "execution_count": null,
   "id": "7c5a9dbd-58fd-4847-a081-d18aba5711e1",
   "metadata": {},
   "outputs": [],
   "source": []
  },
  {
   "cell_type": "code",
   "execution_count": null,
   "id": "063ee16e-7774-4b35-81c2-92e85897d03f",
   "metadata": {},
   "outputs": [],
   "source": []
  },
  {
   "cell_type": "code",
   "execution_count": null,
   "id": "1b1a5db8-337e-4ba5-81c3-df41aa64ab82",
   "metadata": {},
   "outputs": [],
   "source": []
  },
  {
   "cell_type": "code",
   "execution_count": null,
   "id": "36e20338-83ab-44c5-86e5-fd67240ed9bb",
   "metadata": {},
   "outputs": [],
   "source": []
  },
  {
   "cell_type": "code",
   "execution_count": null,
   "id": "8333013d-2361-4c43-9662-4d847bbdf170",
   "metadata": {},
   "outputs": [],
   "source": []
  },
  {
   "cell_type": "code",
   "execution_count": null,
   "id": "2c894297-e29e-4420-8130-fc83d9bc41c8",
   "metadata": {},
   "outputs": [],
   "source": []
  }
 ],
 "metadata": {
  "kernelspec": {
   "display_name": "Python 3 (ipykernel)",
   "language": "python",
   "name": "python3"
  },
  "language_info": {
   "codemirror_mode": {
    "name": "ipython",
    "version": 3
   },
   "file_extension": ".py",
   "mimetype": "text/x-python",
   "name": "python",
   "nbconvert_exporter": "python",
   "pygments_lexer": "ipython3",
   "version": "3.11.7"
  }
 },
 "nbformat": 4,
 "nbformat_minor": 5
}
