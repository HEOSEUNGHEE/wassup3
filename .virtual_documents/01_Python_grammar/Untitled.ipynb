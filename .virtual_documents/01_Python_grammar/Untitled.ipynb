





a = 123
a = -178
a = 0





a = 1.2
a = -3.45


a = 4.24E10
print(a)


a = 4.24E-10
print(a)


a = 0o177
print(a)


a = 0x8ff
b = 0xABC
print(b)





a = 3
b = 4
a + b


a - b


a * b


a / b


a ** b


7 % 3


3 % 7


7 / 4


7 // 4


a = 1
a += 1
print (a)


a = 1
a -= 1
print (a)


a = 2
a *= 2
print (a)


a = 4
a /= 2
print (a)


a = 5
a %= 3
print (a)


a = 2
a **= 3
print (a)





"Hello World"


'Python is fun'


"""Life is too short, You need python"""


food = "Python's faviorite food is perl"
food


food = 'Python's favorite food is perl'
food


"Python is very easy." he says.


'"Python is very easy." he say.'


'Python\'s favorite food is peral'


"\"Python is very easy.\" he says."


'\'Python is very easy.\' he says.'


multiline = "Life is too short\nYou need python"
multiline


print(multiline)


multiline = '''
Life is too short
You need python
'''


multiline
















































