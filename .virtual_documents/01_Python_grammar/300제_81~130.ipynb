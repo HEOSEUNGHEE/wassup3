





#81
scores = [8.8, 8.9, 8.7, 9.2, 9.3, 9.7, 9.9, 9.5, 7.8, 9.4]
*valid_score, _, _= scores
print(valid_score)


#82
scores = [8.8, 8.9, 8.7, 9.2, 9.3, 9.7, 9.9, 9.5, 7.8, 9.4]
_,_,*valid_score= scores
print(valid_score)


#83
scores = [8.8, 8.9, 8.7, 9.2, 9.3, 9.7, 9.9, 9.5, 7.8, 9.4]
a,*valid_score,b = scores
print(valid_score)


# 84
temp = {}


# 85
ice = {'메로나':1000,'폴라포':1200,'빵빠레':1800}
print(ice)


#ice = dict('메로나':1000,'폴라포':1200,'빵빠레':1800)
#ice = dict([('메로나':1000),('폴라포':1200),('빵빠레':1800)])
#keys = ['메로나','폴라포','빵빠레']
#values = [1000,1200,1800]
#ice = dict(zip(keys,values))
#ice = {'메로나'=1000,'폴라포'=1200,'빵빠레'=1800}


# 86


ice = {'메로나':1000,'폴라포':1200,'빵빠레':1800}
ice['죠스바'] = 1200
ice['월드콘'] = 1500
print(ice)


# 87


ice = {'메로나': 1000,
       '폴로포': 1200,
       '빵빠레': 1800,
       '죠스바': 1200,
       '월드콘': 1500}
ice['메로나']
print("메로나 가격: ",ice['메로나'])


# 88


ice["메로나"] = 1300
print(ice)


# 89


ice = {'메로나': 1000,
       '폴로포': 1200,
       '빵빠레': 1800,
       '죠스바': 1200,
       '월드콘': 1500}
del ice['메로나']
print(ice)


# 90


icecream = {'폴라포': 1200, '빵빠레': 1800, '월드콘': 1500, '메로나': 1000}
icecream['누가바']


# 딕셔너리 안에 누가바 라는 키가 없는데, 인덱싱해서 에러 발





# 91


inventory = {'메로나': [300,20], '비비빅': [400,3], '죠스바': [250,100]}
print(inventory)


# 92


inventory = {"메로나": [300, 20],
              "비비빅": [400, 3],
              "죠스바": [250, 100]}
print(inventory["메로나"][0], '원')


# 93


inventory = {"메로나": [300, 20],
              "비비빅": [400, 3],
              "죠스바": [250, 100]}
print(inventory["메로나"][1], '개')


# 94


inventory = {"메로나": [300, 20],
              "비비빅": [400, 3],
              "죠스바": [250, 100]}
inventory["월드콘"] = [500,7]
print(inventory)


# 95


icecream = {'탱크보이': 1200, '폴라포': 1200, '빵빠레': 1800, '월드콘': 1500, '메로나': 1000}
keys = ['탱크보이','폴라포','빵빠레','월드콘','메로나']

print(icecream.keys())


icecream = {'탱크보이': 1200, '폴라포': 1200, '빵빠레': 1800, '월드콘': 1500, '메로나': 1000}
ice = list(icecream.keys())
print(ice)


# 96
icecream = {'탱크보이': 1200, '폴라포': 1200, '빵빠레': 1800, '월드콘': 1500, '메로나': 1000}
won = list(icecream.values())
print(won)


# 97
icecream = {'탱크보이': 1200, '폴라포': 1200, '빵빠레': 1800, '월드콘': 1500, '메로나': 1000}
won = list(icecream.values())
print(sum(won))


icecream = {'탱크보이': 1200, '폴라포': 1200, '빵빠레': 1800, '월드콘': 1500, '메로나': 1000}
print(sum(icecream.values()))


# 98


icecream = {'탱크보이': 1200, '폴라포': 1200, '빵빠레': 1800, '월드콘': 1500, '메로나': 1000}
new_product = {'팥빙수':2700, '아맛나':1000}

icecream.update(new_product)
print(icecream)


# 99


keys = ("apple", "pear", "peach")
vals = (300, 250, 400)
result = dict(zip(keys,vals))
print(result)


#100


date = ['09/05', '09/06', '09/07', '09/08', '09/09']
close_price = [10500, 10300, 10100, 10800, 11000]
close_table = dict(zip(date,close_price))
print(close_table)











# 101 파이썬에서 True 혹은 False를 갖는 데이터 타입은 무엇


bool 타입


# 102


print(3 == 5)
# False


# 103


print(3 < 5)
# True


# 104


x = 4
print(1 < x < 5)
# True


# 105


print ((3 == 3) and (4 != 3))
# True


# 106


print(3 => 4)


print(3 >= 4)


# 107


if 4 < 3:
    print("Hello World")
# 미출력 


if 4 < 3:
    print("Hello World")
else :
    print("틀렸습니다.")


# 108


if 4 < 3:
    print("Hello World.")
else:
    print("Hi, there.")
# Hi, there.


# 109


if True :
    print ("1")
    print ("2")
else :
    print("3")
print("4")
# 1 2 4


# 110


if True :
    if False:
        print("1")
        print("2")
    else:
        print("3")
else :
    print("4")
print("5")
# 3 5





# 111


user = input("입력: ")
print(user * 2)


# 112


user = input("숫자를 입력하세요: ")
print(int(user) + 10)


# 113


user = input("입력: ")
if int(user) % 2 == 0 :
    print("짝수")
else :
    print("홀수")


# 114


user = input("입력: ")
if int(user) + 20 < 255 :
    print(int(user) + 20 )
else :
    print(255)


# 115


user = input("입력: ")
num = int(user) - 20
if int(user) > 255 :
    print(255)
elif num < 0:
    print(0)
else :
    print(num)


# 116


user = input("입력: ")
if user[-2:] == "00" :
    print("정각입니다.")
else:
    print("정각이 아닙니다.")


#117


fruit = ["사과", "포도", "홍시"]

user = input("좋아하는 과일은? : ")
if user in fruit :
    print("정답입니다.")
else :
    print("오답입니다.")


# 118


warn_investment_list = ["Microsoft", "Google", "Naver", "Kakao", "SAMSUNG", "LG"]

user = input("입력: ")
if user in warn_investment_list :
    print("투자 경고 종목입니다.")
else :
    print("투자 경고 종목이 아닙니다.")


# 119


fruit = {"봄" : "딸기", "여름" : "토마토", "가을" : "사과"}
user = input("제가 좋아하는 계절: ")
if user in fruit :
    print("정답.")
else :
    print("오답.")


# 120


fruit = {"봄" : "딸기", "여름" : "토마토", "가을" : "사과"}
user = input("제가 좋아하는 과일: ")
if user in fruit.values() :
    print("정답.")
else :
    print("오답.")








#121


user = input("입력: ")
if user.islower() :
    print(user.upper())
else :
    print(user.lower())



#122


score = input("score: ")
score = int(score)
if 81 <= score <= 100:
    print("grade is A")
elif 61 <= score <= 80:
    print("grade is B")
elif 41 <= score <= 60:
    print("grade is C")
elif 21 <= score <= 40:
    print("grade is D")
else:
    print("grade is E")





# 124


num1 = input("input number1: ")
num2 = input("input number2: ")
num3 = input("input number3: ")
num1 = int(num1)
num2 = int(num2)
num3 = int(num3)

if num1 >= num2 and num1 >= num3:
    print(num1)
elif num2 >= num1 and num2 >= num3:
    print(num2)
else:
    print(num3)


# 125


phone = input("휴대전화 번호 입력: ")
phone = num.split("-")[0]
if phone == 011 :
    print("SKT")
elif phone == 016:
    print("KT")
elif phone == 016:
    print("LGU")    
elif phone == 010 :
    print("알수없음")


# 126


우편번호 = input("우편번호: ")
우편번호 = 우편번호[:3]
if 우편번호 in ["010", "011", "012"]:
    print("강북구")
elif 우편번호 in ["014", "015", "016"]:
    print("도봉구")
else:
    print("노원구")


# 127


주민번호 = input("주민등록번호: ")
주민번호 = 주민번호.split("-")[1]
if 주민번호[0] == "1" or 주민번호[0] == "3":
    print("남자")
else:
    print("여자")


#128


주민번호 = input("주민등록번호: ")
뒷자리 = 주민번호.split("-")[1]
if 0 <= int(뒷자리[1:3]) <= 8:
    print("서울입니다.")
else:
    print("서울이 아닙니다.")


# 130


import requests
btc = requests.get("https://api.bithumb.com/public/ticker/").json()['data']
