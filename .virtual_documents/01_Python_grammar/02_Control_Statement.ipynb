


‘돈이 있으면 택시를 타고 가고, 돈이 없으면 걸어간다.’


money = True
if money:
    print("택시를 타고 가라")
else:
    print("걸어 가라")








# 비교연산자
x = 3
y = 2
x > y


x < y


x == y


x != y


x >= y


x <= y


# 3000원 이상의 돈을 가지고 있으면 택시
money = 4000
if money >= 3000 :
    print("택시를 타고 가라")
else:
    print("걸어 가라")


# and, or, not


# 3000원 이상의 돈이 있거나 카드 가지고 있으면 택시


money = 4000
card = True
if money >= 3000 or card :
    print("택시를 타고 가라")
else:
    print("걸어 가라")





1 in [1,2,3]


1 not in [1,2,3]


'a' in ('a', 'b', 'c')


pocket = ['key', 'notebook', 'money']
if 'money'in pocket :
    print('택시를 타고가라')
else :
    print('걸어가라')





pocket = ['key', 'notebook', 'money']
if 'money' in pocket :
    pass
else :
    print('걸어가라')








pocket = ['card', 'key']
card = True
if 'money'in pocket :
    print('택시를 타고가라')
else :
    if card :
        print('택시를 타고가라')
    else :
        print('걸어가라')


# if 문 한줄로 작성
if 'money' in pocket:    
    pass 
else :
    print("카드를 꺼내라")


if 'money' in pocket: pass
else: print("카드를 꺼내라")





score = 88
if score >= 60:
    message = "success"
    #print(message)
else:
    message = "failure"
     #print(message)
print(message)


message = "success" if score >= 60 else "failure"
print(message)








treeHit = 0
while treeHit < 10:
    treeHit = treeHit +1
    print("나무를 %d번 찍었습니다." % treeHit)
    if treeHit == 10:
        print("나무 넘어갑니다.")





prompt = """ 
1. Add
2. Del
3. List
4. Quit

Enter number : """


print(prompt)


number = 0
while number != 4 :
    print(prompt)
    number = int(input())





money = 300
coffee = 10

while money :
    print('돈을 받았으니 커피를 줍니다.')
    coffee = coffee - 1
    print(f'남은 커피의 양은 {coffee} 입니다.')
    if coffee == 0:
        print('커피가 다 떨어져서 판매를 중지합니다.')
        break





coffee = 10

while True : 
    money = int(input('돈을 넣어주세요: '))

    if money == 300:
        print('300원을 받았습니다. 커피를 줍니다.')
        coffee = coffee -1
        print(f'남은 커피 수량은 {coffee} 입니다')

    elif money > 300:
        print(f'{money-300}거스름돈을 주고 커피를 줍니다.')
        coffee = coffee -1
        print(f'남은 커피 수량은 {coffee} 입니다')

    else: # money < 300
        print('돈이 부족합니다. 커피를 주지 않습니다.')
        print(f'남은 커피 수량은 {coffee} 입니다')

    if coffee == 0:
        print('커피가 다 떨어졌습니다. 판매를 중지합니다.')
        break








# 전형적인 for 문
>>> test_list = ['one', 'two', 'three'] 
>>> for i in test_list: 
...     print(i)


marks = [90, 25, 67, 45, 80]   # 학생들의 시험 점수 리스트

number = 0   # 학생에게 붙여 줄 번호
for mark in marks:   # 90, 25, 67, 45, 80을 순서대로 mark에 대입
    number = number +1 
    if mark >= 60: 
        print("%d번 학생은 합격입니다." % number)
    else: 
        print("%d번 학생은 불합격입니다." % number)


marks = [90, 25, 67, 45, 80]

number = 0  
for mark in marks:
    number = number +1 
    if mark <60: 
        continue
    else: 
        print("%d번 학생 축하합니다. 합격입니다. " % number)





range?


range(10)


type(range(10))


for i in range(10) : 
    print(i)


range(1,11)


for i in range(1, 11) : 
    print(i)





sum = 0
for i in range(1, 11) : 
    sum += i
    print(sum)





# 이중 for문


for gugu in range(2,10):
    for dan in range(1,10):
        print(gugu * dan)
    print()


# 시간 측정을 위한 코드, 2배 넘게 차이남


import time

start = time.time() 
numbers = [i for i in range(1000000)] 
end = time.time() 
print('List Comprehension Time:', end-start)

start = time.time() 
numbers = []
for i in range(1000000):
    numbers.append(i)
end = time.time() 
print('For loop Time:', end-start)
