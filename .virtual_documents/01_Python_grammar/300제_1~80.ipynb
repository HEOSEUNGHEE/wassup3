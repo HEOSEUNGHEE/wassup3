





# 1. 화면에 Hello World 문자열을 출력하세요.


print("Hello World")


# 2. 화면에 Mary's cosmetics을 출력하세요. (중간에 '가 있음에 주의하세요)


print("Mary's cosmetics")


# 3. 화면에 아래 문장을 출력하세요. (중간에 "가 있음에 주의하세요.)
신씨가 소리질렀다. "도둑이야".


print('신시가 소리질렀다. "도둑이야".')


# 4. 화면에 C:\Windows를 출력하세요.


print("C:\Windows")


# 5. 다음 코드를 실행해보고 \t와 \n의 역할을 설명해보세요.


print("안녕하세요.\n만나서\t\t반갑습니다.")


\t : tab
\n : 줄 바꿈


# 6. print 함수에 두 개의 단어를 입력한 예제입니다. 아래 코드의 출력 결과를 예상해봅시다.


print ("오늘은", "일요일")


오늘은 일요일


# 7. print() 함수를 사용하여 다음과 같이 출력


naver;kakao;sk;samsung


print("naver", "kakao", "sk", "samsumg", sep = ";")


print("naver;", "kakao;", "sk;", "samsumg")


# 8. print() 함수를 사용하여 다음과 같이 출력


naver/kakao/sk/samsung


print("naver", "kakao", "sk", "samsumg", sep = "/")


# 9. 다음 코드를 수정하여 줄바꿈이 없이 출력하세요. (힌트: end='') 
print 함수는 두 번 사용합니다. 
세미콜론 (;)은 한줄에 여러 개의 명령을 작성하기 위해 사용


print("first");print("second")


print("first",end =''); print("second")


10. 5/3의 결과를 화면에 출력


print(5/3)





11. 삼성전자라는 변수로 50,000원을 바인딩해보세요. 
삼성전자 주식 10주를 보유하고 있을 때 총 평가금액을 출력하세요.


삼성전자 = 50000
총평가금액 = 10 * 삼성전자
print(총평가금액)



12. 다음 표는 삼성전자의 일부 투자정보입니다. 
변수를 사용해서 시가총액, 현재가, PER 등을 바인딩해보세요.

항목	    값
시가총액	298조
현재가	    50,000원
PER	        15.79


시가총액 = 298
현재가 = 50000
PER = 15.79
print(시가총액, type(시가총액))
print(현재가, type(현재가))
print(PER, type(PER))


# 13. 변수 s와 t에는 각각 문자열이 바인딩
# >> s = "hello"
# >> t = "python"
# 두 변수를 이용하여 아래와 같이 출력


s = "hello"
t = "python"
print(s+"!", t)


# 14. 아래 코드의 실행 결과를 예상
# 2 + 2 * 3 


8


2 + 2 * 3


# 15. 변수 a에는 128 숫자가 바인딩돼 있어 type 함수가 int (정수)형임을 알려줌
# >> a = 128
# >> print (type(a))
# <class 'int'>

# 아래 변수에 바인딩된 값의 타입을 판별
# >> a = "132"


a = "132"
print(a, type(a))


a = "132"
print(type(a))


# 16. 문자열 '720'를 정수형으로 변환


num_str = "720"
num_int = int(num_str)
print(num_int, type(num_int))


# 17. 정수 100을 문자열 '100'으로 변환
# num = 100


num_int = 100
result = str(num_int)
print(result, type(result))


18. 문자열 "15.79"를 실수(float) 타입으로 변환


num_str = "15.79"
result = float(num_str)
print(date, type(result))


# 19. year라는 변수가 문자열 타입의 연도를 바인딩
# 이를 정수로 변환한 후 최근 3년의 연도를 화면에 출력
# year = "2020"


year = "2020"
print(int(year)-1)
print(int(year)-2)
print(int(year)-3)


# 20. 에이컨이 월 48,584원에 무이자 36개월의 조건으로 홈쇼핑에서 판매
# 총 금액은 계산한 후 이를 화면에 출력


con = 48584
총금액 = con * 36
print(총금액)





# 21. letters가 바인딩하는 문자열에서 첫번째와 세번째 문자를 출력
# letters = 'python'


let = 'python'
print(let[0],let[2])


# 22. 자동차 번호가 다음과 같을 때 뒤에 4자리만 출력
# license_plate = "24가 2210"


lp = "24가 2210"
print(lp[-4:])


# 23. 아래의 문자열에서 '홀' 만 출력
# string = "홀짝홀짝홀짝"


string = "홀짝홀짝홀짝"
print(string[::2])


# 24. 문자열을 거꾸로 뒤집어 출력
# string = "PYTHON"


string = "PYTHON"
print(string[::1])


string = "PYTHON"
print(string[::-1])


# 25. 전화번호에서 하이푼 ('-')을 제거하고 출력
# phone_number = "010-1111-2222"


phone_number = "010-1111-2222"
PN = phone_number.replace('-',' ')
print(PN)


# 26. 25번 문제의 전화번호를 아래와 같이 모두 붙여 출력


PN = 010 1111 2222
PN2 = PN.replace(' ','')
print(PN2)
# 공백에서 공백 없는걸로 대체는 안되는건가..?


phone_number = "010-1111-2222"
PN3 = phone_number.replace('-','')
print(PN3)


# 27.url 에 저장된 웹 페이지 주소에서 도메인을 출력
# url = "http://sharebook.kr"


url = "http://sharebook.kr"
print(url[-2:])


url = "http://sharebook.kr"
url_split = url.split('.')
print(url_split[-1])


# 28. 아래 코드의 실행 결과를 예상
# >> lang = 'python'
# >> lang[0] = 'P'
# >> print(lang)


lang = 'python'
lang[0] = 'P'
print(lang)
# 문자열 수정 불가


# 29. 아래 문자열에서 소문자 'a'를 대문자 'A'로 변경
# string = 'abcdfe2a354a32a'


string = 'abcdfe2a354a32a'
string = string.replace('a','A')
print(string)


# 30. 아래 코드의 실행 결과를 예상
# >> string = 'abcd'
# >> string.replace('b', 'B')
# >> print(string)


abcd
# 문자열 변경 불가


string = 'abcd'
string.replace('b', 'B')
print(string)





# 31. 아래 코드의 실행 결과를 예상
# >> a = "3"
# >> b = "4"
# >> print(a + b)


34


a = "3"
b = "4"
print(a + b)


# 32. 아래 코드의 실행 결과를 예상
# print("Hi" * 3)


HiHiHi


print("Hi" * 3)


# 화면에 '-'를 80개 출력


print('-'*80)


# 34. 변수에 다음과 같은 문자열이 바인딩
# >>> t1 = 'python'
# >>> t2 = 'java'
# 변수에 문자열 더하기와 문자열 곱하기를 사용해서 아래와 같이 출력
# python java python java python java python java


t1 = 'python'
t2 = 'java'
print((t1 + ' ' + t2 + ' ') * 4)


t1 = "python"
t2 = "java"
t3 = t1 + ' ' + t2 + ' '
print(t3 * 4)


# 35. 문자열과 정수가 바인딩되어 있을 때 % formatting을 사용해서 다음과 같이 출력
# name1 = "김민수" 
# age1 = 10
# name2 = "이철희"
# age2 = 13
# 이름: 김민수 나이: 10
# 이름: 이철희 나이: 13


name1 = "김민수" 
age1 = 10
name2 = "이철희"
age2 = 13
print("이름: %s 나이: %d" % (name1,age1))
print("이름: %s 나이: %d" % (name2,age2))
# %


# 36. format( ) 메서드를 사용해서 035번 문제를 다시 풀기


name1 = "김민수" 
age1 = 10
name2 = "이철희"
age2 = 13
print("이름: {} 나이: {} ".format(name1, age1))
print("이름: {} 나이: {} ".format(name2, age2))


# 37. 파이썬 3.6부터 지원하는 f-string을 사용해서 035번 문제를 다시 풀어


name1 = "김민수" 
age1 = 10
name2 = "이철희"
age2 = 13
print(f'이름: {name1} 나이 {age1}')
print(f'이름: {name2} 나이 {age2}')


# 38. 삼성전자의 상장주식수가 다음과 같습니다. 컴마를 제거한 후 이를 정수 타입으로 변환
# 상장주식수 = "5,969,782,550"


상장주식수 = "5,969,782,550"
제거 = 상장주식수.replace(",","")
int변환 = int(제거)
print(int변환, type(int변환))
# ,제거 라고 하면 안돼서 제거라고 변경 
# 인덱스,type(인덱스)


상장주식수 = "5,969,782,550"
컴마제거 = 상장주식수.replace(",", "")
타입변환 = int(컴마제거)
print(타입변환, type(타입변환))


# 39. 다음과 같은 문자열에서 '2020/03'만 출력
# 분기 = "2020/03(E) (IFRS연결)"


분기 = "2020/03(E) (IFRS연결)"
print(분기[:7])


# 40. 문자열의 좌우의 공백이 있을 때 이를 제거
# data = "   삼성전자    "


data = "   삼성전자    "
print(data.strip())


data = "   삼성전자    "
data1 = data.strip()
print(data1)





# 41. 대문자 BTC_KRW로 변경
# ticker = "btc_krw"


ticker = "btc_krw"
print(ticker.upper())


ticker = "btc_krw"
ticker1 = ticker.upper()
print(ticker1)


# 42. 소문자 btc_krw로 변경
# ticker = "BTC_KRW"


ticker = "BTC_KRW"
ticker2 = ticker.lower()
print(ticker2)


# 43. 'hello'가 있을 때 이를 'Hello'로 변경


a = "hello"
a = a.capitalize()
print(a)


# 44.  문자열로 저장되어 있을 때 endswith 메서드를 사용해서 
# 파일 이름이 'xlsx'로 끝나는지 확인
# file_name = "보고서.xlsx"


file_name = "보고서.xlsx"
file_name.endswith("xlsx")


# 45.  문자열로 저장되어 있을 때 endswith 메서드를 사용해서 
# 파일 이름이 'xlsx' 또는 'xls'로 끝나는지 확인


file_name = "보고서.xlsx"
file_name.endswith("xlsx" or "xls")


file_name = "보고서.xlsx"
file_name.endswith(("xlsx", "xls"))


# 46. 문자열로 저장되어 있을 때 startswith 메서드를 사용해서 
# 파일 이름이 '2020'로 시작하는지 확인
# file_name = "2020_보고서.xlsx"


file_name = "2020_보고서.xlsx"
file_name.startswith("2020")


# 47. 공백을 기준으로 문자열을 나눠
# a = "hello world"


a = "hello world"
a.split(" ")


# 48. btc와 krw로 나눠
# ticker = "btc_krw"


ticker = "btc_krw"
ticker.split("_")


# 49. 날짜를 표현하는 문자열이 있을 때 연도, 월, 일로 나눠
date = "2020-05-01"
date.split("-")


# 50. 문자열의 오른쪽에 공백이 있을 때 이를 제거
# data = "039490     "


data = "039490     "
data.rstrip()





# 51. 영화 제목을 movie_rank 이름의 리스트에 저장
# 순위	 영화
# 1	   닥터 스트레인지
# 2	   스플릿
# 3	   럭키


movie_rank = ["닥터 스트레인지", "스플릿", "럭키"]
print(movie_rank)


# 52. movie_rank 리스트에 "배트맨"을 추가


movie_rank = ["닥터 스트레인지", "스플릿", "럭키"]
movie_rank.append("배트맨")
print(movie_rank)


# 53.  movie_rank 리스트에는 아래와 같이 네 개의 영화 제목이 바인딩
# "슈퍼맨"을 "닥터 스트레인지"와 "스플릿" 사이에 추가


movie_rank = ["닥터 스트레인지", "스플릿", "럭키", "배트맨"]
movie_rank.insert(1,"슈퍼맨")
print(movie_rank)
#appand와  insert 차이 구분 


# 54. movie_rank 리스트에서 '럭키'를 삭제


movie_rank = ["닥터 스트레인지", "슈퍼맨", "스플릿", "럭키", "배트맨"]
del movie_rank[3]
print(movie_rank)


# 55.movie_rank 리스트에서 '스플릿' 과 '배트맨'을 를 삭제


movie_rank = ['닥터 스트레인지', '슈퍼맨', '스플릿', '배트맨']
del movie_rank[2]
del movie_rank[2]
print(movie_rank)


# 56. lang1과 lang2의 원소를 모두 갖고 있는 langs 리스트를 만들어라
# >> lang1 = ["C", "C++", "JAVA"]
# >> lang2 = ["Python", "Go", "C#"]


lang1 = ["C", "C++", "JAVA"]
lang2 = ["Python", "Go", "C#"]
langs = lang1 + lang2
print(langs)


# 57. 최댓값과 최솟값을 출력하라. (힌트: min(), max() 함수 사용)
# nums = [1, 2, 3, 4, 5, 6, 7]


nums = [1, 2, 3, 4, 5, 6, 7]

print("max: ", max(nums))
print("min: ", min(nums))

# python 'int' object is not callable 오류인 경우 
# -> 예약어 sum(),max(),min()등 사용 시 발생
# del max
# del min 
# 해주고 난 후 다시 print 출력


# 58. 리스트의 합을 출력
# nums = [1, 2, 3, 4, 5]


nums = [1, 2, 3, 4, 5]
print(sum(nums))


# 59. 저장된 데이터의 개수를 화면에 구해
# cook = ["피자", "김밥", "만두", "양념치킨", "족발", "피자", "김치만두", 
#       "쫄면", "소시지", "라면", "팥빙수", "김치전"]


cook = ["피자", "김밥", "만두", "양념치킨", "족발", "피자", "김치만두", "쫄면", "소시지", "라면", "팥빙수", "김치전"]
print(len(cook))


# 60. 리스트의 평균을 출력 
# nums = [1, 2, 3, 4, 5]


nums = [1, 2, 3, 4, 5]
avg = sum(nums) / len(nums)
print(avg)





# 61. price 변수에는 날짜와 종가 정보가 저장
# 날짜 정보를 제외하고 가격 정보만을 출력하라. (힌트 : 슬라이싱)


price = ['20180728', 100, 130, 140, 150, 160, 170]
print(price[1:])


# 62.슬라이싱을 사용해서 홀수만 출력하라.
# nums = [1, 2, 3, 4, 5, 6, 7, 8, 9, 10]


nums = [1, 2, 3, 4, 5, 6, 7, 8, 9, 10]
print(nums[::2])


# 63.슬라이싱을 사용해서 짝수만 출력하라.
# nums = [1, 2, 3, 4, 5, 6, 7, 8, 9, 10]


nums = [1, 2, 3, 4, 5, 6, 7, 8, 9, 10]
print(nums[1::2])


# 64. 슬라이싱을 사용해서 리스트의 숫자를 역 방향으로 출력
# nums = [1, 2, 3, 4, 5]


nums = [1, 2, 3, 4, 5]
print(nums[::-1])


# 65. interest 리스트에는 아래의 데이터가 바인딩
# interest = ['삼성전자', 'LG전자', 'Naver']
# interest 리스트를 사용하여 아래와 같이 화면에 출력
# 출력 예시:
# 삼성전자 Naver


interest = ['삼성전자', 'LG전자', 'Naver']
print(interest[0],interest[2])


# 66. interest = ['삼성전자', 'LG전자', 'Naver', 'SK하이닉스', '미래에셋대우']
# interest 리스트를 사용하여 아래와 같이 화면에 출력
# 출력 예시:
# 삼성전자 LG전자 Naver SK하이닉스 미래에셋대우


interest = ['삼성전자', 'LG전자', 'Naver', 'SK하이닉스', '미래에셋대우']
print(" ".join(interest))


# 67.interest = ['삼성전자', 'LG전자', 'Naver', 'SK하이닉스', '미래에셋대우']
# interest 리스트를 사용하여 아래와 같이 화면에 출력
#출력 예시:
#삼성전자/LG전자/Naver/SK하이닉스/미래에셋대우


interest = ['삼성전자', 'LG전자', 'Naver', 'SK하이닉스', '미래에셋대우']
print("/".join(interest))


#68.interest = ['삼성전자', 'LG전자', 'Naver', 'SK하이닉스', '미래에셋대우']
#join() 메서드를 사용해서 interest 리스트를 아래와 같이 화면에 출력
#출력 예시:
#삼성전자
#LG전자
#Naver
#SK하이닉스
#미래에셋대우


interest = ['삼성전자', 'LG전자', 'Naver', 'SK하이닉스', '미래에셋대우']
print("\n".join(interest))


# 69. 회사 이름이 슬래시 ('/')로 구분되어 하나의 문자열로 저장
# string = "삼성전자/LG전자/Naver"
# 이를 interest 이름의 리스트로 분리 저장


string = "삼성전자/LG전자/Naver"
interest = string.split("/")
print(interest)


#70. 스트에 있는 값을 오름차순으로 정렬
#data = [2, 4, 3, 1, 5, 10, 9]


data = [2, 4, 3, 1, 5, 10, 9]
data.sort()
print(data)





# 71. my_variable 이름의 비어있는 튜플을 만들라



my_variable = ()
print(type(my_variable))


# 2016년 11월 영화 예매 순위 기준 top3
# 영화 제목을 movie_rank 이름의 튜플에 저장
#   순위	 영화
#1	닥터 스트레인지
#2	스플릿
#3	럭키


movie_rank = ("닥터 스트레인지","스플릿","럭키")


# 73. 숫자 1 이 저장된 튜플을 생성


t1 = (1,)


# 74. 오류가 발생하는 원인을 설명
#t = (1, 2, 3)
#t[0] = 'a'


t = (1, 2, 3)
t[0] = 'a'
# 튜플의 원솟값은 변경 불가


#75. t에는 1, 2, 3, 4 데이터가 바인딩
#  t가 바인딩하는 데이터 타입은 무엇인가?
#  t = 1, 2, 3, 4


t = (1,2,3,4)
# -> 튜블은 괄호, 괄호 없이도 가능


# 76. t에는 아래와 같은 값이 저장되어 있다. 
# 변수 t가 ('A', 'b', 'c') 튜플을 가리키도록 수정
# t = ('a', 'b', 'c')





t_a = ('A', 'B', 'C')
print(t_a[0])
# 왜 에러...? 


# 77. 튜플을 리스트로 변환
# interest = ('삼성전자', 'LG전자', 'SK Hynix')


interest = ('삼성전자', 'LG전자', 'SK Hynix')
tl = list(interest)


# 78. 리스트를 튜플로 변경
# interest = ['삼성전자', 'LG전자', 'SK Hynix']


interest = ['삼성전자', 'LG전자', 'SK Hynix']
lt = tuple(interest)


# 79. 다음 코드의 실행 결과를 예상
# temp = ('apple', 'banana', 'cake')
# a, b, c = temp
# print(a, b, c)


temp = ('apple', 'banana', 'cake')
a, b, c = temp
print(a, b, c)


apple banana cake


# 80. 1 부터 99까지의 정수 중 짝수만 저장된 튜플을 생성
(2, 4, 6, 8 ... 98)


tu2 = tuple(range(2,99,2))
print(tu2)



