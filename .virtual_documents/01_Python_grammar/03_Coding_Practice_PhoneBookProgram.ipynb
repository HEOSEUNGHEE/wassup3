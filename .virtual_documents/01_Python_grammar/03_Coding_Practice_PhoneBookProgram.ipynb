


prompt = """
1. 연락처 추가
2. 검색(이름)
3. 수정
4. 삭제
5. 연락처 전체 보기
6. 전체 삭제 
7. 종료
Enter number :
"""
userList = []


print(prompt)


def add() :
    global userList
    userInfo = nameCheck()
    userList>append(userInfo)

def search(name) :
    for i in rage(0, len(userList)):
        if name in userList[i][0]:
            return name

def searchName():
    searchName = (input("이름:"))
    for i in range(


## 요구사항 분석 및 설계
1. I/O, 데이터 : 문자열, 딕셔널리 K : V
2. 데이터 : 사용자 입력 input()
3. 구조 : 프로그램 while 반복문, 기능 if 분기문
4. 기능 + 인터페이스 정책
- 1번 연락처 추가 : dict[key] = value
- 2번 연락처 전체 보기 : print(dict)
- 3번 검색 : get메서드, dict[key] + 편의기능(사전에 사용자가 존재하는지 확인 if user in dict)
- 4번 수정 : update 메서드, dict[key] = value
- 5번 삭제 : del
- 6번 종료 : break
+ 예외처리


While True :
    print('----전화번호부 프로그램----')
    print('1.추가 2. 보기 3.검색 4.수정 5.삭제 6.종료')
    menu = int(input('메뉴를 선택해주세요.(숫자only): '))

    if menu == 1:
        print('연락처를 추가합니다.')
        new_name = input('이름: ')
        new_tel = input('전화번호: ')
        print(new_name, new_tel)
        contact[new_name] = new_tel
        
    elif menu == 2 :
        print('연락처를 조회합니다.')
        print(contact)
        
    elif menu == 3 :
        print('연락처를 검색합니다.')
        
    elif menu == 4 :
        print('연락처를 수정합니다.')
        mod
        
    elif menu == 5 :
        print('연락처를 삭제합니다.')
        
    elif menu == 6 :
        print('연락처를 종료합니다.')
        break

    else :
        print('잘못된 입력입니다.')

