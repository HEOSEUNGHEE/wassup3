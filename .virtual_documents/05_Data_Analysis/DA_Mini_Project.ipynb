


import pandas as pd
import numpy as np
import seaborn as sns
import matplotlib as mpl
import matplotlib.pyplot as plt
import koreanize_matplotlib 





data = pd.read_table('data/mini.csv',sep=',')
data


data.info()


data.describe()


data.describe(include='all')


pip show seaborn


pip install seaborn --upgrade


pip show seaborn


# 'target' 컬럼의 값 변경 ( 0 -> 구독 취소, 1 -> 구독 연장)
data['구독 연장 여부'] = data['target'].map({0: '구독 취소', 1: '구독 연장'}) # target 컬럼의 각 값을 새로운 문자열 값으로 매핑, 결과를 '구독 연장 여부'라는 컬럼에 저
data.drop('target', axis=1, inplace=True) # target 컬럼 삭제(컬럼 기준으로, 원본 데이터프레임 수정)


# 구독 연장 여부의 분포 확인
plt.figure(figsize=(7, 4)) # 7x4 사이즈 그램 생성
sns.countplot(data=data, x='구독 연장 여부') #데이터프레임에서 x축에 구독 연장 여부 컬럼 값들을 표시하고 값 분포를 막대 그래프로 보여줘라
plt.title('구독 연장 여부 분포') # 막대 그래프 이름은 '구독 연장 여부 분포'
plt.show()


kor_var = {
    'monthly_active_learning_days' : '월간 활동 학습 일수',
    'average_login_time' : '평균 로그인 시간',
    'community_engagement_level' : '커뮤니티 참여도', 
    'preferred_difficulty_level' : '선호하는 난이도',
    'subscription_type' : '구독 유형',
    'average_time_per_learning_session' : '학습 세션당 평균 시간',
    'total_completed_courses' : '완료한 총 코스 수'
} #변수명 한글로 바꾸기


data_montly_target = data[['monthly_active_learning_days', '구독 연장 여부']]
data_montly_target


active_counts = data_montly_target.groupby('monthly_active_learning_days')['구독 연장 여부'].value_counts().unstack(fill_value=0)
active_counts # 인덱스 : 월간 활동 학습 일수, 열 : 구독 연장 여부
# 데이터프레임을 '월간 활동 학습 일수' 열을 기준으로 그룹화
# 구독 연장 여부 열의 값을 기준으로 빈도 계산 


# 월간 활동 학습 일수 최대,최소,평균
max_value = data['monthly_active_learning_days'].max()
min_value = data['monthly_active_learning_days'].min()
avg_value = data['monthly_active_learning_days'].mean()
print(f"Max: {max_value:.2f}")
print(f"Min: {min_value:.2f}")
print(f"Avg: {avg_value:.2f}")


# 막대 그래프로 월간 학습 활동 빈도와 구독 연장 고객수의 관계가 있는지 확인
active_counts.plot(kind='bar', rot=0)
plt.title('월간 학습 활동 빈도와 구독 연장 관계')
plt.xlabel('월간 학습 활동 빈도')
plt.ylabel('구독 연장 고객(명)')

plt.show()


# 평균 로그인 시간과 구독 연장 여부
#data['average_login_time'] = data['average_login_time'].round(2) #소수점 둘째 자리까지 표시
#avg_login_time_target = data[['average_login_time', '구독 연장 여부']]
#avg_login_time_target


avg_login_time_target = data[['average_login_time', '구독 연장 여부']]
avg_login_time_target


max_value = data['average_login_time'].max()
min_value = data['average_login_time'].min()
avg_value = data['average_login_time'].mean()
print(f"Max: {max_value:.2f}")
print(f"Min: {min_value:.2f}")
print(f"Avg: {avg_value:.2f}")


login_counts = avg_login_time_target.groupby('average_login_time')['구독 연장 여부'].value_counts().unstack(fill_value=0)
login_counts


# 히스토그램 그래프로 평균 로그인 시간과 구독 연장 고객수의 관계가 있는지 확인
plt.figure(figsize=(10, 5))  # 그림 크기 설정
plt.hist(login_counts, bins=10, edgecolor='black')  # 히스토그램 그리기
plt.title('평균 로그인 시간과 구독 연장 관계')  # 그래프 제목 설정
plt.xlabel('평균 로그인 시간')  # x축 레이블 설정
plt.ylabel('구독 연장 고객(명)')  # y축 레이블 설정
plt.grid(True)  # 그리드 표시
plt.show() 


preferred_level_target = data[['monthly_active_learning_days', '구독 연장 여부']]
preferred_level_target


# 선호하는 난이도와 구독 연장 여부
data['preferred_difficulty_level'] = data['preferred_difficulty_level'] 
preferred_count = data[['preferred_difficulty_level', '구독 연장 여부']]
preferred_count


data.describe(include='O')


data.dtypes


data['구독 연장 여부'].value_counts()


temp_df = data.copy()
temp_df['target'] = temp_df['구독 연장 여부'].replace({'구독 연장': 1,
                                                       '구독 취소': 0})


temp_summary_df = temp_df.groupby('preferred_difficulty_level').agg(target_rate=('target', lambda x: x.sum()/len(x)))
temp_summary_df


temp_summary_df.plot.bar()


# 커뮤니티 참여도와 구독 연장 여부
community_target = data[['community_engagement_level', '구독 연장 여부']]
community_target


# 커뮤니티 참여도와 구독 연장 여부
community_counts = community_target.groupby('community_engagement_level')['구독 연장 여부'].value_counts().unstack(fill_value=0)
community_counts




# 막대 그래프로 커뮤니티 참여도와 구독 연장 고객수의 관계가 있는지 확인
community_counts.plot(kind='bar', rot=0)
plt.title('커뮤니티 참여도와 구독 연장 관계')
plt.xlabel('월간 학습 활동 빈도')
plt.ylabel('구독 연장 고객(명)')

plt.show()


type_target = data[['subscription_type', '구독 연장 여부']]
type_target


type_counts = type_target.groupby('subscription_type')['구독 연장 여부'].value_counts().unstack(fill_value=0)
type_counts


temp_df2 = data.copy()
temp_df2['target'] = temp_df['구독 연장 여부'].replace({'구독 연장': 1,
                                                       '구독 취소': 0})


temp_summary_df2 = temp_df.groupby('subscription_type').agg(target_rate=('target', lambda x: x.sum()/len(x)))
temp_summary_df2


temp_summary_df2.plot.bar()
