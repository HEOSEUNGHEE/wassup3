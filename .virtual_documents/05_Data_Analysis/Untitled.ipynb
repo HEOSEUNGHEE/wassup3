


import pandas as pd
import numpy as np
import seaborn as sns
import matplotlib as mpl
import matplotlib.pyplot as plt
import koreanize_matplotlib 





mini_data = pd.read_table('data/mini.csv',sep=',')
mini_data


mini_data.info()


mini_data.describe()


mini_data.describe(include='all')
