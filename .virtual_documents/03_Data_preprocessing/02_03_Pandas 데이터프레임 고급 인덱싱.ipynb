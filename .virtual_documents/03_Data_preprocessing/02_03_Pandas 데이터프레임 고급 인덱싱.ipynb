














import pandas as pd
import numpy as np


df = pd.DataFrame(np.arange(10, 22).reshape(3, 4), # 3행 4열 데이터, 2차원에서 우선 순위는 열! 
                  index=["a", "b", "c"],
                  columns=["A", "B", "C", "D"])
df








df['A']


df.loc["a"]





df.loc["b":"c"]





df["b":"c"]





df.loc[ ["a", "c"] ] # 로케이션은 행 기반





df[["b", "c"]] # KeyError # 행 인덱스 기반이 아닌 열 인덱스 기반인데 조회하고자 하는 인덱스가 없어서.





df.A


df.A > 15 # 연산을 통해 불린할 수 있음 C에 해당하는 값만 반환해줌


df.loc[df.A > 15]





def select_rows(df):
    return df.A > 12


select_rows(df)


df.loc[select_rows(df)]





df['A'] 


df.loc["A"]  # KeyError


df[["A", "B"]] 





df2 = pd.DataFrame(np.arange(10, 26).reshape(4, 4), columns=["A", "B", "C", "D"])
df2


df2[1:2] # 그냥 슬라이싱은 -1, loc은 -1 안함. 로케이션은 사람 관점으로 이해 해야함 


df2.loc[1:2]











df


df.loc["a", "A"] # 행, 열





df.loc["b": , "A"] # 판다스는 로케이션만 쓰자~!


df.loc["a", :]


df.loc[["a", "c"], ["A", "D"]] # 리스트 인덱싱도 가능 





df.A > 10


df.loc[df.A > 10, ["C", "D"]] # 팬시 불린 인덱싱에도 사용 가능








df


df.iloc[0, 1]


df.iloc[:2, 2]


df.iloc[0, -2:]


df.iloc[2:3, 1:3]





df


df.iloc[-1]


df.iloc[-1] = df.iloc[-1] * 2
df


df.iloc[2:3, 1:3]
