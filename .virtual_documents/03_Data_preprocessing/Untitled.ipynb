








import numpy as np
np.__version__








a = np.array(0)
a, a.ndim, type(a)


a = np.array([2,4,5])
a, a.ndim, type(a)


# 2차원
a = [[1,2,3],[4,5,6]]
a
# 리스트는 그냥 요소가 두개인 


a = np.array([[1,2,3],[4,5,6]])
a, a.ndim,type(a)

#메트릭스로 나옴, 차원이 많으면 괄호 갯수 확인


# 3차원
a = np.array( [ [[1,2,3], [4,5,6]], [[1,2,3], [4,5,6]] ] )
a, a.ndim, type(a)


a.shape


a.shape?
# 2행 3열이 2개가 있다는 뜻





a = np.array(3)
a, a.shape # 행렬이 아니기떄문에 차원 반환 안됨


a = np.array([ 1, 3, 5, 7, 9 ])
a, a.shape
# 5개 요소가 들어있다. 행렬로. 1차원 벡터


a = np.array([[1,2,3],[4,5,6]])
a, a.shape
#2차원


a = np.array([[[0, 0, 0, 0], [0, 0, 0, 0], [0, 0, 0, 0]], [[0, 0, 0, 0], [0, 0, 0, 0], [0, 0, 0, 0]]])
a, a.shape # 2개의 3행 4열
# 3차





# 1차원 리스트 객체(이터러블)
myList = [10, 56, 77, 23, 44]
print(myList, type(myList), len(myList))


myArr = np.array(myList)
print(myArr, type(myArr), len(myArr))
print(f'차원={myArr.ndim}, 구조={myArr.shape}, size={myArr.size}, 길이={len(myArr)}')


# 2차원 리스트 객체(이터러블)
myList2 = [[1,2,3 ],[10,20,30],[100,200,300]]
myList2, len(myList2)


myArr2 = np.array(myList2)
print(myArr2, type(myArr2), len(myArr2))
print(f'차원= {myArr2.ndim}, 구조 = {myArr2.shape}, size = {myArr2.size}, 길이={len(myArr2)}' )
# size는 요소의 갯수, 길이는 행의 갯수
# 2차원은 1차원이 세개가 있다~ 


# 2차원 리스트에서 각 행의 수가 다를 경우?
myList21 = [ [1,2,3,4],[10,20,30,40,50],[100,200,]]
print(myList21, type(myList21), len(myList21))


# 길이가 달라 에러 리턴
# 브로드캐스팅은 행렬 연산에만 가능. 
myArr21 = np.array(myList21)
print(myArr21, type(myArr21), len(myArr21))
print(f'차원= {myArr21.ndim}, 구조 = {myArr21.shape}, size = {myArr21.size}')





# 리스트의 산술연산자 +, * 
listA = [10, 30, 50]
listB = [1, 2, 3]
print(listA + listB) # 리스트의 + 연산자는 조인역할
print(listA + 2) # 불가


print(listA * 2) # 해당 리스트의 반복
print(listA * listB) # 불가


# 넘파이의 산술연산
arrA = np.array([1, 2, 3])
print(arrA + 2)
print(arrA * 2)


arrB = np.array([4, 5, 6])
print(arrA + arrB)
print(arrA * arrB)
print(arrA / arrB)
print(arrA // arrB) # 몫
print(arrA % arrB) # 나머지





# 자료형 테스트
myList_c = ['안녕', 100, 3.14, True, False] # 리스트는 혼합된 형 그대로 유지
print(myList_c)
# 리스트는 됨. 다양한 자료형 수용해


myArr_c = np.array(myList_c) # 넘파이배열은 '문자열'로 통일 자동형변환
print(myArr_c, type(myArr_c), myArr_c.dtype)
# 수용할 수 있는 더 큰 자료형으로 통일시켜버림
# 안녕이 가장큼. 그 다음은 소숫점


# 정수와 실수가 혼합된 넘파이 배열
myArr_d = np.array([100, 3.14, 23.5, 0])
print(myArr_d, type(myArr_d), myArr_d.dtype) # 정수와 실수 혼합시, 더 큰 실수형으로 통일 자동형변환





np.array([0, 1, -1, 0]) / np.array([1, 0, 0, 0])
# 배열 연산은 무한대로 표현 


np.log(0)


np.exp(-np.inf)





x = np.array([18,   5,  10,  23,  19,  -8,  10,   0,   0,   5,   2,  15,   8,
              2,   5,   4,  15,  -1,   4,  -7, -24,   7,   9,  -6,  23, -13])


x.mean()
# avg(평균) = mean


np.mean(x)  # 평균


np.var(x)  # 분산


np.std(x)  # 표준 편차


np.max(x)  # 최댓값


np.min(x)  # 최소값


np.median(x)  # 중앙값





np.percentile(x, 0)  # 최소값
# 데이터를 넣고 0에 대한 위치를 알려줘


np.percentile(x, 25)  # 1사분위 수
#x고 25% 위치에 대한걸 알려줘


np.percentile(x, 50)  # 2사분위 수


np.percentile(x, 75)  # 3사분위 수


np.percentile(x, 100)  # 최댓값





# 1로 메모리 초기화, 넘파이 함수로 배열을 만들때에는 디폴트가 실수형
print(np.ones(10), np.ones(10).dtype) 
# 연산을 1로 초기화하는 이유 : 특정 값을 유지하고 싶을 때 사용


print(np.ones((2,4)), np.ones((2,4)).dtype)
# 2행4열로 만들어줘


np.ones?


print(np.ones(10, dtype = int), np.ones(10, dtype = int).dtype)


# 0으로 메모리 초기화
print(np.zeros(10), np.zeros(10).dtype)


print(np.zeros((3,3)), np.zeros((3,3)).dtype)


np.empty?


# 메모리가 비어있음 -> 메모리가 초기화 되지 않는다.
print(np.empty(10), np.empty(10).dtype)
print(np.empty((3,3)), np.empty((3,3)).dtype)
print(np.empty((3,3)))
print(np.empty((3,3), dtype=int))  # 기존 메모리에 있던 값을 출력한다.(정확히 알수 없음)


# 리스트+레인지
print( list(range(1,21)), type(list(range(1,21))) )


# 1~20으로 구성된 4행 5열의 넘파이 배열print(np.array(list(range(1,21))), type(list(range(1,21))))
print(np.arange(20), type(np.arange(20)))
print(np.arange(1, 20), type(np.arange(1, 20)))
print(np.arange(1, 20, 2), type(np.arange(1, 20,2)))


# 0~49까지 구성된 넘파이 배열
arr = np.arange(50)
print(arr, len(arr), arr.size)


# linspace 명령이나 logspace 명령은 선형 구간 혹은 로그 구간을 지정한 구간의 수만큼 분할한다.
np.linspace(0, 100, 5)  # 시작, 끝(포함), 갯수


np.linspace?


np.logspace?


np.logspace(0.1, 1, 10)





arr, arr.ndim, arr.shape
# 구조 변경하고 싶을때 사


arr = arr.reshape(10,5)
arr, arr.ndim, arr.shape


arr2 = arr.reshape(5,10)
arr2, arr2.ndim, arr2.shape


# 2차원 -> 1차원
# 넘파이배열.flatten()
arr3 = arr2.flatten()
arr3, arr3.shape, arr3.ndim


# 1~100 사이의 짝수로 된 넘파이 배열 생성
np.arange(2,101,2)


print(np.arange(2,101,2).reshape(5,10))
# 메서드 체이닝을 통해 한번에 만들수도 있음


np.arange(1, 31)


# 2차원인데 1개 칼럼의 모형을 만들어보자
# reshape(-1, n) : 2차원 n개의 컬럼으로 구성, -1을 넣으면 자동으로 사이즈를 맞춰준다.
arr4 = np.arange(1, 31).reshape(-1, 1)
arr4, arr4.ndim, arr4.shape
# 1부터 31까지의 데이터를 리셰이프해줘. 근데 앞에 요소를 넣으면 그거에 맞게 사이즈 맞춰줘, 1열로 맞춰주고 행은 알아서 맞춰줘라
# 2차원 





arr4 = np.arange(1, 21).reshape(5, 4)
arr4, arr4.ndim, arr4.shape


# 01 사용해서 5열인 모형으로 바꿔
# 사이즈는 맞아야 함
arr4 = np.arange(1, 21).reshape(-1, 5)
arr4, arr4.ndim, arr4.shape


arr4 = np.arange(1, 21).reshape(-1, 7)
# 어레이는 이뮤터블하기 떄문에 사이즈 꼭 맞춰야


a = np.arange(12)
a, a.shape


# 원본 값이 바뀜
a.shape = 2, -1
a, a.shape


a.shape = 3, -1
a, a.shape


a.shape = -1, 1
a, a.shape


# flatten
a.shape = -1
a, a.shape





matrix1 = np.arange(1, 10)
matrix1, matrix1.dtype


# 정수형, 3행 3열
matrix = np.arange(1, 10).reshape(3,3)
matrix, matrix.dtype


# 실수형, 3행 3열
matrix = np.arange(1, 10, dtype=float).reshape(3,3)
matrix, matrix.dtype


# 문자열형, 3행 3열 -> 불가
matrix = np.arange(1, 10, dtype='str').reshape(3,3)
matrix, matrix.dtype
# str은 먹지 않음. 문자열은 dtype 규칙대로 해야함


# 정수형 => 문자열
matrix.astype('<U5')


# 논리형으로 구성된 넘파이 배열 생성
matrix2 = np.array([True, False, True, True])
matrix2, matrix2.dtype


# 불린 -> 정수
matrix2.astype(int)
# stype으로 하면 int형으로 형 변환 


# 불린형 -> 문자열
matrix2.astype('<U5')


# 문자열 숫자 => 정수 , 실수
matrix3 = np.array(['3.14', '5.5', '0.78'])
matrix3, matrix3.dtype


print(matrix3.astype(float))

print(matrix3.astype(int)) # 불가
print(matrix3.astype(bool)) # 불가
# 숫자를 문자로 하는건 가능. 문자를 숫자로 표현하는건 제약이 있음.숫자의 특징에 맞춰야 가


matrix4 = np.array(['3', '5', '7'])
matrix4.astype(int)  # 가능, 값이 유효하기 때문








a = np.array([1, 3, 5, 7, 9])
a, a.ndim, a.shape, a.size


a[0]


a[2]


a[4]


a[-1]


a[-3]


a[-5]


a[[0, 2, 4]]


a


# 행렬 구조로 인덱싱도 가능하다
b = np.array( [[1,3], [4,2]] ) #2차원
b


# 넘파이배열1을 넘파이배열2로 인덱싱하는 경우. 넘파이배열2는 인덱스 번호로 인식
a[b]


#를 조회할건데 인덱싱이 가능할까?
# 넘파이 배열1을 넘파이 배열2로 인덱싱하는 경우, 넘파이배열2는 인덱스 번호로 인식
a[b]


print(a)
a[2] = 0
print(a)


a[1] += 2
a


a[0] += 6
a





a = np.arange(15).reshape(3, 5)
a, a.ndim, a.shape, a.size


# 2차원 인덱싱할 때, 값을 하나면 넣으면 행인덱싱
# 인데깅 값이 하나일 경우에는 행 인덱싱
a[0]


a[1]


a[2]


a[-1]


a[-2]


# 인덱싱값이 2ㅐ 들어가면 행/열 인덱싱
a[0,0]


a[2, 4]


a[1, 3]


a[-1, -1]


a[1,-1]


a[1][-1]








# 값 변경 가능
a = np.arange(15).reshape(3, -1)
a


a[1] = [1, 3, 5, 7, 9]
a


a[-1] = 10
a


a[0] += [1, 2, 3, 4, 5]
a








a = np.array([1, 3, 5, 7, 9])
a, a.ndim, a.shape, a.size


a[:]


 a[1:]


a[-1:]


a[:3]


a[:-1]


a[1:4]


a[1:-1]


a = np.arange(10)
a


a[::2]


a[::5]


a[::-1]


# 홀수
a[1::2]


a[3::2]


a[:-2:2]


a[:-6:2]


a[2:-2:2]


# 거꾸로 나열
a[::-1]





a = np.arange(10, 25).reshape(3, 5)
a, a.ndim, a.shape, a.size


a[:]


a[1:] #2,3번째 행


a[1:-1]


a[:-3]


a[:, :] # 행의 범위, 열의 범위


# 행은 전체가 필요해, 열은 1번 인덱스부터
a[:, 1:]


a[: , 4:]


a[1:,2:3]


a[:-1, 1:-1]


a[:2, 1:4]


a[1,2]




































