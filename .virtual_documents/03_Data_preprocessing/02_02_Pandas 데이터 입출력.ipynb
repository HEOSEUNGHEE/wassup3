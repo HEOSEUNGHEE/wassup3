














%%writefile sample1.csv # 매직 커멘드 %% 
c1, c2, c3
1, 1.11, one
2, 2.22, two
3, 3.33, three


pwd








import pandas as pd


pd.read_csv('sample1.csv')





%%writefile sample2.csv 
1, 1.11, one
2, 2.22, two
3, 3.33, three


pd.read_csv('sample2.csv', names=['c1', 'c2', 'c3'])





pd.read_csv('sample1.csv', index_col='c1')





%%writefile sample3.txt
c1        c2        c3        c4
0.179181 -1.538472  1.347553  0.43381
1.024209  0.087307 -1.281997  0.49265
0.417899 -2.002308  0.255245 -1.10515


pd.read_table('sample3.txt', sep='\s+') # 불러올때부터 인덱스 지정 가능





%%writefile sample4.txt
파일 제목: sample4.txt
데이터 포맷의 설명:
c1, c2, c3
1, 1.11, one
2, 2.22, two
3, 3.33, three


pd.read_csv('sample4.txt', skiprows=[0, 1])





%%writefile sample5.csv
c1, c2, c3
1, 1.11, one
2, , two
누락, 3.33, three


df = pd.read_csv('sample5.csv')
df


df = pd.read_csv('sample5.csv', na_values=['누락'])
df








df.to_csv('sample6.csv')





!type sample6.csv





df.to_csv('sample7.txt', sep='|') # 원하는 인수로 지정 가능 


!type sample7.txt





df


df.to_csv('sample8.csv', na_rep='누락') # unicode encoding 처리 필요


!type sample8.csv





df.index 


df.index = ["a", "b", "c"] # 행인덱스에 값을 지정해줄 수 있음
df


df.to_csv('sample9.csv', index=False, header=False)


!type sample9.csv








df = pd.read_csv("https://raw.githubusercontent.com/datascienceschool/docker_rpython/master/data/titanic.csv") # 다운로드 없이 리트리브 해서 바로 읽을 수 있음 
df





df.head? # 처음 만나는 몇개를 반환(기본 5개), 데이터 이상 없나, 데이터 잘 뽑아 왔나, 깨진거 없나 확인하려고 


df.head()


df.tail()


df.tail(10)











import datetime
dt_start = datetime.datetime(2015, 1, 1)
dt_end = "2016, 6, 30"





pip install pandas_datareader


import pandas_datareader as pdr


pdr.get_data_fred? # 도큐먼트 들어가서 확인 


gdp = pdr.get_data_fred('GDP', dt_start, dt_end) #pdr로 별칭 만들기.  
gdp.tail()


gdp





inflation = pdr.get_data_fred(["CPIAUCSL", "CPILFESL"], dt_start, dt_end)
inflation.tail()
