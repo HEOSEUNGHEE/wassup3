{
 "cells": [
  {
   "cell_type": "markdown",
   "id": "6eb3a399",
   "metadata": {
    "id": "6eb3a399"
   },
   "source": [
    "[공통] 마크다운 markdown 작성법\n",
    "======================"
   ]
  },
  {
   "cell_type": "markdown",
   "id": "7418f77b",
   "metadata": {
    "id": "7418f77b"
   },
   "source": [
    "> 영어지만, 조금 더 상세하게 마크다운 사용법을 안내하고 있는    \n",
    "> \"Markdown Guide (https://www.markdownguide.org/)\" 를 보시는 것을 추천합니다. ^^\n",
    "\n",
    "> 아, 그리고 마크다운만으로 표현이 부족하다고 느끼신다면, HTML 태그를 활용하시는 것도 좋습니다."
   ]
  },
  {
   "cell_type": "markdown",
   "id": "b91cc751",
   "metadata": {
    "id": "b91cc751"
   },
   "source": [
    "# 마크다운에 관하여\n",
    "## 마크다운이란?\n",
    "[**Markdown**](https://www.markdownguide.org/getting-started/)은 텍스트 기반의 마크업언어로 2004년 존그루버에 의해 만들어졌으며 쉽게 쓰고 읽을 수 있으며 HTML로 변환이 가능하다. 특수기호와 문자를 이용한 매우 간단한 구조의 문법을 사용하여 웹에서도 보다 빠르게 컨텐츠를 작성하고 보다 직관적으로 인식할 수 있다.\n",
    "마크다운이 최근 각광받기 시작한 이유는 깃헙([https://github.com](https://github.com)) 덕분이다. 깃헙의 저장소Repository에 관한 정보를 기록하는 README.md는 깃헙을 사용하는 사람이라면 누구나 가장 먼저 접하게 되는 마크다운 문서였다. 마크다운을 통해서 설치방법, 소스코드 설명, 이슈 등을 간단하게 기록하고 가독성을 높일 수 있다는 강점이 부각되면서 점점 여러 곳으로 퍼져가게 된다."
   ]
  },
  {
   "cell_type": "markdown",
   "id": "52bee78f",
   "metadata": {
    "id": "52bee78f"
   },
   "source": [
    "## 마크다운의 장-단점\n",
    "### 장점\n",
    "\t1. 간결하다.\n",
    "\t2. 별도의 도구없이 작성가능하다.\n",
    "\t3. 다양한 형태로 변환이 가능하다.\n",
    "\t4. 텍스트(Text)로 저장되기 때문에 용량이 적어 보관이 용이하다.\n",
    "\t5. 텍스트파일이기 때문에 버전관리시스템을 이용하여 변경이력을 관리할 수 있다.\n",
    "\t6. 지원하는 프로그램과 플랫폼이 다양하다."
   ]
  },
  {
   "cell_type": "markdown",
   "id": "df062fba",
   "metadata": {
    "id": "df062fba"
   },
   "source": [
    "### 단점\n",
    "\t1. 표준이 없다.\n",
    "\t2. 표준이 없기 때문에 도구에 따라서 변환방식이나 생성물이 다르다.\n",
    "\t3. 모든 HTML 마크업을 대신하지 못한다."
   ]
  },
  {
   "cell_type": "markdown",
   "id": "f529052c",
   "metadata": {
    "id": "f529052c"
   },
   "source": [
    "****\n",
    "# 마크다운 사용법(문법)"
   ]
  },
  {
   "cell_type": "markdown",
   "id": "0f2a2101",
   "metadata": {
    "id": "0f2a2101"
   },
   "source": [
    "## 헤더Headers\n",
    "* 큰제목: 문서 제목\n",
    "    ```\n",
    "    This is an H1\n",
    "    =============\n",
    "    ```    "
   ]
  },
  {
   "cell_type": "markdown",
   "id": "e1508f8b",
   "metadata": {
    "id": "e1508f8b"
   },
   "source": [
    "* 작은제목: 문서 부제목\n",
    "    ```\n",
    "    This is an H2\n",
    "    -------------\n",
    "    ```"
   ]
  },
  {
   "cell_type": "code",
   "execution_count": null,
   "id": "c0896897",
   "metadata": {
    "id": "c0896897"
   },
   "outputs": [],
   "source": []
  },
  {
   "cell_type": "markdown",
   "id": "82ccde72",
   "metadata": {
    "id": "82ccde72"
   },
   "source": [
    "* 글머리: 1~6까지만 지원\n",
    "```\n",
    "# This is a H1\n",
    "## This is a H2\n",
    "### This is a H3\n",
    "#### This is a H4\n",
    "##### This is a H5\n",
    "###### This is a H6\n",
    "```"
   ]
  },
  {
   "cell_type": "markdown",
   "id": "2f8451a6-7a8a-48ed-b838-9d47e6213db4",
   "metadata": {
    "id": "8ce8c928"
   },
   "source": [
    "# This is a H1\n",
    "## This is a H2\n",
    "### This is a H3\n",
    "#### This is a H4\n",
    "##### This is a H5\n",
    "###### This is a H6"
   ]
  },
  {
   "cell_type": "markdown",
   "id": "32662848",
   "metadata": {
    "id": "32662848"
   },
   "source": [
    "## BlockQuote\n",
    "이메일에서 사용하는 ```>``` 블럭인용문자를 이용한다.\n",
    "```\n",
    "> This is a first blockqute.\n",
    ">\t> This is a second blockqute.\n",
    ">\t>\t> This is a third blockqute.\n",
    "```"
   ]
  },
  {
   "cell_type": "markdown",
   "id": "af7d6bb4-d442-49bd-ae0c-4a57d9c59933",
   "metadata": {
    "id": "4facc1d7"
   },
   "source": [
    "> This is a first blockqute.\n",
    ">\t> This is a second blockqute.\n",
    ">\t>\t> This is a third blockqute."
   ]
  },
  {
   "cell_type": "markdown",
   "id": "8ba88720",
   "metadata": {
    "id": "8ba88720"
   },
   "source": [
    "이 안에서는 다른 마크다운 요소를 포함할 수 있다.\n",
    "> ### This is a H3\n",
    "> * List\n",
    ">\t```\n",
    ">\tcode\n",
    ">\t```"
   ]
  },
  {
   "cell_type": "markdown",
   "id": "324b0d35",
   "metadata": {
    "id": "324b0d35"
   },
   "source": [
    "## 목록\n",
    "### ● 순서있는 목록(번호)\n",
    "순서있는 목록은 숫자와 점을 사용한다.\n",
    "```\n",
    "1. 첫번째\n",
    "2. 두번째\n",
    "3. 세번째\n",
    "```"
   ]
  },
  {
   "cell_type": "code",
   "execution_count": null,
   "id": "94159d31",
   "metadata": {
    "id": "94159d31"
   },
   "outputs": [],
   "source": []
  },
  {
   "cell_type": "markdown",
   "id": "8aa4ea17",
   "metadata": {
    "id": "8aa4ea17"
   },
   "source": [
    "**현재까지는 어떤 번호를 입력해도 순서는 내림차순으로 정의된다.**\n",
    "```\n",
    "1. 첫번째\n",
    "3. 세번째\n",
    "2. 두번째\n",
    "```\n",
    "딱히 개선될 것 같지는 않다. 존 그루버가 신경안쓰고 있다고..."
   ]
  },
  {
   "cell_type": "code",
   "execution_count": null,
   "id": "4df5ea36",
   "metadata": {
    "id": "4df5ea36"
   },
   "outputs": [],
   "source": []
  },
  {
   "cell_type": "markdown",
   "id": "f13ae310",
   "metadata": {
    "id": "f13ae310"
   },
   "source": [
    "### ● 순서없는 목록(글머리 기호: `*`, `+`, `-` 지원)\n",
    "```\n",
    "* 빨강\n",
    "  * 녹색\n",
    "    * 파랑\n",
    "\n",
    "+ 빨강\n",
    "  + 녹색\n",
    "    + 파랑\n",
    "\n",
    "- 빨강\n",
    "  - 녹색\n",
    "    - 파랑\n",
    "```"
   ]
  },
  {
   "cell_type": "code",
   "execution_count": null,
   "id": "366e5292",
   "metadata": {
    "id": "366e5292"
   },
   "outputs": [],
   "source": []
  },
  {
   "cell_type": "markdown",
   "id": "4d4d8af3",
   "metadata": {
    "id": "4d4d8af3"
   },
   "source": [
    "혼합해서 사용하는 것도 가능하다(내가 선호하는 방식)\n",
    "```\n",
    "* 1단계\n",
    "  - 2단계\n",
    "    + 3단계\n",
    "      + 4단계\n",
    "```"
   ]
  },
  {
   "cell_type": "code",
   "execution_count": null,
   "id": "2d2cce2f",
   "metadata": {
    "id": "2d2cce2f"
   },
   "outputs": [],
   "source": []
  },
  {
   "cell_type": "markdown",
   "id": "8b9f2b4c",
   "metadata": {
    "id": "8b9f2b4c"
   },
   "source": [
    "## 코드\n",
    "4개의 공백 또는 하나의 탭으로 들여쓰기를 만나면 변환되기 시작하여 들여쓰지 않은 행을 만날때까지 변환이 계속된다.\n",
    "\n",
    "### 들여쓰기\n",
    "```\n",
    "This is a normal paragraph:\n",
    "\n",
    "    This is a code block.\n",
    "    \n",
    "end code block.\n",
    "```"
   ]
  },
  {
   "cell_type": "markdown",
   "id": "2c876f2c",
   "metadata": {
    "id": "2c876f2c"
   },
   "source": [
    "실제로 적용해보면,\n",
    "\n",
    "적용예:\n",
    "\n",
    "*****\n",
    "This is a normal paragraph:\n",
    "\n",
    "    This is a code block.\n",
    "\n",
    "end code block.\n",
    "*****"
   ]
  },
  {
   "cell_type": "code",
   "execution_count": null,
   "id": "3977da6e",
   "metadata": {
    "id": "3977da6e"
   },
   "outputs": [],
   "source": []
  },
  {
   "cell_type": "markdown",
   "id": "89085d5b",
   "metadata": {
    "id": "89085d5b"
   },
   "source": [
    "> 한줄 띄어쓰지 않으면 인식이 제대로 안되는 문제가 발생합니다.\n",
    "\n",
    "```\n",
    "This is a normal paragraph:\n",
    "    This is a code block.\n",
    "end code block.\n",
    "```\n",
    "\n",
    "적용예:\n",
    "\n",
    "*****\n",
    "This is a normal paragraph:\n",
    "    This is a code block.\n",
    "end code block.\n",
    "*****"
   ]
  },
  {
   "cell_type": "code",
   "execution_count": null,
   "id": "c59b22fe",
   "metadata": {
    "id": "c59b22fe"
   },
   "outputs": [],
   "source": []
  },
  {
   "cell_type": "markdown",
   "id": "a802ec0d",
   "metadata": {
    "id": "a802ec0d"
   },
   "source": [
    "### 코드블럭\n",
    "코드블럭은 다음과 같이 2가지 방식을 사용할 수 있습니다:\n",
    "\n",
    "* `<pre><code>{code}</code></pre>` 이용방식\n",
    "\n",
    "```\n",
    "<pre>\n",
    "<code>\n",
    "public class BootSpringBootApplication {\n",
    "  public static void main(String[] args) {\n",
    "    System.out.println(\"Hello, Honeymon\");\n",
    "  }\n",
    "\n",
    "}\n",
    "</code>\n",
    "</pre>\n",
    "```"
   ]
  },
  {
   "cell_type": "code",
   "execution_count": null,
   "id": "847a8c05",
   "metadata": {
    "id": "847a8c05"
   },
   "outputs": [],
   "source": []
  },
  {
   "cell_type": "markdown",
   "id": "b2335af2",
   "metadata": {
    "id": "b2335af2"
   },
   "source": [
    "* 코드블럭코드(\"\\```\") 을 이용하는 방법\n",
    "\n",
    "```\n",
    "public class BootSpringBootApplication {\n",
    "  public static void main(String[] args) {\n",
    "    System.out.println(\"Hello, Honeymon\");\n",
    "  }\n",
    "}\n",
    "```\n"
   ]
  },
  {
   "cell_type": "code",
   "execution_count": null,
   "id": "03f7529e",
   "metadata": {
    "id": "03f7529e"
   },
   "outputs": [],
   "source": []
  },
  {
   "cell_type": "markdown",
   "id": "2b7ac88a",
   "metadata": {
    "id": "2b7ac88a"
   },
   "source": [
    "**깃헙**에서는 코드블럭코드(\"\\```\") 시작점에 사용하는 언어를 선언하여 [문법강조(Syntax highlighting)](https://docs.github.com/en/github/writing-on-github/creating-and-highlighting-code-blocks#syntax-highlighting)이 가능하다.\n",
    "```java\n",
    "public class BootSpringBootApplication {\n",
    "  public static void main(String[] args) {\n",
    "    System.out.println(\"Hello, Honeymon\");\n",
    "  }\n",
    "}\n",
    "```"
   ]
  },
  {
   "cell_type": "code",
   "execution_count": null,
   "id": "54b3b026",
   "metadata": {
    "id": "54b3b026"
   },
   "outputs": [],
   "source": []
  },
  {
   "cell_type": "markdown",
   "id": "383ba082",
   "metadata": {
    "id": "383ba082"
   },
   "source": [
    "## 수평선\n",
    "아래 줄은 모두 수평선을 만든다. 마크다운 문서를 미리보기로 출력할 때 *페이지 나누기* 용도로 많이 사용한다.\n",
    "\n",
    "```\n",
    "* * *\n",
    "\n",
    "***\n",
    "\n",
    "*****\n",
    "\n",
    "- - -\n",
    "\n",
    "---------------------------------------\n",
    "```"
   ]
  },
  {
   "cell_type": "markdown",
   "id": "b376f409-9e63-4532-8590-6b89a55429dd",
   "metadata": {},
   "source": [
    "-----"
   ]
  },
  {
   "cell_type": "markdown",
   "id": "2b68ac1a",
   "metadata": {
    "id": "2b68ac1a"
   },
   "source": [
    "## 링크\n",
    "* 참조링크\n",
    "\n",
    "```\n",
    "[link keyword][id]\n",
    "\n",
    "[id]: URL \"Optional Title here\"\n",
    "\n",
    "// code\n",
    "Link: [Google][googlelink]\n",
    "\n",
    "[googlelink]: https://google.com \"Go google\"\n",
    "```"
   ]
  },
  {
   "cell_type": "markdown",
   "id": "fe05cde2-e978-4971-8602-52466237dcbb",
   "metadata": {
    "id": "799de18d"
   },
   "source": [
    "Link: [Google][googlelink]\r\n",
    "\r\n",
    "[googlelink]: https://google.com \"Go google\""
   ]
  },
  {
   "cell_type": "markdown",
   "id": "d369cdf8-8f0e-46a5-b9bc-9fa982028d2a",
   "metadata": {},
   "source": [
    "Link: [Naver][Naverlink]\n",
    "\n",
    "[Naverlink]: https://naver.com \"Go Naver\""
   ]
  },
  {
   "cell_type": "markdown",
   "id": "477f50c0",
   "metadata": {
    "id": "477f50c0"
   },
   "source": [
    "* 외부링크\n",
    "```\n",
    "사용문법: [Title](link)\n",
    "적용예: [Google](https://google.com \"google link\") # 쉼표를 주소로 인식하는 오류 주의\n",
    "```"
   ]
  },
  {
   "cell_type": "markdown",
   "id": "af5dc3f9-719a-4bc3-9507-313d6da28a25",
   "metadata": {
    "id": "954b6e5e"
   },
   "source": [
    "[Naver](https://naver.com \"naver link\")"
   ]
  },
  {
   "cell_type": "markdown",
   "id": "72d3745b",
   "metadata": {
    "id": "72d3745b"
   },
   "source": [
    "* 자동연결\n",
    "```\n",
    "일반적인 URL 혹은 이메일주소인 경우 적절한 형식으로 링크를 형성한다.\n",
    "\n",
    "* 외부링크: <http://example.com/>\n",
    "* 이메일링크: <address@example.com>\n",
    "```"
   ]
  },
  {
   "cell_type": "code",
   "execution_count": null,
   "id": "e1493c1c-9d4f-41b0-9a9c-91aca4183e7f",
   "metadata": {},
   "outputs": [],
   "source": []
  },
  {
   "cell_type": "markdown",
   "id": "9c503991",
   "metadata": {
    "id": "9c503991"
   },
   "source": [
    "## 2.7. 강조\n",
    "```\n",
    "*single asterisks*\n",
    "_single underscores_\n",
    "**double asterisks**\n",
    "__double underscores__\n",
    "~~cancelline~~\n",
    "```"
   ]
  },
  {
   "cell_type": "markdown",
   "id": "bc3475ab-72af-43f8-b39b-b2d03c4ffb8b",
   "metadata": {
    "id": "fa362d24"
   },
   "source": [
    "*test*   \n",
    "_test_   \n",
    "**test**   \n",
    "__test__   \n",
    "~~test~~"
   ]
  },
  {
   "cell_type": "markdown",
   "id": "e0f187e7-258d-462c-a4f1-151509cf0807",
   "metadata": {},
   "source": [
    "_test_"
   ]
  },
  {
   "cell_type": "code",
   "execution_count": null,
   "id": "5c161e4f-dd0a-407c-8932-6006cb135b29",
   "metadata": {},
   "outputs": [],
   "source": []
  },
  {
   "cell_type": "markdown",
   "id": "10623985",
   "metadata": {
    "id": "10623985"
   },
   "source": [
    "> ```문장 중간에 사용할 경우에는 **띄어쓰기** 를 사용하는 것이 좋다.```   \n",
    "> 문장 중간에 사용할 경우에는 띄어쓰기를 사용하는 것이 좋다."
   ]
  },
  {
   "cell_type": "code",
   "execution_count": null,
   "id": "aeb219d6",
   "metadata": {
    "id": "aeb219d6"
   },
   "outputs": [],
   "source": []
  },
  {
   "cell_type": "markdown",
   "id": "87ff90be",
   "metadata": {
    "id": "87ff90be"
   },
   "source": [
    "## 이미지\n",
    "```\n",
    "# 마크다운 안에 삽입\n",
    "![Alt text](/path/to/img.jpg)\n",
    "![Alt text](/path/to/img.jpg \"Optional title\")\n",
    "# 코드블럭에 삽입\n",
    "![image.png](attachment:image.png)\n",
    "```\n",
    "\n",
    "![석촌호수 러버덕](http://cfile6.uf.tistory.com/image/2426E646543C9B4532C7B0)\n",
    "![석촌호수 러버덕](http://cfile6.uf.tistory.com/image/2426E646543C9B4532C7B0 \"RubberDuck\")"
   ]
  },
  {
   "cell_type": "markdown",
   "id": "59b832cd-a404-490a-8690-63fac4a632ca",
   "metadata": {
    "id": "40b580d9"
   },
   "source": [
    "[Alt text](images.jpg)"
   ]
  },
  {
   "cell_type": "markdown",
   "id": "c34c41d7-2122-484e-bfcb-0aed231dc16a",
   "metadata": {},
   "source": [
    "![바다](data:image/jpeg;base64,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 \"sea\")"
   ]
  },
  {
   "cell_type": "code",
   "execution_count": null,
   "id": "2bb54986-3b12-4137-9edf-ae0bea8c3e74",
   "metadata": {},
   "outputs": [],
   "source": [
    "[image.png](attachment:image.jpg)"
   ]
  },
  {
   "cell_type": "markdown",
   "id": "f9d46842",
   "metadata": {
    "id": "f9d46842"
   },
   "source": [
    "사이즈 조절 기능은 없기 때문에 ```<img width=\"\" height=\"\"></img>```를 이용한다.\n",
    "\n",
    "예\n",
    "```\n",
    "<img src=\"/path/to/img.jpg\" width=\"450px\" height=\"300px\" title=\"px(픽셀) 크기 설정\" alt=\"RubberDuck\"></img><br/>\n",
    "<img src=\"/path/to/img.jpg\" width=\"40%\" height=\"30%\" title=\"px(픽셀) 크기 설정\" alt=\"RubberDuck\"></img>\n",
    "```\n",
    "\n",
    "<img src=\"http://cfile6.uf.tistory.com/image/2426E646543C9B4532C7B0\" width=\"450px\" height=\"300px\" title=\"px(픽셀) 크기 설정\" alt=\"RubberDuck\"></img><br/>\n",
    "<img src=\"http://cfile6.uf.tistory.com/image/2426E646543C9B4532C7B0\" width=\"40%\" height=\"30%\" title=\"%(비율) 크기 설정\" alt=\"RubberDuck\"></img>"
   ]
  },
  {
   "cell_type": "code",
   "execution_count": null,
   "id": "d63eaa67",
   "metadata": {
    "id": "d63eaa67"
   },
   "outputs": [],
   "source": [
    "<ing src=\"/path/to/img. jpg\" width=\"4sepx” height=“3eepx” title=”px( 픽설) 크기 설정\n",
    "alt=\"RubberDuck\"›‹/img><br/>\n",
    "‹img src=\"/path/to/img.jpg\" width=\"40%\" height=\"3%\" tit=\" alt=\"RubberDuck\")\n",
    "</img>\n",
    "...\n",
    "\n",
    "<img src=\"http://cfile6.uf.tistory.com/image/2426E646543C9B4532C7Be\" width=\"450px\" height=\"300px\"\n",
    "title=\" px(픽셀) 크기 설정\" alt=\"RubberDuck\"></img><br/>\n",
    "<img src=\"http://cfile6.uf.tistory.com/image/ 2426E646543C9B4532C7Be\" width=\"40%\" height=\"30%\"\n",
    "title=\"%(비율) 크기 설정 alt=\"RubberDuck\"></img>"
   ]
  },
  {
   "cell_type": "markdown",
   "id": "1a929d99",
   "metadata": {
    "id": "1a929d99"
   },
   "source": [
    "## 줄바꿈\n",
    "```\n",
    "* 줄 바꿈을 하기 위해서는 문장 마지막에서 3칸이상을 띄어쓰기해야 한다.\n",
    "이렇게\n",
    "\n",
    "* 줄 바꿈을 하기 위해서는 문장 마지막에서 3칸이상을 띄어쓰기해야 한다.___\\\\ 띄어쓰기\n",
    "이렇게\n",
    "```"
   ]
  },
  {
   "cell_type": "code",
   "execution_count": null,
   "id": "a6054667",
   "metadata": {
    "id": "a6054667"
   },
   "outputs": [],
   "source": []
  },
  {
   "cell_type": "markdown",
   "id": "dd6d2afd",
   "metadata": {
    "id": "dd6d2afd"
   },
   "source": [
    "## 테이블"
   ]
  },
  {
   "cell_type": "markdown",
   "id": "016a44ca",
   "metadata": {
    "id": "016a44ca"
   },
   "source": [
    "### 일반적인 표\n",
    "\n",
    "문자와 — 문자로 표를 만들 수 있습니다.\n",
    "```\n",
    "|제목|내용|설명|\n",
    "|------|---|---|\n",
    "|테스트1|테스트2|테스트3|\n",
    "|테스트1|테스트2|테스트3|\n",
    "|테스트1|테스트2|테스트3|\n",
    "```"
   ]
  },
  {
   "cell_type": "markdown",
   "id": "52f194b2-d213-4672-9d98-a706696be3ef",
   "metadata": {
    "executionInfo": {
     "elapsed": 3,
     "status": "ok",
     "timestamp": 1700617950330,
     "user": {
      "displayName": "Seunghye Kim",
      "userId": "03123368174336215832"
     },
     "user_tz": -540
    },
    "id": "a3467ca3"
   },
   "source": [
    "|제목|내용|설명|\n",
    "|------|---|---|\n",
    "|테스트1|테스트2|테스트3|\n",
    "|테스트1|테스트2|테스트3|\n",
    "|테스트1|테스트2|테스트3|"
   ]
  },
  {
   "cell_type": "markdown",
   "id": "08613f3a",
   "metadata": {
    "id": "08613f3a"
   },
   "source": [
    "### 정렬\n",
    ": 문자로 정렬을 정의할 수 있습니다.\n",
    "```\n",
    "|제목|내용|설명|\n",
    "|:---|---:|:---:|\n",
    "|왼쪽정렬|오른쪽정렬|중앙정렬|\n",
    "|왼쪽정렬|오른쪽정렬|중앙정렬|\n",
    "|왼쪽정렬|오른쪽정렬|중앙정렬|\n",
    "```"
   ]
  },
  {
   "cell_type": "markdown",
   "id": "e5c2b436-e2c5-4323-859d-df84d3bfba19",
   "metadata": {
    "id": "96585085"
   },
   "source": [
    "|제목|내용|설명|\n",
    "|:---|---:|:---:|\n",
    "|왼쪽정렬|오른쪽정렬|중앙정렬|\n",
    "|왼쪽정렬|오른쪽정렬|중앙정렬|\n",
    "|왼쪽정렬|오른쪽정렬|중앙정렬|"
   ]
  },
  {
   "cell_type": "markdown",
   "id": "2420807a",
   "metadata": {
    "id": "2420807a"
   },
   "source": [
    "### 셀 확장\n",
    "사이가 비어있으면 자동 확장됩니다.\n",
    "```\n",
    "|제목|내용|설명|\n",
    "|:---|:---:|---:|\n",
    "||중앙에서확장||\n",
    "|||오른쪽에서 확장|\n",
    "|왼쪽에서확장||\n",
    "```"
   ]
  },
  {
   "cell_type": "markdown",
   "id": "8db4746a-86dc-4c85-be6e-9d338e005275",
   "metadata": {
    "id": "1e41e289"
   },
   "source": [
    "|제목|내용|설명|\n",
    "|:---|:---:|---:|\n",
    "||중앙에서확장||\n",
    "|||오른쪽에서 확장|\n",
    "|왼쪽에서확장||"
   ]
  },
  {
   "cell_type": "markdown",
   "id": "030c56ab",
   "metadata": {
    "id": "030c56ab"
   },
   "source": [
    "### 셀 강조\n",
    "일반적인 text와 마찬가지로 * 와 ** 를 통해 이탤릭/강조를 표시할 수 있습니다. span tag를 사용하면 컬러도 표시할 수 있습니다.\n",
    "```\n",
    "|제목|내용|설명|\n",
    "|---|---|---|\n",
    "|테스트1|*강조1*|테스트3|\n",
    "|테스트1|**강조2**|테스트3|\n",
    "|테스트1|<span style=\"color:red\">강조3</span>|테스트3|\n",
    "```"
   ]
  },
  {
   "cell_type": "markdown",
   "id": "6f19ea49-d0bd-4107-ab07-f20858a82131",
   "metadata": {
    "id": "623c0509"
   },
   "source": [
    "|제목|내용|설명|\n",
    "|---|---|---|\n",
    "|테스트1|*강조1*|테스트3|\n",
    "|테스트1|**강조2**|테스트3|\n",
    "|테스트1|<span style=\"color:red\">강조3</span>|테스트3|"
   ]
  },
  {
   "cell_type": "markdown",
   "id": "57d175b2",
   "metadata": {
    "id": "57d175b2"
   },
   "source": [
    "#  수학 기호 LaTex표기법\n",
    "사칙연산, 분수, 제곱, 루트, 시그마, 로그, 행렬, 극한 등 수학 기호 및 수식 등 을 표현할 수 있다.\n",
    "[블로그 참고](https://velog.io/@d2h10s/LaTex-Markdown-%EC%88%98%EC%8B%9D-%EC%9E%91%EC%84%B1%EB%B2%95)"
   ]
  },
  {
   "cell_type": "code",
   "execution_count": null,
   "id": "5c7beefd",
   "metadata": {
    "id": "5c7beefd"
   },
   "outputs": [],
   "source": []
  }
 ],
 "metadata": {
  "colab": {
   "provenance": []
  },
  "kernelspec": {
   "display_name": "Python 3 (ipykernel)",
   "language": "python",
   "name": "python3"
  },
  "language_info": {
   "codemirror_mode": {
    "name": "ipython",
    "version": 3
   },
   "file_extension": ".py",
   "mimetype": "text/x-python",
   "name": "python",
   "nbconvert_exporter": "python",
   "pygments_lexer": "ipython3",
   "version": "3.11.7"
  },
  "toc": {
   "base_numbering": 1,
   "nav_menu": {},
   "number_sections": true,
   "sideBar": true,
   "skip_h1_title": false,
   "title_cell": "Table of Contents",
   "title_sidebar": "Contents",
   "toc_cell": false,
   "toc_position": {
    "height": "calc(100% - 180px)",
    "left": "10px",
    "top": "150px",
    "width": "307.2px"
   },
   "toc_section_display": true,
   "toc_window_display": false
  },
  "varInspector": {
   "cols": {
    "lenName": 16,
    "lenType": 16,
    "lenVar": 40
   },
   "kernels_config": {
    "python": {
     "delete_cmd_postfix": "",
     "delete_cmd_prefix": "del ",
     "library": "var_list.py",
     "varRefreshCmd": "print(var_dic_list())"
    },
    "r": {
     "delete_cmd_postfix": ") ",
     "delete_cmd_prefix": "rm(",
     "library": "var_list.r",
     "varRefreshCmd": "cat(var_dic_list()) "
    }
   },
   "types_to_exclude": [
    "module",
    "function",
    "builtin_function_or_method",
    "instance",
    "_Feature"
   ],
   "window_display": false
  }
 },
 "nbformat": 4,
 "nbformat_minor": 5
}
